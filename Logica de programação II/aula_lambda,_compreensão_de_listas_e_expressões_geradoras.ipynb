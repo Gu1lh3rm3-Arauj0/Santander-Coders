{
  "cells": [
    {
      "cell_type": "markdown",
      "source": [
        "## funções lambda"
      ],
      "metadata": {
        "id": "IHvMOoqVdibm"
      }
    },
    {
      "cell_type": "markdown",
      "source": [
        "A função lambda é mais uma maneira de criar as funções que já conhecemos.\n",
        "\n",
        "A lambda function acaba sendo utilizada quando você procura criar uma função relativamente curta e/ou que será executada para uma ação específica e não há necessidade tão grande de reutiliza-la, principalmente quando comparada com a criação que já havíamos conhecido anteriormente utilizando o def\n",
        "\n",
        "Além disso, as funções lambda são uma única expressão. E não é necessário escrever \"return\" para ela retornar o valor, pois ela já fará isso \"automaticamente\".\n",
        "\n",
        "\n",
        "Por essas características mencionadas, não é \"esperado\" que funções desse tipo tenham bastante código. Outro fator que estimula a deixá-la sucinta é o fato de não aceitar doc strings"
      ],
      "metadata": {
        "id": "EbeAiTfkdibn"
      }
    },
    {
      "cell_type": "markdown",
      "source": [
        "estrutura da lambda function:\n",
        "```python\n",
        "lambda parametros: expressao a ser retornada\n",
        "```"
      ],
      "metadata": {
        "id": "8pvs_2NLdibm"
      }
    },
    {
      "cell_type": "markdown",
      "source": [
        "como podemos perceber, as lambda functions não recebem um nome, diferente de quando chamamos da outra forma que conhecíamos\n",
        "\n",
        "```python\n",
        "def minha_funcao()\n",
        "```\n",
        "\n",
        "é por isso que as funções lambda também são chamadas de funções anônimas"
      ],
      "metadata": {
        "id": "irqRtXFiSRAP"
      }
    },
    {
      "cell_type": "code",
      "source": [
        "def minha_funcao(x):\n",
        "  return x ** 2\n"
      ],
      "metadata": {
        "id": "Sw9XCNeqdibn"
      },
      "execution_count": null,
      "outputs": []
    },
    {
      "cell_type": "code",
      "source": [
        "lambda x: x**2\n"
      ],
      "metadata": {
        "colab": {
          "base_uri": "https://localhost:8080/"
        },
        "outputId": "eb8c13e1-ace0-4745-c795-858165f4a8a4",
        "id": "xtzylBiGdibn"
      },
      "execution_count": null,
      "outputs": [
        {
          "output_type": "execute_result",
          "data": {
            "text/plain": [
              "<function __main__.<lambda>(x)>"
            ]
          },
          "metadata": {},
          "execution_count": 2
        }
      ]
    },
    {
      "cell_type": "code",
      "source": [
        "(lambda x: x**2)(3)\n"
      ],
      "metadata": {
        "colab": {
          "base_uri": "https://localhost:8080/"
        },
        "outputId": "bdc1a21e-702f-4c3c-efe2-d46a6f8d29d6",
        "id": "QNLRdJHzdibn"
      },
      "execution_count": null,
      "outputs": [
        {
          "output_type": "execute_result",
          "data": {
            "text/plain": [
              "9"
            ]
          },
          "metadata": {},
          "execution_count": 3
        }
      ]
    },
    {
      "cell_type": "code",
      "source": [
        "# podem definir os mesmos parâmetros assim como nas funções\n",
        "(lambda x, y, z: x + y + z)(1, 2, 3)\n",
        "\n",
        "(lambda x, y, z=3: x + y + z)(1, 2)\n",
        "\n",
        "(lambda x, y, z=3: x + y + z)(1, y=2)\n",
        "\n",
        "(lambda *args: sum(args))(1,2,3)\n",
        "\n",
        "(lambda **kwargs: sum(kwargs.values()))(one=1, two=2, three=3)"
      ],
      "metadata": {
        "colab": {
          "base_uri": "https://localhost:8080/"
        },
        "outputId": "e3b17b55-30c5-42b9-e033-a4caf4c7f612",
        "id": "K08dpc2Edibn"
      },
      "execution_count": null,
      "outputs": [
        {
          "output_type": "execute_result",
          "data": {
            "text/plain": [
              "6"
            ]
          },
          "metadata": {},
          "execution_count": 7
        }
      ]
    },
    {
      "cell_type": "code",
      "source": [
        "dicionario_teste = {\"one\":1,\"two\":2,\"three\":3}\n",
        "sum(dicionario_teste.values())"
      ],
      "metadata": {
        "colab": {
          "base_uri": "https://localhost:8080/"
        },
        "id": "nDcPB5ocn53j",
        "outputId": "4c428ff5-ca5f-4650-cba7-d90515ecfc65"
      },
      "execution_count": null,
      "outputs": [
        {
          "output_type": "execute_result",
          "data": {
            "text/plain": [
              "6"
            ]
          },
          "metadata": {},
          "execution_count": 9
        }
      ]
    },
    {
      "cell_type": "code",
      "source": [
        "# podemos utilizar a lambda function em algo que já haviamos visto, como map/filter/reduce\n",
        "\n",
        "from functools import reduce\n",
        "\n",
        "reduce(lambda x,y: x * y , [1,2,3,4])"
      ],
      "metadata": {
        "colab": {
          "base_uri": "https://localhost:8080/"
        },
        "outputId": "f459a31e-9f3f-41a5-d17f-84afcba3f093",
        "id": "A63DJGMLdibn"
      },
      "execution_count": null,
      "outputs": [
        {
          "output_type": "execute_result",
          "data": {
            "text/plain": [
              "24"
            ]
          },
          "metadata": {},
          "execution_count": 60
        }
      ]
    },
    {
      "cell_type": "code",
      "source": [
        "# podemos criar uma regra de ifs dentro da lambda\n",
        "list(filter(lambda x: True if x % 2 == 0 else False, (1,2,3,4) ))"
      ],
      "metadata": {
        "colab": {
          "base_uri": "https://localhost:8080/"
        },
        "outputId": "b80ede61-b1b8-4468-c7b8-24582907cf88",
        "id": "dJz4dWkRdibn"
      },
      "execution_count": null,
      "outputs": [
        {
          "output_type": "execute_result",
          "data": {
            "text/plain": [
              "[2, 4]"
            ]
          },
          "metadata": {},
          "execution_count": 10
        }
      ]
    },
    {
      "cell_type": "code",
      "source": [
        "# podemos usar for em lambda\n",
        "(lambda tupla: [num*2 for num in tupla])((1,2,3))"
      ],
      "metadata": {
        "colab": {
          "base_uri": "https://localhost:8080/"
        },
        "outputId": "3e5f6ec8-9853-4125-888b-c8bc1247d32d",
        "id": "w1xklDF_dibo"
      },
      "execution_count": null,
      "outputs": [
        {
          "output_type": "execute_result",
          "data": {
            "text/plain": [
              "[2, 4, 6]"
            ]
          },
          "metadata": {},
          "execution_count": 12
        }
      ]
    },
    {
      "cell_type": "markdown",
      "metadata": {
        "id": "i3mG2KMEgUZH"
      },
      "source": [
        "# Compreensão de listas/dict e expressões geradoras\n",
        "\n",
        "Muito do que estudamos até o momento em Python pode ser reproduzido de maneira muito parecida em outras linguagens. Comandos como if, else, while e for, bem como conceitos como criar funções, passar parâmetros e retornar valores são comuns a uma infinidade de linguagens de programação.\n",
        "\n",
        "Porém, um dos objetivos da linguagem Python é realizar o máximo possível de trabalho com a menor quantidade possível de código, resultando em um código mais limpo e com menos efeitos colaterais.\n",
        "\n",
        "Com isso, o Python traz maneiras diferentes e mais enxutas de resolver problemas que já lidávamos bem utilizando outras técnicas.\n",
        "\n",
        "As **compreensões de listas** e **expressões geradoras** são algumas dessas ferramentas."
      ]
    },
    {
      "cell_type": "markdown",
      "metadata": {
        "id": "JTEAgNkAgUZK"
      },
      "source": [
        "## Compreensão de listas\n",
        "\n",
        "Vamos considerar um probleminha simples: montar uma lista com os quadrados dos números de 1 até 10. Uma das maneiras de resolver problema seria:"
      ]
    },
    {
      "cell_type": "code",
      "execution_count": null,
      "metadata": {
        "colab": {
          "base_uri": "https://localhost:8080/"
        },
        "id": "cRf3RyEmgUZL",
        "outputId": "291c06b4-b073-468a-b54a-08a83406901f"
      },
      "outputs": [
        {
          "output_type": "stream",
          "name": "stdout",
          "text": [
            "[1, 4, 9, 16, 25, 36, 49, 64, 81, 100]\n",
            "10\n"
          ]
        }
      ],
      "source": [
        "quadrados = []\n",
        "\n",
        "for x in range(1, 11):\n",
        "    quadrados.append(x**2)\n",
        "\n",
        "print(quadrados)\n",
        "print(x)"
      ]
    },
    {
      "cell_type": "markdown",
      "metadata": {
        "id": "mLlKXfFqgUZN"
      },
      "source": [
        "Note que utilizamos 3 linhas de código para criar uma lista: uma para declarar uma lista, uma para percorrer alguns valores e uma para executar o cálculo e adicionar o resultado à lista.\n",
        "\n",
        "Além disso, criamos uma variável extra, ```x```, que segue existindo em nosso programa mesmo após o loop, como você pode observar pelo segundo ```print``` do exemplo.\n",
        "\n",
        "A **compreensão de listas** resolve todos esses problemas: iremos resumir em uma única linha a criação da nova lista já com todos os valores desejados, e sem variáveis *sobrando* após a execução:"
      ]
    },
    {
      "cell_type": "code",
      "source": [
        "# racional para chegar na list comprehension\n",
        "nova_lista = []\n",
        "\n",
        "for x in range(1, 11):\n",
        "  nova_lista += [x**2]  # [1,2,3,4] + [5] = [1,2,3,4,5]\n",
        "\n",
        "nova_lista"
      ],
      "metadata": {
        "colab": {
          "base_uri": "https://localhost:8080/"
        },
        "id": "raBAfF4l8XpP",
        "outputId": "ffc8b405-e1b0-422b-c2b3-b83d9967a6fa"
      },
      "execution_count": null,
      "outputs": [
        {
          "output_type": "execute_result",
          "data": {
            "text/plain": [
              "[1, 4, 9, 16, 25, 36, 49, 64, 81, 100]"
            ]
          },
          "metadata": {},
          "execution_count": 16
        }
      ]
    },
    {
      "cell_type": "code",
      "source": [
        "# toda compreensão de listas começa e termina com colchetes\n",
        "quadrados_compreensao = [num**2 for num in range(1,11)]\n",
        "print(quadrados_compreensao)"
      ],
      "metadata": {
        "id": "Xpq8aZjNr9I1"
      },
      "execution_count": null,
      "outputs": []
    },
    {
      "cell_type": "markdown",
      "metadata": {
        "id": "C6ua16uEgUZN"
      },
      "source": [
        "Note que a variável criada na versão extensa ainda existe. A variável ```num``` utilizada na compreensão, não:"
      ]
    },
    {
      "cell_type": "code",
      "execution_count": null,
      "metadata": {
        "colab": {
          "base_uri": "https://localhost:8080/",
          "height": 211
        },
        "id": "-LVi8iDagUZO",
        "outputId": "eb5165d3-a2fa-4275-b204-447ec75b79e6"
      },
      "outputs": [
        {
          "output_type": "stream",
          "name": "stdout",
          "text": [
            "x: 10\n"
          ]
        },
        {
          "output_type": "error",
          "ename": "NameError",
          "evalue": "name 'num' is not defined",
          "traceback": [
            "\u001b[0;31m---------------------------------------------------------------------------\u001b[0m",
            "\u001b[0;31mNameError\u001b[0m                                 Traceback (most recent call last)",
            "\u001b[0;32m<ipython-input-19-b491f20b4079>\u001b[0m in \u001b[0;36m<cell line: 2>\u001b[0;34m()\u001b[0m\n\u001b[1;32m      1\u001b[0m \u001b[0mprint\u001b[0m\u001b[0;34m(\u001b[0m\u001b[0;34m'x:'\u001b[0m\u001b[0;34m,\u001b[0m \u001b[0mx\u001b[0m\u001b[0;34m)\u001b[0m\u001b[0;34m\u001b[0m\u001b[0;34m\u001b[0m\u001b[0m\n\u001b[0;32m----> 2\u001b[0;31m \u001b[0mprint\u001b[0m\u001b[0;34m(\u001b[0m\u001b[0;34m'num:'\u001b[0m\u001b[0;34m,\u001b[0m \u001b[0mnum\u001b[0m\u001b[0;34m)\u001b[0m\u001b[0;34m\u001b[0m\u001b[0;34m\u001b[0m\u001b[0m\n\u001b[0m",
            "\u001b[0;31mNameError\u001b[0m: name 'num' is not defined"
          ]
        }
      ],
      "source": [
        "print('x:', x)\n",
        "print('num:', num)"
      ]
    },
    {
      "cell_type": "markdown",
      "metadata": {
        "id": "aIWmVK3VgUZP"
      },
      "source": [
        "Vale destacar que você não precisa necessariamente utilizar ```range``` em suas compreensões. Você pode utilizar **qualquer** tipo de iterável, como listas, tuplas, strings etc.\n",
        "\n",
        "O exemplo abaixo monta uma lista contendo a metade do valor de cada elemento de uma outra lista:"
      ]
    },
    {
      "cell_type": "code",
      "source": [
        "numeros = [1, 9, 4, 7, 6, 2]\n",
        "\n",
        "[n/2 for n in numeros]"
      ],
      "metadata": {
        "colab": {
          "base_uri": "https://localhost:8080/"
        },
        "id": "ZIwGUZT68lj8",
        "outputId": "c49ffd62-bfff-418f-cfe6-7217343f3f02"
      },
      "execution_count": null,
      "outputs": [
        {
          "output_type": "execute_result",
          "data": {
            "text/plain": [
              "[0.5, 4.5, 2.0, 3.5, 3.0, 1.0]"
            ]
          },
          "metadata": {},
          "execution_count": 22
        }
      ]
    },
    {
      "cell_type": "markdown",
      "metadata": {
        "id": "izavFpergUZQ"
      },
      "source": [
        "### Condicionais em compreensões\n",
        "\n",
        "Podemos utilizar compreensões em nossas condicionais. Imagine que no exemplo anterior não pudéssemos aceitar valores \"quebrados\", e para isso não iremos dividir números ímpares, apenas pares. Podemos colocar um ```if``` na expressão:"
      ]
    },
    {
      "cell_type": "code",
      "execution_count": null,
      "metadata": {
        "colab": {
          "base_uri": "https://localhost:8080/"
        },
        "id": "YK_0dOoRgUZR",
        "outputId": "6ebb1703-0f05-43f9-b2bd-7c042ceea66c"
      },
      "outputs": [
        {
          "output_type": "execute_result",
          "data": {
            "text/plain": [
              "[2.0, 3.0, 1.0]"
            ]
          },
          "metadata": {},
          "execution_count": 23
        }
      ],
      "source": [
        "# olha como a leitura é fluída para entender o que está acontecendo\n",
        "numeros = [1, 9, 4, 7, 6, 2]\n",
        "metades_pares = [n/2 for n in numeros if n % 2 == 0 ]\n",
        "metades_pares"
      ]
    },
    {
      "cell_type": "markdown",
      "metadata": {
        "id": "RHB4XHhAgUZR"
      },
      "source": [
        "Podemos também utilizar ```else``` na expressão. Vejamos mais um exemplo e em seguida generalizaremos a sintaxe das compreensões de lista.\n",
        "\n",
        "Considere que vamos, sim, aceitar números quebrados no exemplo das metades. Porém, não queremos utilizar o tipo float desnecessariamente. Portanto, faremos uma divisão **inteira** quando o número for par (para que o resultado seja int) e uma divisão **real** quando o número for ímpar (para que o resultado seja float). A expressão ficaria assim:"
      ]
    },
    {
      "cell_type": "code",
      "execution_count": null,
      "metadata": {
        "colab": {
          "base_uri": "https://localhost:8080/"
        },
        "id": "0N9VdP1sgUZR",
        "outputId": "f1b0caea-6a54-49cb-b0ff-fae10a930e4c"
      },
      "outputs": [
        {
          "output_type": "stream",
          "name": "stdout",
          "text": [
            "[0.5, 4.5, 2, 3.5, 3, 1]\n"
          ]
        }
      ],
      "source": [
        "numeros = [1, 9, 4, 7, 6, 2]\n",
        "\n",
        "metades_tipo = [n//2 if n % 2 == 0 else n/2 for n in numeros]\n",
        "\n",
        "print(metades_tipo)"
      ]
    },
    {
      "cell_type": "code",
      "source": [
        "6//2"
      ],
      "metadata": {
        "colab": {
          "base_uri": "https://localhost:8080/"
        },
        "id": "SFuFA7FUxPir",
        "outputId": "a6a63472-4458-47e8-edca-96c4a3d6ff79"
      },
      "execution_count": null,
      "outputs": [
        {
          "output_type": "execute_result",
          "data": {
            "text/plain": [
              "3"
            ]
          },
          "metadata": {},
          "execution_count": 26
        }
      ]
    },
    {
      "cell_type": "code",
      "source": [
        "6/2"
      ],
      "metadata": {
        "colab": {
          "base_uri": "https://localhost:8080/"
        },
        "id": "UP8cU3pxxR4b",
        "outputId": "7c36d835-fb1b-494b-9f35-5f41c59adb0c"
      },
      "execution_count": null,
      "outputs": [
        {
          "output_type": "execute_result",
          "data": {
            "text/plain": [
              "3.0"
            ]
          },
          "metadata": {},
          "execution_count": 27
        }
      ]
    },
    {
      "cell_type": "markdown",
      "metadata": {
        "id": "WkxJP1pOgUZS"
      },
      "source": [
        "Note que quando colocamos o ```else```, a ordem da compreensão sofreu uma alteração. Quando era apenas ```if```, ele vinha após o ```for```. Com o ```else```, ambos vem antes.\n",
        "\n",
        "Outro ponto importante é que no caso do ```else``` passamos a ter uma segunda expressão. Quando a condição do ```if``` é verdadeira, a compreensão irá executar a expressão original. Caso contrário, ele irá executar a expressão do ```else```.\n",
        "\n",
        "Resumindo as combinações possíveis:\n",
        "\n",
        "```py\n",
        "lista = [expressao for item in colecao]\n",
        "\n",
        "# equivale a:\n",
        "\n",
        "for item in colecao:\n",
        "    lista.append(expressao)\n",
        "```\n",
        "---\n",
        "\n",
        "```py\n",
        "[expressao for item in colecao if condicao]\n",
        "\n",
        "# equivale a:\n",
        "\n",
        "for item in colecao:\n",
        "    if condicao:\n",
        "        lista.append(expressao)\n",
        "```\n",
        "\n",
        "---\n",
        "\n",
        "```py\n",
        "[expressao if condicao else expressao_alternativa for item in colecao]\n",
        "\n",
        "# equivale a:\n",
        "\n",
        "for item in colecao:\n",
        "    if condicao:\n",
        "        lista.append(expressao)\n",
        "    else:\n",
        "        lista.append(expressao_alternativa)\n",
        "```\n",
        "\n",
        "### Aninhando compreensões\n",
        "\n",
        "É possível aninhar compreensões de lista. Ao colocarmos mais de um ```for``` consecutivo, o primeiro for será considerado o mais externo, e o seguinte, mais interno. O exemplo abaixo mostra todas as combinações possíveis entre alguns nomes e sobrenomes:"
      ]
    },
    {
      "cell_type": "code",
      "source": [
        "nomes = ['ana', 'bruno', 'maria']\n",
        "sobrenomes = ['silva', 'oliveira']\n",
        "\n",
        "[nome + \" \" + sobrenome for nome in nomes for sobrenome in sobrenomes]"
      ],
      "metadata": {
        "colab": {
          "base_uri": "https://localhost:8080/"
        },
        "id": "K7ze1a0_-mcw",
        "outputId": "66391297-ed9f-42e1-a7a7-9a25886c61af"
      },
      "execution_count": null,
      "outputs": [
        {
          "output_type": "execute_result",
          "data": {
            "text/plain": [
              "['ana silva',\n",
              " 'ana oliveira',\n",
              " 'bruno silva',\n",
              " 'bruno oliveira',\n",
              " 'maria silva',\n",
              " 'maria oliveira']"
            ]
          },
          "metadata": {},
          "execution_count": 28
        }
      ]
    },
    {
      "cell_type": "markdown",
      "metadata": {
        "id": "8a736QH2gUZT"
      },
      "source": [
        "Inclusive podemos utilizar essa forma para trabalhar com matrizes. O exemplo abaixo lê pelo teclado a quantidade de vitórias, empates e derrotas para cada time em um grupo:"
      ]
    },
    {
      "cell_type": "code",
      "execution_count": null,
      "metadata": {
        "colab": {
          "base_uri": "https://localhost:8080/"
        },
        "id": "pj0dtv4qgUZT",
        "outputId": "4e7f5918-5a23-4a84-9192-cc87f30e623d"
      },
      "outputs": [
        {
          "output_type": "stream",
          "name": "stdout",
          "text": [
            "Digite a quantidade de V do time Atlético Python2\n",
            "Digite a quantidade de E do time Atlético Python2\n",
            "Digite a quantidade de D do time Atlético Python1\n",
            "Digite a quantidade de V do time JavaScript United3\n",
            "Digite a quantidade de E do time JavaScript United2\n",
            "Digite a quantidade de D do time JavaScript United3\n",
            "Digite a quantidade de V do time C Seniors2\n",
            "Digite a quantidade de E do time C Seniors2\n",
            "Digite a quantidade de D do time C Seniors1\n",
            "Digite a quantidade de V do time Javeiros do Norte2\n",
            "Digite a quantidade de E do time Javeiros do Norte3\n",
            "Digite a quantidade de D do time Javeiros do Norte0\n",
            "[[2, 2, 1], [3, 2, 3], [2, 2, 1], [2, 3, 0]]\n"
          ]
        }
      ],
      "source": [
        "times = ['Atlético Python', 'JavaScript United', 'C Seniors', 'Javeiros do Norte']\n",
        "entradas = ['V', 'E', 'D']\n",
        "\n",
        "tabela = [[int(input(f'Digite a quantidade de {tipo} do time {time}')) for tipo in entradas] for time in times]\n",
        "\n",
        "print(tabela)"
      ]
    },
    {
      "cell_type": "markdown",
      "metadata": {
        "id": "wY-tvN42gUZT"
      },
      "source": [
        "### Compreensão de dicionários\n",
        "\n",
        "Da mesma forma que utilizamos compreensão para listas, podemos utilizá-la para dicionários. A diferença é que precisamos, obrigatoriamente, passar um par chave-valor. O exemplo abaixo parte de uma lista de notas e uma lista de alunos e chega em um dicionário associando cada aluno a uma nota.\n",
        "\n"
      ]
    },
    {
      "cell_type": "code",
      "source": [
        "alunos = ['ana', 'bruno', 'maria']\n",
        "medias = [9,6.5,7]\n",
        "\n",
        "# {} # uso chaves para criar dict comprehension\n",
        "{alunos[index]:medias[index] for index in range(len(alunos))}"
      ],
      "metadata": {
        "colab": {
          "base_uri": "https://localhost:8080/"
        },
        "id": "Q7Td9j2IEXNj",
        "outputId": "5a1a1832-9fcd-4876-f187-1cafdcfe0c57"
      },
      "execution_count": null,
      "outputs": [
        {
          "output_type": "execute_result",
          "data": {
            "text/plain": [
              "{'ana': 9, 'bruno': 6.5, 'maria': 7}"
            ]
          },
          "metadata": {},
          "execution_count": 30
        }
      ]
    },
    {
      "cell_type": "markdown",
      "metadata": {
        "id": "ETEYOOjYgUZU"
      },
      "source": [
        "Também podemos chegar no mesmo resultado de uma forma mais *pythonica* usando o zip():"
      ]
    },
    {
      "cell_type": "code",
      "source": [
        "alunos = ['ana', 'bruno', 'maria']\n",
        "medias = [9,6.5,7]\n",
        "\n",
        "zip_alunos = zip(alunos,medias) # ((ana,9),(bruno,6.5), (maria,7))\n",
        "\n",
        "for item in zip_alunos:\n",
        "  print(item)"
      ],
      "metadata": {
        "colab": {
          "base_uri": "https://localhost:8080/"
        },
        "id": "BPGI9Fg5Fmy7",
        "outputId": "07bd02c6-cf6f-4533-aa90-18f632e1f86e"
      },
      "execution_count": null,
      "outputs": [
        {
          "output_type": "stream",
          "name": "stdout",
          "text": [
            "('ana', 9)\n",
            "('bruno', 6.5)\n",
            "('maria', 7)\n"
          ]
        }
      ]
    },
    {
      "cell_type": "code",
      "source": [
        "alunos = ['ana', 'bruno', 'maria']\n",
        "medias = [9,6.5,7]\n",
        "\n",
        "zip_alunos = zip(alunos,medias) # ((ana,9),(bruno,6.5), (maria,7))\n",
        "\n",
        "for aluno,media in zip_alunos:\n",
        "  print(aluno, media)"
      ],
      "metadata": {
        "colab": {
          "base_uri": "https://localhost:8080/"
        },
        "id": "FKlXoZL7Fom4",
        "outputId": "070a1aac-9265-4cc8-f381-2ca45a796534"
      },
      "execution_count": null,
      "outputs": [
        {
          "output_type": "stream",
          "name": "stdout",
          "text": [
            "ana 9\n",
            "bruno 6.5\n",
            "maria 7\n"
          ]
        }
      ]
    },
    {
      "cell_type": "code",
      "source": [
        "{aluno:media for aluno,media in zip(alunos,medias)}"
      ],
      "metadata": {
        "colab": {
          "base_uri": "https://localhost:8080/"
        },
        "id": "qFinklfyFnHu",
        "outputId": "3a9408e7-2c94-498d-ca2a-187ea33a21e0"
      },
      "execution_count": null,
      "outputs": [
        {
          "output_type": "execute_result",
          "data": {
            "text/plain": [
              "{'ana': 9, 'bruno': 6.5, 'maria': 7}"
            ]
          },
          "metadata": {},
          "execution_count": 37
        }
      ]
    },
    {
      "cell_type": "markdown",
      "metadata": {
        "id": "nFnbPJmIgUZV"
      },
      "source": [
        "O *zip* montou uma coleção onde cada elemento é uma tupla contendo um elemento da primeira lista associado ao elemento da mesma posição na segunda lista. Utilizando o nosso bom e velho *tuple unpacking*, podemos tirar proveito disso para percorrer duas listas em paralelo:"
      ]
    },
    {
      "cell_type": "code",
      "execution_count": null,
      "metadata": {
        "id": "MZObUCwpgUZV",
        "colab": {
          "base_uri": "https://localhost:8080/"
        },
        "outputId": "6b3331f6-bf48-4a63-ce16-08eb532d67b7"
      },
      "outputs": [
        {
          "output_type": "stream",
          "name": "stdout",
          "text": [
            "Aluno: ana\t | Média:9\n",
            "Aluno: bruno\t | Média:6.5\n",
            "Aluno: maria\t | Média:7\n"
          ]
        }
      ],
      "source": [
        "for a, m in zip(alunos, medias):\n",
        "    print(f'Aluno: {a}\\t | Média:{m}')"
      ]
    },
    {
      "cell_type": "markdown",
      "metadata": {
        "id": "y48tZK8agUZV"
      },
      "source": [
        "## Expressões geradoras\n",
        "\n",
        "Se você executar o código abaixo, não notará nenhum erro de execução. Ambas as linhas executam com sucesso:"
      ]
    },
    {
      "cell_type": "code",
      "source": [
        "colchetes = [x for x in range(10)]\n",
        "\n",
        "parenteses = (x for x in range(10))"
      ],
      "metadata": {
        "id": "B9iqIepkEfBg"
      },
      "execution_count": null,
      "outputs": []
    },
    {
      "cell_type": "markdown",
      "metadata": {
        "id": "ITXE-ehIgUZW"
      },
      "source": [
        "Listas são representadas por colchetes, e fazemos compreensão de listas utilizando colchetes. Dicionários utilizam chaves (**{** e **}**), e utilizamos chaves para fazer compreensão de dicionários. A expressão entre parênteses só pode ser uma tupla, certo?"
      ]
    },
    {
      "cell_type": "code",
      "source": [
        "print(colchetes)\n",
        "print(type(colchetes))\n",
        "\n",
        "print(parenteses)\n",
        "print(type(parenteses))"
      ],
      "metadata": {
        "colab": {
          "base_uri": "https://localhost:8080/"
        },
        "id": "zb_aeLlmEfz-",
        "outputId": "105c5d8e-1908-4be7-dde6-f2b3a4c1c7d9"
      },
      "execution_count": null,
      "outputs": [
        {
          "output_type": "stream",
          "name": "stdout",
          "text": [
            "[0, 1, 2, 3, 4, 5, 6, 7, 8, 9]\n",
            "<class 'list'>\n",
            "<generator object <genexpr> at 0x7853c1d39a10>\n",
            "<class 'generator'>\n"
          ]
        }
      ]
    },
    {
      "cell_type": "markdown",
      "metadata": {
        "id": "hGxpDTprgUZW"
      },
      "source": [
        "Não existe compreensão de tuplas em Python. Quando colocamos uma expressão semelhante a uma compreensão de lista entre parênteses, estamos criando uma expressão geradora. Note que podemos iterar uma expressão geradora:"
      ]
    },
    {
      "cell_type": "code",
      "source": [
        "gerador_quadrados = (x**2 for x in range(10))\n",
        "\n",
        "for quadrado in gerador_quadrados:\n",
        "    print(quadrado)"
      ],
      "metadata": {
        "colab": {
          "base_uri": "https://localhost:8080/"
        },
        "id": "LPtwSaJqEjzY",
        "outputId": "60e2cb61-56e1-44a2-f0fe-b95e1740441d"
      },
      "execution_count": null,
      "outputs": [
        {
          "output_type": "stream",
          "name": "stdout",
          "text": [
            "0\n",
            "1\n",
            "4\n",
            "9\n",
            "16\n",
            "25\n",
            "36\n",
            "49\n",
            "64\n",
            "81\n"
          ]
        }
      ]
    },
    {
      "cell_type": "markdown",
      "metadata": {
        "id": "g0O-TL6vgUZW"
      },
      "source": [
        "Também podemos convertê-lo para outras estruturas, como uma lista ou uma tupla:"
      ]
    },
    {
      "cell_type": "code",
      "source": [
        "gerador_impares = (x for x in range(20) if x % 2 == 1)\n",
        "\n",
        "lista_impares = list(gerador_impares)\n",
        "\n",
        "print(lista_impares)"
      ],
      "metadata": {
        "colab": {
          "base_uri": "https://localhost:8080/"
        },
        "id": "1WDzUWNfElqT",
        "outputId": "cd1d03db-99b4-4ef7-e355-1de553b34c13"
      },
      "execution_count": null,
      "outputs": [
        {
          "output_type": "stream",
          "name": "stdout",
          "text": [
            "[1, 3, 5, 7, 9, 11, 13, 15, 17, 19]\n"
          ]
        }
      ]
    },
    {
      "cell_type": "markdown",
      "metadata": {
        "id": "iAJ9BcozgUZX"
      },
      "source": [
        "Porém, não podemos utilizar nosso gerador uma segunda vez. Vamos tentar:"
      ]
    },
    {
      "cell_type": "code",
      "source": [
        "gerador_quadrados = (x**2 for x in range(5))\n",
        "\n",
        "for quadrado in gerador_quadrados:\n",
        "  print(quadrado)\n",
        "\n",
        "lista_quadrados = list(gerador_quadrados)\n",
        "print(lista_quadrados)"
      ],
      "metadata": {
        "colab": {
          "base_uri": "https://localhost:8080/"
        },
        "id": "Ci9vnSN1EnYK",
        "outputId": "ecc9eb53-53ad-4c9a-a63c-b523b72495f1"
      },
      "execution_count": null,
      "outputs": [
        {
          "output_type": "stream",
          "name": "stdout",
          "text": [
            "0\n",
            "1\n",
            "4\n",
            "9\n",
            "16\n",
            "[]\n"
          ]
        }
      ]
    },
    {
      "cell_type": "markdown",
      "metadata": {
        "id": "ZKCNy7TfgUZZ"
      },
      "source": [
        "Caso tenha interesse em se aprofundar nos assuntos list-comprehension / expressões geradores e ver alguns experimentos envolvendo tamanho e performance de cada um, segue algumas boas referências:\n",
        "\n",
        ">https://djangostars.com/blog/list-comprehensions-and-generator-expressions/\n",
        ">\n",
        ">https://towardsdatascience.com/comprehensions-and-generator-expression-in-python-2ae01c48fc50\n",
        ">\n",
        ">https://docs.python.org/3/howto/functional.html#generator-expressions-and-list-comprehensions"
      ]
    },
    {
      "cell_type": "markdown",
      "metadata": {
        "id": "KUQxxRe5gUZZ"
      },
      "source": [
        "# Alguns exemplos de exercícios com gabarito caso queiram praticar\n",
        "\n",
        "> Nos exercícios mais simples, que consistem apenas em gerar uma lista ou dicionário, sugiro utilizar compreensão de lista/dicionário. Em exercícios com instruções mais específicas, siga as instruções."
      ]
    },
    {
      "cell_type": "markdown",
      "source": [
        "crie um código que recebe uma lista ou tupla, para cada elemento da coleção abrevie as primeiras 3 letras e retorna uma string única com todos seus valores minúsculos e separados por espaço\n",
        "\n",
        "sugestão:\n",
        "- utilize lambda\n",
        "- utilize map"
      ],
      "metadata": {
        "id": "RTOZtWbnemJy"
      }
    },
    {
      "cell_type": "code",
      "source": [
        "\" \".join(map(lambda x: str(x).lower()[0:3], [\"abacaxi\",\"pêra\",\"uva\"]))"
      ],
      "metadata": {
        "id": "r42C4WydLEP6"
      },
      "execution_count": null,
      "outputs": []
    },
    {
      "cell_type": "markdown",
      "source": [
        "Crie um código que recebe uma lista e retorna apenas números >=0\n",
        "\n",
        "- sugestão: utilize filter() e lambda"
      ],
      "metadata": {
        "id": "1ErAtk2RemJz"
      }
    },
    {
      "cell_type": "code",
      "source": [
        "list(filter(lambda x: True if x >= 0 else False, [-1,-2,-3,0,1,2,4]))"
      ],
      "metadata": {
        "id": "zxZ5ab59LIlk"
      },
      "execution_count": null,
      "outputs": []
    },
    {
      "cell_type": "markdown",
      "source": [
        "Faça um código que recebe uma lista de números e retorna uma lista contendo os cubos dos números maiores ou iguais a zero e o quadrado dos números negativos."
      ],
      "metadata": {
        "id": "PLOa-n_cWJty"
      }
    },
    {
      "cell_type": "code",
      "source": [
        "# sem list comprehension\n",
        "lista_numeros = [1,-2,3,6]\n",
        "numeros_alterados = []\n",
        "for numero in lista_numeros:\n",
        "  if numero >= 0:\n",
        "    numeros_alterados.append(numero **3)\n",
        "  else:\n",
        "    numeros_alterados.append(numero **2)\n",
        "\n",
        "print(numeros_alterados)"
      ],
      "metadata": {
        "id": "j38PErahWJb2"
      },
      "execution_count": null,
      "outputs": []
    },
    {
      "cell_type": "code",
      "source": [
        "# com list comprehension\n",
        "lista_numeros = [1,-2,3,6]\n",
        "[numero**3 if numero>= 0 else numero**2 for numero in lista_numeros]\n"
      ],
      "metadata": {
        "id": "nSPqxYfltZr8"
      },
      "execution_count": null,
      "outputs": []
    },
    {
      "cell_type": "markdown",
      "source": [
        "# muitos links úteis de despedida 🙂\n",
        "\n",
        "\n",
        "lambda:\n",
        "\n",
        "\n",
        "https://www.programiz.com/python-programming/anonymous-function\n",
        "\n",
        "https://realpython.com/python-lambda/\n",
        "\n",
        "https://towardsdatascience.com/lambda-functions-with-practical-examples-in-python-45934f3653a8\n",
        "\n",
        "<br>\n",
        "\n",
        "list comprehension / generator expression / function generators:\n",
        "\n",
        "https://pythonguides.com/python-list-comprehension-using-if-else/\n",
        "\n",
        "https://stackoverflow.com/questions/15248272/python-list-comprehension-with-multiple-ifs\n",
        "\n",
        "https://www.datacamp.com/tutorial/python-list-comprehension\n",
        "\n",
        "https://towardsdatascience.com/5-wrong-use-cases-of-python-list-comprehensions-e8455fb75692\n",
        "\n",
        "https://holycoders.com/python-list-comprehension/\n",
        "\n",
        "https://realpython.com/introduction-to-python-generators/\n",
        "\n",
        "<br>\n",
        "\n",
        "\n",
        "Zen of Python:\n",
        "https://www.python.org/doc/humor/#the-zen-of-python\n"
      ],
      "metadata": {
        "id": "xPAKakFnNpTb"
      }
    },
    {
      "cell_type": "markdown",
      "source": [
        "# bônus: para os curiosos. outros exemplos mais complexos de list comprehensions"
      ],
      "metadata": {
        "id": "iUclKgsRh3I1"
      }
    },
    {
      "cell_type": "code",
      "source": [
        "# outros exemplos: usando múltiplos if-else\n",
        "[\"10 maior\" if  10>5 else \"igual\" if 10 == 5 else \"5 maior\"]"
      ],
      "metadata": {
        "colab": {
          "base_uri": "https://localhost:8080/"
        },
        "id": "DxcRrx4_SobR",
        "outputId": "d86a5a77-2c33-461d-a4bc-e37b0e8aae23"
      },
      "execution_count": null,
      "outputs": [
        {
          "output_type": "execute_result",
          "data": {
            "text/plain": [
              "['10 maior']"
            ]
          },
          "metadata": {},
          "execution_count": 30
        }
      ]
    },
    {
      "cell_type": "code",
      "source": [
        "# outros exemplos: usando múltiplos if-else e for\n",
        "[x if x > y else \"igual\" if x == y else y for x,y in [[1,2], [1,1], [3,1]]]"
      ],
      "metadata": {
        "colab": {
          "base_uri": "https://localhost:8080/"
        },
        "id": "QxPBXnZHTGjn",
        "outputId": "0d3b494f-adc7-4556-a210-0b95b8eed608"
      },
      "execution_count": null,
      "outputs": [
        {
          "output_type": "execute_result",
          "data": {
            "text/plain": [
              "[2, 'igual', 3]"
            ]
          },
          "metadata": {},
          "execution_count": 31
        }
      ]
    },
    {
      "cell_type": "code",
      "source": [
        "# outros exemplos: for e múltiplos ifs\n",
        "[n for n in range(1,11) if n % 2 == 0 if n > 3]\n",
        "[n for n in range(1,11) if n % 2 == 0 and n > 3]"
      ],
      "metadata": {
        "colab": {
          "base_uri": "https://localhost:8080/"
        },
        "id": "4B9rWBgbMUu0",
        "outputId": "036a1b61-ce1e-4aaf-9f9d-ce64f2f66f52"
      },
      "execution_count": null,
      "outputs": [
        {
          "output_type": "execute_result",
          "data": {
            "text/plain": [
              "[4, 6, 8, 10]"
            ]
          },
          "metadata": {},
          "execution_count": 66
        }
      ]
    },
    {
      "cell_type": "code",
      "source": [
        "# outros exemplos: for e múltiplos \"ifs\"(usando and) com else\n",
        "[n if n % 2 == 0 and n > 3 else \"não par e/ou <= 3\" for n in range(1,11) ]"
      ],
      "metadata": {
        "colab": {
          "base_uri": "https://localhost:8080/"
        },
        "id": "TqI-Q5bSW_tK",
        "outputId": "4f068e3b-941c-467e-ffa7-73a381e8b7fb"
      },
      "execution_count": null,
      "outputs": [
        {
          "output_type": "execute_result",
          "data": {
            "text/plain": [
              "['não par e/ou <= 3',\n",
              " 'não par e/ou <= 3',\n",
              " 'não par e/ou <= 3',\n",
              " 4,\n",
              " 'não par e/ou <= 3',\n",
              " 6,\n",
              " 'não par e/ou <= 3',\n",
              " 8,\n",
              " 'não par e/ou <= 3',\n",
              " 10]"
            ]
          },
          "metadata": {},
          "execution_count": 79
        }
      ]
    },
    {
      "cell_type": "code",
      "source": [
        "# outros exemplos: múltiplos fors\n",
        "list_of_lists = [[1,2,3],[4,5,6],[7,8]]\n",
        "\n",
        "[element*-1 for lista in list_of_lists for element in lista]"
      ],
      "metadata": {
        "colab": {
          "base_uri": "https://localhost:8080/"
        },
        "id": "gdyT3yuWYIIP",
        "outputId": "a84987b6-a2c9-4dca-bcd4-a3829fac5e6d"
      },
      "execution_count": null,
      "outputs": [
        {
          "output_type": "execute_result",
          "data": {
            "text/plain": [
              "[-1, -2, -3, -4, -5, -6, -7, -8]"
            ]
          },
          "metadata": {},
          "execution_count": 83
        }
      ]
    },
    {
      "cell_type": "code",
      "source": [
        "#outros exemplos: múltiplos fors e múltiplas listas\n",
        "list1 = [1,2]\n",
        "list2 = [4,5]\n",
        "[[i,j] for i in list1 for j in list2]\n"
      ],
      "metadata": {
        "colab": {
          "base_uri": "https://localhost:8080/"
        },
        "id": "iPU3DNxaeOH5",
        "outputId": "a7d7aad5-6f49-4725-89d9-5620cf81a977"
      },
      "execution_count": null,
      "outputs": [
        {
          "output_type": "execute_result",
          "data": {
            "text/plain": [
              "[[1, 4], [1, 5], [2, 4], [2, 5]]"
            ]
          },
          "metadata": {},
          "execution_count": 99
        }
      ]
    },
    {
      "cell_type": "code",
      "source": [
        "# outros exemplos: múltiplos fors e 1 if\n",
        "list_of_lists = [[1,2,3],[4,5,6],[7,8]]\n",
        "\n",
        "[element*-1 for lista in list_of_lists for element in lista if element % 2 == 0]"
      ],
      "metadata": {
        "colab": {
          "base_uri": "https://localhost:8080/"
        },
        "id": "K8pQMS2OYp6N",
        "outputId": "c701881d-c0c1-4ce4-8e0e-71d9da414ea1"
      },
      "execution_count": null,
      "outputs": [
        {
          "output_type": "execute_result",
          "data": {
            "text/plain": [
              "[-2, -4, -6, -8]"
            ]
          },
          "metadata": {},
          "execution_count": 84
        }
      ]
    },
    {
      "cell_type": "code",
      "source": [
        "# outros exemplos: múltiplos fors e 1 if-else\n",
        "list_of_lists = [[1,2,3],[4,5,6],[7,8]]\n",
        "\n",
        "# usando for dentro de for em list comprehension\n",
        "# se número for maior ou igual a 5 printa o número caso contrário põe |\n",
        "[element if element >=5 else \"|\" for lista in list_of_lists for element in lista]"
      ],
      "metadata": {
        "colab": {
          "base_uri": "https://localhost:8080/"
        },
        "id": "GxZx7vgs-rG6",
        "outputId": "47536849-6fa3-46d9-85bb-6c92d7e0f9ae"
      },
      "execution_count": null,
      "outputs": [
        {
          "output_type": "execute_result",
          "data": {
            "text/plain": [
              "['|', '|', '|', '|', 5, 6, 7, 8]"
            ]
          },
          "metadata": {},
          "execution_count": 63
        }
      ]
    },
    {
      "cell_type": "code",
      "source": [
        "# outros exemplos: múltiplos list comprehensions e for\n",
        "# list comprehensions com list comprehensions\n",
        "matrix = [[1,2,3],[4,5,6],[7,8,9]]\n",
        "\n",
        "[[row[i] for row in matrix] for i in range(3)]\n"
      ],
      "metadata": {
        "colab": {
          "base_uri": "https://localhost:8080/"
        },
        "id": "5N8mduHpAvyV",
        "outputId": "2bd64e5b-afe6-41ef-dd91-61000ed7af3f"
      },
      "execution_count": null,
      "outputs": [
        {
          "output_type": "execute_result",
          "data": {
            "text/plain": [
              "[[1, 4, 7], [2, 5, 8], [3, 6, 9]]"
            ]
          },
          "metadata": {},
          "execution_count": 64
        }
      ]
    },
    {
      "cell_type": "code",
      "source": [
        "# outros exemplos:\n",
        "# list comprehensions com múltiplos ifs dentro de multiplos for\n",
        "[rang2 for rang1 in range(1,5) if rang1 % 2 == 0 for rang2 in range(rang1) if rang2 % 2 == 1]"
      ],
      "metadata": {
        "colab": {
          "base_uri": "https://localhost:8080/"
        },
        "id": "lZqwBahiB0Gh",
        "outputId": "898d62c8-61b8-4220-847d-c093960d222e"
      },
      "execution_count": null,
      "outputs": [
        {
          "output_type": "execute_result",
          "data": {
            "text/plain": [
              "[1, 1, 3]"
            ]
          },
          "metadata": {},
          "execution_count": 91
        }
      ]
    },
    {
      "cell_type": "code",
      "source": [
        "# outros exemplos:\n",
        "# list comprehensions com único if-else e único if dentro de multiplos for\n",
        "[rang2 if rang1 % 2 == 0 else \"rang1 é ímpar\" for rang1 in range(1,5) for rang2 in range(rang1) if rang1 % 2 == 1 ]"
      ],
      "metadata": {
        "colab": {
          "base_uri": "https://localhost:8080/"
        },
        "id": "BCVNTQCdbbXA",
        "outputId": "406c635a-cd3c-44c7-f778-665866a4003a"
      },
      "execution_count": null,
      "outputs": [
        {
          "output_type": "execute_result",
          "data": {
            "text/plain": [
              "['rang1 é ímpar', 'rang1 é ímpar', 'rang1 é ímpar', 'rang1 é ímpar']"
            ]
          },
          "metadata": {},
          "execution_count": 97
        }
      ]
    },
    {
      "cell_type": "code",
      "source": [],
      "metadata": {
        "id": "ZMOpCYMSNsVo"
      },
      "execution_count": null,
      "outputs": []
    },
    {
      "cell_type": "code",
      "source": [],
      "metadata": {
        "id": "pWz74qXvYBaX"
      },
      "execution_count": null,
      "outputs": []
    },
    {
      "cell_type": "markdown",
      "source": [
        "# Parabéns! Vocês chegaram ao fim do módulo\n",
        "\n"
      ],
      "metadata": {
        "id": "NBhCF9hoYCCS"
      }
    },
    {
      "cell_type": "markdown",
      "source": [
        "O que vocês aprenderam:\n",
        "- dicionários, tuplas\n",
        "- funções simples, e funções com parâmetros funções *args e **kwargs\n",
        "- funções lambda\n",
        "- compreensão de lista/dicionário e expressão geradoras (parece tupla!)\n",
        "- tratamento de exceção\n",
        "- oportunidade de se arriscar na lógica de construção do zero do primeiro modelo de machine learning, O KNN (vocês irão aprender a otimiza-lo em machine learning I!)\n",
        "\n",
        "\n",
        "parabéns mais uma vez por todo o esforço! essa é uma quantidade muito grande de conteúdo!"
      ],
      "metadata": {
        "id": "Dtkf9tmqYGaQ"
      }
    },
    {
      "cell_type": "code",
      "source": [],
      "metadata": {
        "id": "EEEo3MeoY4K3"
      },
      "execution_count": null,
      "outputs": []
    }
  ],
  "metadata": {
    "kernelspec": {
      "display_name": "Python 3.9.7 ('base')",
      "language": "python",
      "name": "python3"
    },
    "language_info": {
      "codemirror_mode": {
        "name": "ipython",
        "version": 3
      },
      "file_extension": ".py",
      "mimetype": "text/x-python",
      "name": "python",
      "nbconvert_exporter": "python",
      "pygments_lexer": "ipython3",
      "version": "3.9.7"
    },
    "orig_nbformat": 4,
    "vscode": {
      "interpreter": {
        "hash": "ad2bdc8ecc057115af97d19610ffacc2b4e99fae6737bb82f5d7fb13d2f2c186"
      }
    },
    "colab": {
      "provenance": []
    }
  },
  "nbformat": 4,
  "nbformat_minor": 0
}