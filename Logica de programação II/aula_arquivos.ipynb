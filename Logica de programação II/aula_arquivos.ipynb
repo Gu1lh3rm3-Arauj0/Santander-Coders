{
  "cells": [
    {
      "cell_type": "markdown",
      "metadata": {
        "id": "772zT7AIyLoQ"
      },
      "source": [
        "# Arquivos\n",
        "\n",
        "Uma característica que nenhum de nossos programas teve agora é a **persistência** de dados. Sempre que nossos programas eram executados, eles precisavam que os usuários digitassem todos os dados de entrada novamente, e após exibir os dados de saída na tela, o programa era fechado e esses dados eram perdidos para sempre.\n",
        "\n",
        "A persistência se dá através de **arquivos**: estruturas abstratas para armazenar dados em uma memória permanente, como o disco rígido, um _drive_ USB ou um servidor _web_."
      ]
    },
    {
      "cell_type": "code",
      "source": [],
      "metadata": {
        "id": "-7WBaIx2bIxc"
      },
      "execution_count": null,
      "outputs": []
    },
    {
      "cell_type": "markdown",
      "source": [
        "\n",
        "## Arquivos em Python\n",
        "O Python possui algumas funções prontas para manipular arquivos binários puros (onde, conhecendo a estrutura interna de qualquer formato, podemos salvar qualquer tipo de arquivo) e para manipular arquivos de texto (onde os binários são decodificados como _strings_).\n",
        "\n",
        "Focaremos no básico de manipulação de arquivo de texto, pois, na prática, quando formos trabalhar com arquivos mais complexos, é provável que usaremos bibliotecas específicas para lidar com eles, e elas já terão funções próprias para ler e salvar esses arquivos da maneira correta.\n",
        "\n"
      ],
      "metadata": {
        "id": "pjePIztxsLpf"
      }
    },
    {
      "cell_type": "markdown",
      "source": [
        "### Abrindo e fechando arquivos\n",
        "Podemos criar arquivos novos ou abrir arquivos já existentes utilizando a função _open()_. Ela possui 2 argumentos: uma com o caminho do arquivo e outra com o modo de operação. Para saber mais:\n",
        "<br>\n",
        "https://www.w3schools.com/python/ref_func_open.asp\n",
        "<br>\n",
        "https://docs.python.org/3/library/functions.html#open\n",
        "<br>\n",
        "\n",
        "| Modo   | Símbolo | Descrição                                                                                                                             |\n",
        "|--------|---------|---------------------------------------------------------------------------------------------------------------------------------------|\n",
        "| _create new_  | x       | Abre exclusivamente para criar, dando falha se o arquivo já existir                                                                                                       |\n",
        "| _write_  | w       | Abre um arquivo para escrever. Caso arquivo não exista cria um novo arquivo                                                                                                                  |\n",
        "| _append_ | a       | Abre um arquivo existente para adicionar informações ao seu final                                                                     |\n",
        "| _read_   | r       | Abre para ler um arquivo existente. Esse é o argumento padrão do parâmetro _mode_ na função _open()_                                                                        |\n",
        "| _update_ | +       | Abre para atualizar. ao ser combinado com outros modos, permite alteração de arquivo já existente tanto para escrever quanto para ler. exemplo: r+ abre um arquivo existente e permite modificá-lo) |\n",
        "\n",
        "Após abrirmos (ou criarmos) um arquivo, podemos realizar diversas operações. Ao final de todas elas, devemos **fechar** o nosso arquivo usando a função _close()_. Essa etapa é importante por 2 motivos:\n",
        "* 1. Se alteramos o arquivo mas não o fechamos, as alterações não serão salvas.\n",
        "* 2. Se esquecermos de fechar um arquivo, outros programas podem ter problemas de acesso a ele.\n",
        "\n",
        "A função _open_ retorna alguns dados que devem ser salvos em uma variável que será responsável por guardar alguns dados de acesso ao arquivo, para uso interno do Python.\n"
      ],
      "metadata": {
        "id": "5sSjIEtVsPbw"
      }
    },
    {
      "cell_type": "markdown",
      "source": [
        "\n",
        "### Escrevendo arquivos\n",
        "Para entender melhor o _open_ e o _close_, façamos um programinha que escreve algo em um arquivo. Além das duas funções que já vimos, também utilizaremos a função _write_, que escreve um texto em um arquivo. É quase como um _print_ mais simples, mas ele aceita apenas uma _string_."
      ],
      "metadata": {
        "id": "I-VV7i1RsTnX"
      }
    },
    {
      "cell_type": "code",
      "source": [
        "arquivo = open(\"ola.txt\", 'x') # cria um arquivo ola.txt\n",
        "arquivo.write('olá mundo')  # escreve olá mundo no arquivo\n",
        "arquivo.close()"
      ],
      "metadata": {
        "id": "GMO9tc4nbL3L"
      },
      "execution_count": null,
      "outputs": []
    },
    {
      "cell_type": "code",
      "source": [
        "arquivo = open(\"ola.txt\", 'x') # cria um arquivo ola.txt\n",
        "arquivo.write('olá pessoal')  # escreve olá mundo no arquivo\n",
        "arquivo.close()"
      ],
      "metadata": {
        "id": "ummmYMebbL68",
        "colab": {
          "base_uri": "https://localhost:8080/",
          "height": 211
        },
        "outputId": "19b2220b-7c73-4c3f-8947-104d6988bd37"
      },
      "execution_count": null,
      "outputs": [
        {
          "output_type": "error",
          "ename": "FileExistsError",
          "evalue": "[Errno 17] File exists: 'ola.txt'",
          "traceback": [
            "\u001b[0;31m---------------------------------------------------------------------------\u001b[0m",
            "\u001b[0;31mFileExistsError\u001b[0m                           Traceback (most recent call last)",
            "\u001b[0;32m<ipython-input-2-545977079add>\u001b[0m in \u001b[0;36m<cell line: 1>\u001b[0;34m()\u001b[0m\n\u001b[0;32m----> 1\u001b[0;31m \u001b[0marquivo\u001b[0m \u001b[0;34m=\u001b[0m \u001b[0mopen\u001b[0m\u001b[0;34m(\u001b[0m\u001b[0;34m\"ola.txt\"\u001b[0m\u001b[0;34m,\u001b[0m \u001b[0;34m'x'\u001b[0m\u001b[0;34m)\u001b[0m \u001b[0;31m# cria um arquivo ola.txt\u001b[0m\u001b[0;34m\u001b[0m\u001b[0;34m\u001b[0m\u001b[0m\n\u001b[0m\u001b[1;32m      2\u001b[0m \u001b[0marquivo\u001b[0m\u001b[0;34m.\u001b[0m\u001b[0mwrite\u001b[0m\u001b[0;34m(\u001b[0m\u001b[0;34m'olá pessoal'\u001b[0m\u001b[0;34m)\u001b[0m  \u001b[0;31m# escreve olá mundo no arquivo\u001b[0m\u001b[0;34m\u001b[0m\u001b[0;34m\u001b[0m\u001b[0m\n\u001b[1;32m      3\u001b[0m \u001b[0marquivo\u001b[0m\u001b[0;34m.\u001b[0m\u001b[0mclose\u001b[0m\u001b[0;34m(\u001b[0m\u001b[0;34m)\u001b[0m\u001b[0;34m\u001b[0m\u001b[0;34m\u001b[0m\u001b[0m\n",
            "\u001b[0;31mFileExistsError\u001b[0m: [Errno 17] File exists: 'ola.txt'"
          ]
        }
      ]
    },
    {
      "cell_type": "code",
      "source": [],
      "metadata": {
        "id": "On7C_SaabL-q"
      },
      "execution_count": null,
      "outputs": []
    },
    {
      "cell_type": "code",
      "source": [],
      "metadata": {
        "id": "HcZyemlDbMD6"
      },
      "execution_count": null,
      "outputs": []
    },
    {
      "cell_type": "code",
      "source": [],
      "metadata": {
        "id": "oRDJdBLAbMKp"
      },
      "execution_count": null,
      "outputs": []
    },
    {
      "cell_type": "markdown",
      "source": [
        "Por que deu erro aqui?\n",
        "\n",
        "<br> <br> <br> <br> <br>\n",
        "\n",
        "Utilizamos o modo 'x' que ele cria um novo arquivo se não existir esse nome"
      ],
      "metadata": {
        "id": "WBGkdTzoFvqq"
      }
    },
    {
      "cell_type": "markdown",
      "source": [
        "Agora podemos utilizar o modo W para escrever \"por cima\" caso já tenha um arquivo com esse nome"
      ],
      "metadata": {
        "id": "4w_vgLojJ86M"
      }
    },
    {
      "cell_type": "code",
      "source": [
        "arquivo = open(\"ola.txt\", 'w') # cria um arquivo ola.txt\n",
        "arquivo.write('olá de novo mundo')  # escreve olá mundo no arquivo\n",
        "arquivo.close()"
      ],
      "metadata": {
        "id": "5y6yDXNxbQAF"
      },
      "execution_count": null,
      "outputs": []
    },
    {
      "cell_type": "code",
      "source": [
        "arquivo = open(\"ola.txt\", \"a\")\n",
        "arquivo.write('olá de novo mundo')\n",
        "arquivo.close()"
      ],
      "metadata": {
        "id": "9TxSTmNQbQG9"
      },
      "execution_count": null,
      "outputs": []
    },
    {
      "cell_type": "code",
      "source": [
        "arquivo = open(\"ola.txt\", \"a\")\n",
        "arquivo.write('\\nolá de novo mundo')\n",
        "arquivo.close()"
      ],
      "metadata": {
        "id": "lKc1NAVjbQNl"
      },
      "execution_count": null,
      "outputs": []
    },
    {
      "cell_type": "code",
      "source": [],
      "metadata": {
        "id": "eQBuhP0zbQTV"
      },
      "execution_count": null,
      "outputs": []
    },
    {
      "cell_type": "code",
      "source": [],
      "metadata": {
        "id": "L_8xeiC9bQZq"
      },
      "execution_count": null,
      "outputs": []
    },
    {
      "cell_type": "markdown",
      "metadata": {
        "id": "AI_DZWMyyLoW"
      },
      "source": [
        "Após executar a célula acima, abra a pasta onde seu _notebook_ está salvo. Note que apareceu um ```ola.txt``` lá. Abra-o e verifique seu conteúdo.\n",
        "\n",
        "### Lendo arquivos\n",
        "Para ler um arquivo existente, não basta usar o _open_ para abri-lo. É necessário carregar seu conteúdo para uma _string_, de modo que possamos trabalhar com o texto da mesma forma que sempre trabalhamos. A função _read_ faz o oposto da _write_: ela retorna o texto existente no arquivo.\n",
        "\n",
        "Rode a célula abaixo."
      ]
    },
    {
      "cell_type": "code",
      "source": [
        "arquivo = open('ola.txt', 'r')\n",
        "conteudo = arquivo.read()\n",
        "print(conteudo)\n",
        "arquivo.close()"
      ],
      "metadata": {
        "id": "2rh0pWUobRz3",
        "colab": {
          "base_uri": "https://localhost:8080/"
        },
        "outputId": "51191740-4dd0-4d4a-fcd3-9924984f397e"
      },
      "execution_count": null,
      "outputs": [
        {
          "output_type": "stream",
          "name": "stdout",
          "text": [
            "olá de novo mundoolá de novo mundo\n",
            "olá de novo mundo\n"
          ]
        }
      ]
    },
    {
      "cell_type": "code",
      "source": [
        "type(conteudo)"
      ],
      "metadata": {
        "id": "kDh1lta0bR5P",
        "colab": {
          "base_uri": "https://localhost:8080/"
        },
        "outputId": "a564d392-d840-48f5-e174-d0a246fb31f7"
      },
      "execution_count": null,
      "outputs": [
        {
          "output_type": "execute_result",
          "data": {
            "text/plain": [
              "str"
            ]
          },
          "metadata": {},
          "execution_count": 7
        }
      ]
    },
    {
      "cell_type": "code",
      "source": [
        "conteudo.split(\"\\n\")"
      ],
      "metadata": {
        "colab": {
          "base_uri": "https://localhost:8080/"
        },
        "id": "r-Nr6jilfTiU",
        "outputId": "cf906a48-c70b-442a-bf0c-c5cea6454a96"
      },
      "execution_count": null,
      "outputs": [
        {
          "output_type": "execute_result",
          "data": {
            "text/plain": [
              "['olá de novo mundoolá de novo mundo', 'olá de novo mundo']"
            ]
          },
          "metadata": {},
          "execution_count": 9
        }
      ]
    },
    {
      "cell_type": "code",
      "source": [
        "for element in conteudo.split(\"\\n\"):\n",
        "  print(element)"
      ],
      "metadata": {
        "id": "fHIShI3_bR-c",
        "colab": {
          "base_uri": "https://localhost:8080/"
        },
        "outputId": "ae04a7dc-61c0-4b49-abc9-baa5930b3762"
      },
      "execution_count": null,
      "outputs": [
        {
          "output_type": "stream",
          "name": "stdout",
          "text": [
            "olá de novo mundoolá de novo mundo\n",
            "olá de novo mundo\n"
          ]
        }
      ]
    },
    {
      "cell_type": "markdown",
      "metadata": {
        "id": "bghlUqY2yLoX"
      },
      "source": [
        "## Gerenciador de contexto\n",
        "\n",
        "Uma forma alternativa e \"mais segura\" de trabalhar com arquivos é utilizando um _gerenciador de contextos_. O gerenciador de contextos é, de maneira resumida, um pequeno bloco de código que realiza algumas tarefas e tratamentos de erro de maneira automatizada para nós.\n",
        "\n",
        "Com ele não precisamos nos preocupar em fechar o arquivo ao final da manipulação, pois ele irá fechar automaticamente para nós ao final do bloco."
      ]
    },
    {
      "cell_type": "code",
      "source": [
        "with open(\"ola.txt\", 'r') as arquivo:\n",
        "  conteudo = arquivo.read()\n",
        "  print(conteudo)\n",
        "\n",
        "conteudo2 = arquivo.read()"
      ],
      "metadata": {
        "id": "xADhNyimbS97",
        "colab": {
          "base_uri": "https://localhost:8080/",
          "height": 246
        },
        "outputId": "9d448774-9901-4e56-af9b-c0fe103b379a"
      },
      "execution_count": null,
      "outputs": [
        {
          "output_type": "stream",
          "name": "stdout",
          "text": [
            "olá de novo mundoolá de novo mundo\n",
            "olá de novo mundo\n"
          ]
        },
        {
          "output_type": "error",
          "ename": "ValueError",
          "evalue": "I/O operation on closed file.",
          "traceback": [
            "\u001b[0;31m---------------------------------------------------------------------------\u001b[0m",
            "\u001b[0;31mValueError\u001b[0m                                Traceback (most recent call last)",
            "\u001b[0;32m<ipython-input-13-f7dfea9a05bf>\u001b[0m in \u001b[0;36m<cell line: 5>\u001b[0;34m()\u001b[0m\n\u001b[1;32m      3\u001b[0m   \u001b[0mprint\u001b[0m\u001b[0;34m(\u001b[0m\u001b[0mconteudo\u001b[0m\u001b[0;34m)\u001b[0m\u001b[0;34m\u001b[0m\u001b[0;34m\u001b[0m\u001b[0m\n\u001b[1;32m      4\u001b[0m \u001b[0;34m\u001b[0m\u001b[0m\n\u001b[0;32m----> 5\u001b[0;31m \u001b[0mconteudo2\u001b[0m \u001b[0;34m=\u001b[0m \u001b[0marquivo\u001b[0m\u001b[0;34m.\u001b[0m\u001b[0mread\u001b[0m\u001b[0;34m(\u001b[0m\u001b[0;34m)\u001b[0m\u001b[0;34m\u001b[0m\u001b[0;34m\u001b[0m\u001b[0m\n\u001b[0m",
            "\u001b[0;31mValueError\u001b[0m: I/O operation on closed file."
          ]
        }
      ]
    },
    {
      "cell_type": "markdown",
      "metadata": {
        "id": "JTfzIeHdyLoY"
      },
      "source": [
        "No restante dos exemplos **seguiremos utilizando a primeira forma que aprendemos para reforçar que, por dentro, há sempre uma abertura e um fechamento de arquivo**. Mas sinta-se livre para utilizar a nova forma sempre que quiser!"
      ]
    },
    {
      "cell_type": "code",
      "source": [
        "# obs: também conseguimos criar um arquivo xls\n",
        "arquivo = open(\"arquivo_excel_teste.xls\", 'x')\n",
        "arquivo.write('olá mundo')  # escreve olá mundo no arquivo\n",
        "arquivo.close()"
      ],
      "metadata": {
        "id": "l-Pru2S8jWRb"
      },
      "execution_count": null,
      "outputs": []
    },
    {
      "cell_type": "markdown",
      "source": [
        "## Utilizando o Google Colab e lendo arquivos do meu Google Drive"
      ],
      "metadata": {
        "id": "sLlFH2BK4D7l"
      }
    },
    {
      "cell_type": "markdown",
      "source": [
        "- Uma característica diferente que o Google Colab tem das outras IDEs populares é o fato dela estar online e ter facilidade de utilizar o Google Drive"
      ],
      "metadata": {
        "id": "-Do25hum4NBa"
      }
    },
    {
      "cell_type": "markdown",
      "source": [
        "- Por que pode ser importante utilizar o Google Drive?\n",
        " - Permite você guardar e ler informações de um local na nuvem\n",
        " - Se utilizarmos o diretório padrão ele só persistirá durante o a sessão presente"
      ],
      "metadata": {
        "id": "6ay7QnwT5JQ3"
      }
    },
    {
      "cell_type": "markdown",
      "source": [
        "* Como posso integrar meu notebook no meu google drive? arquivos > montar drive"
      ],
      "metadata": {
        "id": "gjyx_CiCg0M2"
      }
    },
    {
      "cell_type": "code",
      "source": [
        "from google.colab import drive\n",
        "drive.mount('/content/drive')"
      ],
      "metadata": {
        "colab": {
          "base_uri": "https://localhost:8080/"
        },
        "id": "HnIRvlr0gwjw",
        "outputId": "8dd1e481-3227-4862-c77e-59ef51643a95"
      },
      "execution_count": null,
      "outputs": [
        {
          "output_type": "stream",
          "name": "stdout",
          "text": [
            "Mounted at /content/drive\n"
          ]
        }
      ]
    },
    {
      "cell_type": "markdown",
      "source": [
        "Agora conseguimos interagir com os arquivos do Google Drive da mesma maneira se fosse em outro diretório"
      ],
      "metadata": {
        "id": "SWboC5IG5CZF"
      }
    },
    {
      "cell_type": "code",
      "source": [
        "arquivo = open(\"/content/drive/MyDrive/01_arquivo_no_drive.txt\",\"x\")\n",
        "arquivo.write(\"olá mundo\\n\")\n",
        "arquivo.close()"
      ],
      "metadata": {
        "id": "-L31Q0uMbV9x"
      },
      "execution_count": null,
      "outputs": []
    },
    {
      "cell_type": "code",
      "source": [
        "arquivo = open(\"/content/drive/MyDrive/01_arquivo_no_drive.txt\", 'r+')\n",
        "conteudo = arquivo.read()\n",
        "print(conteudo)\n",
        "arquivo.write('olá mundo2\\n')\n",
        "arquivo.close()"
      ],
      "metadata": {
        "id": "syMOEqaQbWB1",
        "colab": {
          "base_uri": "https://localhost:8080/"
        },
        "outputId": "ba79a77c-a808-420c-991f-90738c50bcd2"
      },
      "execution_count": null,
      "outputs": [
        {
          "output_type": "stream",
          "name": "stdout",
          "text": [
            "olá mundo\n",
            "\n"
          ]
        }
      ]
    },
    {
      "cell_type": "code",
      "source": [
        "arquivo = open(\"/content/drive/MyDrive/01_arquivo_no_drive.txt\",\"r\")\n",
        "conteudo = arquivo.read()\n",
        "print(conteudo)\n",
        "arquivo.close()"
      ],
      "metadata": {
        "id": "8vQEWRg7bWFL",
        "colab": {
          "base_uri": "https://localhost:8080/"
        },
        "outputId": "15425b94-d3f7-436b-a020-bc3e3ca3b490"
      },
      "execution_count": null,
      "outputs": [
        {
          "output_type": "stream",
          "name": "stdout",
          "text": [
            "olá mundo\n",
            "olá mundo2\n",
            "\n"
          ]
        }
      ]
    },
    {
      "cell_type": "code",
      "source": [],
      "metadata": {
        "id": "2n3ahT8RbWM9"
      },
      "execution_count": null,
      "outputs": []
    },
    {
      "cell_type": "markdown",
      "metadata": {
        "id": "P4JV5LgqyLoZ"
      },
      "source": [
        "# Exercícios - parte 1"
      ]
    },
    {
      "cell_type": "markdown",
      "source": [
        "\n",
        "Use o conteúdo ensinado até o momento para realizar os exercícios abaixo.\n",
        "\n",
        "Para os exercícios envolvendo números, você pode utilizar o arquivo ```numeros.txt``` fornecido junto deste _notebook_ . link do arquivo ```numeros.txt```: https://drive.google.com/file/d/1iKodt0gYVQnwNZ0-FXnW4HBQp8ZS2Ml9/view?usp=sharing\n"
      ],
      "metadata": {
        "id": "z074EawTI1YZ"
      }
    },
    {
      "cell_type": "markdown",
      "source": [
        "1) Escreva um código que lê um arquivo de texto contendo uma série de números separados por quebra de linha (```'\\n'```) e os adiciona a uma lista. Imprima a lista na tela."
      ],
      "metadata": {
        "id": "J4f662BQWWDg"
      }
    },
    {
      "cell_type": "code",
      "source": [
        "arquivo_numeros = open(\"numeros.txt\",\"r+\")\n",
        "numeros = arquivo_numeros.read()\n",
        "\n",
        "lista_str_numeros = numeros.split(\"\\n\")\n",
        "\n",
        "print(lista_str_numeros)"
      ],
      "metadata": {
        "id": "QOv2nb6jwAVA"
      },
      "execution_count": null,
      "outputs": []
    },
    {
      "cell_type": "markdown",
      "metadata": {
        "id": "MJcx_fadyLoa"
      },
      "source": [
        "2) Escreva um programa que lê um arquivo de texto contendo uma série de números inteiros separados por quebra de linha (```\\n```) e escreva na tela o somatório dos números."
      ]
    },
    {
      "cell_type": "code",
      "source": [
        "arquivo_numeros = open(\"numeros.txt\",\"r+\")\n",
        "numeros = arquivo_numeros.read()\n",
        "\n",
        "lista_numeros = []\n",
        "lista_str_numeros = numeros.split(\"\\n\")\n",
        "\n",
        "for elemento in lista_str_numeros:\n",
        "    lista_numeros.append(int(elemento))\n",
        "\n",
        "print(f'A soma dos elementos é {sum(lista_numeros)}')\n",
        "\n",
        "arquivo_numeros.close()"
      ],
      "metadata": {
        "id": "6w81P4vVxXsM"
      },
      "execution_count": null,
      "outputs": []
    },
    {
      "cell_type": "markdown",
      "source": [
        "3) Crie uma função que cheque se um número inteiro é primo (divisível por apenas 1 e por ele mesmo) ou não.\n",
        "- Se for primo retornar \"primo\"\n",
        "- Caso contrário, retorne \"não-primo\""
      ],
      "metadata": {
        "id": "TGRNFGKLVZOU"
      }
    },
    {
      "cell_type": "code",
      "source": [
        "def e_primo (num):\n",
        "    for x in range(2, int(num ** 0.5)+1):\n",
        "        if num % x == 0:\n",
        "          return \"não-primo\"\n",
        "\n",
        "    return (\"primo\")\n",
        "\n",
        "arquivo = open(\"/content/numeros.txt\",\"r\")\n",
        "\n",
        "num = arquivo.read()\n",
        "lista_str_numeros = num.split(\"\\n\")\n",
        "\n",
        "for elemento in lista_str_numeros:\n",
        "    lista_numeros.append(int(elemento))\n",
        "\n",
        "for num in lista_numeros:\n",
        "  print(f'{num}: {e_primo(num)}')"
      ],
      "metadata": {
        "id": "lbSpc-fly9Y0"
      },
      "execution_count": null,
      "outputs": []
    },
    {
      "cell_type": "markdown",
      "source": [
        "- projeto\n",
        "- exercícios de arquivos\n",
        "- csv / json\n",
        "- tratamento de exceção (try/except/else/finally)\n",
        "- exercicios de tratamento de excecao\n"
      ],
      "metadata": {
        "id": "XYDWXzLVg38x"
      }
    },
    {
      "cell_type": "markdown",
      "metadata": {
        "id": "htCtkGbQyLoa"
      },
      "source": [
        "4) Escreva um programa que lê um arquivo de texto contendo uma série de números separados por quebra de linha (```\\n```). Crie um novo arquivo onde você irá escrever \"primo\" ou \"não-primo\" na linha correspondente a cada número.\n",
        "\n",
        "- Importante: Além dos argumento que já passamos comumente para o open(), passe o argumento 'utf-8' para parâmetro encoding dentro do open()."
      ]
    },
    {
      "cell_type": "code",
      "source": [
        "def is_primo (num):\n",
        "    for x in range(2, int(num ** 0.5)+1):\n",
        "        if num % x == 0:\n",
        "          return False\n",
        "\n",
        "    return True\n",
        "\n",
        "arquivo = open(\"/content/numeros.txt\",\"r\")\n",
        "\n",
        "num = arquivo.read()\n",
        "lista_str_numeros = num.split(\"\\n\")\n",
        "\n",
        "for elemento in lista_str_numeros:\n",
        "    lista_numeros.append(int(elemento))\n",
        "\n",
        "num_primo = open(\"num_primo.txt\", 'x')\n",
        "\n",
        "for num in lista_numeros:\n",
        "  if is_primo(num):\n",
        "    num_primo.write(f'{num} é primo\\n')\n",
        "\n",
        "  else:\n",
        "    num_primo.write(f'{num} não é primo\\n')\n",
        "\n",
        "arquivo.close()\n",
        "num_primo.close()"
      ],
      "metadata": {
        "id": "jyQRUCylbsof"
      },
      "execution_count": null,
      "outputs": []
    },
    {
      "cell_type": "markdown",
      "metadata": {
        "id": "sDHELy-EyLoc"
      },
      "source": [
        "# Arquivos CSV\n",
        "Muitos dados interessantes ou importantes estão disponíveis na forma de tabela. A capacidade de manipular planilhas foi determinante no sucesso dos computadores pessoais, dada sua importância para empresas e indivíduos.\n",
        "\n",
        "Aprenderemos a manipular dados utilizando um dos formatos de planilha mais amplamente utilizados na _web_: o formato CSV. Mas antes, como podemos representar tabelas em Python?\n",
        "\n",
        "## Tabelas em Python\n",
        "Conforme já mencionamos, temos módulos prontos para realizar muitas tarefas para nós. Um dos módulos mais populares em Python é o _pandas_, que mesmo não vindo instalado por padrão é provavelmente o módulo mais usado para manipular planilhas. Porém, como este é um curso introdutório, convém entendermos um pouquinho de lógica de como manipular uma tabela para futuramente sermos capazes de trabalhar corretamente com os módulos prontos.\n",
        "\n",
        "Uma das formas mais simples de se representar uma tabela em Python seria através de uma lista de listas. Nossa lista principal seria a tabela como um todo, e cada lista interna seria uma linha da tabela.\n",
        "\n",
        "Para acessar um elemento individual, utilizamos 2 índices: o primeiro indica a lista interna (linha) e o segundo o elemento individual na lista (coluna). Para percorrer a tabela inteira, utilizamos 2 _for_ aninhados: o mais externo fixa uma linha e o mais interno percorre cada elemento daquela linha."
      ]
    },
    {
      "cell_type": "code",
      "source": [
        "csv\n",
        "comma separated values\n",
        "\n",
        "nome | idade\n",
        "theo | 50\n",
        "\n",
        "nome,idade\n",
        "theo,50"
      ],
      "metadata": {
        "id": "8GAHsD4kb3-0"
      },
      "execution_count": null,
      "outputs": []
    },
    {
      "cell_type": "code",
      "source": [
        "import pandas as pd\n",
        "pd.DataFrame([[\"aluno\",\"nota1\",'nota2',\"presenças\"],['luke',7,9,15]] )"
      ],
      "metadata": {
        "id": "MFwAbMFFb4Fc",
        "colab": {
          "base_uri": "https://localhost:8080/",
          "height": 112
        },
        "outputId": "f3b65ee1-c110-48c3-96ff-eebd52112d18"
      },
      "execution_count": null,
      "outputs": [
        {
          "output_type": "execute_result",
          "data": {
            "text/plain": [
              "       0      1      2          3\n",
              "0  aluno  nota1  nota2  presenças\n",
              "1   luke      7      9         15"
            ],
            "text/html": [
              "\n",
              "  <div id=\"df-c73f0094-da22-49fb-b7d8-e5da5cd3118a\" class=\"colab-df-container\">\n",
              "    <div>\n",
              "<style scoped>\n",
              "    .dataframe tbody tr th:only-of-type {\n",
              "        vertical-align: middle;\n",
              "    }\n",
              "\n",
              "    .dataframe tbody tr th {\n",
              "        vertical-align: top;\n",
              "    }\n",
              "\n",
              "    .dataframe thead th {\n",
              "        text-align: right;\n",
              "    }\n",
              "</style>\n",
              "<table border=\"1\" class=\"dataframe\">\n",
              "  <thead>\n",
              "    <tr style=\"text-align: right;\">\n",
              "      <th></th>\n",
              "      <th>0</th>\n",
              "      <th>1</th>\n",
              "      <th>2</th>\n",
              "      <th>3</th>\n",
              "    </tr>\n",
              "  </thead>\n",
              "  <tbody>\n",
              "    <tr>\n",
              "      <th>0</th>\n",
              "      <td>aluno</td>\n",
              "      <td>nota1</td>\n",
              "      <td>nota2</td>\n",
              "      <td>presenças</td>\n",
              "    </tr>\n",
              "    <tr>\n",
              "      <th>1</th>\n",
              "      <td>luke</td>\n",
              "      <td>7</td>\n",
              "      <td>9</td>\n",
              "      <td>15</td>\n",
              "    </tr>\n",
              "  </tbody>\n",
              "</table>\n",
              "</div>\n",
              "    <div class=\"colab-df-buttons\">\n",
              "\n",
              "  <div class=\"colab-df-container\">\n",
              "    <button class=\"colab-df-convert\" onclick=\"convertToInteractive('df-c73f0094-da22-49fb-b7d8-e5da5cd3118a')\"\n",
              "            title=\"Convert this dataframe to an interactive table.\"\n",
              "            style=\"display:none;\">\n",
              "\n",
              "  <svg xmlns=\"http://www.w3.org/2000/svg\" height=\"24px\" viewBox=\"0 -960 960 960\">\n",
              "    <path d=\"M120-120v-720h720v720H120Zm60-500h600v-160H180v160Zm220 220h160v-160H400v160Zm0 220h160v-160H400v160ZM180-400h160v-160H180v160Zm440 0h160v-160H620v160ZM180-180h160v-160H180v160Zm440 0h160v-160H620v160Z\"/>\n",
              "  </svg>\n",
              "    </button>\n",
              "\n",
              "  <style>\n",
              "    .colab-df-container {\n",
              "      display:flex;\n",
              "      gap: 12px;\n",
              "    }\n",
              "\n",
              "    .colab-df-convert {\n",
              "      background-color: #E8F0FE;\n",
              "      border: none;\n",
              "      border-radius: 50%;\n",
              "      cursor: pointer;\n",
              "      display: none;\n",
              "      fill: #1967D2;\n",
              "      height: 32px;\n",
              "      padding: 0 0 0 0;\n",
              "      width: 32px;\n",
              "    }\n",
              "\n",
              "    .colab-df-convert:hover {\n",
              "      background-color: #E2EBFA;\n",
              "      box-shadow: 0px 1px 2px rgba(60, 64, 67, 0.3), 0px 1px 3px 1px rgba(60, 64, 67, 0.15);\n",
              "      fill: #174EA6;\n",
              "    }\n",
              "\n",
              "    .colab-df-buttons div {\n",
              "      margin-bottom: 4px;\n",
              "    }\n",
              "\n",
              "    [theme=dark] .colab-df-convert {\n",
              "      background-color: #3B4455;\n",
              "      fill: #D2E3FC;\n",
              "    }\n",
              "\n",
              "    [theme=dark] .colab-df-convert:hover {\n",
              "      background-color: #434B5C;\n",
              "      box-shadow: 0px 1px 3px 1px rgba(0, 0, 0, 0.15);\n",
              "      filter: drop-shadow(0px 1px 2px rgba(0, 0, 0, 0.3));\n",
              "      fill: #FFFFFF;\n",
              "    }\n",
              "  </style>\n",
              "\n",
              "    <script>\n",
              "      const buttonEl =\n",
              "        document.querySelector('#df-c73f0094-da22-49fb-b7d8-e5da5cd3118a button.colab-df-convert');\n",
              "      buttonEl.style.display =\n",
              "        google.colab.kernel.accessAllowed ? 'block' : 'none';\n",
              "\n",
              "      async function convertToInteractive(key) {\n",
              "        const element = document.querySelector('#df-c73f0094-da22-49fb-b7d8-e5da5cd3118a');\n",
              "        const dataTable =\n",
              "          await google.colab.kernel.invokeFunction('convertToInteractive',\n",
              "                                                    [key], {});\n",
              "        if (!dataTable) return;\n",
              "\n",
              "        const docLinkHtml = 'Like what you see? Visit the ' +\n",
              "          '<a target=\"_blank\" href=https://colab.research.google.com/notebooks/data_table.ipynb>data table notebook</a>'\n",
              "          + ' to learn more about interactive tables.';\n",
              "        element.innerHTML = '';\n",
              "        dataTable['output_type'] = 'display_data';\n",
              "        await google.colab.output.renderOutput(dataTable, element);\n",
              "        const docLink = document.createElement('div');\n",
              "        docLink.innerHTML = docLinkHtml;\n",
              "        element.appendChild(docLink);\n",
              "      }\n",
              "    </script>\n",
              "  </div>\n",
              "\n",
              "\n",
              "<div id=\"df-8f8b1eeb-9cce-432e-b7fa-793de39bdfb3\">\n",
              "  <button class=\"colab-df-quickchart\" onclick=\"quickchart('df-8f8b1eeb-9cce-432e-b7fa-793de39bdfb3')\"\n",
              "            title=\"Suggest charts\"\n",
              "            style=\"display:none;\">\n",
              "\n",
              "<svg xmlns=\"http://www.w3.org/2000/svg\" height=\"24px\"viewBox=\"0 0 24 24\"\n",
              "     width=\"24px\">\n",
              "    <g>\n",
              "        <path d=\"M19 3H5c-1.1 0-2 .9-2 2v14c0 1.1.9 2 2 2h14c1.1 0 2-.9 2-2V5c0-1.1-.9-2-2-2zM9 17H7v-7h2v7zm4 0h-2V7h2v10zm4 0h-2v-4h2v4z\"/>\n",
              "    </g>\n",
              "</svg>\n",
              "  </button>\n",
              "\n",
              "<style>\n",
              "  .colab-df-quickchart {\n",
              "      --bg-color: #E8F0FE;\n",
              "      --fill-color: #1967D2;\n",
              "      --hover-bg-color: #E2EBFA;\n",
              "      --hover-fill-color: #174EA6;\n",
              "      --disabled-fill-color: #AAA;\n",
              "      --disabled-bg-color: #DDD;\n",
              "  }\n",
              "\n",
              "  [theme=dark] .colab-df-quickchart {\n",
              "      --bg-color: #3B4455;\n",
              "      --fill-color: #D2E3FC;\n",
              "      --hover-bg-color: #434B5C;\n",
              "      --hover-fill-color: #FFFFFF;\n",
              "      --disabled-bg-color: #3B4455;\n",
              "      --disabled-fill-color: #666;\n",
              "  }\n",
              "\n",
              "  .colab-df-quickchart {\n",
              "    background-color: var(--bg-color);\n",
              "    border: none;\n",
              "    border-radius: 50%;\n",
              "    cursor: pointer;\n",
              "    display: none;\n",
              "    fill: var(--fill-color);\n",
              "    height: 32px;\n",
              "    padding: 0;\n",
              "    width: 32px;\n",
              "  }\n",
              "\n",
              "  .colab-df-quickchart:hover {\n",
              "    background-color: var(--hover-bg-color);\n",
              "    box-shadow: 0 1px 2px rgba(60, 64, 67, 0.3), 0 1px 3px 1px rgba(60, 64, 67, 0.15);\n",
              "    fill: var(--button-hover-fill-color);\n",
              "  }\n",
              "\n",
              "  .colab-df-quickchart-complete:disabled,\n",
              "  .colab-df-quickchart-complete:disabled:hover {\n",
              "    background-color: var(--disabled-bg-color);\n",
              "    fill: var(--disabled-fill-color);\n",
              "    box-shadow: none;\n",
              "  }\n",
              "\n",
              "  .colab-df-spinner {\n",
              "    border: 2px solid var(--fill-color);\n",
              "    border-color: transparent;\n",
              "    border-bottom-color: var(--fill-color);\n",
              "    animation:\n",
              "      spin 1s steps(1) infinite;\n",
              "  }\n",
              "\n",
              "  @keyframes spin {\n",
              "    0% {\n",
              "      border-color: transparent;\n",
              "      border-bottom-color: var(--fill-color);\n",
              "      border-left-color: var(--fill-color);\n",
              "    }\n",
              "    20% {\n",
              "      border-color: transparent;\n",
              "      border-left-color: var(--fill-color);\n",
              "      border-top-color: var(--fill-color);\n",
              "    }\n",
              "    30% {\n",
              "      border-color: transparent;\n",
              "      border-left-color: var(--fill-color);\n",
              "      border-top-color: var(--fill-color);\n",
              "      border-right-color: var(--fill-color);\n",
              "    }\n",
              "    40% {\n",
              "      border-color: transparent;\n",
              "      border-right-color: var(--fill-color);\n",
              "      border-top-color: var(--fill-color);\n",
              "    }\n",
              "    60% {\n",
              "      border-color: transparent;\n",
              "      border-right-color: var(--fill-color);\n",
              "    }\n",
              "    80% {\n",
              "      border-color: transparent;\n",
              "      border-right-color: var(--fill-color);\n",
              "      border-bottom-color: var(--fill-color);\n",
              "    }\n",
              "    90% {\n",
              "      border-color: transparent;\n",
              "      border-bottom-color: var(--fill-color);\n",
              "    }\n",
              "  }\n",
              "</style>\n",
              "\n",
              "  <script>\n",
              "    async function quickchart(key) {\n",
              "      const quickchartButtonEl =\n",
              "        document.querySelector('#' + key + ' button');\n",
              "      quickchartButtonEl.disabled = true;  // To prevent multiple clicks.\n",
              "      quickchartButtonEl.classList.add('colab-df-spinner');\n",
              "      try {\n",
              "        const charts = await google.colab.kernel.invokeFunction(\n",
              "            'suggestCharts', [key], {});\n",
              "      } catch (error) {\n",
              "        console.error('Error during call to suggestCharts:', error);\n",
              "      }\n",
              "      quickchartButtonEl.classList.remove('colab-df-spinner');\n",
              "      quickchartButtonEl.classList.add('colab-df-quickchart-complete');\n",
              "    }\n",
              "    (() => {\n",
              "      let quickchartButtonEl =\n",
              "        document.querySelector('#df-8f8b1eeb-9cce-432e-b7fa-793de39bdfb3 button');\n",
              "      quickchartButtonEl.style.display =\n",
              "        google.colab.kernel.accessAllowed ? 'block' : 'none';\n",
              "    })();\n",
              "  </script>\n",
              "</div>\n",
              "\n",
              "    </div>\n",
              "  </div>\n"
            ]
          },
          "metadata": {},
          "execution_count": 11
        }
      ]
    },
    {
      "cell_type": "code",
      "source": [],
      "metadata": {
        "id": "L5EEnRUvb4Ma"
      },
      "execution_count": null,
      "outputs": []
    },
    {
      "cell_type": "code",
      "source": [],
      "metadata": {
        "id": "cdRT_fdvb4Vo"
      },
      "execution_count": null,
      "outputs": []
    },
    {
      "cell_type": "markdown",
      "metadata": {
        "id": "wVEYg06zyLod"
      },
      "source": [
        "## O formato CSV\n",
        "A sigla CSV significa _Comma-Separated Values_, ou \"valores separados por vírgula\". Este formato é uma forma padrão de representar tabelas usando arquivos de texto simples: cada elemento é separado por uma vírgula, e cada linha é separada por uma quebra de linha.\n",
        "\n",
        "Na prática, nem sempre o padrão é seguido à risca: podemos utilizar outros símbolos para fazer a separação. Um bom motivo é o fato de a vírgula ser utilizada para representar casa decimal em algumas línguas, como a língua portuguesa. O importante é ser coerente: todos os elementos deverão ser separados pelo mesmo símbolo, e todas as linhas deverão ter o mesmo número de elementos.\n",
        "\n",
        "Caso queira fazer depois: Cole o texto abaixo em um editor de texto puro (como o Bloco de Notas, no Windows) e salve-o com a extensão .csv.\n",
        "\n",
        "```\n",
        "Aluno;Nota 1;Nota 2;Presenças\n",
        "Luke;7;9;15\n",
        "Han;4;7;10\n",
        "Leia;9;9;16\n",
        "```\n",
        "\n",
        "Caso você tenha um editor de planilha instalado, como o Excel, é provável que o ícone representando o arquivo seja o ícone do editor de planilhas, e não de um arquivo de texto. Abra-o com seu editor de planilha e observe como ele interpreta corretamente os dados!\n",
        "\n",
        "Devido ao fato de ser um formato aberto (ou seja, não é necessário pagar por propriedade intelectual para usar) e ser muito fácil de manipular, diversos programas diferentes possuem a opção de importar ou exportar dados em CSV, e diversas bases de dados na _web_ fornecem a opção de baixar os dados neste formato.\n",
        "\n",
        "## O módulo CSV em Python\n",
        "Devido à facilidade de trabalhar com arquivos CSV, com o que vimos sobre arquivos até o momento já conseguimos facilmente escrever um programinha que escreva uma planilha (representada como lista de listas) em um arquivo CSV. Da mesma forma, utilizando as funções que vimos de _strings_, conseguimos abrir um arquivo CSV e adequadamente reconhecer seus elementos (dica: _split_).\n",
        "\n",
        "Porém, como mencionamos antes, o Python possui muita coisa pronta, então não precisamos constantemente reinventar a roda. Existe um módulo chamado _csv_ que já vem instalado com o Python. Ele já faz sozinho o serviço bruto de transformar nossa lista de listas em um texto separado por símbolos e vice-versa."
      ]
    },
    {
      "cell_type": "markdown",
      "source": [
        "\n",
        "### Escrevendo um CSV\n",
        "Para escrever um CSV utilizando o módulo, precisamos ter nossos dados representados como uma lista de listas. Criaremos (ou abriremos) um arquivo usando o _open_, como já fizemos antes, e utilizaremos um _CSV writer_ - uma estrutura que guardará as regrinhas para escrever nosso CSV. Execute o exemplo abaixo:"
      ],
      "metadata": {
        "id": "vzfkE5bRelEG"
      }
    },
    {
      "cell_type": "code",
      "source": [
        "import csv\n",
        "\n",
        "tabela = [['Aluno','Nota1','Nota2','Presenças'], ['Luke',7,9,15] , ['Han',4,7,10] , ['Leia',9,9,16]]\n",
        "\n",
        "arquivo = open(\"alunos.csv\", 'w')\n",
        "\n",
        "escritor = csv.writer(arquivo,delimiter=';', lineterminator='\\n')\n",
        "escritor.writerows(tabela)\n",
        "\n",
        "\n",
        "arquivo.close()"
      ],
      "metadata": {
        "id": "YV2PALsUb77J"
      },
      "execution_count": null,
      "outputs": []
    },
    {
      "cell_type": "markdown",
      "metadata": {
        "id": "0vkpQZWyyLod"
      },
      "source": [
        "Após executar o programa acima, deve ter surgido um programa _alunos.csv_ na mesma pasta, e seu editor de planilhas provavelmente o reconhece com sucesso. Se você abri-lo com um editor de texto puro, verá os dados separados por **;** igualzinho ao arquivo que criamos manualmente antes.\n",
        "\n",
        "### Lendo um CSV\n",
        "O processo para ler o CSV é semelhante: utilizamos um _CSV reader_, com os mesmos parâmetros utilizados no _CSV writer_. A função _csv.reader_ já retorna para nós uma estrutura iterável (ou seja, que pode ser percorrida com _for_) contendo cada linha já organizada como lista."
      ]
    },
    {
      "cell_type": "code",
      "source": [
        "import csv\n",
        "\n",
        "arquivo = open(\"alunos.csv\", 'r')\n",
        "\n",
        "planilha = csv.reader(arquivo,delimiter=';', lineterminator='\\n')\n",
        "for linha in planilha:\n",
        "  print(linha)\n",
        "\n",
        "arquivo.close()"
      ],
      "metadata": {
        "id": "jE1iy-lDb8_5",
        "colab": {
          "base_uri": "https://localhost:8080/"
        },
        "outputId": "0279da43-1c9a-4208-92a0-01fb59c3447c"
      },
      "execution_count": null,
      "outputs": [
        {
          "output_type": "stream",
          "name": "stdout",
          "text": [
            "['Aluno', 'Nota1', 'Nota2', 'Presenças']\n",
            "['Luke', '7', '9', '15']\n",
            "['Han', '4', '7', '10']\n",
            "['Leia', '9', '9', '16']\n"
          ]
        }
      ]
    },
    {
      "cell_type": "markdown",
      "metadata": {
        "id": "9B3MdTSFyLoe"
      },
      "source": [
        "Note que a estrutura **não é** uma lista, mas um objeto iterável. Vejamos o que acontece se tentarmos imprimi-lo diretamente:"
      ]
    },
    {
      "cell_type": "code",
      "source": [
        "import csv\n",
        "\n",
        "arquivo = open(\"alunos.csv\", 'r')\n",
        "\n",
        "planilha = csv.reader(arquivo,delimiter=';', lineterminator='\\n')\n",
        "print(planilha)\n",
        "\n",
        "arquivo.close()"
      ],
      "metadata": {
        "id": "8nDqay6Eb9_T",
        "colab": {
          "base_uri": "https://localhost:8080/"
        },
        "outputId": "eddadc53-5b8a-47ec-d3f6-85e5b4609d29"
      },
      "execution_count": null,
      "outputs": [
        {
          "output_type": "stream",
          "name": "stdout",
          "text": [
            "<_csv.reader object at 0x7b67fb33adc0>\n"
          ]
        }
      ]
    },
    {
      "cell_type": "markdown",
      "metadata": {
        "id": "Gvu9JApFyLoe"
      },
      "source": [
        "Caso você precise de mais flexibilidade para trabalhar com a sua planilha - por exemplo, caso deseje editá-la, criar novas colunas etc, convém converter a estrutura para uma lista de verdade. É possível usar um ```list``` no objeto para fazer a conversão:"
      ]
    },
    {
      "cell_type": "code",
      "source": [
        "import csv\n",
        "\n",
        "arquivo = open(\"alunos.csv\", 'r')\n",
        "\n",
        "planilha = list(csv.reader(arquivo,delimiter=';', lineterminator='\\n'))\n",
        "print(planilha)\n",
        "\n",
        "arquivo.close()"
      ],
      "metadata": {
        "id": "GW8LexH5b-zV",
        "colab": {
          "base_uri": "https://localhost:8080/"
        },
        "outputId": "faf9ab91-8b4e-446e-e74e-ba0e5129c7f2"
      },
      "execution_count": null,
      "outputs": [
        {
          "output_type": "stream",
          "name": "stdout",
          "text": [
            "[['Aluno', 'Nota1', 'Nota2', 'Presenças'], ['Luke', '7', '9', '15'], ['Han', '4', '7', '10'], ['Leia', '9', '9', '16']]\n"
          ]
        }
      ]
    },
    {
      "cell_type": "code",
      "source": [
        "planilha"
      ],
      "metadata": {
        "colab": {
          "base_uri": "https://localhost:8080/"
        },
        "id": "KxGPj2Jwu5xh",
        "outputId": "00385767-33b3-49be-d194-39e6864439ec"
      },
      "execution_count": null,
      "outputs": [
        {
          "output_type": "execute_result",
          "data": {
            "text/plain": [
              "[['Aluno', 'Nota1', 'Nota2', 'Presenças'],\n",
              " ['Luke', '7', '9', '15'],\n",
              " ['Han', '4', '7', '10'],\n",
              " ['Leia', '9', '9', '16']]"
            ]
          },
          "metadata": {},
          "execution_count": 25
        }
      ]
    },
    {
      "cell_type": "markdown",
      "metadata": {
        "id": "6isqo9wSyLof"
      },
      "source": [
        "# Exercícios - parte 2\n",
        "\n",
        "Use o módulo ```csv``` recém-estudado para fazer os próximos exercícios."
      ]
    },
    {
      "cell_type": "markdown",
      "source": [
        "5) Faça um código que pede para o usuário digitar a quantidade de provas aplicadas, a quantidade de alunos em uma turma e cada uma das notas.\n",
        "\n",
        "- O seu programa deverá salvar apenas as notas digitadas em um arquivo CSV onde cada linha representa um aluno e cada coluna é uma nota da prova."
      ],
      "metadata": {
        "id": "rZY_qluJBC7w"
      }
    },
    {
      "cell_type": "code",
      "source": [
        "# quantidade_provas = int(input(\"Digite a quantidade de provas aplicadas: \"))\n",
        "# quantidade_alunos = int(input(\"Digite a quantidade de alunos: \"))\n",
        "\n",
        "quantidade_provas = 2\n",
        "quantidade_alunos  = 3\n",
        "\n",
        "todas_notas_alunos = [] # [[9,9,10],[8,7,9]]\n",
        "\n",
        "for aluno in range(quantidade_alunos):\n",
        "  print(aluno)\n",
        "  notas_aluno = [] # [9,9,10]\n",
        "  for prova in range(quantidade_provas):\n",
        "    nota = float(input(f\"cadastre a nota da prova de número {prova} do aluno de número {aluno}\"))\n",
        "    notas_aluno.append(nota)\n",
        "  todas_notas_alunos.append(notas_aluno)\n",
        "\n",
        "todas_notas_alunos\n"
      ],
      "metadata": {
        "id": "R6mv_swzcAL1",
        "colab": {
          "base_uri": "https://localhost:8080/"
        },
        "outputId": "a620499c-a07b-43cb-a57d-951bf05001d0"
      },
      "execution_count": null,
      "outputs": [
        {
          "name": "stdout",
          "output_type": "stream",
          "text": [
            "0\n",
            "cadastre a nota da prova de número 0 do aluno de número 010\n",
            "cadastre a nota da prova de número 1 do aluno de número 09\n",
            "1\n",
            "cadastre a nota da prova de número 0 do aluno de número 18\n",
            "cadastre a nota da prova de número 1 do aluno de número 17\n",
            "2\n",
            "cadastre a nota da prova de número 0 do aluno de número 26\n",
            "cadastre a nota da prova de número 1 do aluno de número 25\n"
          ]
        },
        {
          "output_type": "execute_result",
          "data": {
            "text/plain": [
              "[[10.0, 9.0], [8.0, 7.0], [6.0, 5.0]]"
            ]
          },
          "metadata": {},
          "execution_count": 38
        }
      ]
    },
    {
      "cell_type": "code",
      "source": [
        "arquivo = open(\"notas.csv\", \"w\")\n",
        "escritor = csv.writer(arquivo,delimiter=\",\",lineterminator=\"\\n\")\n",
        "escritor.writerows(todas_notas_alunos)\n",
        "arquivo.close()"
      ],
      "metadata": {
        "id": "YjZ_OClW2faB"
      },
      "execution_count": null,
      "outputs": []
    },
    {
      "cell_type": "code",
      "source": [
        "alunos = int(input('Digite a quantidade de alunos na turma: '))\n",
        "provas = int(input('Digite a quantidade de provas aplicadas: '))\n",
        "\n",
        "dic_notas = {}\n",
        "for aluno in range (1, alunos + 1):\n",
        "    print(f'Notas do {aluno}º aluno: ')\n",
        "    notas = []\n",
        "\n",
        "    for prova in range(1, provas +1):\n",
        "        nota= float(input(f'Digite a nota do {prova}º prova: '))\n",
        "        notas.append(nota)\n",
        "\n",
        "    print(f'Notas do {aluno}º aluno: {notas}.')\n",
        "    dic_notas[f'Aluno{aluno}'] = notas\n",
        "\n",
        "dic_notas\n",
        "\n",
        "# {'aluno 0' : [1,3,4,6]}"
      ],
      "metadata": {
        "colab": {
          "base_uri": "https://localhost:8080/"
        },
        "id": "z5kgYE0T9vdp",
        "outputId": "909f95f6-3a78-4ac9-f628-2a943aa00a6c"
      },
      "execution_count": null,
      "outputs": [
        {
          "output_type": "stream",
          "name": "stdout",
          "text": [
            "Digite a quantidade de alunos na turma: 2\n",
            "Digite a quantidade de provas aplicadas: 1\n",
            "Notas do 1º aluno: \n",
            "Digite a nota do 1º prova: 9\n",
            "Notas do 1º aluno: [9.0].\n",
            "Notas do 2º aluno: \n",
            "Digite a nota do 1º prova: 10\n",
            "Notas do 2º aluno: [10.0].\n"
          ]
        },
        {
          "output_type": "execute_result",
          "data": {
            "text/plain": [
              "{'Aluno1': [9.0], 'Aluno2': [10.0]}"
            ]
          },
          "metadata": {},
          "execution_count": 40
        }
      ]
    },
    {
      "cell_type": "code",
      "source": [
        "csv.DictWriter()\n"
      ],
      "metadata": {
        "id": "VYMhKtsP-u2O"
      },
      "execution_count": null,
      "outputs": []
    },
    {
      "cell_type": "markdown",
      "metadata": {
        "id": "n_L7ckCwyLof"
      },
      "source": [
        "6) Faça um programa que carrega um arquivo CSV de notas (como o gerado pelo exercício anterior) e pede para o usuário digitar a nota mínima para aprovação. Ele deverá gerar um novo arquivo contendo as notas originais e 2 colunas adicionais: A média de cada aluno na primeira (com 2 casas decimais) e \"APR\" ou \"REP\" na segunda, indicando se a média atingiu o valor mínimo ou não.\n",
        "\n",
        "- Para arredondar, pode utilizar a função round()"
      ]
    },
    {
      "cell_type": "code",
      "source": [
        "round(3.1415,2)"
      ],
      "metadata": {
        "id": "7T2wTJXgcBQh",
        "colab": {
          "base_uri": "https://localhost:8080/"
        },
        "outputId": "be75c801-f0c3-4741-e6b5-a754e0c9aeb4"
      },
      "execution_count": null,
      "outputs": [
        {
          "output_type": "execute_result",
          "data": {
            "text/plain": [
              "3.14"
            ]
          },
          "metadata": {},
          "execution_count": 28
        }
      ]
    },
    {
      "cell_type": "code",
      "source": [
        "import csv\n",
        "\n",
        "arquivo = open('notas.csv', 'r')\n",
        "leitor = csv.reader(arquivo, delimiter=',', lineterminator='\\n')\n",
        "\n",
        "tabela_notas_alunos = []\n",
        "for linha in leitor:\n",
        "  tabela_notas_alunos.append(list(map(float,linha)))\n",
        "\n",
        "\n",
        "\n",
        "\n",
        "arquivo.close()\n"
      ],
      "metadata": {
        "id": "PGkSeVHR-x2d"
      },
      "execution_count": null,
      "outputs": []
    },
    {
      "cell_type": "code",
      "source": [
        "tabela_notas_alunos"
      ],
      "metadata": {
        "colab": {
          "base_uri": "https://localhost:8080/"
        },
        "id": "rPk4d5q8_bwl",
        "outputId": "d1ce63fd-75a0-4432-d98a-7cdc534d2353"
      },
      "execution_count": null,
      "outputs": [
        {
          "output_type": "execute_result",
          "data": {
            "text/plain": [
              "[[10.0, 9.0], [8.0, 7.0], [6.0, 5.0]]"
            ]
          },
          "metadata": {},
          "execution_count": 52
        }
      ]
    },
    {
      "cell_type": "code",
      "source": [
        "nota_minima = float(input(\"digite a nota mínima para aprovação\"))\n",
        "\n",
        "\n",
        "for aluno in tabela_notas_alunos:\n",
        "  soma = 0\n",
        "  for nota in aluno:\n",
        "    soma += nota\n",
        "  media = round(soma/len(aluno),2)\n",
        "  print(media)\n",
        "  aluno.append(media)\n",
        "  if media >= nota_minima:\n",
        "    aluno.append(\"APR\")\n",
        "  else:\n",
        "    aluno.append(\"REP\")\n",
        "\n",
        "\n",
        "print(tabela_notas_alunos)\n",
        "\n",
        "  # sum(aluno) / len(aluno)\n",
        "\n",
        "\n",
        "\n",
        "# agora criamos o arquivo e populamos ele com a variavel tabela_notas_alunos\n",
        "arquivo = open(\"resultado_notas.csv\", \"w\")\n",
        "escritor = csv.writer(arquivo,delimiter=',', lineterminator=\"\\n\")\n",
        "\n",
        "escritor.writerows(tabela_notas_alunos)\n",
        "\n",
        "arquivo.close()\n",
        "\n"
      ],
      "metadata": {
        "colab": {
          "base_uri": "https://localhost:8080/"
        },
        "id": "yfQt3U0k_iy8",
        "outputId": "aeec0685-c31a-4a1c-c23d-ef7dcf6448a2"
      },
      "execution_count": null,
      "outputs": [
        {
          "output_type": "stream",
          "name": "stdout",
          "text": [
            "digite a nota mínima para aprovação8\n",
            "9.5\n",
            "7.5\n",
            "5.5\n",
            "[[10.0, 9.0, 9.5, 'APR'], [8.0, 7.0, 7.5, 'REP'], [6.0, 5.0, 5.5, 'REP']]\n"
          ]
        }
      ]
    },
    {
      "cell_type": "markdown",
      "metadata": {
        "id": "u5f_eL-tyLog"
      },
      "source": [
        "# Bônus: arquivos JSON\n",
        "\n",
        "JSON é uma sigla para _JavaScript Object Notation_. O _JavaScript_ é uma linguagem muito utilizada em web, e assim como o Python, ela é uma linguagem orientada a objeto. Ocorre que a forma como objetos são representados nessa linguagem é bastante legível para seres humanos e fácil de decompor usando programação também.\n",
        "\n",
        "Veja um exemplo de como podemos representar, por exemplo, um estudante em JavaScript:\n",
        "\n",
        "```\n",
        "{\n",
        "    nome: 'Mario',\n",
        "    modulo: 2,\n",
        "    media: 9.5\n",
        "}\n",
        "```\n",
        "\n",
        "Parece familiar? É extremamente parecido com dicionários em Python. O Python possui um módulo já instalado chamado ```json``` que nos ajuda a converter entre uma _string_ contendo um JSON e um dicionário.\n",
        "\n",
        "> **Atenção:** No caso do JSON faremos *exatamente* como nos dicionários em Python: as chaves deverão vir entre aspas.\n",
        "\n",
        "Os valores de um JSON podem ser vários tipos de dados que estamos acostumados em Python: inteiros, reais, _strings_, booleanos, e até mesmo listas (representadas com colchetes) e outros JSON/dicionários (representados por chaves). Por exemplo:\n",
        "\n",
        "```\n",
        "{\n",
        "    'escola':\"Let's Code\",\n",
        "    'cursos':[{'nome':'Python Pro', 'duracao':2},\n",
        "            {'nome':'Data Science', 'duracao':2},\n",
        "            {'nome':'Front-End', 'duracao':2}]\n",
        "}\n",
        "```\n",
        "\n",
        "### JSON para dicionário\n",
        "O método ```loads``` recebe uma _string_ contendo um JSON e retorna um dicionário, o que torna bastante fácil o acesso a informações individuais:"
      ]
    },
    {
      "cell_type": "code",
      "source": [
        "import json\n",
        "\n",
        "jogador = '{\"nome\":\"Mario\",\"pontuacao\":0}'\n",
        "\n",
        "dicionario = json.loads(jogador)\n",
        "\n",
        "print(dicionario['nome'])\n",
        "print(dicionario['pontuacao'])"
      ],
      "metadata": {
        "id": "ssyGUikQcN-p",
        "colab": {
          "base_uri": "https://localhost:8080/"
        },
        "outputId": "0cb04ff6-534a-4657-b2b4-5627427ce1bc"
      },
      "execution_count": null,
      "outputs": [
        {
          "output_type": "stream",
          "name": "stdout",
          "text": [
            "Mario\n",
            "0\n"
          ]
        }
      ]
    },
    {
      "cell_type": "markdown",
      "metadata": {
        "id": "4AlKqBxEyLog"
      },
      "source": [
        "### Dicionário para JSON\n",
        "Já o método ```dumps``` recebe um dicionário e retorna uma _string_ pronta para ser salva ou enviada como JSON:"
      ]
    },
    {
      "cell_type": "code",
      "source": [
        "import json\n",
        "\n",
        "jogador = dict()\n",
        "jogador[\"nome\"]  = \"Mario\"\n",
        "jogador[\"pontuacao\"] = 0\n",
        "\n",
        "string_json = json.dumps(jogador)\n",
        "\n",
        "print(string_json)"
      ],
      "metadata": {
        "id": "XwQ1tVYIcPMe",
        "colab": {
          "base_uri": "https://localhost:8080/"
        },
        "outputId": "d8e9da14-a2ff-4741-c2a3-3fbfbe882e13"
      },
      "execution_count": null,
      "outputs": [
        {
          "output_type": "stream",
          "name": "stdout",
          "text": [
            "{\"nome\": \"Mario\", \"pontuacao\": 0}\n"
          ]
        }
      ]
    },
    {
      "cell_type": "code",
      "source": [
        "print(type(string_json), type(jogador))"
      ],
      "metadata": {
        "id": "2zRRuQPUcQgf",
        "colab": {
          "base_uri": "https://localhost:8080/"
        },
        "outputId": "9b9caf66-9cd0-4894-bd5c-04724c2ea4e6"
      },
      "execution_count": null,
      "outputs": [
        {
          "output_type": "stream",
          "name": "stdout",
          "text": [
            "<class 'str'> <class 'dict'>\n"
          ]
        }
      ]
    },
    {
      "cell_type": "code",
      "source": [
        "string_json['nome']"
      ],
      "metadata": {
        "colab": {
          "base_uri": "https://localhost:8080/",
          "height": 176
        },
        "id": "TjmRU4EJEWeR",
        "outputId": "e343a50c-2810-4d51-908b-0006475aae48"
      },
      "execution_count": null,
      "outputs": [
        {
          "output_type": "error",
          "ename": "TypeError",
          "evalue": "string indices must be integers",
          "traceback": [
            "\u001b[0;31m---------------------------------------------------------------------------\u001b[0m",
            "\u001b[0;31mTypeError\u001b[0m                                 Traceback (most recent call last)",
            "\u001b[0;32m<ipython-input-57-b2815135a2ad>\u001b[0m in \u001b[0;36m<cell line: 1>\u001b[0;34m()\u001b[0m\n\u001b[0;32m----> 1\u001b[0;31m \u001b[0mstring_json\u001b[0m\u001b[0;34m[\u001b[0m\u001b[0;34m'nome'\u001b[0m\u001b[0;34m]\u001b[0m\u001b[0;34m\u001b[0m\u001b[0;34m\u001b[0m\u001b[0m\n\u001b[0m",
            "\u001b[0;31mTypeError\u001b[0m: string indices must be integers"
          ]
        }
      ]
    },
    {
      "cell_type": "markdown",
      "source": [
        "Por que deu erro?"
      ],
      "metadata": {
        "id": "UfuN-yDKhM4G"
      }
    },
    {
      "cell_type": "code",
      "source": [
        "jogador['nome'] # jogador é um dicionário. e string_json é uma string"
      ],
      "metadata": {
        "id": "f1bh_xFlcReW",
        "colab": {
          "base_uri": "https://localhost:8080/",
          "height": 35
        },
        "outputId": "b469d36e-1afb-4476-c4b9-0fcba86e3838"
      },
      "execution_count": null,
      "outputs": [
        {
          "output_type": "execute_result",
          "data": {
            "text/plain": [
              "'Mario'"
            ],
            "application/vnd.google.colaboratory.intrinsic+json": {
              "type": "string"
            }
          },
          "metadata": {},
          "execution_count": 58
        }
      ]
    },
    {
      "cell_type": "markdown",
      "metadata": {
        "id": "qLlGddyDyLoh"
      },
      "source": [
        "### E os arquivos?\n",
        "\n",
        "Arquivos JSON, assim como CSV, são arquivos de texto puro onde o texto deve representar a estrutura dada acima. Sendo assim, caso você tenha um arquivo ```.json```, você pode abri-lo usando as mesmas técnicas que estudamos para arquivos de texto (```open```/```read```) e em seguida usar o ```loads``` para obter um dicionário.\n",
        "\n",
        "Já quando temos um dicionário que gostaríamos de salvar como um ```.json```, basta usar o ```dumps``` para obter a string, e em seguida podemos utilizar ```write``` no arquivo desejado."
      ]
    },
    {
      "cell_type": "code",
      "source": [
        "arquivo = open(\"arquivo_json.json\", \"w\")\n",
        "arquivo.write(string_json)\n",
        "arquivo.close()"
      ],
      "metadata": {
        "id": "A7yti5rXcS5C"
      },
      "execution_count": null,
      "outputs": []
    },
    {
      "cell_type": "code",
      "source": [
        "import json\n",
        "\n",
        "arquivo = open(\"arquivo_json.json\", \"r\")\n",
        "conteudo = arquivo.read()\n",
        "\n",
        "dicionario = json.loads(conteudo)\n",
        "print(dicionario.items())\n",
        "arquivo.close()"
      ],
      "metadata": {
        "id": "c0I2cX_mcS8u",
        "colab": {
          "base_uri": "https://localhost:8080/"
        },
        "outputId": "370b672b-9e53-4896-e61c-849d0ff4d8c5"
      },
      "execution_count": null,
      "outputs": [
        {
          "output_type": "stream",
          "name": "stdout",
          "text": [
            "dict_items([('nome', 'Mario'), ('pontuacao', 0)])\n"
          ]
        }
      ]
    },
    {
      "cell_type": "code",
      "source": [],
      "metadata": {
        "id": "9QYrY0oREuwW"
      },
      "execution_count": null,
      "outputs": []
    }
  ],
  "metadata": {
    "interpreter": {
      "hash": "ad2bdc8ecc057115af97d19610ffacc2b4e99fae6737bb82f5d7fb13d2f2c186"
    },
    "kernelspec": {
      "display_name": "Python 3.9.7 ('base')",
      "language": "python",
      "name": "python3"
    },
    "language_info": {
      "codemirror_mode": {
        "name": "ipython",
        "version": 3
      },
      "file_extension": ".py",
      "mimetype": "text/x-python",
      "name": "python",
      "nbconvert_exporter": "python",
      "pygments_lexer": "ipython3",
      "version": "3.9.7"
    },
    "orig_nbformat": 4,
    "colab": {
      "provenance": []
    }
  },
  "nbformat": 4,
  "nbformat_minor": 0
}