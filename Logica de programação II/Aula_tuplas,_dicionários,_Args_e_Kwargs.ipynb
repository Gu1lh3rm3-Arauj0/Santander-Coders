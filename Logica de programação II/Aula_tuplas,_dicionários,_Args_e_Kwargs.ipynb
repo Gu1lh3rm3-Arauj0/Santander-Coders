{
  "cells": [
    {
      "cell_type": "markdown",
      "source": [
        "O que vamos ver hoje (08/janeiro)\n",
        "- introdução inicial\n",
        " - me apresentar\n",
        "- conhecer um pouco mais sobre vocês e expectativas com o curso\n",
        "- ementa de lógica de programação II\n",
        " - Dicionários e Tuplas\n",
        " - Funções (introdução, parâmetros default, args e kwargs)\n",
        " - Funções lambda/map/reduce/filter\n",
        " - List e dict e comprehension\n",
        " - Manipulação de arquivos\n",
        " - Tratamento de exceções\n",
        "- overview lms.ada.tech\n",
        " - como funciona a chamada\n",
        "\n",
        "---\n",
        "\n",
        "- casos de dificuldade de entrar na aula\n",
        "- relembrar primeira aula\n",
        "- presença do Thiago Melo do time pedagógico\n",
        "\n",
        "\n",
        "- como é a dinâmica da aula\n",
        " - teoria\n",
        " - prática\n",
        " - drive > google docs com conteúdo\n",
        "\n",
        "\n",
        "- tuplas e dicionários\n",
        "\n",
        "\n",
        "\n",
        "\n",
        "\n"
      ],
      "metadata": {
        "id": "GOiUHbZjjaq1"
      }
    },
    {
      "cell_type": "markdown",
      "metadata": {
        "id": "UgTcm1JsV6Tz"
      },
      "source": [
        "# Estrutura de Dados\n",
        "\n",
        "Hoje aprenderemos novas maneiras de armazenar e esturar nossos dados."
      ]
    },
    {
      "cell_type": "markdown",
      "metadata": {
        "id": "RJySzf2aV6T4"
      },
      "source": [
        "##   Tuplas: O Que São e Por Que Usar  <a class=\"anchor\" id=\"um\"></a>\n",
        "<br>"
      ]
    },
    {
      "cell_type": "markdown",
      "source": [
        "\n",
        "Tuplas podem ser pensadas como listas mas com algumas restrições:\n",
        "\n",
        "- não podemos alterar uma tupla nem em ordem, nem conteúdo.\n",
        "\n",
        "Por que deveriamos usa-las então? Velocidade e organização de código. Um programador ao ver uma tupla sabe que seu conteúdo não pode ser alterado indiscriminadamente, além disso, a capacidade de alteração numa lista exige algoritmos mais complexos e lentos, então trabalhar com tuplas nos permite maior desempenho.<br>"
      ],
      "metadata": {
        "id": "HfN16T-Xx4du"
      }
    },
    {
      "cell_type": "markdown",
      "source": [
        "As tuplas são declaradas entre parênteses, possuem algumas funções nativas semelhantes as listas, como len() e type(), e também são consultadas (slicing) da mesma maneira com os colchetes. As tuplas também aceitam dados mistos dentro de sí."
      ],
      "metadata": {
        "id": "3C0cZExR3ShK"
      }
    },
    {
      "cell_type": "code",
      "source": [
        "tupla = (\"Manga\", \"Pera\", True, 7, 0.54)\n",
        "print(tupla[1])\n",
        "print(len(tupla))\n",
        "print(type(tupla))"
      ],
      "metadata": {
        "id": "G1VRr4Js7Lua",
        "colab": {
          "base_uri": "https://localhost:8080/"
        },
        "outputId": "6fa788db-6418-4469-908b-3cda997ba382"
      },
      "execution_count": null,
      "outputs": [
        {
          "output_type": "stream",
          "name": "stdout",
          "text": [
            "Pera\n",
            "5\n",
            "<class 'tuple'>\n"
          ]
        }
      ]
    },
    {
      "cell_type": "markdown",
      "metadata": {
        "id": "GoYF8QExV6T6"
      },
      "source": [
        "Para alterarmos uma tupla, podemos, por exemplo, fazer um <i>cast</i> para listas, alterar a lista, e retornar para uma tupla.\n",
        "</div>"
      ]
    },
    {
      "cell_type": "code",
      "source": [
        "print(f\"tupla antes de alterar: {tupla}\")\n",
        "lista_auxiliar = list(tupla) # estou criando uma variável do tipo lista baseado na minha tupla\n",
        "print(lista_auxiliar)\n",
        "lista_auxiliar.append(\"alteracao na tupla\")\n",
        "tupla = tuple(lista_auxiliar)\n",
        "\n",
        "print(f\"tupla depois de alterar: {tupla}\")"
      ],
      "metadata": {
        "colab": {
          "base_uri": "https://localhost:8080/"
        },
        "id": "1mRl7XHJBtr7",
        "outputId": "841f72ad-057a-452b-85eb-7e89425c2566"
      },
      "execution_count": null,
      "outputs": [
        {
          "output_type": "stream",
          "name": "stdout",
          "text": [
            "tupla antes de alterar: ('Manga', 'Pera', True, 7, 0.54, 'alteracao na tupla')\n",
            "['Manga', 'Pera', True, 7, 0.54, 'alteracao na tupla']\n",
            "tupla depois de alterar: ('Manga', 'Pera', True, 7, 0.54, 'alteracao na tupla', 'alteracao na tupla')\n"
          ]
        }
      ]
    },
    {
      "cell_type": "code",
      "source": [],
      "metadata": {
        "colab": {
          "base_uri": "https://localhost:8080/"
        },
        "id": "58YT0n5BkTrF",
        "outputId": "9bd386d5-e2ee-45db-f3aa-9278270523f5"
      },
      "execution_count": null,
      "outputs": [
        {
          "output_type": "execute_result",
          "data": {
            "text/plain": [
              "(1, 2, 3, 4, 1, 2, 3, 4, 1, 2, 3, 4)"
            ]
          },
          "metadata": {},
          "execution_count": 8
        }
      ]
    },
    {
      "cell_type": "markdown",
      "metadata": {
        "id": "k6vGzLhOV6T7"
      },
      "source": [
        "Tuplas podem ser desempacotadas, isso é, desmembrar seus valores para variaveis individuais"
      ]
    },
    {
      "cell_type": "code",
      "source": [
        "a = 1\n",
        "b = 2\n",
        "c = 3"
      ],
      "metadata": {
        "id": "yhrWnHTAmPLK"
      },
      "execution_count": null,
      "outputs": []
    },
    {
      "cell_type": "code",
      "source": [
        "1,2,3"
      ],
      "metadata": {
        "colab": {
          "base_uri": "https://localhost:8080/"
        },
        "id": "NMK5DKxzmVnK",
        "outputId": "31060cd9-e7fd-4dce-b7bc-9cbb1daa2b2b"
      },
      "execution_count": null,
      "outputs": [
        {
          "output_type": "execute_result",
          "data": {
            "text/plain": [
              "(1, 2, 3)"
            ]
          },
          "metadata": {},
          "execution_count": 23
        }
      ]
    },
    {
      "cell_type": "code",
      "source": [
        "3,14"
      ],
      "metadata": {
        "colab": {
          "base_uri": "https://localhost:8080/"
        },
        "id": "GnnoFewRmae_",
        "outputId": "f3cbf146-2422-46e5-9aeb-2816b144e118"
      },
      "execution_count": null,
      "outputs": [
        {
          "output_type": "execute_result",
          "data": {
            "text/plain": [
              "(3, 14)"
            ]
          },
          "metadata": {},
          "execution_count": 24
        }
      ]
    },
    {
      "cell_type": "code",
      "source": [
        "a,b,c = 1,2,3"
      ],
      "metadata": {
        "id": "qH6UrZ9fBub9"
      },
      "execution_count": null,
      "outputs": []
    },
    {
      "cell_type": "code",
      "source": [],
      "metadata": {
        "colab": {
          "base_uri": "https://localhost:8080/"
        },
        "id": "f3hppi0sm44r",
        "outputId": "672dbb5b-9a7d-4701-f933-982c2a22d86a"
      },
      "execution_count": null,
      "outputs": [
        {
          "output_type": "execute_result",
          "data": {
            "text/plain": [
              "(1, 2, 3)"
            ]
          },
          "metadata": {},
          "execution_count": 25
        }
      ]
    },
    {
      "cell_type": "code",
      "source": [
        "a"
      ],
      "metadata": {
        "colab": {
          "base_uri": "https://localhost:8080/"
        },
        "id": "sNWFru2VmJuK",
        "outputId": "c90a28a1-d9da-4806-e79e-55a300bd0ed1"
      },
      "execution_count": null,
      "outputs": [
        {
          "output_type": "execute_result",
          "data": {
            "text/plain": [
              "1"
            ]
          },
          "metadata": {},
          "execution_count": 20
        }
      ]
    },
    {
      "cell_type": "code",
      "source": [
        "b"
      ],
      "metadata": {
        "colab": {
          "base_uri": "https://localhost:8080/"
        },
        "id": "FmUwnkB-mLgi",
        "outputId": "ffd83ebb-20cf-4594-a569-46a2746d5951"
      },
      "execution_count": null,
      "outputs": [
        {
          "output_type": "execute_result",
          "data": {
            "text/plain": [
              "2"
            ]
          },
          "metadata": {},
          "execution_count": 21
        }
      ]
    },
    {
      "cell_type": "code",
      "source": [
        "c"
      ],
      "metadata": {
        "colab": {
          "base_uri": "https://localhost:8080/"
        },
        "id": "wPQKvuttmMG1",
        "outputId": "ccaad26f-a73d-4662-bbf3-d265237e2b2c"
      },
      "execution_count": null,
      "outputs": [
        {
          "output_type": "execute_result",
          "data": {
            "text/plain": [
              "3"
            ]
          },
          "metadata": {},
          "execution_count": 22
        }
      ]
    },
    {
      "cell_type": "code",
      "source": [
        "a"
      ],
      "metadata": {
        "colab": {
          "base_uri": "https://localhost:8080/"
        },
        "id": "0RiJymvEniOS",
        "outputId": "2da3f8a4-9110-4b35-c398-04c74a005090"
      },
      "execution_count": null,
      "outputs": [
        {
          "output_type": "execute_result",
          "data": {
            "text/plain": [
              "1"
            ]
          },
          "metadata": {},
          "execution_count": 31
        }
      ]
    },
    {
      "cell_type": "code",
      "source": [
        "b"
      ],
      "metadata": {
        "colab": {
          "base_uri": "https://localhost:8080/"
        },
        "id": "2hCeu77Hnkp7",
        "outputId": "b2b9e152-e551-42a3-ae98-f9358004aac3"
      },
      "execution_count": null,
      "outputs": [
        {
          "output_type": "execute_result",
          "data": {
            "text/plain": [
              "[2, 3]"
            ]
          },
          "metadata": {},
          "execution_count": 32
        }
      ]
    },
    {
      "cell_type": "code",
      "source": [
        "c"
      ],
      "metadata": {
        "colab": {
          "base_uri": "https://localhost:8080/"
        },
        "id": "6xzUg9BGnkzO",
        "outputId": "c9d2c3a0-0349-43d6-b66c-a3334208e13d"
      },
      "execution_count": null,
      "outputs": [
        {
          "output_type": "execute_result",
          "data": {
            "text/plain": [
              "4"
            ]
          },
          "metadata": {},
          "execution_count": 33
        }
      ]
    },
    {
      "cell_type": "markdown",
      "source": [
        "Observação/lembrete:\n",
        "\n",
        "Uma outra maneira de desempacotar utilizando <b>*</b>"
      ],
      "metadata": {
        "id": "IoUGMk8i5hEX"
      }
    },
    {
      "cell_type": "code",
      "source": [
        "a,*b,c = 1,2,3,4"
      ],
      "metadata": {
        "id": "zyl_q8FsnJ33"
      },
      "execution_count": null,
      "outputs": []
    },
    {
      "cell_type": "code",
      "source": [],
      "metadata": {
        "id": "cBOdTNNZnjyF"
      },
      "execution_count": null,
      "outputs": []
    },
    {
      "cell_type": "code",
      "source": [],
      "metadata": {
        "id": "DoVbmewcBvV7"
      },
      "execution_count": null,
      "outputs": []
    },
    {
      "cell_type": "code",
      "source": [],
      "metadata": {
        "id": "j6rRctj-BvaV"
      },
      "execution_count": null,
      "outputs": []
    },
    {
      "cell_type": "code",
      "source": [],
      "metadata": {
        "id": "Qq-9totmBve3"
      },
      "execution_count": null,
      "outputs": []
    },
    {
      "cell_type": "code",
      "source": [],
      "metadata": {
        "id": "Je1ikLDwBwr_"
      },
      "execution_count": null,
      "outputs": []
    },
    {
      "cell_type": "code",
      "source": [],
      "metadata": {
        "id": "GBft-KVhBwvd"
      },
      "execution_count": null,
      "outputs": []
    },
    {
      "cell_type": "code",
      "source": [],
      "metadata": {
        "id": "OpIDjJwkBw1x"
      },
      "execution_count": null,
      "outputs": []
    },
    {
      "cell_type": "markdown",
      "source": [
        "também podemos guardar essas variáveis em uma tupla"
      ],
      "metadata": {
        "id": "ocP8lvZL6xsl"
      }
    },
    {
      "cell_type": "code",
      "source": [
        "(a,b,*c,d) = 1,2,3,4,5,6,3,4,5\n",
        "\n",
        "(1,2,3,(1293,394),393) # você pode ter uma tupla dentro de outra tupla\n",
        "\n",
        "c"
      ],
      "metadata": {
        "colab": {
          "base_uri": "https://localhost:8080/"
        },
        "id": "qGjH26agByHN",
        "outputId": "77e0dda0-f90d-4a47-8019-c2f77a4403ba"
      },
      "execution_count": null,
      "outputs": [
        {
          "output_type": "execute_result",
          "data": {
            "text/plain": [
              "[3, 4, 5, 6, 3, 4]"
            ]
          },
          "metadata": {},
          "execution_count": 39
        }
      ]
    },
    {
      "cell_type": "code",
      "source": [
        "a,*b,*c,d = 1,2,3,4,5,6,3,4,5"
      ],
      "metadata": {
        "colab": {
          "base_uri": "https://localhost:8080/",
          "height": 141
        },
        "id": "9vjDOGXgp0al",
        "outputId": "b74795cc-4efb-45ed-d1a3-dee52b32df9f"
      },
      "execution_count": null,
      "outputs": [
        {
          "output_type": "error",
          "ename": "SyntaxError",
          "evalue": "multiple starred expressions in assignment (<ipython-input-45-c89bb8851118>, line 1)",
          "traceback": [
            "\u001b[0;36m  File \u001b[0;32m\"<ipython-input-45-c89bb8851118>\"\u001b[0;36m, line \u001b[0;32m1\u001b[0m\n\u001b[0;31m    a,*b,*c,d = 1,2,3,4,5,6,3,4,5\u001b[0m\n\u001b[0m    ^\u001b[0m\n\u001b[0;31mSyntaxError\u001b[0m\u001b[0;31m:\u001b[0m multiple starred expressions in assignment\n"
          ]
        }
      ]
    },
    {
      "cell_type": "code",
      "source": [
        "tupla_com_lista = (1,[1,34],294)\n",
        "tupla_com_lista[1].append(\"novo valor\")\n",
        "tupla_com_lista"
      ],
      "metadata": {
        "colab": {
          "base_uri": "https://localhost:8080/"
        },
        "id": "h4vq3lJppEme",
        "outputId": "ffc76311-f198-4143-a19f-9a8b0c2bcdce"
      },
      "execution_count": null,
      "outputs": [
        {
          "output_type": "execute_result",
          "data": {
            "text/plain": [
              "(1, [1, 34, 'novo valor'], 294)"
            ]
          },
          "metadata": {},
          "execution_count": 43
        }
      ]
    },
    {
      "cell_type": "markdown",
      "metadata": {
        "id": "wMgBsO4HV6T9"
      },
      "source": [
        "---\n",
        "<div align=\"justify\">\n",
        "&emsp; Tuplas podem ser percorridas em loop igualmente às listas, além disso podemos concatenar tuplas com o + e multiplicar elas por inteiros usando *.\n",
        "</div>"
      ]
    },
    {
      "cell_type": "code",
      "source": [
        "tupla_1 = (\"morango\", \"pera\",\"maçã\")\n",
        "for item in tupla_1:\n",
        "  print(item)\n",
        "\n",
        "\n",
        "tupla_2 = (\"theo\", 50)\n",
        "tupla_3 = tupla_1 + tupla_2\n",
        "print(f\"tupla concatenada {tupla_3}\")\n",
        "\n",
        "print(tupla_3 * 2)"
      ],
      "metadata": {
        "colab": {
          "base_uri": "https://localhost:8080/"
        },
        "id": "-n__LaBJBzEF",
        "outputId": "fed75f1a-a930-4946-cd63-d457a7bf7517"
      },
      "execution_count": null,
      "outputs": [
        {
          "output_type": "stream",
          "name": "stdout",
          "text": [
            "morango\n",
            "pera\n",
            "maçã\n",
            "tupla concatenada ('morango', 'pera', 'maçã', 'theo', 50)\n",
            "('morango', 'pera', 'maçã', 'theo', 50, 'morango', 'pera', 'maçã', 'theo', 50)\n"
          ]
        }
      ]
    },
    {
      "cell_type": "markdown",
      "metadata": {
        "id": "0rST0-sAV6T-"
      },
      "source": [
        "As tuplas também possuem os métodos .count() e .index() que, respectivamente, contam quantos dados iguais ao que passarmos a tupla possui, e em qual <i>index</i> está o primeiro dado igual ao que passamos.\n",
        "</div>"
      ]
    },
    {
      "cell_type": "code",
      "source": [
        "tupla_1.count(\"morango\") # conta a quantidade de vezes que aparece morango como um elemento da tupla\n",
        "\n",
        "tupla_3 = ('theo', 'theo', 'morango', 'theo')\n",
        "print(tupla_3)\n",
        "tupla_3.index(\"theo\")\n"
      ],
      "metadata": {
        "colab": {
          "base_uri": "https://localhost:8080/"
        },
        "id": "4Am12lbmB0Rn",
        "outputId": "b608ff06-7185-4a98-9ec0-bbed7563a168"
      },
      "execution_count": null,
      "outputs": [
        {
          "output_type": "stream",
          "name": "stdout",
          "text": [
            "('theo', 'theo', 'morango', 'theo')\n"
          ]
        },
        {
          "output_type": "execute_result",
          "data": {
            "text/plain": [
              "0"
            ]
          },
          "metadata": {},
          "execution_count": 52
        }
      ]
    },
    {
      "cell_type": "markdown",
      "metadata": {
        "id": "sbzsYa4yV6T_"
      },
      "source": [
        "## Dicionários: Diferenças e similaridades para o seu xará mais conhecido"
      ]
    },
    {
      "cell_type": "markdown",
      "source": [
        "Dicionários também podem ser pensados analogamente a listas, mas não pensaremos mais no conceito de <i>index</i> e sim em palavras-chave. Assim como um dicionário real possui palavras e suas definições, um dicionário em Python também! Entretanto devemos nos atentar que um dicionário não pode ter duas definições para uma mesma palavra (mas pode ter uma definição única definida por uma lista!)\n",
        "<br>\n",
        "\n",
        "Dicionários são declarados entre chaves, e acessados com colchetes (usando as palavras-chave e não as <i>indexes</i>) ou com a função get() usando a palavra-chave como parâmetro. Além disso com a função keys() podemos listar todas as palavras-chave de um dado dicionário."
      ],
      "metadata": {
        "id": "8RoSjAIu_DSA"
      }
    },
    {
      "cell_type": "code",
      "source": [
        "nos dicionários de línguas sempre é palavra : significado\n",
        "nos dicionários em python a estrutura sempre é chave : valor\n"
      ],
      "metadata": {
        "id": "O2FU0ndIB3Ub"
      },
      "execution_count": null,
      "outputs": []
    },
    {
      "cell_type": "code",
      "source": [
        "lista_pessoa = [\"theo\", 55, \"tecnólogo\", \"rio de janeiro\"]\n",
        "\n",
        "\n",
        "lista_pessoa = [\"theo\", 55, 48, \"tecnólogo\", \"rio de janeiro\", \"fortaleza\"]"
      ],
      "metadata": {
        "colab": {
          "base_uri": "https://localhost:8080/"
        },
        "id": "oRL8ASI3tV1O",
        "outputId": "16a36317-5991-4e60-fcbe-bc04a30dc031"
      },
      "execution_count": null,
      "outputs": [
        {
          "output_type": "execute_result",
          "data": {
            "text/plain": [
              "['theo', 55, 'tecnólogo', 'rio de janeiro']"
            ]
          },
          "metadata": {},
          "execution_count": 54
        }
      ]
    },
    {
      "cell_type": "code",
      "source": [
        "pessoa = {\n",
        "    \"nome\":\"theo\",\n",
        "    \"idade\": 55,\n",
        "    \"nota\":48,\n",
        "    \"profissão\":\"tecnólogo\",\n",
        "    \"cidade_nascimento\": \"rio de janeiro\",\n",
        "    \"cidade atual\": \"fortaleza\"\n",
        "}\n",
        "pessoa"
      ],
      "metadata": {
        "colab": {
          "base_uri": "https://localhost:8080/"
        },
        "id": "9s35iosIB46k",
        "outputId": "9c9fe6ad-c286-4455-9776-de32d49a9b07"
      },
      "execution_count": null,
      "outputs": [
        {
          "output_type": "execute_result",
          "data": {
            "text/plain": [
              "{'nome': 'theo',\n",
              " 'idade': 55,\n",
              " 'nota': 48,\n",
              " 'profissão': 'tecnólogo',\n",
              " 'cidade_nascimento': 'rio de janeiro',\n",
              " 'cidade atual': 'fortaleza'}"
            ]
          },
          "metadata": {},
          "execution_count": 56
        }
      ]
    },
    {
      "cell_type": "code",
      "source": [
        "pessoa = {\"nome\":\"theo\", \"idade\": 55, \"profissão\":\"tecnólogo\", \"filhos\": [\"joao\",\"maria\",\"gilberto\"]}\n",
        "\n",
        "pessoa"
      ],
      "metadata": {
        "colab": {
          "base_uri": "https://localhost:8080/"
        },
        "id": "cgQzyIKzB4_d",
        "outputId": "e068cdd3-443d-4acf-ab64-f3b05645ed6d"
      },
      "execution_count": null,
      "outputs": [
        {
          "output_type": "execute_result",
          "data": {
            "text/plain": [
              "{'nome': 'theo',\n",
              " 'idade': 55,\n",
              " 'profissão': 'tecnólogo',\n",
              " 'filhos': ['joao', 'maria', 'gilberto']}"
            ]
          },
          "metadata": {},
          "execution_count": 68
        }
      ]
    },
    {
      "cell_type": "code",
      "source": [
        "pessoa = {\"nome\":\"theo\", \"idade\": 55, \"profissão\":\"tecnólogo\", \"filhos\": [\"joao\",\"maria\",\"gilberto\"]}"
      ],
      "metadata": {
        "id": "zwiHmRegxYxI"
      },
      "execution_count": null,
      "outputs": []
    },
    {
      "cell_type": "code",
      "source": [
        "dicionarios_de_dicionarios = {\n",
        " \"usuario_1\": {\"nome\" : \"theo\", \"idade\": 55, \"profissão\" : \"tecnólogo\", \"filhos\": [\"joao\",\"maria\",\"gilberto\"]},\n",
        " \"usuario_2\": pessoa,\n",
        " }\n",
        "\n",
        "\n",
        "\n",
        "\n",
        "\n",
        "# {\"nome\":\"theo\", \"idade\": 55, \"profissão\":\"tecnólogo\", \"filhos\": [\"joao\",\"maria\",\"gilberto\"]}"
      ],
      "metadata": {
        "id": "cSDTi4VmB5HA"
      },
      "execution_count": null,
      "outputs": []
    },
    {
      "cell_type": "code",
      "source": [
        "dicionarios_de_dicionarios"
      ],
      "metadata": {
        "colab": {
          "base_uri": "https://localhost:8080/"
        },
        "id": "P2QBx4y6y3uP",
        "outputId": "b64aa5e1-77c4-46fc-971d-b6c07a8f925a"
      },
      "execution_count": null,
      "outputs": [
        {
          "output_type": "execute_result",
          "data": {
            "text/plain": [
              "{'usuario_1': {'nome': 'theo',\n",
              "  'idade': 55,\n",
              "  'profissão': 'tecnólogo',\n",
              "  'filhos': ['joao', 'maria', 'gilberto']},\n",
              " 'usuario_2': {'nome': 'theo',\n",
              "  'idade': 55,\n",
              "  'profissão': 'tecnólogo',\n",
              "  'filhos': ['joao', 'maria', 'gilberto']}}"
            ]
          },
          "metadata": {},
          "execution_count": 67
        }
      ]
    },
    {
      "cell_type": "code",
      "source": [],
      "metadata": {
        "id": "IIYGSyRf3YGR"
      },
      "execution_count": null,
      "outputs": []
    },
    {
      "cell_type": "markdown",
      "source": [
        "vamos aplicar mais alguns métodos para extrair informações do meu dicionário"
      ],
      "metadata": {
        "id": "cSxxX3lTSykB"
      }
    },
    {
      "cell_type": "code",
      "source": [
        "pessoa.get('idade')"
      ],
      "metadata": {
        "colab": {
          "base_uri": "https://localhost:8080/"
        },
        "id": "I1UT1mW3B6N9",
        "outputId": "1f35d220-871d-4b08-e468-d0cc97466cb8"
      },
      "execution_count": null,
      "outputs": [
        {
          "output_type": "execute_result",
          "data": {
            "text/plain": [
              "55"
            ]
          },
          "metadata": {},
          "execution_count": 72
        }
      ]
    },
    {
      "cell_type": "code",
      "source": [
        "pessoa['idade']"
      ],
      "metadata": {
        "colab": {
          "base_uri": "https://localhost:8080/"
        },
        "id": "aywmHz9J3qyP",
        "outputId": "9a09548b-b260-4f11-ffe7-5dc65a3d90e7"
      },
      "execution_count": null,
      "outputs": [
        {
          "output_type": "execute_result",
          "data": {
            "text/plain": [
              "55"
            ]
          },
          "metadata": {},
          "execution_count": 73
        }
      ]
    },
    {
      "cell_type": "code",
      "source": [
        "pessoa"
      ],
      "metadata": {
        "colab": {
          "base_uri": "https://localhost:8080/"
        },
        "id": "dapKGzww4b7m",
        "outputId": "d3be5a1a-4e96-4756-f5d1-927e3b151a2c"
      },
      "execution_count": null,
      "outputs": [
        {
          "output_type": "execute_result",
          "data": {
            "text/plain": [
              "{'nome': 'Theo',\n",
              " 'idade': 55,\n",
              " 'profissão': 'tecnólogo',\n",
              " 'filhos': ['joao', 'maria', 'gilberto']}"
            ]
          },
          "metadata": {},
          "execution_count": 77
        }
      ]
    },
    {
      "cell_type": "code",
      "source": [
        "pessoa.keys()"
      ],
      "metadata": {
        "colab": {
          "base_uri": "https://localhost:8080/"
        },
        "id": "G7ltTwXe4fIb",
        "outputId": "9543f7d0-9e91-4778-f9d1-1a6d5c1eb054"
      },
      "execution_count": null,
      "outputs": [
        {
          "output_type": "execute_result",
          "data": {
            "text/plain": [
              "dict_keys(['nome', 'idade', 'profissão', 'filhos'])"
            ]
          },
          "metadata": {},
          "execution_count": 78
        }
      ]
    },
    {
      "cell_type": "code",
      "source": [
        "pessoa.values()"
      ],
      "metadata": {
        "colab": {
          "base_uri": "https://localhost:8080/"
        },
        "id": "IMEcT1rL5e8G",
        "outputId": "333952e6-42fa-4a00-d417-14f53275d39f"
      },
      "execution_count": null,
      "outputs": [
        {
          "output_type": "execute_result",
          "data": {
            "text/plain": [
              "dict_values(['Theo', 55, 'tecnólogo', ['joao', 'maria', 'gilberto']])"
            ]
          },
          "metadata": {},
          "execution_count": 79
        }
      ]
    },
    {
      "cell_type": "code",
      "source": [
        "pessoa.items()"
      ],
      "metadata": {
        "colab": {
          "base_uri": "https://localhost:8080/"
        },
        "id": "zxNP-q2H4fLa",
        "outputId": "18b603d7-c448-40d2-f708-f4e4303d15f2"
      },
      "execution_count": null,
      "outputs": [
        {
          "output_type": "execute_result",
          "data": {
            "text/plain": [
              "dict_items([('nome', 'Theo'), ('idade', 55), ('profissão', 'tecnólogo'), ('filhos', ['joao', 'maria', 'gilberto'])])"
            ]
          },
          "metadata": {},
          "execution_count": 80
        }
      ]
    },
    {
      "cell_type": "code",
      "source": [
        "list(pessoa.keys())"
      ],
      "metadata": {
        "colab": {
          "base_uri": "https://localhost:8080/"
        },
        "id": "lSnx_W8053z2",
        "outputId": "3a0d849e-7f3b-4927-b06b-7df70b9eb40a"
      },
      "execution_count": null,
      "outputs": [
        {
          "output_type": "execute_result",
          "data": {
            "text/plain": [
              "['nome', 'idade', 'profissão', 'filhos']"
            ]
          },
          "metadata": {},
          "execution_count": 84
        }
      ]
    },
    {
      "cell_type": "markdown",
      "metadata": {
        "id": "YSwfBZAiV6UA"
      },
      "source": [
        "---\n",
        "<div align=\"justify\">\n",
        "&emsp; Podemos adicionar itens de um dicionário usando <b>nomeDic[\"novaPalavraChave\"] = valor</b>, podemos atualizar da mesma maneira mas usando uma palavra-chave já existente, ou mesmo usar o método update() com o parâmetro <b>{\"palavraChave\": novoValor}</b>. Já para apagar itens temos várias maneiras: podemos usar o método pop() com a palavra-chave a ser deletada como parâmetro, ou o método popitem() para deletar o último item, ou mesmo a <b>del dicionario[\"chaveParaDeletar\"]</b>, por fim temos o método clear() que limpa o dicionário todo.<br>\n",
        "</div>"
      ]
    },
    {
      "cell_type": "code",
      "source": [],
      "metadata": {
        "id": "N7NbLRwO4emW"
      },
      "execution_count": null,
      "outputs": []
    },
    {
      "cell_type": "code",
      "source": [
        "pessoa['filhos']"
      ],
      "metadata": {
        "colab": {
          "base_uri": "https://localhost:8080/"
        },
        "id": "gMSyb1iLB6RL",
        "outputId": "e3174b7a-9445-4cf8-8b87-db07781b11d9"
      },
      "execution_count": null,
      "outputs": [
        {
          "output_type": "execute_result",
          "data": {
            "text/plain": [
              "['joao', 'maria', 'gilberto']"
            ]
          },
          "metadata": {},
          "execution_count": 74
        }
      ]
    },
    {
      "cell_type": "code",
      "source": [
        "pessoa['nome'] = 'Theo'\n",
        "pessoa"
      ],
      "metadata": {
        "colab": {
          "base_uri": "https://localhost:8080/"
        },
        "id": "O5_85xXT4IpS",
        "outputId": "ac446f8a-c8dd-4ffa-eaf4-563ecf0407e0"
      },
      "execution_count": null,
      "outputs": [
        {
          "output_type": "execute_result",
          "data": {
            "text/plain": [
              "{'nome': 'Theo',\n",
              " 'idade': 55,\n",
              " 'profissão': 'tecnólogo',\n",
              " 'filhos': ['joao', 'maria', 'gilberto']}"
            ]
          },
          "metadata": {},
          "execution_count": 76
        }
      ]
    },
    {
      "cell_type": "code",
      "source": [
        "pessoa = {'nome': 'Theo', 'idade': 55, 'profissao': 'tecnólogo', 'filhos': ['joao', 'maria', 'gilberto']}\n",
        "print(\"dicionário inicialmente: \", pessoa, '/n')\n",
        "\n",
        "pessoa['nacionalidade'] = \"brasileiro\"\n",
        "pessoa['nome'] = 'pedro'\n",
        "\n",
        "# atualizou informações e/ou adicionou novas informações\n",
        "# ele não deletou/apagou informações que não foram passadas. ex: profissao, filhos e nome\n",
        "pessoa.update({\"idade\": 35, \"nacionalidade\": \"chileno\", \"cachorro\": \"billy\"})\n",
        "\n",
        "pessoa.pop(\"nome\") # apagamos chave-valor passando como argumento a chave nome\n",
        "print(\"dicionário sem a chave nome: \", pessoa)\n",
        "\n",
        "del pessoa['profissao']\n",
        "\n",
        "print(\"antes do pop item\", pessoa)\n",
        "pessoa.popitem()\n",
        "print(\"pessoa depois do popitem\", pessoa)\n",
        "\n",
        "\n",
        "\n",
        "\n",
        "# print(pessoa)"
      ],
      "metadata": {
        "colab": {
          "base_uri": "https://localhost:8080/"
        },
        "id": "tCD4ljiqB7_U",
        "outputId": "4ed9f011-d8bb-4a2b-b491-8f704b573335"
      },
      "execution_count": null,
      "outputs": [
        {
          "output_type": "stream",
          "name": "stdout",
          "text": [
            "dicionário inicialmente:  {'nome': 'Theo', 'idade': 55, 'profissao': 'tecnólogo', 'filhos': ['joao', 'maria', 'gilberto']} /n\n",
            "dicionário sem a chave nome:  {'idade': 35, 'profissao': 'tecnólogo', 'filhos': ['joao', 'maria', 'gilberto'], 'nacionalidade': 'chileno', 'cachorro': 'billy'}\n",
            "antes do pop item {'idade': 35, 'filhos': ['joao', 'maria', 'gilberto'], 'nacionalidade': 'chileno', 'cachorro': 'billy'}\n",
            "pessoa depois do popitem {'idade': 35, 'filhos': ['joao', 'maria', 'gilberto'], 'nacionalidade': 'chileno'}\n"
          ]
        }
      ]
    },
    {
      "cell_type": "code",
      "source": [
        "pessoa['netos'] = pessoa.pop(\"filhos\") # método pop retorna o valor ['joao', 'maria', 'gilberto']\n",
        "pessoa"
      ],
      "metadata": {
        "colab": {
          "base_uri": "https://localhost:8080/"
        },
        "id": "Y67UGK7080T8",
        "outputId": "8b5b962e-5088-4838-dcaa-59c3ea0d412d"
      },
      "execution_count": null,
      "outputs": [
        {
          "output_type": "execute_result",
          "data": {
            "text/plain": [
              "{'idade': 35,\n",
              " 'nacionalidade': 'chileno',\n",
              " 'netos': ['joao', 'maria', 'gilberto']}"
            ]
          },
          "metadata": {},
          "execution_count": 98
        }
      ]
    },
    {
      "cell_type": "code",
      "source": [
        "print(pessoa)\n",
        "pessoa.pop(\"nacionalidade\")"
      ],
      "metadata": {
        "colab": {
          "base_uri": "https://localhost:8080/",
          "height": 53
        },
        "id": "u06tSuYeB8FU",
        "outputId": "e7b3345f-c760-4122-b5c4-93943885c4fc"
      },
      "execution_count": null,
      "outputs": [
        {
          "output_type": "stream",
          "name": "stdout",
          "text": [
            "{'idade': 35, 'nacionalidade': 'chileno', 'netos': ['joao', 'maria', 'gilberto']}\n"
          ]
        },
        {
          "output_type": "execute_result",
          "data": {
            "text/plain": [
              "'chileno'"
            ],
            "application/vnd.google.colaboratory.intrinsic+json": {
              "type": "string"
            }
          },
          "metadata": {},
          "execution_count": 100
        }
      ]
    },
    {
      "cell_type": "code",
      "source": [
        "pessoa"
      ],
      "metadata": {
        "colab": {
          "base_uri": "https://localhost:8080/"
        },
        "id": "FUyoKErJB8ME",
        "outputId": "66aca643-a3d4-4279-a426-6fb3ccc2f542"
      },
      "execution_count": null,
      "outputs": [
        {
          "output_type": "execute_result",
          "data": {
            "text/plain": [
              "{'idade': 35, 'netos': ['joao', 'maria', 'gilberto']}"
            ]
          },
          "metadata": {},
          "execution_count": 101
        }
      ]
    },
    {
      "cell_type": "code",
      "source": [
        "pessoa.popitem() # sempre apaga a última chave-valor do seu dicionário"
      ],
      "metadata": {
        "colab": {
          "base_uri": "https://localhost:8080/"
        },
        "id": "NuiL6DBQ-6W6",
        "outputId": "a2889875-4a7c-4336-b062-1cd6d9466185"
      },
      "execution_count": null,
      "outputs": [
        {
          "output_type": "execute_result",
          "data": {
            "text/plain": [
              "('netos', ['joao', 'maria', 'gilberto'])"
            ]
          },
          "metadata": {},
          "execution_count": 102
        }
      ]
    },
    {
      "cell_type": "code",
      "source": [
        "pessoa"
      ],
      "metadata": {
        "colab": {
          "base_uri": "https://localhost:8080/"
        },
        "id": "Ex2uvO3k_Bnk",
        "outputId": "035a0744-0c28-412b-b5b3-8a8d09d76b10"
      },
      "execution_count": null,
      "outputs": [
        {
          "output_type": "execute_result",
          "data": {
            "text/plain": [
              "{'idade': 35}"
            ]
          },
          "metadata": {},
          "execution_count": 103
        }
      ]
    },
    {
      "cell_type": "markdown",
      "metadata": {
        "id": "PSPhhklXV6UB"
      },
      "source": [
        "---\n",
        "<div align=\"justify\">\n",
        "&emsp; Dicionários podem ser usados em <i>loops</i> normalmente também. Existem alguns métodos que podem ser úteis de serem utilizados.<br>\n",
        "</div>"
      ]
    },
    {
      "cell_type": "code",
      "source": [
        "pessoa = {'nome': 'Theo', 'idade': 55, 'profissao': 'tecnólogo'}\n"
      ],
      "metadata": {
        "id": "yrKmEwoIB-DF"
      },
      "execution_count": null,
      "outputs": []
    },
    {
      "cell_type": "code",
      "source": [
        "for chave in pessoa:\n",
        "  print(chave)\n",
        "\n",
        "type(chave)"
      ],
      "metadata": {
        "colab": {
          "base_uri": "https://localhost:8080/"
        },
        "id": "s0RC8dMjB-Ia",
        "outputId": "f09073ce-0a17-4c89-a179-041096f0d628"
      },
      "execution_count": null,
      "outputs": [
        {
          "output_type": "stream",
          "name": "stdout",
          "text": [
            "nome\n",
            "idade\n",
            "profissao\n"
          ]
        },
        {
          "output_type": "execute_result",
          "data": {
            "text/plain": [
              "str"
            ]
          },
          "metadata": {},
          "execution_count": 112
        }
      ]
    },
    {
      "cell_type": "code",
      "source": [
        "for valor in pessoa.values():\n",
        "  print(valor)"
      ],
      "metadata": {
        "colab": {
          "base_uri": "https://localhost:8080/"
        },
        "id": "cZePTyOIB-Oh",
        "outputId": "9ef3ef2e-efc6-4a9c-8ffb-b02cb7db1ad2"
      },
      "execution_count": null,
      "outputs": [
        {
          "output_type": "stream",
          "name": "stdout",
          "text": [
            "Theo\n",
            "55\n",
            "tecnólogo\n"
          ]
        }
      ]
    },
    {
      "cell_type": "code",
      "source": [
        "for chave in pessoa:\n",
        "  print(pessoa[chave]) # pessoa['nome']"
      ],
      "metadata": {
        "colab": {
          "base_uri": "https://localhost:8080/"
        },
        "id": "FXgIdiy3B-VZ",
        "outputId": "d95edf15-5876-4ddb-9832-162cbfb8ca48"
      },
      "execution_count": null,
      "outputs": [
        {
          "output_type": "stream",
          "name": "stdout",
          "text": [
            "Theo\n",
            "55\n",
            "tecnólogo\n"
          ]
        }
      ]
    },
    {
      "cell_type": "code",
      "source": [
        "a,b = 1,2,3\n",
        "a\n",
        "b"
      ],
      "metadata": {
        "colab": {
          "base_uri": "https://localhost:8080/",
          "height": 211
        },
        "id": "O0JLZfz0x7pr",
        "outputId": "eb5ddb81-1d6e-4320-dfcc-fc7dc2d48375"
      },
      "execution_count": null,
      "outputs": [
        {
          "output_type": "error",
          "ename": "ValueError",
          "evalue": "too many values to unpack (expected 2)",
          "traceback": [
            "\u001b[0;31m---------------------------------------------------------------------------\u001b[0m",
            "\u001b[0;31mValueError\u001b[0m                                Traceback (most recent call last)",
            "\u001b[0;32m<ipython-input-11-46728cf6b3fc>\u001b[0m in \u001b[0;36m<cell line: 1>\u001b[0;34m()\u001b[0m\n\u001b[0;32m----> 1\u001b[0;31m \u001b[0ma\u001b[0m\u001b[0;34m,\u001b[0m\u001b[0mb\u001b[0m \u001b[0;34m=\u001b[0m \u001b[0;36m1\u001b[0m\u001b[0;34m,\u001b[0m\u001b[0;36m2\u001b[0m\u001b[0;34m,\u001b[0m\u001b[0;36m3\u001b[0m\u001b[0;34m\u001b[0m\u001b[0;34m\u001b[0m\u001b[0m\n\u001b[0m\u001b[1;32m      2\u001b[0m \u001b[0ma\u001b[0m\u001b[0;34m\u001b[0m\u001b[0;34m\u001b[0m\u001b[0m\n\u001b[1;32m      3\u001b[0m \u001b[0mb\u001b[0m\u001b[0;34m\u001b[0m\u001b[0;34m\u001b[0m\u001b[0m\n",
            "\u001b[0;31mValueError\u001b[0m: too many values to unpack (expected 2)"
          ]
        }
      ]
    },
    {
      "cell_type": "code",
      "source": [
        "for chave,valor in ((1,2),(3,4),(5,6)):\n",
        "  print(chave,valor)"
      ],
      "metadata": {
        "id": "wo1CzxwAB-iq",
        "colab": {
          "base_uri": "https://localhost:8080/"
        },
        "outputId": "34329bda-ee13-437c-a9aa-673a4334d430"
      },
      "execution_count": null,
      "outputs": [
        {
          "output_type": "stream",
          "name": "stdout",
          "text": [
            "1 2\n",
            "3 4\n",
            "5 6\n"
          ]
        }
      ]
    },
    {
      "cell_type": "code",
      "source": [
        "pessoa.items()"
      ],
      "metadata": {
        "colab": {
          "base_uri": "https://localhost:8080/"
        },
        "id": "3cP_9ArR0OaM",
        "outputId": "f307c827-a3a8-4588-9a30-5599e580285f"
      },
      "execution_count": null,
      "outputs": [
        {
          "output_type": "execute_result",
          "data": {
            "text/plain": [
              "dict_items([('nome', 'Theo'), ('idade', 55), ('profissao', 'tecnólogo')])"
            ]
          },
          "metadata": {},
          "execution_count": 15
        }
      ]
    },
    {
      "cell_type": "code",
      "source": [
        "for chave,valor in pessoa.items():\n",
        "  print(chave,valor)"
      ],
      "metadata": {
        "colab": {
          "base_uri": "https://localhost:8080/"
        },
        "id": "sB-I2XMX0EQk",
        "outputId": "0e0ed1f4-c855-43df-acb6-37a094b4fe26"
      },
      "execution_count": null,
      "outputs": [
        {
          "output_type": "stream",
          "name": "stdout",
          "text": [
            "nome Theo\n",
            "idade 55\n",
            "profissao tecnólogo\n"
          ]
        }
      ]
    },
    {
      "cell_type": "markdown",
      "metadata": {
        "id": "3_HGOIBzV6UB"
      },
      "source": [
        "---\n",
        "<div align=\"justify\">\n",
        "&emsp; Assim como listas podem armazenar listas, dicionários podem armazenar dicionários, formando dicionários de mais de uma dimensão. Veja o exemplo:<br>\n",
        "</div>"
      ]
    },
    {
      "cell_type": "code",
      "source": [
        "dicionario_de_dicionarios = {\n",
        " \"filho1\": {\"nome\":\"gabriel\" , \"ano_nascimento\":2004},\n",
        " \"filho2\": {\"nome\":\"joana\", \"ano_nascimento\":1999}\n",
        " }\n"
      ],
      "metadata": {
        "id": "eD51GaSJCA2k"
      },
      "execution_count": null,
      "outputs": []
    },
    {
      "cell_type": "code",
      "source": [
        "dicionario_de_dicionarios"
      ],
      "metadata": {
        "id": "Fz1RaqNqCA90",
        "colab": {
          "base_uri": "https://localhost:8080/"
        },
        "outputId": "a90228db-7f6c-4e2a-ea19-5b406e03b9f9"
      },
      "execution_count": null,
      "outputs": [
        {
          "output_type": "execute_result",
          "data": {
            "text/plain": [
              "{'filho1': {'nome': 'gabriel', 'ano_nascimento': 2004},\n",
              " 'filho2': {'nome': 'joana', 'ano_nascimento': 1999}}"
            ]
          },
          "metadata": {},
          "execution_count": 19
        }
      ]
    },
    {
      "cell_type": "code",
      "source": [
        "{\n",
        "    \"id_01_mensagem\": {\"quem_enviou\":\"gabriel\" , \"data_envio\":\"2004-01-01\",\"grupo\":\"python_2024\"},\n",
        "    \"id_02_mensagem\": {\"quem_enviou\":\"gabriel\" , \"data_envio\":\"2004-01-01\",\"grupo\":\"python_2024\"},\n",
        "}"
      ],
      "metadata": {
        "id": "bEDvhb1yCBEo"
      },
      "execution_count": null,
      "outputs": []
    },
    {
      "cell_type": "code",
      "source": [],
      "metadata": {
        "id": "C3PeapupCBLw"
      },
      "execution_count": null,
      "outputs": []
    },
    {
      "cell_type": "code",
      "source": [],
      "metadata": {
        "id": "yzFE5BAUCBSV"
      },
      "execution_count": null,
      "outputs": []
    },
    {
      "cell_type": "code",
      "source": [],
      "metadata": {
        "id": "VdmPftBWCBYE"
      },
      "execution_count": null,
      "outputs": []
    },
    {
      "cell_type": "code",
      "source": [],
      "metadata": {
        "id": "0YWuef1aCBc8"
      },
      "execution_count": null,
      "outputs": []
    },
    {
      "cell_type": "code",
      "source": [],
      "metadata": {
        "id": "u3ddn3bOCBiY"
      },
      "execution_count": null,
      "outputs": []
    },
    {
      "cell_type": "code",
      "source": [],
      "metadata": {
        "id": "mrqwKExtCBot"
      },
      "execution_count": null,
      "outputs": []
    },
    {
      "cell_type": "markdown",
      "metadata": {
        "id": "WEQqy6YjV6UC"
      },
      "source": [
        "---\n",
        "<div align=\"justify\">\n",
        "&emsp; No contexto de dicionários o comando <b>in</b> é útil. Imagine que você quer adicionar valores em uma chave mas não sabe sequer se ela existe naquele contexto, como poderiamos fazer?<br>\n",
        "</div>"
      ]
    },
    {
      "cell_type": "code",
      "source": [
        "4 in [1,2,3,4]"
      ],
      "metadata": {
        "id": "hk5OYccvCDO4",
        "colab": {
          "base_uri": "https://localhost:8080/"
        },
        "outputId": "f3e1eca3-5876-4424-b2a0-4fb8d8f4db36"
      },
      "execution_count": null,
      "outputs": [
        {
          "output_type": "execute_result",
          "data": {
            "text/plain": [
              "True"
            ]
          },
          "metadata": {},
          "execution_count": 20
        }
      ]
    },
    {
      "cell_type": "code",
      "source": [
        "estudante = {\n",
        "    \"nome\": \"theo\",\n",
        "    \"graduacao\" : \"medicina\"\n",
        "}\n",
        "\n",
        "'theo' in estudante.values()\n"
      ],
      "metadata": {
        "id": "BxCmv7cDCDV3",
        "colab": {
          "base_uri": "https://localhost:8080/"
        },
        "outputId": "ad4be3f8-3fdd-4357-b5f2-b64ecccbf773"
      },
      "execution_count": null,
      "outputs": [
        {
          "output_type": "execute_result",
          "data": {
            "text/plain": [
              "True"
            ]
          },
          "metadata": {},
          "execution_count": 23
        }
      ]
    },
    {
      "cell_type": "code",
      "source": [
        "'theo' in estudante['nome']"
      ],
      "metadata": {
        "colab": {
          "base_uri": "https://localhost:8080/"
        },
        "id": "afvhno4a3Xcr",
        "outputId": "72e77f87-37be-425a-f5b4-5129ae3c0044"
      },
      "execution_count": null,
      "outputs": [
        {
          "output_type": "execute_result",
          "data": {
            "text/plain": [
              "True"
            ]
          },
          "metadata": {},
          "execution_count": 26
        }
      ]
    },
    {
      "cell_type": "code",
      "source": [
        "\"nome\" in estudante"
      ],
      "metadata": {
        "id": "fHE8Er0JCDcd",
        "colab": {
          "base_uri": "https://localhost:8080/"
        },
        "outputId": "1137de31-8ce0-4213-ce86-27d0b285c556"
      },
      "execution_count": null,
      "outputs": [
        {
          "output_type": "execute_result",
          "data": {
            "text/plain": [
              "False"
            ]
          },
          "metadata": {},
          "execution_count": 25
        }
      ]
    },
    {
      "cell_type": "code",
      "source": [
        "\"nome\" in estudante.keys()"
      ],
      "metadata": {
        "id": "UnnVs61uCDjN",
        "colab": {
          "base_uri": "https://localhost:8080/"
        },
        "outputId": "df64ea9e-448e-4e7a-f676-ed8fd1475bc4"
      },
      "execution_count": null,
      "outputs": [
        {
          "output_type": "execute_result",
          "data": {
            "text/plain": [
              "True"
            ]
          },
          "metadata": {},
          "execution_count": 27
        }
      ]
    },
    {
      "cell_type": "code",
      "source": [
        "materiais = ['jaleco', 'bisturi', 'estetoscópio']\n",
        "\n",
        "if 'materiais' not in estudante:\n",
        "  estudante['materiais'] = materiais\n",
        "\n",
        "\n",
        "estudante"
      ],
      "metadata": {
        "id": "Z0BWW2hxCDpi",
        "colab": {
          "base_uri": "https://localhost:8080/"
        },
        "outputId": "4670d3ac-2603-4544-9682-83dcf3f7b8fa"
      },
      "execution_count": null,
      "outputs": [
        {
          "output_type": "execute_result",
          "data": {
            "text/plain": [
              "{'nome': 'theo',\n",
              " 'graduacao': 'medicina',\n",
              " 'materiais': ['jaleco', 'bisturi', 'estetoscópio']}"
            ]
          },
          "metadata": {},
          "execution_count": 29
        }
      ]
    },
    {
      "cell_type": "code",
      "source": [],
      "metadata": {
        "id": "D5_FxJp5CDu-",
        "colab": {
          "base_uri": "https://localhost:8080/",
          "height": 141
        },
        "outputId": "1d0f303e-05ae-4238-c30b-326f048dbe50"
      },
      "execution_count": null,
      "outputs": [
        {
          "output_type": "error",
          "ename": "SyntaxError",
          "evalue": "'break' outside loop (<ipython-input-33-053bf7bde60e>, line 2)",
          "traceback": [
            "\u001b[0;36m  File \u001b[0;32m\"<ipython-input-33-053bf7bde60e>\"\u001b[0;36m, line \u001b[0;32m2\u001b[0m\n\u001b[0;31m    break\u001b[0m\n\u001b[0m    ^\u001b[0m\n\u001b[0;31mSyntaxError\u001b[0m\u001b[0;31m:\u001b[0m 'break' outside loop\n"
          ]
        }
      ]
    },
    {
      "cell_type": "code",
      "source": [],
      "metadata": {
        "id": "NvU3YGijCD2x"
      },
      "execution_count": null,
      "outputs": []
    },
    {
      "cell_type": "code",
      "source": [
        "notas_alunos = {\n",
        "    \"aluno_1\" : [10,8,4,8,5], # notas do aluno\n",
        "    \"aluno_2\" : [3,4,6,3,3,9],\n",
        "    \"aluno_3\" : [9,10,7,8,10,10]\n",
        "}\n",
        "\n",
        "notas_alunos"
      ],
      "metadata": {
        "colab": {
          "base_uri": "https://localhost:8080/"
        },
        "id": "5jJb7beC6CHw",
        "outputId": "ce25f2bf-d9cf-4ede-8e49-02593c462177"
      },
      "execution_count": null,
      "outputs": [
        {
          "output_type": "execute_result",
          "data": {
            "text/plain": [
              "{'aluno_1': [10, 8, 4, 8, 5],\n",
              " 'aluno_2': [3, 4, 6, 3, 3, 9],\n",
              " 'aluno_3': [9, 10, 7, 8, 10, 10]}"
            ]
          },
          "metadata": {},
          "execution_count": 47
        }
      ]
    },
    {
      "cell_type": "code",
      "source": [
        "10 in list(notas_alunos.values())[2]"
      ],
      "metadata": {
        "colab": {
          "base_uri": "https://localhost:8080/"
        },
        "id": "FFgDno1C6CNA",
        "outputId": "657104db-cb27-4d3d-b740-2b21d9394781"
      },
      "execution_count": null,
      "outputs": [
        {
          "output_type": "execute_result",
          "data": {
            "text/plain": [
              "True"
            ]
          },
          "metadata": {},
          "execution_count": 52
        }
      ]
    },
    {
      "cell_type": "code",
      "source": [
        "for aluno,lista_notas_do_aluno in notas_alunos.items():\n",
        "  if 10 in lista_notas_do_aluno:\n",
        "    print(f\"nota encontrada. aluno {aluno} tirou 10. quantidade de notas 10: {lista_notas_do_aluno.count(10)}\")\n",
        "\n"
      ],
      "metadata": {
        "colab": {
          "base_uri": "https://localhost:8080/"
        },
        "id": "9XUS3roB6-Zs",
        "outputId": "92d9162a-9952-4db6-c534-f2663ce2f030"
      },
      "execution_count": null,
      "outputs": [
        {
          "output_type": "stream",
          "name": "stdout",
          "text": [
            "nota encontrada. aluno aluno_1 tirou 10. quantidade de notas 10: 1\n",
            "nota encontrada. aluno aluno_3 tirou 10. quantidade de notas 10: 3\n"
          ]
        }
      ]
    },
    {
      "cell_type": "markdown",
      "source": [
        "## exercícios tuplas, dicionários"
      ],
      "metadata": {
        "id": "VyMwse0UUIPO"
      }
    },
    {
      "cell_type": "markdown",
      "source": [
        "1) Crie um dicionário para as seguintes relações:\n",
        "\n",
        "<center>\n",
        "\n",
        ". |  |\n",
        "--- | --- |\n",
        "banana| 3.0 |\n",
        "cebola | 4.0 |\n",
        "maçã | 5.7\n",
        "abacaxi | 8.0\n",
        "\n",
        "\n",
        "</center>"
      ],
      "metadata": {
        "id": "CHB_o1_k8cPK"
      }
    },
    {
      "cell_type": "code",
      "source": [
        "hortifruti = {\n",
        "    'banana': 3.0,\n",
        "    'cebola': 4.0,\n",
        "    'maça': 5.7,\n",
        "    'abacaxi': 8.0\n",
        "}\n",
        "hortifruti"
      ],
      "metadata": {
        "id": "_39EMOxDCUB3",
        "outputId": "38c06456-d767-4333-e196-edcfbac8cac8",
        "colab": {
          "base_uri": "https://localhost:8080/"
        }
      },
      "execution_count": null,
      "outputs": [
        {
          "output_type": "execute_result",
          "data": {
            "text/plain": [
              "{'banana': 3.0, 'cebola': 4.0, 'maça': 5.7, 'abacaxi': 8.0}"
            ]
          },
          "metadata": {},
          "execution_count": 14
        }
      ]
    },
    {
      "cell_type": "markdown",
      "source": [
        "2) Altere o valor da chave ‘Maçã’ no dicionário do exercício anterior para 8.6."
      ],
      "metadata": {
        "id": "9-sArzdz8eou"
      }
    },
    {
      "cell_type": "code",
      "source": [
        "hortifruti['maça'] = 8.6\n",
        "hortifruti"
      ],
      "metadata": {
        "id": "INMswyupCVwl",
        "outputId": "d240d4fc-5bcf-4c28-bb3c-01478f84956c",
        "colab": {
          "base_uri": "https://localhost:8080/"
        }
      },
      "execution_count": null,
      "outputs": [
        {
          "output_type": "execute_result",
          "data": {
            "text/plain": [
              "{'banana': 3.0, 'cebola': 4.0, 'maça': 8.6, 'abacaxi': 8.0}"
            ]
          },
          "metadata": {},
          "execution_count": 15
        }
      ]
    },
    {
      "cell_type": "markdown",
      "source": [
        "3) Faça um código que conte quantas vezes cada elemento aparece em uma lista. Essa função deverá guardar os dados em um dicionário no qual as chaves são os elementos inseridos e os valores são a contagem de quantas vezes esse elemento aparece. ex de output: {\"banana\":2, \"maçã\":1}"
      ],
      "metadata": {
        "id": "nT4xMUCK-yWy"
      }
    },
    {
      "cell_type": "code",
      "source": [
        "lista = [\"cavalo\", \"vaca\", 'coelho', 'rato', \"cobra\", \"gato\", \"gato\", \"gato\", \"cavalo\", \"cavalo\"]\n",
        "\n",
        "dicionario = {}\n",
        "\n",
        "for chave in lista:\n",
        "  if chave not in dicionario:\n",
        "    dicionario[chave] = lista.count(chave)\n",
        "\n",
        "dicionario"
      ],
      "metadata": {
        "id": "ll-Tl4mvCZiq",
        "outputId": "d462ab97-cb4d-4784-b894-b258bb384eb8",
        "colab": {
          "base_uri": "https://localhost:8080/"
        }
      },
      "execution_count": null,
      "outputs": [
        {
          "output_type": "execute_result",
          "data": {
            "text/plain": [
              "{'cavalo': 3, 'vaca': 1, 'coelho': 1, 'rato': 1, 'cobra': 1, 'gato': 3}"
            ]
          },
          "metadata": {},
          "execution_count": 18
        }
      ]
    },
    {
      "cell_type": "code",
      "source": [
        "lista = [\"cavalo\", \"vaca\", 'coelho', 'rato', \"cobra\", \"gato\", \"gato\", \"gato\", \"cavalo\", \"cavalo\"]\n",
        "dicionario2 = {}\n",
        "for chave in lista:\n",
        "    if chave not in dicionario2:\n",
        "        dicionario2[chave] = 1\n",
        "    else:\n",
        "      dicionario2[chave] += 1\n",
        "\n",
        "dicionario2"
      ],
      "metadata": {
        "id": "UQCPb5ALEQeT",
        "outputId": "23ddb776-91d1-488b-f5d9-b895fd417ef5",
        "colab": {
          "base_uri": "https://localhost:8080/"
        }
      },
      "execution_count": null,
      "outputs": [
        {
          "output_type": "execute_result",
          "data": {
            "text/plain": [
              "{'cavalo': 3, 'vaca': 1, 'coelho': 1, 'rato': 1, 'cobra': 1, 'gato': 3}"
            ]
          },
          "metadata": {},
          "execution_count": 19
        }
      ]
    },
    {
      "cell_type": "markdown",
      "source": [
        "4) Faça  um  código que  receba  múltiplos\n",
        "números inteiros em seguida informe quantos são pares e quantos são ímpares."
      ],
      "metadata": {
        "id": "mXg45HMJZBXQ"
      }
    },
    {
      "cell_type": "code",
      "source": [
        "qtd = int(input('Informe o numero de numeros a serem recebidos: '))\n",
        "\n",
        "lista_num = []\n",
        "\n",
        "for i in qtd:\n",
        "  numero = int(input(f'Informe o número{i}': ))\n",
        "  lista_num.append(numero)\n",
        "\n",
        "par = []\n",
        "impar =[]\n",
        "for item in lista:\n",
        "    if item%2 ==0:\n",
        "        par.append(item)\n",
        "    else:\n",
        "        impar.append(item)\n",
        "print(f\"o número de pares é {len(par)}\\n o número de ímpares é {len(impar)}\" )"
      ],
      "metadata": {
        "id": "uYsTqiZzCfTX",
        "outputId": "2a42c61a-0ac9-4bdc-fbd9-ac70e9d12910",
        "colab": {
          "base_uri": "https://localhost:8080/"
        }
      },
      "execution_count": null,
      "outputs": [
        {
          "output_type": "stream",
          "name": "stdout",
          "text": [
            "o número de pares é 8\n",
            " o número de ímpares é 4\n"
          ]
        }
      ]
    },
    {
      "cell_type": "markdown",
      "source": [
        "5) faça um código que recebe um elemento a ser encontrado no texto e substitui por outro elemento\n",
        "\n",
        "- pode utilizar o .replace()"
      ],
      "metadata": {
        "id": "X_iKF_33X0VK"
      }
    },
    {
      "cell_type": "code",
      "source": [
        "texto = \"Ao contrário da crença popular, o Lorem Ipsum não é simplesmente texto aleatório. Tem raízes numa peça de literatura clássica em Latim, de 45 AC, tornando-o com mais de 2000 anos. Richard McClintock, um professor de Latim no Colégio Hampden-Sydney, na Virgínia, procurou uma das palavras em Latim mais obscuras (consectetur) numa passagem Lorem Ipsum, e atravessando as cidades do mundo na literatura clássica, descobriu a sua origem.\"\n",
        "\n",
        "novo = texto.replace(\"a\",\"o\")\n",
        "\n",
        "print(novo)"
      ],
      "metadata": {
        "id": "926eSv8XCvB9",
        "outputId": "c6f14836-eef6-4484-df51-fa428a3bcace",
        "colab": {
          "base_uri": "https://localhost:8080/"
        }
      },
      "execution_count": null,
      "outputs": [
        {
          "output_type": "stream",
          "name": "stdout",
          "text": [
            "Ao contrário do crenço populor, o Lorem Ipsum não é simplesmente texto oleotório. Tem roízes numo peço de literoturo clássico em Lotim, de 45 AC, tornondo-o com mois de 2000 onos. Richord McClintock, um professor de Lotim no Colégio Hompden-Sydney, no Virgínio, procurou umo dos polovros em Lotim mois obscuros (consectetur) numo possogem Lorem Ipsum, e otrovessondo os cidodes do mundo no literoturo clássico, descobriu o suo origem.\n"
          ]
        }
      ]
    },
    {
      "cell_type": "markdown",
      "source": [
        "6) Faça  um  código  contador  de\n",
        "palavras.  O  usuário  vai  inserir  um  texto  qualquer  e  o  programa  vai  contar  a\n",
        "quantidade de cada palavra no texto, armazenando o resultado em um dicionário\n",
        "e exibindo o resultado para o usuário.\n",
        "- caso queira pode utilizar o .split() e .replace()"
      ],
      "metadata": {
        "id": "UThmKFrwZDVJ"
      }
    },
    {
      "cell_type": "code",
      "source": [
        "texto = \"Ao contrário da crença popular, o Lorem Ipsum não é simplesmente texto aleatório. Tem raízes numa peça de literatura clássica em Latim, de 45 AC, tornando-o com mais de 2000 anos. Richard McClintock, um professor de Latim no Colégio Hampden-Sydney, na Virgínia, procurou uma das palavras em Latim mais obscuras (consectetur) numa passagem Lorem Ipsum, e atravessando as cidades do mundo na literatura clássica, descobriu a sua origem.\"\n",
        "texto_split = texto.split()\n",
        "texto_split\n",
        "\n",
        "dici = {}\n",
        "for item in texto_split:\n",
        "    if item not in dici:\n",
        "        dici[item]=texto_split.count(item)\n",
        "dici"
      ],
      "metadata": {
        "id": "gNwm7q60C_bk"
      },
      "execution_count": null,
      "outputs": []
    },
    {
      "cell_type": "markdown",
      "source": [
        "7) Faça  um  código  para  criar  uma\n",
        "agenda telefônica. O programa deve armazenar o nome e um ou mais telefones\n",
        "do  contato.  Em  seguida,  o  usuário  vai  informar  o  nome  de  algum  contato\n",
        "armazenado e o programa deve retornar os número(s) do contato\n",
        "- caso queira pode utilizar o método .split()"
      ],
      "metadata": {
        "id": "gt_8Rtq2ZDiC"
      }
    },
    {
      "cell_type": "code",
      "source": [
        "agenda = [{\n",
        "      'nome': 'Guilherme',\n",
        "      'telefone': {\n",
        "          'tel1': '1199999-9999',\n",
        "          'tel2': '1299999-9999'\n",
        "      }\n",
        "    },\n",
        "    {'nome': 'Ana',\n",
        "      'telefone': {\n",
        "          'tel1': '1199999-9999',\n",
        "          'tel2': '1299999-9999'\n",
        "      }\n",
        "    },\n",
        "      {'nome': 'Maria',\n",
        "      'telefone': {\n",
        "          'tel1': '1199999-9999',\n",
        "          'tel2': '1299999-9999'\n",
        "      }\n",
        "    }\n",
        "]\n",
        "\n",
        "pesquisa = input('Informe o nome: ')\n",
        "\n",
        "for contato in agenda:\n",
        "  if pesquisa == contato['nome']:\n",
        "    print(contato)\n",
        "\n",
        "  else:\n",
        "    print('Não está na lista')"
      ],
      "metadata": {
        "id": "XNIWLguMkqAH",
        "outputId": "79294c17-11ee-4adc-d4cd-ec2ff1d86173",
        "colab": {
          "base_uri": "https://localhost:8080/"
        }
      },
      "execution_count": null,
      "outputs": [
        {
          "output_type": "stream",
          "name": "stdout",
          "text": [
            "informe o nome: Guilherme\n",
            "{'nome': 'Guilherme', 'telefone': {'tel1': '1199999-9999', 'tel2': '1299999-9999'}}\n"
          ]
        }
      ]
    }
  ],
  "metadata": {
    "kernelspec": {
      "display_name": "Python 3",
      "language": "python",
      "name": "python3"
    },
    "language_info": {
      "codemirror_mode": {
        "name": "ipython",
        "version": 3
      },
      "file_extension": ".py",
      "mimetype": "text/x-python",
      "name": "python",
      "nbconvert_exporter": "python",
      "pygments_lexer": "ipython3",
      "version": "3.8.5"
    },
    "colab": {
      "provenance": [],
      "collapsed_sections": [
        "_9fKt1OGV6UD"
      ]
    }
  },
  "nbformat": 4,
  "nbformat_minor": 0
}