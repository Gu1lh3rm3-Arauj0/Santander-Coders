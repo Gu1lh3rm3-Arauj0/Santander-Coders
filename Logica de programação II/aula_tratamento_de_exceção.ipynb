{
  "cells": [
    {
      "cell_type": "markdown",
      "id": "580a1dd1",
      "metadata": {
        "id": "580a1dd1"
      },
      "source": [
        "# Tratamento de Exceção\n",
        "\n",
        "Você já deve ter notado que certas operações podem dar errado em certas circunstâncias, e esses erros provocam o tratamento do nosso programa.\n",
        "\n",
        "Por exemplo, quando solicitamos que o usuário digite um número inteiro e ele digita qualquer outra coisa. O erro ocorre especificamente na conversão da entrada para ```int```. Veja o exemplo abaixo:"
      ]
    },
    {
      "cell_type": "code",
      "source": [
        "entrada = 'olá'\n",
        "inteiro = int(entrada)\n"
      ],
      "metadata": {
        "colab": {
          "base_uri": "https://localhost:8080/",
          "height": 194
        },
        "id": "3XwAOpxF9szk",
        "outputId": "f17c860c-ba34-4639-d968-d886909f3d17"
      },
      "id": "3XwAOpxF9szk",
      "execution_count": null,
      "outputs": [
        {
          "output_type": "error",
          "ename": "ValueError",
          "evalue": "invalid literal for int() with base 10: 'olá'",
          "traceback": [
            "\u001b[0;31m---------------------------------------------------------------------------\u001b[0m",
            "\u001b[0;31mValueError\u001b[0m                                Traceback (most recent call last)",
            "\u001b[0;32m<ipython-input-1-957037cbc521>\u001b[0m in \u001b[0;36m<cell line: 2>\u001b[0;34m()\u001b[0m\n\u001b[1;32m      1\u001b[0m \u001b[0mentrada\u001b[0m \u001b[0;34m=\u001b[0m \u001b[0;34m'olá'\u001b[0m\u001b[0;34m\u001b[0m\u001b[0;34m\u001b[0m\u001b[0m\n\u001b[0;32m----> 2\u001b[0;31m \u001b[0minteiro\u001b[0m \u001b[0;34m=\u001b[0m \u001b[0mint\u001b[0m\u001b[0;34m(\u001b[0m\u001b[0mentrada\u001b[0m\u001b[0;34m)\u001b[0m\u001b[0;34m\u001b[0m\u001b[0;34m\u001b[0m\u001b[0m\n\u001b[0m",
            "\u001b[0;31mValueError\u001b[0m: invalid literal for int() with base 10: 'olá'"
          ]
        }
      ]
    },
    {
      "cell_type": "markdown",
      "id": "ae0b071f",
      "metadata": {
        "id": "ae0b071f"
      },
      "source": [
        "Note que o erro possui um nome, ```ValueError```, e uma mensagem explicando o que ocorreu.\n",
        "\n",
        "Vejamos outro exemplo bastante famoso: a divisão por zero."
      ]
    },
    {
      "cell_type": "code",
      "source": [
        "x = 1/0"
      ],
      "metadata": {
        "colab": {
          "base_uri": "https://localhost:8080/",
          "height": 176
        },
        "id": "23o32Wdn9uMn",
        "outputId": "b697f035-52c2-441e-e6f8-7012e3f0bdbf"
      },
      "id": "23o32Wdn9uMn",
      "execution_count": null,
      "outputs": [
        {
          "output_type": "error",
          "ename": "ZeroDivisionError",
          "evalue": "division by zero",
          "traceback": [
            "\u001b[0;31m---------------------------------------------------------------------------\u001b[0m",
            "\u001b[0;31mZeroDivisionError\u001b[0m                         Traceback (most recent call last)",
            "\u001b[0;32m<ipython-input-2-bfdf2b0f658a>\u001b[0m in \u001b[0;36m<cell line: 1>\u001b[0;34m()\u001b[0m\n\u001b[0;32m----> 1\u001b[0;31m \u001b[0mx\u001b[0m \u001b[0;34m=\u001b[0m \u001b[0;36m1\u001b[0m\u001b[0;34m/\u001b[0m\u001b[0;36m0\u001b[0m\u001b[0;34m\u001b[0m\u001b[0;34m\u001b[0m\u001b[0m\n\u001b[0m",
            "\u001b[0;31mZeroDivisionError\u001b[0m: division by zero"
          ]
        }
      ]
    },
    {
      "cell_type": "markdown",
      "id": "0d23c909",
      "metadata": {
        "id": "0d23c909"
      },
      "source": [
        "Observe a mesma estrutura do erro anterior: temos um nome (```ZeroDivisionError```) e uma mensagem explicando o que ocorreu.\n",
        "\n",
        "Esses erros, que não são erros de lógica nem de sintaxe, são o que chamamos de **exceções**. São pequenos problemas que o programa pode encontrar durante sua execução, como não encontrar um arquivo ou uma função receber um valor de tipo inesperado.\n",
        "\n",
        "Vamos começar aprendendo como lidar com códigos que podem provocar erros, evitando o travamento do programa, e em seguida iremos aprender a criar as nossas próprias exceções para alertar outros programadores sobre problemas que possam ter ocorrido em nossas classes e funções."
      ]
    },
    {
      "cell_type": "markdown",
      "id": "cd4ce0d2",
      "metadata": {
        "id": "cd4ce0d2"
      },
      "source": [
        "## Tratando uma exceção\n",
        "\n",
        "Tratar uma exceção significa que quando surgir um dos erros mencionados, nós iremos assumir responsabilidade sobre ele e iremos providenciar algum código alternativo. Dessa maneira, o Python não irá mais travar o nosso programa, e sim desviar seu fluxo para o código fornecido.\n",
        "\n",
        "O bloco mais básico para lidarmos com exceção é o ```try```/```except```.\n",
        "\n",
        "Dentro do ```try``` vamos colocar o pedaço de código com potencial para dar erro. Estamos pedindo que o Python **tente** executar aquele código, cientes de que pode não dar certo.\n",
        "\n",
        "Dentro do ```except```, colocamos o código que deverá ser executado **somente** se algo de errado ocorrer no ```try```. Vejamos um exemplo:"
      ]
    },
    {
      "cell_type": "code",
      "source": [
        "numerador = 1\n",
        "\n",
        "for denominador in range(3,-1,-1):\n",
        "  try: # tentar rodar esse bloco de código\n",
        "    print(numerador/denominador)\n",
        "    divisao = numerador / denominador\n",
        "  except: # se tentar e não conseguir\n",
        "    divisao = 'infinito'\n",
        "\n",
        "  print(f\"{numerador} / {denominador} = {divisao}\")\n",
        "\n",
        "\n",
        "print(\"acabou o código\")"
      ],
      "metadata": {
        "colab": {
          "base_uri": "https://localhost:8080/"
        },
        "id": "PQtz4CJK95J1",
        "outputId": "74b75d58-5f3c-4ec2-aefb-6efe13714eb1"
      },
      "id": "PQtz4CJK95J1",
      "execution_count": null,
      "outputs": [
        {
          "output_type": "stream",
          "name": "stdout",
          "text": [
            "0.3333333333333333\n",
            "1 / 3 = 0.3333333333333333\n",
            "0.5\n",
            "1 / 2 = 0.5\n",
            "1.0\n",
            "1 / 1 = 1.0\n",
            "1 / 0 = infinito\n",
            "acabou o código\n"
          ]
        }
      ]
    },
    {
      "cell_type": "markdown",
      "id": "a16a86af",
      "metadata": {
        "id": "a16a86af"
      },
      "source": [
        "O bloco acima já resolve a grande maioria dos problemas. Mas vamos estudar mais algumas possibilidades para deixar nosso tratamento ainda mais sofisticado e especializado.\n",
        "\n",
        "Você deve ter notado que enfatizamos bastante o fato de exceções poderem ter um nome. Esse nome pode nos ajudar a identificar com sucesso qual dos erros possíveis ocorreu e tratá-lo com sucesso.\n",
        "\n",
        "Vamos considerar a função abaixo:"
      ]
    },
    {
      "cell_type": "code",
      "source": [
        "def divisao(a,b):\n",
        "  return a/b\n",
        "\n"
      ],
      "metadata": {
        "id": "m3fg-jD496DD"
      },
      "id": "m3fg-jD496DD",
      "execution_count": null,
      "outputs": []
    },
    {
      "cell_type": "markdown",
      "id": "de1ab200",
      "metadata": {
        "id": "de1ab200"
      },
      "source": [
        "Um erro óbvio que pode ocorrer nessa função seria o ```ZeroDivisionError```, que nós obtemos passando 0 como segundo argumento:"
      ]
    },
    {
      "cell_type": "code",
      "source": [
        "divisao(1,0)"
      ],
      "metadata": {
        "colab": {
          "base_uri": "https://localhost:8080/",
          "height": 263
        },
        "id": "Yh4f0Cdl97XC",
        "outputId": "0bd28d18-b798-4b56-d55a-8ffe305320f9"
      },
      "id": "Yh4f0Cdl97XC",
      "execution_count": null,
      "outputs": [
        {
          "output_type": "error",
          "ename": "ZeroDivisionError",
          "evalue": "division by zero",
          "traceback": [
            "\u001b[0;31m---------------------------------------------------------------------------\u001b[0m",
            "\u001b[0;31mZeroDivisionError\u001b[0m                         Traceback (most recent call last)",
            "\u001b[0;32m<ipython-input-2-921422a866f6>\u001b[0m in \u001b[0;36m<cell line: 1>\u001b[0;34m()\u001b[0m\n\u001b[0;32m----> 1\u001b[0;31m \u001b[0mdivisao\u001b[0m\u001b[0;34m(\u001b[0m\u001b[0;36m1\u001b[0m\u001b[0;34m,\u001b[0m\u001b[0;36m0\u001b[0m\u001b[0;34m)\u001b[0m\u001b[0;34m\u001b[0m\u001b[0;34m\u001b[0m\u001b[0m\n\u001b[0m",
            "\u001b[0;32m<ipython-input-1-60e3c5ea0d67>\u001b[0m in \u001b[0;36mdivisao\u001b[0;34m(a, b)\u001b[0m\n\u001b[1;32m      1\u001b[0m \u001b[0;32mdef\u001b[0m \u001b[0mdivisao\u001b[0m\u001b[0;34m(\u001b[0m\u001b[0ma\u001b[0m\u001b[0;34m,\u001b[0m\u001b[0mb\u001b[0m\u001b[0;34m)\u001b[0m\u001b[0;34m:\u001b[0m\u001b[0;34m\u001b[0m\u001b[0;34m\u001b[0m\u001b[0m\n\u001b[0;32m----> 2\u001b[0;31m   \u001b[0;32mreturn\u001b[0m \u001b[0ma\u001b[0m\u001b[0;34m/\u001b[0m\u001b[0mb\u001b[0m\u001b[0;34m\u001b[0m\u001b[0;34m\u001b[0m\u001b[0m\n\u001b[0m\u001b[1;32m      3\u001b[0m \u001b[0;34m\u001b[0m\u001b[0m\n",
            "\u001b[0;31mZeroDivisionError\u001b[0m: division by zero"
          ]
        }
      ]
    },
    {
      "cell_type": "markdown",
      "id": "f96523ba",
      "metadata": {
        "id": "f96523ba"
      },
      "source": [
        "Porém, ele não é o único erro possível. O que acontece se passarmos um parâmetro que não seja numérico? ```TypeError```, pois utilizamos tipos inválidos para o operador ```/```."
      ]
    },
    {
      "cell_type": "code",
      "source": [
        "divisao(\"olá\",1)"
      ],
      "metadata": {
        "colab": {
          "base_uri": "https://localhost:8080/",
          "height": 263
        },
        "id": "nGZjBCQh98d8",
        "outputId": "e7dab4ca-237d-4b79-ca4a-0bdd6880574e"
      },
      "id": "nGZjBCQh98d8",
      "execution_count": null,
      "outputs": [
        {
          "output_type": "error",
          "ename": "TypeError",
          "evalue": "unsupported operand type(s) for /: 'str' and 'int'",
          "traceback": [
            "\u001b[0;31m---------------------------------------------------------------------------\u001b[0m",
            "\u001b[0;31mTypeError\u001b[0m                                 Traceback (most recent call last)",
            "\u001b[0;32m<ipython-input-3-a44577b64abd>\u001b[0m in \u001b[0;36m<cell line: 1>\u001b[0;34m()\u001b[0m\n\u001b[0;32m----> 1\u001b[0;31m \u001b[0mdivisao\u001b[0m\u001b[0;34m(\u001b[0m\u001b[0;34m\"olá\"\u001b[0m\u001b[0;34m,\u001b[0m\u001b[0;36m1\u001b[0m\u001b[0;34m)\u001b[0m\u001b[0;34m\u001b[0m\u001b[0;34m\u001b[0m\u001b[0m\n\u001b[0m",
            "\u001b[0;32m<ipython-input-1-60e3c5ea0d67>\u001b[0m in \u001b[0;36mdivisao\u001b[0;34m(a, b)\u001b[0m\n\u001b[1;32m      1\u001b[0m \u001b[0;32mdef\u001b[0m \u001b[0mdivisao\u001b[0m\u001b[0;34m(\u001b[0m\u001b[0ma\u001b[0m\u001b[0;34m,\u001b[0m\u001b[0mb\u001b[0m\u001b[0;34m)\u001b[0m\u001b[0;34m:\u001b[0m\u001b[0;34m\u001b[0m\u001b[0;34m\u001b[0m\u001b[0m\n\u001b[0;32m----> 2\u001b[0;31m   \u001b[0;32mreturn\u001b[0m \u001b[0ma\u001b[0m\u001b[0;34m/\u001b[0m\u001b[0mb\u001b[0m\u001b[0;34m\u001b[0m\u001b[0;34m\u001b[0m\u001b[0m\n\u001b[0m\u001b[1;32m      3\u001b[0m \u001b[0;34m\u001b[0m\u001b[0m\n",
            "\u001b[0;31mTypeError\u001b[0m: unsupported operand type(s) for /: 'str' and 'int'"
          ]
        }
      ]
    },
    {
      "cell_type": "markdown",
      "id": "79e8f698",
      "metadata": {
        "id": "79e8f698"
      },
      "source": [
        "Podemos colocar diversos ```except``` após o ```try```, cada um testando um tipo diferente de erro. Um último ```except``` genérico irá pegar todos os casos que não se encaixarem nos específicos:"
      ]
    },
    {
      "cell_type": "markdown",
      "source": [
        "nossa última aula! o que veremos hoje:\n",
        "\n",
        "- terminar tratamento de exceção\n",
        "- lambda/compreensão de listas e expressões geradoras\n",
        "- vocês realizarem as avaliações ADA\n"
      ],
      "metadata": {
        "id": "9PIwEmFOXXiz"
      },
      "id": "9PIwEmFOXXiz"
    },
    {
      "cell_type": "code",
      "source": [
        "denominadores = [0,2,3,'a',5, [120394]]\n",
        "\n",
        "for d in denominadores:\n",
        "\n",
        "  try:\n",
        "      div = divisao(1,d)\n",
        "  except ZeroDivisionError: # lembra um elif\n",
        "    div = 'infinito : zero division error'\n",
        "  except TypeError: # lembra um elif\n",
        "    div = f\"1/{d} type error\"\n",
        "  except: # se sua exceção não for nenhum das outras exceções mencionadas acima, execute esse bloco de código\n",
        "    div = 'erro desconhecido'\n",
        "\n",
        "  print(f'1/{d} = {div}')"
      ],
      "metadata": {
        "id": "XlOZT12T-FPp",
        "colab": {
          "base_uri": "https://localhost:8080/"
        },
        "outputId": "dd09fb75-2ded-41eb-eefc-ec13b7a44211"
      },
      "id": "XlOZT12T-FPp",
      "execution_count": null,
      "outputs": [
        {
          "output_type": "stream",
          "name": "stdout",
          "text": [
            "1/0 = infinito : zero division error\n",
            "1/2 = 0.5\n",
            "1/3 = 0.3333333333333333\n",
            "1/a = 1/a type error\n",
            "1/5 = 0.2\n",
            "1/[120394] = 1/[120394] type error\n"
          ]
        }
      ]
    },
    {
      "cell_type": "markdown",
      "id": "f9bf6c51",
      "metadata": {
        "id": "f9bf6c51"
      },
      "source": [
        "## O ```else``` no tratamento de exceção\n",
        "\n",
        "Nosso bom e velho ```else```, tipicamente usado em expressões condicionais acompanhando um ```if```, também pode aparecer em blocos ```try```/```except```. Seu efeito é o oposto do ```except```: enquanto o ```except``` é executado quando algo dá errado, o ```else``` só é executado se absolutamente nada der errado. Por exemplo, poderíamos atualizar nosso exemplo anterior utilizando um ```else```:"
      ]
    },
    {
      "cell_type": "code",
      "source": [
        "denominadores = [0,2,3,'a',5, [120394]]\n",
        "\n",
        "for d in denominadores:\n",
        "\n",
        "  try:\n",
        "      div = divisao(1,d)\n",
        "  except ZeroDivisionError: # lembra um elif\n",
        "    div = 'infinito : zero division error'\n",
        "    print(\"erro zerodivision\")\n",
        "  except TypeError: # lembra um elif\n",
        "    div = f\"1/{d} type error\"\n",
        "    print('erro type error')\n",
        "  except: # se sua exceção não for nenhum das outras exceções mencionadas acima, execute esse bloco de código\n",
        "    div = 'erro desconhecido'\n",
        "    print('erro desconhecido')\n",
        "  else:\n",
        "    print(f\"nada deu errado: '1/{d} = {div}\")\n",
        "\n"
      ],
      "metadata": {
        "id": "MHvcYa3zCkPD",
        "colab": {
          "base_uri": "https://localhost:8080/"
        },
        "outputId": "c2333ba6-294c-47ec-f209-d96d059e64ea"
      },
      "id": "MHvcYa3zCkPD",
      "execution_count": null,
      "outputs": [
        {
          "output_type": "stream",
          "name": "stdout",
          "text": [
            "erro zerodivision\n",
            "nada deu errado: '1/2 = 0.5\n",
            "nada deu errado: '1/3 = 0.3333333333333333\n",
            "erro type error\n",
            "nada deu errado: '1/5 = 0.2\n",
            "erro type error\n"
          ]
        }
      ]
    },
    {
      "cell_type": "markdown",
      "id": "66c9c40a",
      "metadata": {
        "id": "66c9c40a"
      },
      "source": [
        "Note que no exemplo acima não tem problema estarmos atribuindo valor pra ```div``` apenas no bloco ```try```. Ela só será usada no ```else```, ou seja, só será usada se tudo deu certo.\n",
        "\n",
        "**Nota:** várias linguagens possuem construções equivalentes ao ```try```/```except``` (este último frequentemente vira ```catch```), bem como ao ```finally``` e o ```raise``` (frequentemente ```throw``` em outras linguagens), que serão estudados já já. Mas o ```else``` na construção é bastante atípico e na maioria das linguagens ele realmente só serve para blocos condicionais. Por conta disso, é um pouco mais raro de vê-lo sendo usado nesse contexto."
      ]
    },
    {
      "cell_type": "markdown",
      "id": "97c9bc07",
      "metadata": {
        "id": "97c9bc07"
      },
      "source": [
        "## Limpando a bagunça: ```finally```\n",
        "\n",
        "Muitas vezes um erro pode ocorrer quando já realizamos diversas operações. Dentre essas operações, podemos ter solicitado recursos, como por exemplo abrir um arquivo, estabelecer uma conexão com a internet ou alocar uma grande faixa de memória.\n",
        "\n",
        "O que aconteceria, por exemplo, se um comando como ```return``` aparecesse durante o tratamento desse erro após termos solicitado tantos recursos diferentes? O arquivo ficaria aberto, a conexão ficaria aberta, memória seria desperdiçada etc.\n",
        "\n",
        "O ```finally``` garante um local seguro para colocarmos código de limpeza - ou seja, devolver recursos que não serão mais utilizados: fechar arquivos, fechar conexões com servidor etc.\n",
        "\n",
        "Ele **sempre** será executado após um bloco ```try```/```except```, **mesmo que haja um return no no bloco `try` ou `except`**.\n",
        "\n",
        "Veja o exemplo abaixo para entender o que queremos dizer:"
      ]
    },
    {
      "cell_type": "code",
      "source": [
        "def teste(den):\n",
        "  try:\n",
        "    print('entrou no try')\n",
        "    x = 1/den\n",
        "    print(\"agora só falta dar o return do try\")\n",
        "    return print(f\"retorno do try {x}\")\n",
        "  except:\n",
        "    print(\"entrou no except\")\n",
        "    print(\"agora falta dar o return do except\")\n",
        "    return print(f\"retorno do except: infinito\")\n",
        "  else:\n",
        "    print(\"entrou no else\")\n",
        "  finally:\n",
        "  # o finally executa logo após finalizar qualquer um dos blocos try ou except\n",
        "    print(\"entrou no finally\")\n",
        "\n",
        "teste(2)"
      ],
      "metadata": {
        "id": "cLByGdXuDBcw",
        "colab": {
          "base_uri": "https://localhost:8080/"
        },
        "outputId": "be39cfb9-53db-47d2-b35c-196f8e528822"
      },
      "id": "cLByGdXuDBcw",
      "execution_count": null,
      "outputs": [
        {
          "output_type": "stream",
          "name": "stdout",
          "text": [
            "entrou no try\n",
            "agora só falta dar o return do try\n",
            "retorno do try 0.5\n",
            "entrou no finally\n"
          ]
        }
      ]
    },
    {
      "cell_type": "markdown",
      "id": "fbc150db",
      "metadata": {
        "id": "fbc150db"
      },
      "source": [
        "Note que o conteúdo do bloco ```finally``` foi executado em ambas as chamadas, mesmo havendo um ```return``` dentro do ```try``` e outro dentro do ```except```. O Python é obrigado a executar o conteúdo de ```finally```.\n",
        "\n",
        "Vejamos um exemplo mais completo: um bloco ```try```/```except``` tentará criar um arquivo. Dentro do ```try```, teremos um bloco ```try```/```except```/```finally```. O ```try``` tentará escrever algumas operações matemáticas no arquivo, o ```except``` exibirá uma mensagem caso uma operação seja inválida, e o ```finally``` garantirá que o arquivo será fechado **independentemente de um erro ter ou não ocorrido**."
      ]
    },
    {
      "cell_type": "code",
      "execution_count": null,
      "id": "14475f20",
      "metadata": {
        "colab": {
          "base_uri": "https://localhost:8080/"
        },
        "id": "14475f20",
        "outputId": "de02ce4d-41e5-407b-9b3a-1b7f2f36fa55"
      },
      "outputs": [
        {
          "output_type": "stream",
          "name": "stdout",
          "text": [
            "O número 1.0 foi escrito no arquivo.\n",
            "seu código não teve nenhum erro!\n",
            "Fechando o arquivo teste1.txt\n",
            "--------------------\n",
            "Divisão por zero, não escrevemos no arquivo.\n",
            "Fechando o arquivo teste2.txt\n"
          ]
        }
      ],
      "source": [
        "def escreve_arquivo(nome_do_arquivo, denominador):\n",
        "    try:\n",
        "        arq = open(nome_do_arquivo, 'w')\n",
        "        for x in [1]:\n",
        "          try:\n",
        "              div = 1/denominador\n",
        "              arq.write(str(div))\n",
        "              print(f'O número {div} foi escrito no arquivo.')\n",
        "\n",
        "          except ZeroDivisionError:\n",
        "              return print(f'Divisão por zero, não escrevemos no arquivo.')\n",
        "\n",
        "          except TypeError:\n",
        "              return print('Tipo inválido, não escreveremos no arquivo.')\n",
        "\n",
        "          except:\n",
        "              return print('Erro desconhecido, não escreveremos no arquivo.')\n",
        "          else:\n",
        "            return print(\"seu código não teve nenhum erro!\")\n",
        "\n",
        "          finally:\n",
        "              print(f'Fechando o arquivo {nome_do_arquivo}')\n",
        "              arq.close() # o arquivo SEMPRE será fechado, mesmo que ocorra erro!\n",
        "\n",
        "\n",
        "    except:\n",
        "        return print('Não foi possível abrir o arquivo')\n",
        "\n",
        "\n",
        "escreve_arquivo('teste1.txt', 1)\n",
        "print('-'*20)\n",
        "escreve_arquivo('teste2.txt', 0)"
      ]
    },
    {
      "cell_type": "markdown",
      "id": "095f726d",
      "metadata": {
        "id": "095f726d"
      },
      "source": [
        "## Levantando nossas próprias exceções\n",
        "\n",
        "Quando estamos criando nossos próprios módulos, classes ou funções, muitas vezes vamos nos deparar com situações inválidas. Imprimir uma mensagem de erro não é uma boa ideia, pois o programa pode estar rodando em um servidor, pode ter uma interface gráfica etc.\n",
        "\n",
        "Logo, o ideal seria lançarmos exceções para sinalizar essas situações. Desta forma, se elas forem ignoradas, o programa irá parar, sinalizando para o programador que existe alguma situação que deveria ser tratada. Adicionalmente, podemos criar nossa própria mensagem de erro, sinalizando para o programador que ele deveria fazer algo a respeito.\n",
        "\n",
        "Podemos utilizar a palavra ```raise``` seguida de ```Exception()```, passando entre parênteses a nossa mensagem personalizada de erro."
      ]
    },
    {
      "cell_type": "code",
      "source": [
        "salarios = []\n",
        "def cadastrar_salario(salario):\n",
        "  if salario <= 0:\n",
        "    raise Exception(\"salário inválido! coloquei um salário positivo!\")\n",
        "\n",
        "  salarios.append(salario)\n",
        "\n",
        "cadastrar_salario(0)"
      ],
      "metadata": {
        "id": "tjzy6YlPEDq4",
        "colab": {
          "base_uri": "https://localhost:8080/",
          "height": 332
        },
        "outputId": "b91c9ccd-70af-449e-bd49-8b2e88819edb"
      },
      "id": "tjzy6YlPEDq4",
      "execution_count": null,
      "outputs": [
        {
          "output_type": "error",
          "ename": "Exception",
          "evalue": "salário inválido! coloquei um salário positivo!",
          "traceback": [
            "\u001b[0;31m---------------------------------------------------------------------------\u001b[0m",
            "\u001b[0;31mException\u001b[0m                                 Traceback (most recent call last)",
            "\u001b[0;32m<ipython-input-25-cee01564208e>\u001b[0m in \u001b[0;36m<cell line: 8>\u001b[0;34m()\u001b[0m\n\u001b[1;32m      6\u001b[0m   \u001b[0msalarios\u001b[0m\u001b[0;34m.\u001b[0m\u001b[0mappend\u001b[0m\u001b[0;34m(\u001b[0m\u001b[0msalario\u001b[0m\u001b[0;34m)\u001b[0m\u001b[0;34m\u001b[0m\u001b[0;34m\u001b[0m\u001b[0m\n\u001b[1;32m      7\u001b[0m \u001b[0;34m\u001b[0m\u001b[0m\n\u001b[0;32m----> 8\u001b[0;31m \u001b[0mcadastrar_salario\u001b[0m\u001b[0;34m(\u001b[0m\u001b[0;36m0\u001b[0m\u001b[0;34m)\u001b[0m\u001b[0;34m\u001b[0m\u001b[0;34m\u001b[0m\u001b[0m\n\u001b[0m",
            "\u001b[0;32m<ipython-input-25-cee01564208e>\u001b[0m in \u001b[0;36mcadastrar_salario\u001b[0;34m(salario)\u001b[0m\n\u001b[1;32m      2\u001b[0m \u001b[0;32mdef\u001b[0m \u001b[0mcadastrar_salario\u001b[0m\u001b[0;34m(\u001b[0m\u001b[0msalario\u001b[0m\u001b[0;34m)\u001b[0m\u001b[0;34m:\u001b[0m\u001b[0;34m\u001b[0m\u001b[0;34m\u001b[0m\u001b[0m\n\u001b[1;32m      3\u001b[0m   \u001b[0;32mif\u001b[0m \u001b[0msalario\u001b[0m \u001b[0;34m<=\u001b[0m \u001b[0;36m0\u001b[0m\u001b[0;34m:\u001b[0m\u001b[0;34m\u001b[0m\u001b[0;34m\u001b[0m\u001b[0m\n\u001b[0;32m----> 4\u001b[0;31m     \u001b[0;32mraise\u001b[0m \u001b[0mException\u001b[0m\u001b[0;34m(\u001b[0m\u001b[0;34m\"salário inválido! coloquei um salário positivo!\"\u001b[0m\u001b[0;34m)\u001b[0m\u001b[0;34m\u001b[0m\u001b[0;34m\u001b[0m\u001b[0m\n\u001b[0m\u001b[1;32m      5\u001b[0m \u001b[0;34m\u001b[0m\u001b[0m\n\u001b[1;32m      6\u001b[0m   \u001b[0msalarios\u001b[0m\u001b[0;34m.\u001b[0m\u001b[0mappend\u001b[0m\u001b[0;34m(\u001b[0m\u001b[0msalario\u001b[0m\u001b[0;34m)\u001b[0m\u001b[0;34m\u001b[0m\u001b[0;34m\u001b[0m\u001b[0m\n",
            "\u001b[0;31mException\u001b[0m: salário inválido! coloquei um salário positivo!"
          ]
        }
      ]
    },
    {
      "cell_type": "code",
      "source": [
        "salarios"
      ],
      "metadata": {
        "id": "r7JMGhUeEDvX",
        "colab": {
          "base_uri": "https://localhost:8080/"
        },
        "outputId": "19c17334-aed8-4f38-9a67-7c5cc83ebf97"
      },
      "id": "r7JMGhUeEDvX",
      "execution_count": null,
      "outputs": [
        {
          "output_type": "execute_result",
          "data": {
            "text/plain": [
              "[10]"
            ]
          },
          "metadata": {},
          "execution_count": 24
        }
      ]
    },
    {
      "cell_type": "markdown",
      "id": "65dcb343",
      "metadata": {
        "id": "65dcb343"
      },
      "source": [
        "Note que na primeira chamada, onde não ocorreu exceção, o salário foi cadastrado na lista (observe o print acima). Já na segunda chamada, nossa função lançou a exceção e parou sua execução.\n",
        "\n",
        "Idealmente, quem pretende utilizar a função deveria fazê-lo agora utilizando ```try```, para manter o programa funcionando e tratar adequadamente o problema."
      ]
    },
    {
      "cell_type": "code",
      "execution_count": null,
      "id": "25c909b8",
      "metadata": {
        "id": "25c909b8",
        "colab": {
          "base_uri": "https://localhost:8080/"
        },
        "outputId": "84f7e867-f8f3-46d0-f0b2-16394661db54"
      },
      "outputs": [
        {
          "output_type": "stream",
          "name": "stdout",
          "text": [
            "Digite o salário do funcionário: 0\n",
            "Opa, salário inválido!\n",
            "Digite o salário do funcionário: 100\n",
            "Digite o salário do funcionário: 30\n",
            "[100.0, 30.0]\n"
          ]
        }
      ],
      "source": [
        "salarios = []\n",
        "\n",
        "def cadastrar_salario(salario):\n",
        "    if salario <= 0:\n",
        "        raise Exception('Salário inválido! Salários devem ser positivos!')\n",
        "\n",
        "    salarios.append(salario)\n",
        "\n",
        "for i in range(3):\n",
        "    salario = float(input('Digite o salário do funcionário: '))\n",
        "\n",
        "    try:\n",
        "        cadastrar_salario(salario)\n",
        "    except:\n",
        "        print('Opa, salário inválido!')\n",
        "\n",
        "print(salarios)\n",
        "\n"
      ]
    },
    {
      "cell_type": "markdown",
      "metadata": {
        "id": "qvMouwS_EC8c"
      },
      "source": [
        "# Exercícios\n",
        "\n",
        "O programa abaixo apresenta alguns erros de execução. Sem alterar as estruturas de dados originais (lista e dicionário):\n",
        "- faça um tratamento adequado dos erros para exibir as médias corretas de cada aluno ou mensagens de erro significativas para o usuário em português, sem permitir que o programa seja interrompido antes de finalizar sua execução.\n",
        "\n",
        "- para cada tentativa de média dos alunos, exiba a mensagem evidenciando que está começando a processar as informações do aluno e quando tiver terminado de processa-las, independente se deu erro ou não.\n",
        "\n",
        "\n",
        "```python\n",
        "alunos = ['John', 'Paul', 'George', 'Ringo', 'Joao', 'Pete']\n",
        "\n",
        "notas = {\n",
        "    'John':[7.5, 9.0, 8.25, 8.0],\n",
        "    'Paul':[9.0, 8.5, '10.0', 8.5],\n",
        "    'George':[6.0, '7.0', 8.0, 9],\n",
        "    'Ringo':[4.5, 4.0, 6.0, 7.0],\n",
        "    'Pete':[]\n",
        "}\n",
        "\n",
        "for aluno in alunos:\n",
        "    media = sum(notas[aluno])/len(notas[aluno])\n",
        "    print(f'{aluno}:\\t{media}')\n",
        "```"
      ],
      "id": "qvMouwS_EC8c"
    },
    {
      "cell_type": "code",
      "execution_count": null,
      "id": "ddfba587",
      "metadata": {
        "id": "ddfba587",
        "colab": {
          "base_uri": "https://localhost:8080/"
        },
        "outputId": "bc51bae4-e4a7-4e65-dee4-7d009dfde7ef"
      },
      "outputs": [
        {
          "output_type": "stream",
          "name": "stdout",
          "text": [
            "começando a processar as notas do aluno John\n",
            "John:\t8.1875\n",
            "terminei de processar as notas do aluno John\n",
            "começando a processar as notas do aluno Paul\n",
            "as notas possuem tipos de dados inválidos\n",
            "terminei de processar as notas do aluno Paul\n",
            "começando a processar as notas do aluno George\n",
            "as notas possuem tipos de dados inválidos\n",
            "terminei de processar as notas do aluno George\n",
            "começando a processar as notas do aluno Ringo\n",
            "Ringo:\t5.375\n",
            "terminei de processar as notas do aluno Ringo\n",
            "começando a processar as notas do aluno Joao\n",
            "não encontramos o usuário Joao nas nossas notas\n",
            "terminei de processar as notas do aluno Joao\n",
            "começando a processar as notas do aluno Pete\n",
            "você tentou fazer uma média dividindo por zero. provavelmente sua lista está vazia\n",
            "terminei de processar as notas do aluno Pete\n"
          ]
        }
      ],
      "source": [
        "# exibir as médias corretas de cada aluno ou mensagens de erro significativas para o usuário\n",
        "# em português\n",
        "# try except\n",
        "\n",
        "# sem permitir que o programa seja interrompido antes de finalizar sua execução.\n",
        "# não utilizar o raise\n",
        "\n",
        "# exiba a mensagem evidenciando que está começando a processar as informações do aluno\n",
        "# e quando tiver terminado de processa-las, independente se deu erro ou não.\n",
        "# finally\n",
        "\n",
        "alunos = ['John', 'Paul', 'George', 'Ringo', 'Joao', 'Pete']\n",
        "\n",
        "notas = {\n",
        "    'John':[7.5, 9.0, 8.25, 8.0],\n",
        "    'Paul':[9.0, 8.5, '10.0', 8.5],\n",
        "    'George':[6.0, '7.0', 8.0, 9],\n",
        "    'Ringo':[4.5, 4.0, 6.0, 7.0],\n",
        "    'Pete':[]\n",
        "}\n",
        "\n",
        "for aluno in alunos:\n",
        "  try:\n",
        "    print(f\"começando a processar as notas do aluno {aluno}\")\n",
        "    media = sum(notas[aluno])/len(notas[aluno])\n",
        "    print(f'{aluno}:\\t{media}')\n",
        "  except TypeError:\n",
        "    print(\"as notas possuem tipos de dados inválidos\")\n",
        "  except KeyError:\n",
        "    print(f\"não encontramos o usuário {aluno} nas nossas notas\")\n",
        "  except ZeroDivisionError:\n",
        "    print(\"você tentou fazer uma média dividindo por zero. provavelmente sua lista está vazia\")\n",
        "  except:\n",
        "    print(\"erro genérico\")\n",
        "  finally:\n",
        "    print(f\"terminei de processar as notas do aluno {aluno}\")\n",
        "\n",
        "# TypeError\n",
        "# KeyError\n",
        "# ZeroDivisionError\n"
      ]
    },
    {
      "cell_type": "markdown",
      "id": "dba7eb32",
      "metadata": {
        "id": "dba7eb32"
      },
      "source": [
        "> Os próximos tópicos utilizam alguns conceitos de **Programação Orientada a Objeto**, como classes, objetos, métodos e herança. Ela está aqui para tornar o material mais completo, mas não é esperado que vocês entendam plenamente os conceitos envolvidos neste momento. Porém, caso se sinta confortável, você pode usar os códigos dos próximos tópicos como um _modelo_ para criar suas próprias exceções."
      ]
    },
    {
      "cell_type": "markdown",
      "id": "5e5281f6",
      "metadata": {
        "id": "5e5281f6"
      },
      "source": [
        "## Criando novas exceções\n",
        "\n",
        "Muitos problemas simples podem ser resolvidos através do ```raise Exception(mensagem)```. Porém, você deve ter notado que o nome da nossa mensagem de erro foi ```Exception```.\n",
        "\n",
        "Exceções geralmente são implementadas através de classes. O \"nome\" dos erros é o nome da classe de cada exceção. Existe uma exceção genérica chamada de ```Exception```. Quando usamos ```raise Exception(mensagem)```, estamos lançando essa exceção genérica junto de uma mensagem de erro personalizada.\n",
        "\n",
        "O problema da nossa abordagem é que por utilizarmos uma exceção genérica não teremos como adicionar um ```except``` específico para nossa mensagem. Vamos criar nossa própria classe para escolher o nome de nosso erro. Exceções personalizadas geralmente **herdam** da classe ```Exception```. Fazemos isso adicionando ```(Exception)``` após o nome de nossa classe.\n",
        "\n",
        "Vamos colocar um construtor que recebe uma mensagem. Podemos definir uma mensagem padrão, caso ninguém passe a mensagem. Em seguida, chamaremos o construtor da superclasse ```(Exception)```. Não se preocupe com os detalhes, veremos isso na aula de herança."
      ]
    },
    {
      "cell_type": "code",
      "source": [
        "# essa é a classe exception que conhecemos\n",
        "Exception('minha mensagem de erro')"
      ],
      "metadata": {
        "colab": {
          "base_uri": "https://localhost:8080/"
        },
        "id": "X8OXFKMMAXzH",
        "outputId": "9dd0e033-1981-44be-cc33-db26817f8dda"
      },
      "id": "X8OXFKMMAXzH",
      "execution_count": null,
      "outputs": [
        {
          "output_type": "execute_result",
          "data": {
            "text/plain": [
              "Exception('minha mensagem de erro')"
            ]
          },
          "metadata": {},
          "execution_count": 35
        }
      ]
    },
    {
      "cell_type": "code",
      "source": [
        "Exception() # recebe um argumento, que é nossa mensagem de erro\n",
        "raise Exception('minha mensagem de erro')"
      ],
      "metadata": {
        "colab": {
          "base_uri": "https://localhost:8080/",
          "height": 194
        },
        "id": "cQiCBTw0wIPP",
        "outputId": "cb2bb674-71ba-491e-8ba4-24f56c5710d5"
      },
      "id": "cQiCBTw0wIPP",
      "execution_count": null,
      "outputs": [
        {
          "output_type": "error",
          "ename": "Exception",
          "evalue": "minha mensagem de erro",
          "traceback": [
            "\u001b[0;31m---------------------------------------------------------------------------\u001b[0m",
            "\u001b[0;31mException\u001b[0m                                 Traceback (most recent call last)",
            "\u001b[0;32m<ipython-input-36-df53a4269e89>\u001b[0m in \u001b[0;36m<cell line: 2>\u001b[0;34m()\u001b[0m\n\u001b[1;32m      1\u001b[0m \u001b[0mException\u001b[0m\u001b[0;34m(\u001b[0m\u001b[0;34m)\u001b[0m \u001b[0;31m# recebe um argumento, que é nossa mensagem de erro\u001b[0m\u001b[0;34m\u001b[0m\u001b[0;34m\u001b[0m\u001b[0m\n\u001b[0;32m----> 2\u001b[0;31m \u001b[0;32mraise\u001b[0m \u001b[0mException\u001b[0m\u001b[0;34m(\u001b[0m\u001b[0;34m'minha mensagem de erro'\u001b[0m\u001b[0;34m)\u001b[0m\u001b[0;34m\u001b[0m\u001b[0;34m\u001b[0m\u001b[0m\n\u001b[0m",
            "\u001b[0;31mException\u001b[0m: minha mensagem de erro"
          ]
        }
      ]
    },
    {
      "cell_type": "code",
      "execution_count": null,
      "id": "f50f2e67",
      "metadata": {
        "id": "f50f2e67"
      },
      "outputs": [],
      "source": [
        "class SalarioInvalido(Exception): # class determina a criação de uma classe. estamos herdando características da classe base Exception\n",
        "    def __init__(self, message='Salários devem ser positivos!'): # vou colocar essa mensagem default\n",
        "        super().__init__(message)"
      ]
    },
    {
      "cell_type": "markdown",
      "id": "3a4a0d8d",
      "metadata": {
        "id": "3a4a0d8d"
      },
      "source": [
        "Agora que criamos nossa exceção, podemos lançá-la:"
      ]
    },
    {
      "cell_type": "code",
      "execution_count": null,
      "id": "f951b596",
      "metadata": {
        "colab": {
          "base_uri": "https://localhost:8080/",
          "height": 332
        },
        "id": "f951b596",
        "outputId": "83cc2b51-227a-42cc-ac92-dd6c5008aaa6"
      },
      "outputs": [
        {
          "output_type": "error",
          "ename": "SalarioInvalido",
          "evalue": "Salários devem ser positivos!",
          "traceback": [
            "\u001b[0;31m---------------------------------------------------------------------------\u001b[0m",
            "\u001b[0;31mSalarioInvalido\u001b[0m                           Traceback (most recent call last)",
            "\u001b[0;32m<ipython-input-38-a3b61a77cf73>\u001b[0m in \u001b[0;36m<cell line: 9>\u001b[0;34m()\u001b[0m\n\u001b[1;32m      7\u001b[0m     \u001b[0;32mreturn\u001b[0m \u001b[0mlista_salarios\u001b[0m\u001b[0;34m.\u001b[0m\u001b[0mappend\u001b[0m\u001b[0;34m(\u001b[0m\u001b[0msalario\u001b[0m\u001b[0;34m)\u001b[0m\u001b[0;34m\u001b[0m\u001b[0;34m\u001b[0m\u001b[0m\n\u001b[1;32m      8\u001b[0m \u001b[0;34m\u001b[0m\u001b[0m\n\u001b[0;32m----> 9\u001b[0;31m \u001b[0mcadastrar_salario\u001b[0m\u001b[0;34m(\u001b[0m\u001b[0;36m0\u001b[0m\u001b[0;34m,\u001b[0m\u001b[0mlista_salarios\u001b[0m\u001b[0;34m)\u001b[0m\u001b[0;34m\u001b[0m\u001b[0;34m\u001b[0m\u001b[0m\n\u001b[0m",
            "\u001b[0;32m<ipython-input-38-a3b61a77cf73>\u001b[0m in \u001b[0;36mcadastrar_salario\u001b[0;34m(salario, lista_salarios)\u001b[0m\n\u001b[1;32m      3\u001b[0m \u001b[0;32mdef\u001b[0m \u001b[0mcadastrar_salario\u001b[0m\u001b[0;34m(\u001b[0m\u001b[0msalario\u001b[0m\u001b[0;34m,\u001b[0m\u001b[0mlista_salarios\u001b[0m\u001b[0;34m)\u001b[0m\u001b[0;34m:\u001b[0m\u001b[0;34m\u001b[0m\u001b[0;34m\u001b[0m\u001b[0m\n\u001b[1;32m      4\u001b[0m     \u001b[0;32mif\u001b[0m \u001b[0msalario\u001b[0m \u001b[0;34m<=\u001b[0m \u001b[0;36m0\u001b[0m\u001b[0;34m:\u001b[0m\u001b[0;34m\u001b[0m\u001b[0;34m\u001b[0m\u001b[0m\n\u001b[0;32m----> 5\u001b[0;31m         \u001b[0;32mraise\u001b[0m \u001b[0mSalarioInvalido\u001b[0m\u001b[0;34m(\u001b[0m\u001b[0;34m)\u001b[0m\u001b[0;34m\u001b[0m\u001b[0;34m\u001b[0m\u001b[0m\n\u001b[0m\u001b[1;32m      6\u001b[0m \u001b[0;34m\u001b[0m\u001b[0m\n\u001b[1;32m      7\u001b[0m     \u001b[0;32mreturn\u001b[0m \u001b[0mlista_salarios\u001b[0m\u001b[0;34m.\u001b[0m\u001b[0mappend\u001b[0m\u001b[0;34m(\u001b[0m\u001b[0msalario\u001b[0m\u001b[0;34m)\u001b[0m\u001b[0;34m\u001b[0m\u001b[0;34m\u001b[0m\u001b[0m\n",
            "\u001b[0;31mSalarioInvalido\u001b[0m: Salários devem ser positivos!"
          ]
        }
      ],
      "source": [
        "lista_salarios = []\n",
        "\n",
        "def cadastrar_salario(salario,lista_salarios):\n",
        "    if salario <= 0:\n",
        "        raise SalarioInvalido()\n",
        "\n",
        "    return lista_salarios.append(salario)\n",
        "\n",
        "cadastrar_salario(0,lista_salarios)"
      ]
    },
    {
      "cell_type": "markdown",
      "id": "5541d3d5",
      "metadata": {
        "id": "5541d3d5"
      },
      "source": [
        "Agora sim temos um erro com seu próprio nome e uma mensagem padrão. Mas note que quem está usando a nossa exceção pode personalizar a mensagem se quiser, basta passar uma mensagem diferente entre parênteses. O tipo do erro ainda será o mesmo e ambos deverão ser identificados como ```SalarioInvalido``` no ```Except```."
      ]
    },
    {
      "cell_type": "code",
      "execution_count": null,
      "id": "cf710e94",
      "metadata": {
        "id": "cf710e94",
        "colab": {
          "base_uri": "https://localhost:8080/",
          "height": 332
        },
        "outputId": "03ca9089-ff5d-478f-90db-2aebef221819"
      },
      "outputs": [
        {
          "output_type": "error",
          "ename": "SalarioInvalido",
          "evalue": "salário menor ou igual a zero!",
          "traceback": [
            "\u001b[0;31m---------------------------------------------------------------------------\u001b[0m",
            "\u001b[0;31mSalarioInvalido\u001b[0m                           Traceback (most recent call last)",
            "\u001b[0;32m<ipython-input-39-954dd11a8992>\u001b[0m in \u001b[0;36m<cell line: 9>\u001b[0;34m()\u001b[0m\n\u001b[1;32m      7\u001b[0m     \u001b[0msalarios\u001b[0m\u001b[0;34m.\u001b[0m\u001b[0mappend\u001b[0m\u001b[0;34m(\u001b[0m\u001b[0msalario\u001b[0m\u001b[0;34m)\u001b[0m\u001b[0;34m\u001b[0m\u001b[0;34m\u001b[0m\u001b[0m\n\u001b[1;32m      8\u001b[0m \u001b[0;34m\u001b[0m\u001b[0m\n\u001b[0;32m----> 9\u001b[0;31m \u001b[0mcadastrar_salario\u001b[0m\u001b[0;34m(\u001b[0m\u001b[0;36m0\u001b[0m\u001b[0;34m)\u001b[0m\u001b[0;34m\u001b[0m\u001b[0;34m\u001b[0m\u001b[0m\n\u001b[0m",
            "\u001b[0;32m<ipython-input-39-954dd11a8992>\u001b[0m in \u001b[0;36mcadastrar_salario\u001b[0;34m(salario)\u001b[0m\n\u001b[1;32m      3\u001b[0m \u001b[0;32mdef\u001b[0m \u001b[0mcadastrar_salario\u001b[0m\u001b[0;34m(\u001b[0m\u001b[0msalario\u001b[0m\u001b[0;34m)\u001b[0m\u001b[0;34m:\u001b[0m\u001b[0;34m\u001b[0m\u001b[0;34m\u001b[0m\u001b[0m\n\u001b[1;32m      4\u001b[0m     \u001b[0;32mif\u001b[0m \u001b[0msalario\u001b[0m \u001b[0;34m<=\u001b[0m \u001b[0;36m0\u001b[0m\u001b[0;34m:\u001b[0m\u001b[0;34m\u001b[0m\u001b[0;34m\u001b[0m\u001b[0m\n\u001b[0;32m----> 5\u001b[0;31m         \u001b[0;32mraise\u001b[0m \u001b[0mSalarioInvalido\u001b[0m\u001b[0;34m(\u001b[0m\u001b[0;34m'salário menor ou igual a zero!'\u001b[0m\u001b[0;34m)\u001b[0m\u001b[0;34m\u001b[0m\u001b[0;34m\u001b[0m\u001b[0m\n\u001b[0m\u001b[1;32m      6\u001b[0m \u001b[0;34m\u001b[0m\u001b[0m\n\u001b[1;32m      7\u001b[0m     \u001b[0msalarios\u001b[0m\u001b[0;34m.\u001b[0m\u001b[0mappend\u001b[0m\u001b[0;34m(\u001b[0m\u001b[0msalario\u001b[0m\u001b[0;34m)\u001b[0m\u001b[0;34m\u001b[0m\u001b[0;34m\u001b[0m\u001b[0m\n",
            "\u001b[0;31mSalarioInvalido\u001b[0m: salário menor ou igual a zero!"
          ]
        }
      ],
      "source": [
        "salarios = []\n",
        "\n",
        "def cadastrar_salario(salario):\n",
        "    if salario <= 0:\n",
        "        raise SalarioInvalido('salário menor ou igual a zero!')\n",
        "\n",
        "    salarios.append(salario)\n",
        "\n",
        "cadastrar_salario(0)"
      ]
    },
    {
      "cell_type": "markdown",
      "id": "03acc2d5",
      "metadata": {
        "id": "03acc2d5"
      },
      "source": [
        "Bom, para finalizar, vale sempre lembrar que podemos tratar essa exceção específica:\n",
        "\n"
      ]
    },
    {
      "cell_type": "code",
      "execution_count": null,
      "id": "66205572",
      "metadata": {
        "id": "66205572",
        "colab": {
          "base_uri": "https://localhost:8080/"
        },
        "outputId": "ca52d96b-bcbb-4604-b516-bc35dbd63056"
      },
      "outputs": [
        {
          "output_type": "stream",
          "name": "stdout",
          "text": [
            "Digite o salário do funcionário: -100\n",
            "Nosso RH é uma vergonha :(\n",
            "Digite o salário do funcionário: theo\n",
            "Exceção genérica lalala\n",
            "Digite o salário do funcionário: 1000\n",
            "[1000.0]\n"
          ]
        }
      ],
      "source": [
        "salarios = []\n",
        "\n",
        "def cadastrar_salario(salario):\n",
        "  if salario <= 0:\n",
        "      raise SalarioInvalido()\n",
        "\n",
        "  salarios.append(salario)\n",
        "\n",
        "for i in range(3):\n",
        "  try:\n",
        "    salario = float(input('Digite o salário do funcionário: '))\n",
        "    cadastrar_salario(salario)\n",
        "  except SalarioInvalido:\n",
        "    print('Nosso RH é uma vergonha :(')\n",
        "  except:\n",
        "    print('Exceção genérica lalala')\n",
        "\n",
        "print(salarios)"
      ]
    },
    {
      "cell_type": "markdown",
      "id": "562bf7a0",
      "metadata": {
        "id": "562bf7a0"
      },
      "source": [
        "## ~~Finally~~ Finalmente..."
      ]
    },
    {
      "cell_type": "markdown",
      "id": "a59729ec",
      "metadata": {
        "id": "a59729ec"
      },
      "source": [
        "O tópico parece extenso, mas é bastante simples e você irá usar apenas o que precisar.\n",
        "\n",
        "Como usuário de um módulo, você deverá saber se existem situações onde ele pode lançar exceções, e neste caso usar o ```try```/```exception``` para tratá-las.\n",
        "\n",
        "Caso haja necessidade de dar tratamentos diferentes para exceções diferentes, você pode utilizar múltiplos ```except```, mas isso é totalmente opcional.\n",
        "\n",
        "\n",
        "Caso haja necessidade de realizar qualquer \"limpeza\", como fechar arquivos e conexões, você pode usar o ```finally```.\n",
        "\n",
        "---\n",
        "\n",
        "Como criador de módulos, é útil lançar exceções sempre que você encontrar uma situação onde você acredita que uma tarefa deveria ser abandonada porque algum valor ou situação errada ocorreu. Nunca sinalize essas situações com um ```print```, sempre prefira utilizar o ```raise``` para lançar exceções, pois elas irão aparecer no terminal assim como o ```print```, mas também irão aparecer em logs e podem ser detectadas em código."
      ]
    },
    {
      "cell_type": "markdown",
      "source": [
        "# link útil\n",
        "\n",
        "\n",
        "- documentação de exceptions built-in:  https://docs.python.org/3/library/exceptions.html"
      ],
      "metadata": {
        "id": "E6Nnlq3OfzfB"
      },
      "id": "E6Nnlq3OfzfB"
    },
    {
      "cell_type": "code",
      "source": [],
      "metadata": {
        "id": "DV1Eugzjf0pb"
      },
      "id": "DV1Eugzjf0pb",
      "execution_count": null,
      "outputs": []
    }
  ],
  "metadata": {
    "kernelspec": {
      "display_name": "Python 3 (ipykernel)",
      "language": "python",
      "name": "python3"
    },
    "language_info": {
      "codemirror_mode": {
        "name": "ipython",
        "version": 3
      },
      "file_extension": ".py",
      "mimetype": "text/x-python",
      "name": "python",
      "nbconvert_exporter": "python",
      "pygments_lexer": "ipython3",
      "version": "3.9.7"
    },
    "colab": {
      "provenance": []
    }
  },
  "nbformat": 4,
  "nbformat_minor": 5
}