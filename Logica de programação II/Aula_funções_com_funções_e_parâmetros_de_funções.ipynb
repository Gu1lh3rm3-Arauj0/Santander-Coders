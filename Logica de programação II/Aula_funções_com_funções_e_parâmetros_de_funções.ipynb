{
  "cells": [
    {
      "cell_type": "markdown",
      "source": [
        "#Vamos relembrar alguns conceitos sobre funções"
      ],
      "metadata": {
        "id": "HNb8ZdxHz1fr"
      }
    },
    {
      "cell_type": "markdown",
      "source": [
        "Uma função é um objeto utilizado para **fazer determinadas ações**.\n",
        "\n",
        "<br>\n",
        "\n",
        "Podemos pensar como uma máquina que quando inserimos argumentos nos seus parâmetros faz algo e pode ou não retornar algo"
      ],
      "metadata": {
        "id": "bBLWdUyIz-2K"
      }
    },
    {
      "cell_type": "code",
      "source": [
        "def nome_da_funcao(parametro1=\"argumento\"):\n",
        "  instrucoes = str(parametro1) + \". instrucao aplicada!\"\n",
        "  saida = \"saida: \" + instrucoes\n",
        "\n",
        "  return saida\n",
        "\n",
        "nome_da_funcao(\"meu argumento\")"
      ],
      "metadata": {
        "id": "2i0Lj4jGPZky",
        "colab": {
          "base_uri": "https://localhost:8080/",
          "height": 35
        },
        "outputId": "b90ef886-ba47-44fe-fc63-8f3d4b03c583"
      },
      "execution_count": null,
      "outputs": [
        {
          "output_type": "execute_result",
          "data": {
            "text/plain": [
              "'saida: meu argumento. instrucao aplicada!'"
            ],
            "application/vnd.google.colaboratory.intrinsic+json": {
              "type": "string"
            }
          },
          "metadata": {},
          "execution_count": 1
        }
      ]
    },
    {
      "cell_type": "code",
      "source": [],
      "metadata": {
        "id": "7QzVH3K0PZnd"
      },
      "execution_count": null,
      "outputs": []
    },
    {
      "cell_type": "markdown",
      "source": [
        "O que fizemos acima é:\n",
        "\n",
        "- usamos \"def\" para deixar claro para o Python que estamos **definindo** uma função;\n",
        "- Depois, demos um **nome** para nossa função;\n",
        "- Em parênteses, determinamos quais serão os **parâmetros** que quando a função for utilizada será \"preenchida\" pelos argumentos -- esses são os inputs, e em python, esses elementos podem ser opcionais!\n",
        "- Depois, realizamos uma série de instruções. Nesse caso, concatenamos dois textos.\n",
        "- Ao fim, dizemos o que a função irá **retornar** -- esses são os outputs, e em Python esse elemento pode ser opcional!"
      ],
      "metadata": {
        "id": "lJYihNDa5gvy"
      }
    },
    {
      "cell_type": "markdown",
      "source": [
        "Importante lembrar que as variáveis criadas dentro da função como padrão ficarão dentro do escopo da função. Isto é, não serão salvas se você chama-las fora"
      ],
      "metadata": {
        "id": "9W_F44Nn89a-"
      }
    },
    {
      "cell_type": "markdown",
      "source": [
        "# Funções com funções"
      ],
      "metadata": {
        "id": "-RvyHw98cl0V"
      }
    },
    {
      "cell_type": "code",
      "source": [],
      "metadata": {
        "id": "bZZZGYxokF-f"
      },
      "execution_count": null,
      "outputs": []
    },
    {
      "cell_type": "markdown",
      "source": [
        "Uma função, assim como outras \"informações\" que aprendemos, também consegue ser atribuída a uma variável.\n",
        "\n",
        "```python\n",
        "var1 = 2\n",
        "var2 = sum\n",
        "```\n",
        "\n",
        "As funções também conseguem ser passadas como argumento para outras funções. Essa combinação entre funções pode ser útil quando queremos executar uma mesma sequência de passos"
      ],
      "metadata": {
        "id": "cBgGm21sc2Yp"
      }
    },
    {
      "cell_type": "markdown",
      "source": [
        "vamos a um exemplo"
      ],
      "metadata": {
        "id": "gjI9wfWkgUOY"
      }
    },
    {
      "cell_type": "code",
      "source": [
        "def minha_funcao(n):\n",
        "  return n\n",
        "\n",
        "minha_funcao(5)"
      ],
      "metadata": {
        "id": "2OTFxGKwPeZW",
        "colab": {
          "base_uri": "https://localhost:8080/"
        },
        "outputId": "245aacb9-1e8e-44a9-9d41-700a8fa86c81"
      },
      "execution_count": null,
      "outputs": [
        {
          "output_type": "execute_result",
          "data": {
            "text/plain": [
              "5"
            ]
          },
          "metadata": {},
          "execution_count": 2
        }
      ]
    },
    {
      "cell_type": "code",
      "source": [
        "minha_funcao()"
      ],
      "metadata": {
        "id": "1ncxaJkbPfjo",
        "colab": {
          "base_uri": "https://localhost:8080/",
          "height": 176
        },
        "outputId": "4bade968-5cdf-4af7-93bc-3bca19f32f7e"
      },
      "execution_count": null,
      "outputs": [
        {
          "output_type": "error",
          "ename": "TypeError",
          "evalue": "minha_funcao() missing 1 required positional argument: 'n'",
          "traceback": [
            "\u001b[0;31m---------------------------------------------------------------------------\u001b[0m",
            "\u001b[0;31mTypeError\u001b[0m                                 Traceback (most recent call last)",
            "\u001b[0;32m<ipython-input-3-89122eda3537>\u001b[0m in \u001b[0;36m<cell line: 1>\u001b[0;34m()\u001b[0m\n\u001b[0;32m----> 1\u001b[0;31m \u001b[0mminha_funcao\u001b[0m\u001b[0;34m(\u001b[0m\u001b[0;34m)\u001b[0m\u001b[0;34m\u001b[0m\u001b[0;34m\u001b[0m\u001b[0m\n\u001b[0m",
            "\u001b[0;31mTypeError\u001b[0m: minha_funcao() missing 1 required positional argument: 'n'"
          ]
        }
      ]
    },
    {
      "cell_type": "code",
      "source": [
        "minha_funcao"
      ],
      "metadata": {
        "id": "zlnIupgOPfmc",
        "colab": {
          "base_uri": "https://localhost:8080/"
        },
        "outputId": "a11783a6-6829-4838-d746-2fdae9aa344f"
      },
      "execution_count": null,
      "outputs": [
        {
          "output_type": "execute_result",
          "data": {
            "text/plain": [
              "<function __main__.minha_funcao(n)>"
            ]
          },
          "metadata": {},
          "execution_count": 4
        }
      ]
    },
    {
      "cell_type": "code",
      "source": [
        "type(minha_funcao)"
      ],
      "metadata": {
        "id": "LUMAsZs4Pfr5",
        "colab": {
          "base_uri": "https://localhost:8080/"
        },
        "outputId": "ac27a2b1-f26c-459a-8e96-b99bd6310f56"
      },
      "execution_count": null,
      "outputs": [
        {
          "output_type": "execute_result",
          "data": {
            "text/plain": [
              "function"
            ]
          },
          "metadata": {},
          "execution_count": 5
        }
      ]
    },
    {
      "cell_type": "code",
      "source": [
        "def minha_outra_funcao(numero, funcao):\n",
        "  return funcao(numero) * numero # elevando ao quadrado / valor quadrático\n"
      ],
      "metadata": {
        "id": "Aq8ydfzdPi3y"
      },
      "execution_count": null,
      "outputs": []
    },
    {
      "cell_type": "code",
      "source": [
        "# return minha_funcao(2) * 2 == 4\n",
        "\n",
        "minha_outra_funcao(2,minha_funcao)"
      ],
      "metadata": {
        "colab": {
          "base_uri": "https://localhost:8080/"
        },
        "id": "oCtxPCDDjJGd",
        "outputId": "5f176d8a-1a11-4fb1-980f-67f533683106"
      },
      "execution_count": null,
      "outputs": [
        {
          "output_type": "execute_result",
          "data": {
            "text/plain": [
              "4"
            ]
          },
          "metadata": {},
          "execution_count": 7
        }
      ]
    },
    {
      "cell_type": "code",
      "source": [
        "minha_outra_funcao(3,minha_funcao)"
      ],
      "metadata": {
        "colab": {
          "base_uri": "https://localhost:8080/"
        },
        "id": "uYmdV14ZjsBH",
        "outputId": "ba91ca4b-ccf3-40c4-a86f-09803b035374"
      },
      "execution_count": null,
      "outputs": [
        {
          "output_type": "execute_result",
          "data": {
            "text/plain": [
              "9"
            ]
          },
          "metadata": {},
          "execution_count": 8
        }
      ]
    },
    {
      "cell_type": "markdown",
      "source": [
        "vamos a outro exemplo"
      ],
      "metadata": {
        "id": "EOah0SvyvMtS"
      }
    },
    {
      "cell_type": "code",
      "source": [
        "def soma(a,b):\n",
        "  return a + b\n",
        "\n",
        "def subtracao(a,b):\n",
        "  return a - b\n",
        "\n",
        "def multiplicacao(a,b):\n",
        "  return a * b\n",
        "\n",
        "def divisao(a,b):\n",
        "  return a / b\n",
        "\n",
        "def operador_para_funcao(operador):\n",
        "  if operador == '+':\n",
        "    return soma\n",
        "  elif operador == '-':\n",
        "    return subtracao\n",
        "  elif operador == \"*\":\n",
        "    return multiplicacao\n",
        "  else:\n",
        "    return divisao\n",
        "\n"
      ],
      "metadata": {
        "id": "zmaNpxTZPnyG"
      },
      "execution_count": null,
      "outputs": []
    },
    {
      "cell_type": "code",
      "source": [
        "operador_para_funcao('+'(2,5))\n"
      ],
      "metadata": {
        "colab": {
          "base_uri": "https://localhost:8080/",
          "height": 246
        },
        "id": "WehMF4rEnFMV",
        "outputId": "5f4e0594-f970-4159-c728-173874ba8131"
      },
      "execution_count": null,
      "outputs": [
        {
          "output_type": "stream",
          "name": "stderr",
          "text": [
            "<>:1: SyntaxWarning: 'str' object is not callable; perhaps you missed a comma?\n",
            "<>:1: SyntaxWarning: 'str' object is not callable; perhaps you missed a comma?\n",
            "<ipython-input-12-a35314b6a122>:1: SyntaxWarning: 'str' object is not callable; perhaps you missed a comma?\n",
            "  operador_para_funcao('+'(2,5))\n"
          ]
        },
        {
          "output_type": "error",
          "ename": "TypeError",
          "evalue": "'str' object is not callable",
          "traceback": [
            "\u001b[0;31m---------------------------------------------------------------------------\u001b[0m",
            "\u001b[0;31mTypeError\u001b[0m                                 Traceback (most recent call last)",
            "\u001b[0;32m<ipython-input-12-a35314b6a122>\u001b[0m in \u001b[0;36m<cell line: 1>\u001b[0;34m()\u001b[0m\n\u001b[0;32m----> 1\u001b[0;31m \u001b[0moperador_para_funcao\u001b[0m\u001b[0;34m(\u001b[0m\u001b[0;34m'+'\u001b[0m\u001b[0;34m(\u001b[0m\u001b[0;36m2\u001b[0m\u001b[0;34m,\u001b[0m\u001b[0;36m5\u001b[0m\u001b[0;34m)\u001b[0m\u001b[0;34m)\u001b[0m\u001b[0;34m\u001b[0m\u001b[0;34m\u001b[0m\u001b[0m\n\u001b[0m",
            "\u001b[0;31mTypeError\u001b[0m: 'str' object is not callable"
          ]
        }
      ]
    },
    {
      "cell_type": "code",
      "source": [
        "operador_para_funcao('+')(5, 7)\n"
      ],
      "metadata": {
        "colab": {
          "base_uri": "https://localhost:8080/"
        },
        "id": "UDh2P71MnMVL",
        "outputId": "f261aa4a-e588-4fc9-d56d-b3a38f5a87b3"
      },
      "execution_count": null,
      "outputs": [
        {
          "output_type": "execute_result",
          "data": {
            "text/plain": [
              "12"
            ]
          },
          "metadata": {},
          "execution_count": 13
        }
      ]
    },
    {
      "cell_type": "code",
      "source": [
        "operador_para_funcao('*')"
      ],
      "metadata": {
        "colab": {
          "base_uri": "https://localhost:8080/"
        },
        "id": "Pz1RK6EmneKo",
        "outputId": "2d2aab13-b659-42ed-9d87-6a9b4a31c4c1"
      },
      "execution_count": null,
      "outputs": [
        {
          "output_type": "execute_result",
          "data": {
            "text/plain": [
              "<function __main__.multiplicacao(a, b)>"
            ]
          },
          "metadata": {},
          "execution_count": 17
        }
      ]
    },
    {
      "cell_type": "code",
      "source": [
        "multiplicacao"
      ],
      "metadata": {
        "colab": {
          "base_uri": "https://localhost:8080/"
        },
        "id": "VPw6C2EZnmt0",
        "outputId": "74fef261-7289-4959-b0dd-af52d7fc1400"
      },
      "execution_count": null,
      "outputs": [
        {
          "output_type": "execute_result",
          "data": {
            "text/plain": [
              "<function __main__.multiplicacao(a, b)>"
            ]
          },
          "metadata": {},
          "execution_count": 16
        }
      ]
    },
    {
      "cell_type": "code",
      "source": [
        "multiplicacao(5,2)\n"
      ],
      "metadata": {
        "id": "Gma7OpBsPoMd",
        "colab": {
          "base_uri": "https://localhost:8080/"
        },
        "outputId": "655a6f73-2700-4117-e033-0e2edb2d2b1c"
      },
      "execution_count": null,
      "outputs": [
        {
          "output_type": "execute_result",
          "data": {
            "text/plain": [
              "10"
            ]
          },
          "metadata": {},
          "execution_count": 18
        }
      ]
    },
    {
      "cell_type": "markdown",
      "source": [
        "Como vimos:\n",
        "- As funções se passadas sem parênteses () podem ser utilizadas dentro de outras funções.\n",
        "\n",
        "- Conseguimos passar uma função como argumento e utiliza-la dentro da função"
      ],
      "metadata": {
        "id": "fkOD5g_AwmLN"
      }
    },
    {
      "cell_type": "markdown",
      "source": [
        "## função filter()"
      ],
      "metadata": {
        "id": "_JsOqvUbxYMq"
      }
    },
    {
      "cell_type": "markdown",
      "source": [
        "documentação: https://docs.python.org/3/library/functions.html#filter"
      ],
      "metadata": {
        "id": "vWcqv7Rm4iIQ"
      }
    },
    {
      "cell_type": "code",
      "source": [
        "# na função filter preciso que retorne um valor booleano. para os casos de booleano True o filter\n",
        "# irá considerar dentro do resultado\n",
        "\n",
        "def is_impar(n):\n",
        "  if n % 2 != 0:\n",
        "    return True\n",
        "  else:\n",
        "    return False\n",
        "\n",
        "is_impar(3)\n",
        "\n"
      ],
      "metadata": {
        "colab": {
          "base_uri": "https://localhost:8080/"
        },
        "id": "iqOs8sNtorP5",
        "outputId": "1d9171cd-63c7-41f0-ecd0-50650c65312a"
      },
      "execution_count": null,
      "outputs": [
        {
          "output_type": "execute_result",
          "data": {
            "text/plain": [
              "True"
            ]
          },
          "metadata": {},
          "execution_count": 22
        }
      ]
    },
    {
      "cell_type": "code",
      "source": [],
      "metadata": {
        "id": "Bnqjg8Uhws9l"
      },
      "execution_count": null,
      "outputs": []
    },
    {
      "cell_type": "code",
      "source": [
        "is_impar(4)"
      ],
      "metadata": {
        "colab": {
          "base_uri": "https://localhost:8080/"
        },
        "id": "nViAUJgRpCSI",
        "outputId": "bc54467b-0bad-4b80-d458-bc2ecafd4e8b"
      },
      "execution_count": null,
      "outputs": [
        {
          "output_type": "execute_result",
          "data": {
            "text/plain": [
              "False"
            ]
          },
          "metadata": {},
          "execution_count": 23
        }
      ]
    },
    {
      "cell_type": "code",
      "source": [
        "lista = [1,2,494,28485,29384,29385,29384,283854,28385]\n",
        "lista = [1,2,3,4,5,6,7,8,9]"
      ],
      "metadata": {
        "id": "n5MEkqg6pN0V"
      },
      "execution_count": null,
      "outputs": []
    },
    {
      "cell_type": "code",
      "source": [
        "# é como se fosse o misto do for com if\n",
        "tuple(filter(is_impar, lista))\n",
        "\n"
      ],
      "metadata": {
        "colab": {
          "base_uri": "https://localhost:8080/"
        },
        "id": "d16-DnKcorhE",
        "outputId": "fa75eb31-15bf-47db-ffb4-03af0c26f65c"
      },
      "execution_count": null,
      "outputs": [
        {
          "output_type": "execute_result",
          "data": {
            "text/plain": [
              "(1, 3, 5, 7, 9)"
            ]
          },
          "metadata": {},
          "execution_count": 30
        }
      ]
    },
    {
      "cell_type": "code",
      "source": [
        "tuple(filter(is_impar, lista))\n",
        "list(filter(is_impar, lista))"
      ],
      "metadata": {
        "colab": {
          "base_uri": "https://localhost:8080/"
        },
        "id": "Z677BITbqt8h",
        "outputId": "5893b2ff-0f46-41d8-89dd-c6ed3552f572"
      },
      "execution_count": null,
      "outputs": [
        {
          "output_type": "execute_result",
          "data": {
            "text/plain": [
              "[1, 3, 5, 7, 9]"
            ]
          },
          "metadata": {},
          "execution_count": 32
        }
      ]
    },
    {
      "cell_type": "code",
      "source": [
        "for elemento in filter(is_impar, lista):\n",
        "  print(elemento)"
      ],
      "metadata": {
        "id": "MYkEAmLyPqJP",
        "colab": {
          "base_uri": "https://localhost:8080/"
        },
        "outputId": "c965cca3-84d4-4ff2-f931-930d8b4f2470"
      },
      "execution_count": null,
      "outputs": [
        {
          "output_type": "stream",
          "name": "stdout",
          "text": [
            "1\n",
            "3\n",
            "5\n",
            "7\n",
            "9\n"
          ]
        }
      ]
    },
    {
      "cell_type": "code",
      "source": [],
      "metadata": {
        "id": "WRPT-OSoPqMu"
      },
      "execution_count": null,
      "outputs": []
    },
    {
      "cell_type": "markdown",
      "source": [
        "## função map()"
      ],
      "metadata": {
        "id": "eHESMeePwkAy"
      }
    },
    {
      "cell_type": "markdown",
      "source": [
        "links úteis:\n",
        "- https://docs.python.org/3/library/functions.html#map\n",
        "- https://www.geeksforgeeks.org/python-map-function/\n"
      ],
      "metadata": {
        "id": "XuZ2yXbayH83"
      }
    },
    {
      "cell_type": "code",
      "source": [
        "def quadrado(n):\n",
        "  return n ** 2\n",
        "\n",
        "lista = [1,2,3,4]\n",
        "\n",
        "list(map(quadrado,lista))"
      ],
      "metadata": {
        "id": "W9cLZEkfPsE4",
        "colab": {
          "base_uri": "https://localhost:8080/"
        },
        "outputId": "bbc0e542-a60a-41ee-b1e2-87be8a238dec"
      },
      "execution_count": null,
      "outputs": [
        {
          "output_type": "execute_result",
          "data": {
            "text/plain": [
              "[1, 4, 9, 16]"
            ]
          },
          "metadata": {},
          "execution_count": 36
        }
      ]
    },
    {
      "cell_type": "code",
      "source": [
        "def potencia(base,expoente):\n",
        "  return base ** expoente\n",
        "\n",
        "lista = [1,2,3,4]\n",
        "lista2 = [2,2,3,3]\n",
        "\n",
        "tuple(map(potencia, lista,lista2))"
      ],
      "metadata": {
        "id": "yZrjpX1zPsHq",
        "colab": {
          "base_uri": "https://localhost:8080/"
        },
        "outputId": "14c15a8e-fcd5-400b-a237-b016fcacdc86"
      },
      "execution_count": null,
      "outputs": [
        {
          "output_type": "execute_result",
          "data": {
            "text/plain": [
              "(1, 4, 27, 64)"
            ]
          },
          "metadata": {},
          "execution_count": 37
        }
      ]
    },
    {
      "cell_type": "code",
      "source": [],
      "metadata": {
        "id": "S8-1qPHhPsKU"
      },
      "execution_count": null,
      "outputs": []
    },
    {
      "cell_type": "code",
      "source": [],
      "metadata": {
        "id": "-m6t68c9PsNW"
      },
      "execution_count": null,
      "outputs": []
    },
    {
      "cell_type": "code",
      "source": [
        "# diferenças e igualdades entre filter e map:\n",
        "\n"
      ],
      "metadata": {
        "id": "0QxuSgNqPsTH"
      },
      "execution_count": null,
      "outputs": []
    },
    {
      "cell_type": "markdown",
      "source": [
        "## função reduce()"
      ],
      "metadata": {
        "id": "PuZteKs1xbcQ"
      }
    },
    {
      "cell_type": "markdown",
      "source": [
        "documentação: https://docs.python.org/3/library/functools.html\n",
        "\n",
        "visualizando o comportamento da função reduce:\n",
        "https://note.pcwu.net/assets/images/2017-02-06-python-reduce-function-81b7a.png"
      ],
      "metadata": {
        "id": "tCw_PDLu5RQD"
      }
    },
    {
      "cell_type": "markdown",
      "source": [
        "vamos fazer algo um pouco diferente dessa vez, vamos importar (import) algo de uma biblioteca biblioteca, mais especificamente a função reduce dessa biblioteca."
      ],
      "metadata": {
        "id": "4fUaBEvE5V1r"
      }
    },
    {
      "cell_type": "code",
      "source": [
        "reduce()"
      ],
      "metadata": {
        "id": "8mw9xr2Cz1Vv"
      },
      "execution_count": null,
      "outputs": []
    },
    {
      "cell_type": "code",
      "source": [
        "from functools import reduce"
      ],
      "metadata": {
        "id": "00ymW0YM8zaT"
      },
      "execution_count": null,
      "outputs": []
    },
    {
      "cell_type": "code",
      "source": [
        "def subtracao(x,y):\n",
        "  return x - y\n",
        "\n",
        "reduce(subtracao,[3,2,1])\n"
      ],
      "metadata": {
        "id": "VuC4-pzb5VA0",
        "colab": {
          "base_uri": "https://localhost:8080/"
        },
        "outputId": "041be2b2-d86c-48b3-da6c-fa50c4f7ed8f"
      },
      "execution_count": null,
      "outputs": [
        {
          "output_type": "execute_result",
          "data": {
            "text/plain": [
              "0"
            ]
          },
          "metadata": {},
          "execution_count": 42
        }
      ]
    },
    {
      "cell_type": "code",
      "source": [
        "# reducie precisa que a função passada tenha 2 argumentos\n",
        "def repete(x):\n",
        "  return x\n",
        "\n",
        "reduce(repete,[3,2,1])\n"
      ],
      "metadata": {
        "id": "nKFmPa8fPvO5",
        "colab": {
          "base_uri": "https://localhost:8080/",
          "height": 211
        },
        "outputId": "d78d993c-1e9e-423c-b9f8-9f20fefd8ab7"
      },
      "execution_count": null,
      "outputs": [
        {
          "output_type": "error",
          "ename": "TypeError",
          "evalue": "repete() takes 1 positional argument but 2 were given",
          "traceback": [
            "\u001b[0;31m---------------------------------------------------------------------------\u001b[0m",
            "\u001b[0;31mTypeError\u001b[0m                                 Traceback (most recent call last)",
            "\u001b[0;32m<ipython-input-44-010583036604>\u001b[0m in \u001b[0;36m<cell line: 4>\u001b[0;34m()\u001b[0m\n\u001b[1;32m      2\u001b[0m   \u001b[0;32mreturn\u001b[0m \u001b[0mx\u001b[0m\u001b[0;34m\u001b[0m\u001b[0;34m\u001b[0m\u001b[0m\n\u001b[1;32m      3\u001b[0m \u001b[0;34m\u001b[0m\u001b[0m\n\u001b[0;32m----> 4\u001b[0;31m \u001b[0mreduce\u001b[0m\u001b[0;34m(\u001b[0m\u001b[0mrepete\u001b[0m\u001b[0;34m,\u001b[0m\u001b[0;34m[\u001b[0m\u001b[0;36m3\u001b[0m\u001b[0;34m,\u001b[0m\u001b[0;36m2\u001b[0m\u001b[0;34m,\u001b[0m\u001b[0;36m1\u001b[0m\u001b[0;34m]\u001b[0m\u001b[0;34m)\u001b[0m\u001b[0;34m\u001b[0m\u001b[0;34m\u001b[0m\u001b[0m\n\u001b[0m",
            "\u001b[0;31mTypeError\u001b[0m: repete() takes 1 positional argument but 2 were given"
          ]
        }
      ]
    },
    {
      "cell_type": "code",
      "source": [],
      "metadata": {
        "id": "DtbAWCDpPvSR"
      },
      "execution_count": null,
      "outputs": []
    },
    {
      "cell_type": "code",
      "source": [],
      "metadata": {
        "id": "t78L9LY-PvbH"
      },
      "execution_count": null,
      "outputs": []
    },
    {
      "cell_type": "markdown",
      "source": [
        "## Destaques aprendizado map/reduce/filter:\n",
        "\n",
        "- mais um kit de ferramentas que pode ser utilizado passando uma função dentro de outra\n",
        "- é mais 'sucinto' de escrever do que um for loop\n",
        "- pode ser bastante performático"
      ],
      "metadata": {
        "id": "Ynx5L7NzgBei"
      }
    },
    {
      "cell_type": "markdown",
      "metadata": {
        "id": "2oCm0aNo4ltf"
      },
      "source": [
        "# Parâmetros de funções\n",
        "\n",
        "Quando estudamos funções, aprendemos que elas podem fornecer uma resposta (return) e  podem ter parâmetros.\n",
        "\n",
        "- Também vimos que a função poderia retornar exatamente um resultado.\n",
        "\n",
        "- Para os parâmetros: Vimos que o número de argumentos a serem passados era fixo para cada função. Um argumento para cada parâmetro que declaramos na definição da função.\n",
        "\n",
        "\n",
        "Em alguns casos, mais flexibilidade seria útil."
      ]
    },
    {
      "cell_type": "markdown",
      "source": [
        "\n",
        "## Funções com retorno múltiplo\n",
        "Vejamos um caso simples: uma função que responde os valores máximo e mínimo de uma coleção."
      ],
      "metadata": {
        "id": "4IlUaehKeBXJ"
      }
    },
    {
      "cell_type": "code",
      "source": [
        "def min_max(colecao):\n",
        "  print(min(colecao))\n",
        "  print(max(colecao))\n",
        "\n",
        "min_max([1,2])"
      ],
      "metadata": {
        "id": "7j-d_r18P_1s",
        "colab": {
          "base_uri": "https://localhost:8080/"
        },
        "outputId": "f2fae9dd-d69a-46db-9b24-de6d9592d09e"
      },
      "execution_count": null,
      "outputs": [
        {
          "output_type": "stream",
          "name": "stdout",
          "text": [
            "1\n",
            "2\n"
          ]
        }
      ]
    },
    {
      "cell_type": "code",
      "source": [],
      "metadata": {
        "id": "zIu5DQ8ZP_5g"
      },
      "execution_count": null,
      "outputs": []
    },
    {
      "cell_type": "markdown",
      "source": [
        "Você pode retornar os valores separados por vírgula.\n",
        "Vamos imprimir o resultado e verificar o que acontece."
      ],
      "metadata": {
        "id": "7-I8TtEaDgI2"
      }
    },
    {
      "cell_type": "code",
      "source": [
        "def min_max(colecao):\n",
        "  menor = min(colecao)\n",
        "  maior = max(colecao)\n",
        "\n",
        "  return menor,maior # isso aqui nada mais é do que uma tupla\n",
        "\n",
        "min_max([1,2,3,4])"
      ],
      "metadata": {
        "id": "Xqs8DeobGu1i",
        "colab": {
          "base_uri": "https://localhost:8080/"
        },
        "outputId": "42834996-5318-4e43-de4a-0b2e866b77d0"
      },
      "execution_count": null,
      "outputs": [
        {
          "output_type": "execute_result",
          "data": {
            "text/plain": [
              "(1, 4)"
            ]
          },
          "metadata": {},
          "execution_count": 47
        }
      ]
    },
    {
      "cell_type": "code",
      "source": [],
      "metadata": {
        "id": "b7QCsYBlQBx-"
      },
      "execution_count": null,
      "outputs": []
    },
    {
      "cell_type": "markdown",
      "source": [
        "Por que retornar uma tupla?"
      ],
      "metadata": {
        "id": "1FGVQ0HFGDUK"
      }
    },
    {
      "cell_type": "code",
      "source": [
        "# imutável\n",
        "# acessar/slicing"
      ],
      "metadata": {
        "id": "mu5d7JH2Z9Wx"
      },
      "execution_count": null,
      "outputs": []
    },
    {
      "cell_type": "code",
      "source": [
        "resposta = min_max([1,2,3,4]) # resposta == (1,4)\n",
        "\n",
        "menor = resposta[0]\n",
        "maior = resposta[1]\n",
        "\n",
        "menor"
      ],
      "metadata": {
        "id": "Gtzw_rb8QDDE",
        "colab": {
          "base_uri": "https://localhost:8080/"
        },
        "outputId": "c679ab3d-de18-4013-fab1-f8a966ef483b"
      },
      "execution_count": null,
      "outputs": [
        {
          "output_type": "execute_result",
          "data": {
            "text/plain": [
              "1"
            ]
          },
          "metadata": {},
          "execution_count": 48
        }
      ]
    },
    {
      "cell_type": "markdown",
      "source": [
        "como podemos ver, conseguimos atribuir uma variável para o menor e o maior valor. mas será que não existe uma forma melhor de fazer isso?"
      ],
      "metadata": {
        "id": "p0pNvGvUM1wo"
      }
    },
    {
      "cell_type": "code",
      "source": [
        "menor, maior = min_max([1,2,3,4]) # menor,maior = (1,4) . irá realizar o desempacotamento\n",
        "menor\n",
        "maior"
      ],
      "metadata": {
        "id": "4035EO8RQIXK",
        "colab": {
          "base_uri": "https://localhost:8080/"
        },
        "outputId": "501f929d-5f84-4bc3-ea1c-9deadb60d287"
      },
      "execution_count": null,
      "outputs": [
        {
          "output_type": "execute_result",
          "data": {
            "text/plain": [
              "4"
            ]
          },
          "metadata": {},
          "execution_count": 50
        }
      ]
    },
    {
      "cell_type": "markdown",
      "source": [
        "Por que é importante lembrarmos/sabermos isso?"
      ],
      "metadata": {
        "id": "if3bF1ReQKMA"
      }
    },
    {
      "cell_type": "code",
      "source": [
        "import sklearn\n",
        "X_train, X_test, y_train, y_test = train_test_split(X,y,...)"
      ],
      "metadata": {
        "id": "KmXMmnhiQLgK"
      },
      "execution_count": null,
      "outputs": []
    },
    {
      "cell_type": "markdown",
      "metadata": {
        "id": "QaMz01ki4ltq"
      },
      "source": [
        "Vamos resumir então.\n",
        "- Quando utilizamos valores separados por vírgula em Python, os valores são agrupados em uma tupla, mesmo que não estejamos utilizando parênteses.\n",
        "- Essa informação é relevante porque podemos separar a tupla em varias variáveis usando a mesma sintaxe:"
      ]
    },
    {
      "cell_type": "code",
      "source": [],
      "metadata": {
        "id": "1G3kJndWQSJu"
      },
      "execution_count": null,
      "outputs": []
    },
    {
      "cell_type": "markdown",
      "metadata": {
        "id": "vh_JDAPi4ltr"
      },
      "source": [
        "No exemplo acima é mais perceptível a sensação de que a função retornou 2 valores e o programa recebeu esses 2 valores individualmente. Por dentro, tupla. Por fora, retorno múltiplo."
      ]
    },
    {
      "cell_type": "markdown",
      "metadata": {
        "id": "C5V0VTLK4lts"
      },
      "source": [
        "## Parâmetros com valores padrão\n",
        "\n",
        "Uma primeira forma de trabalhar com a ideia de parâmetros opcionais é atribuir valores padrão para nossos parâmetros. Quando fazemos isso, quando a função for chamada, o parâmetro pode **ou** não ser passado. Caso ele não seja passado, é adotado o valor padrão.\n",
        "\n",
        "Devemos primeiro colocar os parâmetros \"comuns\" (conhecidos como _argumentos posicionais_) para depois colocar os argumentos com valor padrão. Imagine, por exemplo, uma função que padroniza _strings_ jogando todo seu conteúdo para upper ou lower. Podemos implementá-la da seguinte maneira:"
      ]
    },
    {
      "cell_type": "code",
      "source": [
        "def padroniza_string(texto, lower=True):\n",
        "    if lower:\n",
        "        return texto.lower()\n",
        "    else:\n",
        "        return texto.upper()\n",
        "\n",
        "print(padroniza_string('Sem passar o SEGUNDO argumento'))\n",
        "print(padroniza_string('Passando SEGUNDO argumento True', lower=True))\n",
        "print(padroniza_string('Passando SEGUNDO argumento False', lower=False))"
      ],
      "metadata": {
        "id": "c8sgDWNTQee8",
        "colab": {
          "base_uri": "https://localhost:8080/"
        },
        "outputId": "b7af00bd-831f-45ad-9052-d29a21c150fc"
      },
      "execution_count": null,
      "outputs": [
        {
          "output_type": "stream",
          "name": "stdout",
          "text": [
            "sem passar o segundo argumento\n",
            "passando segundo argumento true\n",
            "PASSANDO SEGUNDO ARGUMENTO FALSE\n"
          ]
        }
      ]
    },
    {
      "cell_type": "markdown",
      "metadata": {
        "id": "xHv4tYkB4ltv"
      },
      "source": [
        "## Funções com quantidade variável de parâmetros\n",
        "Talvez você já tenha notado que o _print_ é uma função. Se não notou, esse é um bom momento para pensar a respeito. Nós sempre usamos com parênteses, nós passamos informações dentro dos parênteses (os dados a serem impressos) e ele faz um monte de coisa automaticamente: converte todos os dados passados para _string_, contatena todas as _strings_ com um espaço entre elas e as escreve na tela.\n",
        "\n",
        "Algo que o _print_ tem que as nossas funções não tinham é a capacidade de receber uma quantidade variável de parâmetros. Nós podemos passar 0 dados (e, neste caso, ele apenas pulará uma linha), 1 dado, 2 dados, 3 dados... Quantos dados quisermos, separados por vírgula, e ele funcionará para todos esses casos. Se até o momento temos que declarar todos os parâmetros, como fazer para que múltiplos dados possam ser passados?"
      ]
    },
    {
      "cell_type": "markdown",
      "source": [
        "\n",
        "### Agrupando parâmetros\n",
        "A solução é utilizar o operador **\\***  que, neste caso, não será uma multiplicação.\n",
        "\n",
        "- Ao colocarmos o **\\*** ao lado do nome de um parâmetro na definição da função, estamos dizendo que aquele argumento será uma coleção. Mais especificamente, uma tupla.\n",
        " - Porém, o usuário não irá passar uma tupla. Ele irá passar quantos argumentos ele quiser (inclusive nenhum se quiser), e o Python automaticamente criará uma tupla com eles."
      ],
      "metadata": {
        "id": "RqO8zi_0nRBm"
      }
    },
    {
      "cell_type": "code",
      "source": [
        "tupla_exemplo = (1,2,3,4)"
      ],
      "metadata": {
        "id": "GrUE1boUQhb3"
      },
      "execution_count": null,
      "outputs": []
    },
    {
      "cell_type": "code",
      "source": [
        "print(tupla_exemplo)"
      ],
      "metadata": {
        "id": "MdFkbRkEQhgJ",
        "colab": {
          "base_uri": "https://localhost:8080/"
        },
        "outputId": "50910158-184b-408a-d2ba-2d712af1d199"
      },
      "execution_count": null,
      "outputs": [
        {
          "output_type": "stream",
          "name": "stdout",
          "text": [
            "(1, 2, 3, 4)\n"
          ]
        }
      ]
    },
    {
      "cell_type": "code",
      "source": [
        "print(*tupla_exemplo) # desempacotando\n",
        "print(tupla_exemplo[0],tupla_exemplo[1],tupla_exemplo[2],tupla_exemplo[3]) # isso é a mesma coisa da linha acima"
      ],
      "metadata": {
        "id": "QVilCvFWQhjn",
        "colab": {
          "base_uri": "https://localhost:8080/"
        },
        "outputId": "8de771dc-7325-444a-d8fb-6c818a5d8579"
      },
      "execution_count": null,
      "outputs": [
        {
          "output_type": "stream",
          "name": "stdout",
          "text": [
            "1 2 3 4\n",
            "1 2 3 4\n"
          ]
        }
      ]
    },
    {
      "cell_type": "code",
      "source": [
        "# sempre quando verem * seguido de uma variável, estará acontecendo um empacotamento ou desempacotamento\n",
        "# a depender do caso"
      ],
      "metadata": {
        "id": "9EEI0mepQhpf"
      },
      "execution_count": null,
      "outputs": []
    },
    {
      "cell_type": "code",
      "source": [
        "lista = [1,2,3,4,5]\n",
        "\n",
        "lista2 = [*lista]\n",
        "\n",
        "lista2"
      ],
      "metadata": {
        "colab": {
          "base_uri": "https://localhost:8080/"
        },
        "id": "O4JmtHOP_wYJ",
        "outputId": "a05fc89a-1e0e-4cba-b109-167703ff3564"
      },
      "execution_count": null,
      "outputs": [
        {
          "output_type": "execute_result",
          "data": {
            "text/plain": [
              "[1, 2, 3, 4, 5]"
            ]
          },
          "metadata": {},
          "execution_count": 58
        }
      ]
    },
    {
      "cell_type": "markdown",
      "source": [
        "O operador * e a atribuição de múltiplas variáveis"
      ],
      "metadata": {
        "id": "_0zPp4flb5lq"
      }
    },
    {
      "cell_type": "code",
      "source": [
        "lista = [1,2,3,4,5]\n",
        "a,b,*c = lista\n",
        "print(a,b,c)"
      ],
      "metadata": {
        "id": "SLoESvFJQkAi",
        "colab": {
          "base_uri": "https://localhost:8080/"
        },
        "outputId": "571b96db-96af-47c9-dda6-1dbb0e818bcb"
      },
      "execution_count": null,
      "outputs": [
        {
          "output_type": "stream",
          "name": "stdout",
          "text": [
            "1 2 [3, 4, 5]\n"
          ]
        }
      ]
    },
    {
      "cell_type": "code",
      "source": [],
      "metadata": {
        "id": "H3tcpEvoQkD9"
      },
      "execution_count": null,
      "outputs": []
    },
    {
      "cell_type": "code",
      "source": [],
      "metadata": {
        "id": "edWR_88OQkM0"
      },
      "execution_count": null,
      "outputs": []
    },
    {
      "cell_type": "markdown",
      "source": [
        "O que aconteceu no código que executamos acima?"
      ],
      "metadata": {
        "id": "F_9TICUlcJHH"
      }
    },
    {
      "cell_type": "markdown",
      "source": [
        "<br> <br> <br> <br> <br>\n",
        "\n",
        "Agora que aprendemos esses conceitos, vamos criar uma função que tem comportamento de receber argumentos similar ao do _print()_\n",
        "\n",
        "vamos criar uma função de somatório que pode receber uma quantidade arbitrária de números (argumentos)."
      ],
      "metadata": {
        "id": "iOarQrNpcVha"
      }
    },
    {
      "cell_type": "code",
      "source": [
        "# função com *args\n",
        "def somatorio(*numeros):\n",
        "  print(numeros)\n",
        "  print(type(numeros))\n",
        "  soma = 0\n",
        "  for n in numeros:\n",
        "    soma = soma + n\n",
        "  return soma\n",
        "\n",
        "\n",
        "\n",
        "somatorio(1,2,3,4,5,6)\n"
      ],
      "metadata": {
        "id": "m0UZfKv3QmWJ",
        "colab": {
          "base_uri": "https://localhost:8080/"
        },
        "outputId": "1f3e461d-006c-4682-fa89-d6f80f39c12d"
      },
      "execution_count": null,
      "outputs": [
        {
          "output_type": "stream",
          "name": "stdout",
          "text": [
            "(1, 2, 3, 4, 5, 6)\n",
            "<class 'tuple'>\n"
          ]
        },
        {
          "output_type": "execute_result",
          "data": {
            "text/plain": [
              "21"
            ]
          },
          "metadata": {},
          "execution_count": 66
        }
      ]
    },
    {
      "cell_type": "code",
      "source": [
        "somatorio([1,2,3,4,5])"
      ],
      "metadata": {
        "id": "GF7siSV0Qmar",
        "colab": {
          "base_uri": "https://localhost:8080/"
        },
        "outputId": "0025ad25-73b9-4474-a643-f4945c3c420f"
      },
      "execution_count": null,
      "outputs": [
        {
          "output_type": "stream",
          "name": "stdout",
          "text": [
            "([1, 2, 3, 4, 5],)\n",
            "<class 'tuple'>\n"
          ]
        }
      ]
    },
    {
      "cell_type": "markdown",
      "metadata": {
        "id": "xMA1zZDk4ltx"
      },
      "source": [
        "### Expandindo uma coleção\n",
        "O exemplo acima funciona muito bem quando o usuário da função possui vários dados avulsos, pois ele os agrupa em uma coleção. Mas o que acontece quando os dados já estão agrupados?"
      ]
    },
    {
      "cell_type": "code",
      "source": [
        "# dado a forma que construímos essa função, não conseguimos passar uma lista como argumento\n",
        "# para a minha função somatorio\n",
        "somatorio([1,2,3,4,5,6])\n"
      ],
      "metadata": {
        "id": "Q4DDTOmoQrRK",
        "colab": {
          "base_uri": "https://localhost:8080/",
          "height": 332
        },
        "outputId": "9d83ccaa-e3fb-4224-a8f3-bdc0c95971ca"
      },
      "execution_count": null,
      "outputs": [
        {
          "output_type": "stream",
          "name": "stdout",
          "text": [
            "([1, 2, 3, 4, 5, 6],)\n",
            "<class 'tuple'>\n"
          ]
        },
        {
          "output_type": "error",
          "ename": "TypeError",
          "evalue": "unsupported operand type(s) for +: 'int' and 'list'",
          "traceback": [
            "\u001b[0;31m---------------------------------------------------------------------------\u001b[0m",
            "\u001b[0;31mTypeError\u001b[0m                                 Traceback (most recent call last)",
            "\u001b[0;32m<ipython-input-67-116239c8de48>\u001b[0m in \u001b[0;36m<cell line: 1>\u001b[0;34m()\u001b[0m\n\u001b[0;32m----> 1\u001b[0;31m \u001b[0msomatorio\u001b[0m\u001b[0;34m(\u001b[0m\u001b[0;34m[\u001b[0m\u001b[0;36m1\u001b[0m\u001b[0;34m,\u001b[0m\u001b[0;36m2\u001b[0m\u001b[0;34m,\u001b[0m\u001b[0;36m3\u001b[0m\u001b[0;34m,\u001b[0m\u001b[0;36m4\u001b[0m\u001b[0;34m,\u001b[0m\u001b[0;36m5\u001b[0m\u001b[0;34m,\u001b[0m\u001b[0;36m6\u001b[0m\u001b[0;34m]\u001b[0m\u001b[0;34m)\u001b[0m\u001b[0;34m\u001b[0m\u001b[0;34m\u001b[0m\u001b[0m\n\u001b[0m",
            "\u001b[0;32m<ipython-input-66-02120d92657b>\u001b[0m in \u001b[0;36msomatorio\u001b[0;34m(*numeros)\u001b[0m\n\u001b[1;32m      4\u001b[0m   \u001b[0msoma\u001b[0m \u001b[0;34m=\u001b[0m \u001b[0;36m0\u001b[0m\u001b[0;34m\u001b[0m\u001b[0;34m\u001b[0m\u001b[0m\n\u001b[1;32m      5\u001b[0m   \u001b[0;32mfor\u001b[0m \u001b[0mn\u001b[0m \u001b[0;32min\u001b[0m \u001b[0mnumeros\u001b[0m\u001b[0;34m:\u001b[0m\u001b[0;34m\u001b[0m\u001b[0;34m\u001b[0m\u001b[0m\n\u001b[0;32m----> 6\u001b[0;31m     \u001b[0msoma\u001b[0m \u001b[0;34m=\u001b[0m \u001b[0msoma\u001b[0m \u001b[0;34m+\u001b[0m \u001b[0mn\u001b[0m\u001b[0;34m\u001b[0m\u001b[0;34m\u001b[0m\u001b[0m\n\u001b[0m\u001b[1;32m      7\u001b[0m   \u001b[0;32mreturn\u001b[0m \u001b[0msoma\u001b[0m\u001b[0;34m\u001b[0m\u001b[0;34m\u001b[0m\u001b[0m\n\u001b[1;32m      8\u001b[0m \u001b[0;34m\u001b[0m\u001b[0m\n",
            "\u001b[0;31mTypeError\u001b[0m: unsupported operand type(s) for +: 'int' and 'list'"
          ]
        }
      ]
    },
    {
      "cell_type": "markdown",
      "metadata": {
        "id": "6ZlPb5H44lty"
      },
      "source": [
        "Note que o programa dará erro, pois como os _print_ dentro da função ilustram, foi criada uma tupla, e na primeira posição da tupla foi armazenada a lista. Isso não funciona com a lógica que projetamos.\n",
        "\n",
        "Para casos que quisermos utilizar dessa maneira, utilizaremos o operador **\\*** na chamada da função também.\n",
        "\n",
        "- Na definição da função, o operador **\\*** indica que devemos agrupar itens (argumentos) avulsos em uma coleção.\n",
        "\n",
        "- Na chamada, ele indica que uma coleção deve ser expandida em itens avulsos."
      ]
    },
    {
      "cell_type": "code",
      "source": [
        "somatorio(*[1,2,3,4,5,6])\n",
        "\n",
        "somatorio(1,2,3,4,5,6) # é a mesma coisa que isso aqui\n"
      ],
      "metadata": {
        "id": "chJvk8P8QuRL",
        "colab": {
          "base_uri": "https://localhost:8080/"
        },
        "outputId": "106116a1-8a7a-4b23-c556-8ed41e6e0290"
      },
      "execution_count": null,
      "outputs": [
        {
          "output_type": "stream",
          "name": "stdout",
          "text": [
            "(1, 2, 3, 4, 5, 6)\n",
            "<class 'tuple'>\n",
            "(1, 2, 3, 4, 5, 6)\n",
            "<class 'tuple'>\n"
          ]
        },
        {
          "output_type": "execute_result",
          "data": {
            "text/plain": [
              "21"
            ]
          },
          "metadata": {},
          "execution_count": 69
        }
      ]
    },
    {
      "cell_type": "markdown",
      "metadata": {
        "id": "8RNvLGos4ltz"
      },
      "source": [
        "No programa acima, a lista é expandida em 6 valores avulsos, e em seguida a função agrupa os 6 itens em uma tupla chamada \"numeros\"."
      ]
    },
    {
      "cell_type": "code",
      "source": [
        "somatorio(*[1,2,3,4,5,6])\n",
        "\n",
        "somatorio(1,2,3,4,5,6) # é a mesma coisa que isso aqui\n"
      ],
      "metadata": {
        "id": "YfVblP1mQw2m"
      },
      "execution_count": null,
      "outputs": []
    },
    {
      "cell_type": "markdown",
      "source": [
        "E vale mencionar/reforçar também que os parâmetros com * terão seus argumentos opcionais, podendo ou não serem preenchidos\n",
        "\n",
        "vamos criar uma função de multiplicação como exemplo"
      ],
      "metadata": {
        "id": "soFevluWgkaL"
      }
    },
    {
      "cell_type": "code",
      "source": [
        "print()"
      ],
      "metadata": {
        "id": "2vg1muv4QzGq",
        "colab": {
          "base_uri": "https://localhost:8080/"
        },
        "outputId": "5ab0a017-2e47-4a2b-effa-a3edef966ab1"
      },
      "execution_count": null,
      "outputs": [
        {
          "output_type": "stream",
          "name": "stdout",
          "text": [
            "\n"
          ]
        }
      ]
    },
    {
      "cell_type": "code",
      "source": [
        "def multiplicador(*numeros):\n",
        "  if numeros: # checo se é uma lista não vazia\n",
        "    total = 1\n",
        "    for n in numeros:\n",
        "      total = n * total\n",
        "    return total\n",
        "  else:\n",
        "    return \"sem resultados\"\n",
        "\n",
        "multiplicador(1,2,3)"
      ],
      "metadata": {
        "colab": {
          "base_uri": "https://localhost:8080/"
        },
        "id": "hggTVvhPDBVf",
        "outputId": "0febb1b6-d1b9-41cb-b1ed-7afd85487225"
      },
      "execution_count": null,
      "outputs": [
        {
          "output_type": "execute_result",
          "data": {
            "text/plain": [
              "6"
            ]
          },
          "metadata": {},
          "execution_count": 75
        }
      ]
    },
    {
      "cell_type": "code",
      "source": [
        "multiplicador() # podemos executar uma função com parâmetro *args sem passar nenhum argumento para ela"
      ],
      "metadata": {
        "colab": {
          "base_uri": "https://localhost:8080/",
          "height": 35
        },
        "id": "xJrc5zDPDelf",
        "outputId": "84cfdbae-d979-487b-fb70-0afdb962bb2c"
      },
      "execution_count": null,
      "outputs": [
        {
          "output_type": "execute_result",
          "data": {
            "text/plain": [
              "'sem resultados'"
            ],
            "application/vnd.google.colaboratory.intrinsic+json": {
              "type": "string"
            }
          },
          "metadata": {},
          "execution_count": 76
        }
      ]
    },
    {
      "cell_type": "markdown",
      "metadata": {
        "id": "wuIeN3GS4lt0"
      },
      "source": [
        "## Outros parâmetros opcionais\n",
        "Outra possibilidade são funções com parâmetros opcionais. Note que isso é diferente de termos quantidade variável de argumentos para um mesmo parâmetro.\n",
        "\n",
        "No caso da quantidade variável de argumentos para um mesmo parâmetro, normalmente são diversos argumentos com a mesma utilidade (números a serem somados, valores a serem exibidos etc).\n",
        "\n",
        "\n",
        "Já estudamos uma forma de parâmetros opcionais utilizando valores padrão.\n",
        "\n",
        "Mas para funções com uma **grande** quantidade de parâmetros e/ou de variação na utilização do parâmetros opcionais, existe outra forma utilizando dicionários, apelidada como ```**kwargs```.\n"
      ]
    },
    {
      "cell_type": "markdown",
      "source": [
        "agenda dia 19/janeiro\n",
        "- funções **kwargs\n",
        "- exercícios\n",
        "- correção\n",
        "- arquivos\n",
        "- exercícios (provavelmente próxima aula)\n",
        "- introdução ao projeto deste módulo"
      ],
      "metadata": {
        "id": "lZgy7GVswwtj"
      }
    },
    {
      "cell_type": "markdown",
      "source": [
        "\n",
        "### Criando **kwargs\n",
        "Para criar parâmetros opcionais, usaremos **\\*\\***, e os parâmetros passados serão agrupados em um dicionário: o nome do parâmetro será a chave do dicionário, e o valor será... O valor desse dicionário.\n",
        "\n"
      ],
      "metadata": {
        "id": "Zl6iPyRbzdgp"
      }
    },
    {
      "cell_type": "code",
      "source": [
        "# **kwargs  == Key word arguments\n",
        "# dicionario chave:valor\n",
        "\n",
        "def teste(**parametro):\n",
        "  print(parametro)\n",
        "  print(type(parametro))\n",
        "\n",
        "teste(nome=\"theo\", profissao=\"professor\" )\n"
      ],
      "metadata": {
        "id": "HeVhYuqXQ1nd",
        "colab": {
          "base_uri": "https://localhost:8080/"
        },
        "outputId": "b19f4876-0009-4d75-d038-3befa251d9b4"
      },
      "execution_count": null,
      "outputs": [
        {
          "output_type": "stream",
          "name": "stdout",
          "text": [
            "{'nome': 'theo', 'profissao': 'professor'}\n",
            "<class 'dict'>\n"
          ]
        }
      ]
    },
    {
      "cell_type": "code",
      "source": [
        "\"nome\" in  {\"data_nascimento\":\"theo\"}"
      ],
      "metadata": {
        "colab": {
          "base_uri": "https://localhost:8080/"
        },
        "id": "HGYkSiur1GpN",
        "outputId": "affa81e0-ede8-48b7-f712-5fe6e683d653"
      },
      "execution_count": null,
      "outputs": [
        {
          "output_type": "execute_result",
          "data": {
            "text/plain": [
              "False"
            ]
          },
          "metadata": {},
          "execution_count": 4
        }
      ]
    },
    {
      "cell_type": "code",
      "source": [
        "def cadastro(**usuario):\n",
        "  print(usuario)\n",
        "  if not ('nome' in usuario) and not('cpf' in usuario) and not('rg' in usuario):\n",
        "    print(\"nenhum dado básico do usuário localizado!\")\n",
        "  else:\n",
        "    print(\"informação básica do usuário encontrada\")\n",
        "    if 'nome' in usuario:\n",
        "      print(\"nome cadastrado:\", usuario['nome'])\n",
        "    if 'cpf' in usuario:\n",
        "      print(\"cpf cadastrado: \", usuario['cpf'])\n",
        "    if 'rg' in usuario:\n",
        "      print(\"rg cadastrado\", usuario['rg'])\n"
      ],
      "metadata": {
        "id": "Dc-G3QfhQ1sP"
      },
      "execution_count": null,
      "outputs": []
    },
    {
      "cell_type": "code",
      "source": [
        "cadastro(nome='joao', cpf= 123456789)"
      ],
      "metadata": {
        "id": "-1h1gVGvQ1wz",
        "colab": {
          "base_uri": "https://localhost:8080/"
        },
        "outputId": "deb167e4-5bc3-4c56-8a07-eea4ae8c738e"
      },
      "execution_count": null,
      "outputs": [
        {
          "output_type": "stream",
          "name": "stdout",
          "text": [
            "{'nome': 'joao', 'cpf': 123456789}\n",
            "informação básica do usuário encontrada\n",
            "nome cadastrado: joao\n",
            "cpf cadastrado:  123456789\n"
          ]
        }
      ]
    },
    {
      "cell_type": "code",
      "source": [
        "cadastro(nome='joao')"
      ],
      "metadata": {
        "id": "Xoe4UQrBQ11q",
        "colab": {
          "base_uri": "https://localhost:8080/"
        },
        "outputId": "98ae5809-c491-4855-ee44-2d31b31f4d13"
      },
      "execution_count": null,
      "outputs": [
        {
          "output_type": "stream",
          "name": "stdout",
          "text": [
            "{'nome': 'joao'}\n",
            "informação básica do usuário encontrada\n",
            "nome cadastrado: joao\n"
          ]
        }
      ]
    },
    {
      "cell_type": "code",
      "source": [
        "cadastro(cpf='joao')"
      ],
      "metadata": {
        "id": "ytB-lqxjQ16b",
        "colab": {
          "base_uri": "https://localhost:8080/"
        },
        "outputId": "251749dd-5161-4dda-8e95-c0555a32f105"
      },
      "execution_count": null,
      "outputs": [
        {
          "output_type": "stream",
          "name": "stdout",
          "text": [
            "{'cpf': 'joao'}\n",
            "informação básica do usuário encontrada\n",
            "cpf cadastrado:  joao\n"
          ]
        }
      ]
    },
    {
      "cell_type": "code",
      "source": [
        "cadastro(rg=1029384586)\n",
        "\n"
      ],
      "metadata": {
        "id": "_SWBF-LuQ1_T",
        "colab": {
          "base_uri": "https://localhost:8080/"
        },
        "outputId": "d81ea85b-38c6-4d9b-ae0a-6769b5a8a5d7"
      },
      "execution_count": null,
      "outputs": [
        {
          "output_type": "stream",
          "name": "stdout",
          "text": [
            "{'rg': 1029384586}\n",
            "informação básica do usuário encontrada\n",
            "rg cadastrado 1029384586\n"
          ]
        }
      ]
    },
    {
      "cell_type": "code",
      "source": [],
      "metadata": {
        "id": "EHzcOG2nQ2Eo"
      },
      "execution_count": null,
      "outputs": []
    },
    {
      "cell_type": "markdown",
      "source": [
        "<br> <br> <br> <br>\n",
        "\n",
        "E se eu adicionar um argumento que eu não mapiei nas condicões da minha função?"
      ],
      "metadata": {
        "id": "wytrhkg-43FC"
      }
    },
    {
      "cell_type": "code",
      "source": [
        "cadastro(nome='joao', nome_mae=\"maria\")"
      ],
      "metadata": {
        "id": "b3nT_Vy_5Fwm",
        "colab": {
          "base_uri": "https://localhost:8080/"
        },
        "outputId": "e27e2640-a54d-41c7-a750-6121ec955397"
      },
      "execution_count": null,
      "outputs": [
        {
          "output_type": "stream",
          "name": "stdout",
          "text": [
            "{'nome': 'joao', 'nome_mae': 'maria'}\n",
            "informação básica do usuário encontrada\n",
            "nome cadastrado: joao\n"
          ]
        }
      ]
    },
    {
      "cell_type": "code",
      "source": [],
      "metadata": {
        "id": "GJviwICR5Fzk"
      },
      "execution_count": null,
      "outputs": []
    },
    {
      "cell_type": "markdown",
      "metadata": {
        "id": "cnIXrLEy4lt1"
      },
      "source": [
        "### Expandindo um dicionário\n",
        "\n",
        "Analogamente ao caso dos argumentos múltiplos, é possível que o usuário da função já tenha os dados organizados em um dicionário. Neste caso, basta usar **\\*\\*** na chamada da função para expandir o dicionário em vários parâmetros opcionais."
      ]
    },
    {
      "cell_type": "code",
      "source": [
        "maria = {\"nome\":\"maria\", 'cpf':123456}\n",
        "cadastro(maria)"
      ],
      "metadata": {
        "id": "kdRkFKidQ7BL",
        "colab": {
          "base_uri": "https://localhost:8080/",
          "height": 194
        },
        "outputId": "ace57f4b-2ae9-4fbb-c190-5b61b1faec51"
      },
      "execution_count": null,
      "outputs": [
        {
          "output_type": "error",
          "ename": "TypeError",
          "evalue": "cadastro() takes 0 positional arguments but 1 was given",
          "traceback": [
            "\u001b[0;31m---------------------------------------------------------------------------\u001b[0m",
            "\u001b[0;31mTypeError\u001b[0m                                 Traceback (most recent call last)",
            "\u001b[0;32m<ipython-input-22-cabff981e95e>\u001b[0m in \u001b[0;36m<cell line: 2>\u001b[0;34m()\u001b[0m\n\u001b[1;32m      1\u001b[0m \u001b[0mmaria\u001b[0m \u001b[0;34m=\u001b[0m \u001b[0;34m{\u001b[0m\u001b[0;34m\"nome\"\u001b[0m\u001b[0;34m:\u001b[0m\u001b[0;34m\"maria\"\u001b[0m\u001b[0;34m,\u001b[0m \u001b[0;34m'cpf'\u001b[0m\u001b[0;34m:\u001b[0m\u001b[0;36m123456\u001b[0m\u001b[0;34m}\u001b[0m\u001b[0;34m\u001b[0m\u001b[0;34m\u001b[0m\u001b[0m\n\u001b[0;32m----> 2\u001b[0;31m \u001b[0mcadastro\u001b[0m\u001b[0;34m(\u001b[0m\u001b[0mmaria\u001b[0m\u001b[0;34m)\u001b[0m\u001b[0;34m\u001b[0m\u001b[0;34m\u001b[0m\u001b[0m\n\u001b[0m",
            "\u001b[0;31mTypeError\u001b[0m: cadastro() takes 0 positional arguments but 1 was given"
          ]
        }
      ]
    },
    {
      "cell_type": "code",
      "source": [
        "maria = {\"nome\":\"maria\", 'cpf':123456}\n",
        "cadastro(**maria)"
      ],
      "metadata": {
        "id": "e2vEn2rPQ7EO",
        "colab": {
          "base_uri": "https://localhost:8080/"
        },
        "outputId": "19281f36-77d8-4b0f-efaf-7d20c95cdb25"
      },
      "execution_count": null,
      "outputs": [
        {
          "output_type": "stream",
          "name": "stdout",
          "text": [
            "{'nome': 'maria', 'cpf': 123456}\n",
            "informação básica do usuário encontrada\n",
            "nome cadastrado: maria\n",
            "cpf cadastrado:  123456\n"
          ]
        }
      ]
    },
    {
      "cell_type": "markdown",
      "source": [
        "## Como todos os parâmetros ficam ordenados dentro da criação da função?"
      ],
      "metadata": {
        "id": "HiZwWmFnIfit"
      }
    },
    {
      "cell_type": "code",
      "source": [
        "# posicionais obrigatórios\n",
        "# opcionais\n",
        "#  - default\n",
        "#  - *args\n",
        "#  - **kwargs\n"
      ],
      "metadata": {
        "id": "V9fZZH-0UY1G"
      },
      "execution_count": null,
      "outputs": []
    },
    {
      "cell_type": "code",
      "source": [
        "def funcao_com_muitos_parametros(posicional_obrigatorio, params_padrao=True,*args_tupla, **kwargs_dicionario):\n",
        "  return f\"posicional obrigatórios: {posicional_obrigatorio}. params_padrao: {params_padrao}. args_tupla {args_tupla}. kwargs_dicionario {kwargs_dicionario}\"\n"
      ],
      "metadata": {
        "id": "C1n46KotUY7C"
      },
      "execution_count": null,
      "outputs": []
    },
    {
      "cell_type": "code",
      "source": [
        "var1 = funcao_com_muitos_parametros(1,2,3,4,5,6,6,7,8,texto=\"theo\", numero=43)"
      ],
      "metadata": {
        "id": "S9MhAm-dUZAd"
      },
      "execution_count": null,
      "outputs": []
    },
    {
      "cell_type": "code",
      "source": [
        "var1"
      ],
      "metadata": {
        "id": "dssz9dhtUZJ1",
        "colab": {
          "base_uri": "https://localhost:8080/",
          "height": 53
        },
        "outputId": "15242a96-1853-45c6-cd26-184a2354c404"
      },
      "execution_count": null,
      "outputs": [
        {
          "output_type": "execute_result",
          "data": {
            "text/plain": [
              "\"posicional obrigatórios: 1. params_padrao: 2. args_tupla (3, 4, 5, 6, 6, 7, 8). kwargs_dicionario {'texto': 'theo', 'numero': 43}\""
            ],
            "application/vnd.google.colaboratory.intrinsic+json": {
              "type": "string"
            }
          },
          "metadata": {},
          "execution_count": 42
        }
      ]
    },
    {
      "cell_type": "code",
      "source": [
        "print(var1)"
      ],
      "metadata": {
        "id": "sNao6xG-UZQU",
        "colab": {
          "base_uri": "https://localhost:8080/"
        },
        "outputId": "1e382cd4-539f-41bd-cf2b-e99b908baa46"
      },
      "execution_count": null,
      "outputs": [
        {
          "output_type": "stream",
          "name": "stdout",
          "text": [
            "posicional obrigatórios: 1. params_padrao: 2. args_tupla (3, 4, 5, 6, 6, 7, 8). kwargs_dicionario {'texto': 'theo', 'numero': 43}\n"
          ]
        }
      ]
    },
    {
      "cell_type": "markdown",
      "metadata": {
        "id": "lLeOP1U54lt2"
      },
      "source": [
        "## Exercícios"
      ]
    },
    {
      "cell_type": "markdown",
      "source": [
        "Faça um código que faça a subtracao entre elementos de diferentes listas e eleve esse resultado ao quadrado .\n",
        "\n",
        "exemplo:\n",
        "\n",
        "<center>\n",
        "\n",
        "|listas  | 0 | 1 | 2 |\n",
        "--- | --- | --- | --- |\n",
        "lista1| 3 | 5 | 15\n",
        "lista2 | 4 | 4 | 10\n",
        "diferença | -1 | 1 | 5\n",
        "quadrado da diferença | 1 | 1 | 25\n",
        "\n",
        "</center>\n",
        "\n",
        "- sugestão: utilize a função map()"
      ],
      "metadata": {
        "id": "Z-x_pI8FI7Gh"
      }
    },
    {
      "cell_type": "code",
      "source": [
        "def subtracao_quadrado(x, y):\n",
        "    subtracao = x - y\n",
        "    quadrado = subtracao ** 2\n",
        "    return quadrado\n",
        "\n",
        "lista1 = [3, 5, 15]\n",
        "lista2 = [4, 4, 10]\n",
        "\n",
        "list(map(subtracao_quadrado, lista1, lista2))"
      ],
      "metadata": {
        "id": "E1o22DFKF_gd",
        "outputId": "7dfafceb-a2be-4f8a-a24e-c41651072f2d",
        "colab": {
          "base_uri": "https://localhost:8080/"
        }
      },
      "execution_count": null,
      "outputs": [
        {
          "output_type": "execute_result",
          "data": {
            "text/plain": [
              "[1, 1, 25]"
            ]
          },
          "metadata": {},
          "execution_count": 8
        }
      ]
    },
    {
      "cell_type": "markdown",
      "source": [
        "Escreva um código que recebe uma tupla ou lista e retorna os elementos que têm uma vogal"
      ],
      "metadata": {
        "id": "xzDnnTL6PXMf"
      }
    },
    {
      "cell_type": "code",
      "source": [
        "def tres (*colecao):\n",
        "    lista_de_elementos=[]\n",
        "\n",
        "    for elemento in colecao:\n",
        "\n",
        "        elemento2 = str(elemento).lower()\n",
        "\n",
        "        if elemento2.count('a') !=0 or elemento2.count('e') !=0 or elemento2.count('i') !=0 or elemento2.count('o') !=0 or elemento2.count('u') !=0:\n",
        "            lista_de_elementos.append(elemento)\n",
        "\n",
        "    return lista_de_elementos\n",
        "\n",
        "lista_ex = [\"carro\", \"trem\", \"KNN\", \"EEG\", \"BCH\"]\n",
        "\n",
        "tres(*lista_ex)"
      ],
      "metadata": {
        "id": "t8wBnBGaUll6"
      },
      "execution_count": null,
      "outputs": []
    },
    {
      "cell_type": "markdown",
      "source": [
        "Faça um código que retorne a multiplicacao de todos os elementos da lista\n",
        "\n",
        "- sugestão: utilize a função reduce()"
      ],
      "metadata": {
        "id": "GHBBNkGQXwtt"
      }
    },
    {
      "cell_type": "code",
      "source": [
        "from functools import reduce\n",
        "\n",
        "def multiplicacao(x, y):\n",
        "    return x * y\n",
        "\n",
        "lista = [1, 2, 3, 4, 5]\n",
        "\n",
        "reduce(multiplicacao, lista)"
      ],
      "metadata": {
        "id": "2W4pkzfwUn7Q",
        "outputId": "a1fd0c31-6b24-4bc5-dc10-be4a52085198",
        "colab": {
          "base_uri": "https://localhost:8080/"
        }
      },
      "execution_count": null,
      "outputs": [
        {
          "output_type": "execute_result",
          "data": {
            "text/plain": [
              "120"
            ]
          },
          "metadata": {},
          "execution_count": 28
        }
      ]
    },
    {
      "cell_type": "markdown",
      "source": [
        "Faça uma função que sempre some 3 valores e retorne o total de sua soma"
      ],
      "metadata": {
        "id": "cKN9Ae5WA4QG"
      }
    },
    {
      "cell_type": "code",
      "source": [
        "def soma (lista:list):\n",
        "  if len(lista) == 3:\n",
        "    soma = sum(lista)\n",
        "    return soma\n",
        "\n",
        "  elif len(lista) < 3:\n",
        "    print('A lista possui menos de 3 valores')\n",
        "\n",
        "  else:\n",
        "    print('A lista possui mais de 3 valores')\n",
        "\n",
        "lista = [5, 5, 5]\n",
        "\n",
        "resultado = soma(lista)\n",
        "\n",
        "print(resultado)"
      ],
      "metadata": {
        "id": "1239sb3CUqry",
        "outputId": "6d38c8cd-1aa2-481a-d66d-9e9dacddd3ae",
        "colab": {
          "base_uri": "https://localhost:8080/"
        }
      },
      "execution_count": null,
      "outputs": [
        {
          "output_type": "stream",
          "name": "stdout",
          "text": [
            "15\n"
          ]
        }
      ]
    },
    {
      "cell_type": "markdown",
      "source": [
        "Agora faça uma função que pode receber múltiplos argumentos e retorne o total de sua soma"
      ],
      "metadata": {
        "id": "ixAwezLmBot8"
      }
    },
    {
      "cell_type": "code",
      "source": [
        "def soma_valores(*args):\n",
        "  total = sum(args)\n",
        "  return total\n",
        "\n",
        "lista = (5, 5, 5)\n",
        "\n",
        "resultado = soma_valores(*lista)\n",
        "\n",
        "print(resultado)"
      ],
      "metadata": {
        "id": "qvc3jFOlUsgy",
        "outputId": "91359d93-c4f0-4207-f5d1-d2c611cc3a7b",
        "colab": {
          "base_uri": "https://localhost:8080/"
        }
      },
      "execution_count": null,
      "outputs": [
        {
          "output_type": "stream",
          "name": "stdout",
          "text": [
            "15\n"
          ]
        }
      ]
    },
    {
      "cell_type": "markdown",
      "source": [
        "Faça uma função que recebe uma quantidade arbitrária de variáveis de qualquer tipo e retorna uma string contendo todas as suas representações separadas por espaço"
      ],
      "metadata": {
        "id": "DrT6AKrRXjvO"
      }
    },
    {
      "cell_type": "code",
      "source": [
        "def retorna_elementos(*args):\n",
        "    string = \"\"\n",
        "    for elemento in args:\n",
        "        string = string + \" \" + str(elemento)\n",
        "\n",
        "    return string\n",
        "\n",
        "str1 = \"cerveja\"\n",
        "lst1 = [1,2,3]\n",
        "tp1 = (\"hoje\", \"é\", \"sexta\")\n",
        "dct1 = {'teste':'valor teste'}\n",
        "\n",
        "a = retorna_elementos(str1,*lst1,*tp1, dct1)\n",
        "print(a)"
      ],
      "metadata": {
        "id": "KCQyJMlcU5vz",
        "outputId": "1750ef36-667e-4d33-dcb5-6ee1c6941fee",
        "colab": {
          "base_uri": "https://localhost:8080/"
        }
      },
      "execution_count": null,
      "outputs": [
        {
          "output_type": "stream",
          "name": "stdout",
          "text": [
            " cerveja 1 2 3 hoje é sexta {'teste': 'valor teste'}\n"
          ]
        }
      ]
    },
    {
      "cell_type": "markdown",
      "source": [
        "Modifique a função anterior para incluir um parâmetro opcional indicando o caractere de separação entre as variáveis. Seu valor padrão será 1 espaço em branco"
      ],
      "metadata": {
        "id": "B2HGDYut7NPy"
      }
    },
    {
      "cell_type": "code",
      "source": [
        "def retorna_elementos(*args):\n",
        "    string = \"\"\n",
        "    for elemento in args:\n",
        "        string = string + \" \" + str(elemento)\n",
        "\n",
        "    return string\n",
        "\n",
        "str1 = \"cerveja\"\n",
        "lst1 = [1,2,3]\n",
        "tp1 = (\"hoje\", \"é\", \"sexta\")\n",
        "dct1 = {'teste':'valor teste'}\n",
        "\n",
        "a = retorna_elementos(str1,*lst1,*tp1, dct1)\n",
        "print(a)"
      ],
      "metadata": {
        "id": "bdrI_pRtU_aq",
        "outputId": "20cd0630-676a-4ad8-d6e5-b39ce98896f2",
        "colab": {
          "base_uri": "https://localhost:8080/"
        }
      },
      "execution_count": null,
      "outputs": [
        {
          "output_type": "execute_result",
          "data": {
            "text/plain": [
              "['teste', 'ola']"
            ]
          },
          "metadata": {},
          "execution_count": 22
        }
      ]
    },
    {
      "cell_type": "markdown",
      "source": [
        "criar uma função que consiga registrar dados sobre animais.\n",
        "- tenha um parâmetro obrigatorio para identificar o animal (ex: gato, cachorro, etc.)\n",
        "- tenha um parâmetro país com padrão Brasil\n",
        "- aceite através de múltiplos parâmetros características desse animal (ex:quantidade_asas, raca, etc)\n",
        "- retornar um texto que contenha o valores que foram inputadas em animal, país e:\n",
        " - caso tenha alguma outra característica extra: também retorna no texto a quantidade de características (parâmetros) que foram registrados e seus nomes.\n",
        " - caso não tenha característica extra mencionar mencionar no texto de retorno"
      ],
      "metadata": {
        "id": "fq_Zxo_Rnf_W"
      }
    },
    {
      "cell_type": "code",
      "source": [
        "def registro (tipo:str, pais='Brasil', *caracteristicas):\n",
        "  if len(caracteristicas) == 0:\n",
        "    return f'{tipo} do {pais}, com nehuma caracteristicas registrada'\n",
        "  else:\n",
        "    return f'{tipo} do {pais}, com {len(caracteristicas)} características, sendo elas {caracteristicas}'\n",
        "\n",
        "resultado = registro('Cachorro','Brasil', 'Doodle', 'Grande', 'Fofinho')\n",
        "\n",
        "print(resultado)"
      ],
      "metadata": {
        "id": "GYmpO8oLRtP6",
        "outputId": "95ed477a-4fe5-46ee-8cc0-9da20238fd4d",
        "colab": {
          "base_uri": "https://localhost:8080/"
        }
      },
      "execution_count": null,
      "outputs": [
        {
          "output_type": "stream",
          "name": "stdout",
          "text": [
            "Cachorro do Brasil, com 3 características, sendo elas ('Doodle', 'Grande', 'Fofinho')\n"
          ]
        }
      ]
    },
    {
      "cell_type": "markdown",
      "source": [
        "# Link úteis"
      ],
      "metadata": {
        "id": "S6ZxF_OfzvWI"
      }
    },
    {
      "cell_type": "markdown",
      "source": [
        "https://docs.python.org/3/tutorial/controlflow.html#more-on-defining-functions"
      ],
      "metadata": {
        "id": "Ac052UNmzx9M"
      }
    },
    {
      "cell_type": "markdown",
      "source": [
        "https://peps.python.org/pep-0008/"
      ],
      "metadata": {
        "id": "gWyLGpgpz3Ag"
      }
    },
    {
      "cell_type": "markdown",
      "source": [
        "https://www.w3schools.com/python/ref_func_print.asp"
      ],
      "metadata": {
        "id": "t6-UxbIN0Eqm"
      }
    },
    {
      "cell_type": "markdown",
      "source": [
        "https://www.datacamp.com/tutorial/functions-python-tutorial"
      ],
      "metadata": {
        "id": "kOQKYlT5FlyC"
      }
    }
  ],
  "metadata": {
    "interpreter": {
      "hash": "ad2bdc8ecc057115af97d19610ffacc2b4e99fae6737bb82f5d7fb13d2f2c186"
    },
    "kernelspec": {
      "display_name": "Python 3.9.7 ('base')",
      "language": "python",
      "name": "python3"
    },
    "language_info": {
      "codemirror_mode": {
        "name": "ipython",
        "version": 3
      },
      "file_extension": ".py",
      "mimetype": "text/x-python",
      "name": "python",
      "nbconvert_exporter": "python",
      "pygments_lexer": "ipython3",
      "version": "3.9.7"
    },
    "orig_nbformat": 4,
    "colab": {
      "provenance": []
    }
  },
  "nbformat": 4,
  "nbformat_minor": 0
}