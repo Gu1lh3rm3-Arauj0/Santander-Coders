{
 "cells": [
  {
   "cell_type": "markdown",
   "id": "bd275093",
   "metadata": {},
   "source": [
    "# Coding Tank"
   ]
  },
  {
   "cell_type": "markdown",
   "id": "cf23d9e5",
   "metadata": {},
   "source": [
    "## Tópicos da aula - AULA 2\n",
    "\n",
    "- Operador lógico\n",
    "- Estrutura condicional e controle de fluxo\n",
    "- Comando if\n",
    "- Comando else\n",
    "- Comando elif\n",
    "- Funções de string (introdutório)\n",
    "\n"
   ]
  },
  {
   "cell_type": "markdown",
   "id": "643dc92b",
   "metadata": {},
   "source": [
    "Imagine que o critério de aprovação em uma escola seja a média superior a 7.0 e presença superior a 75%. Neste caso, o aluno precisa atender a ambos os critérios para ser aprovado. Se ele tirou uma ótima nota, mas faltou demais, será reprovado. Se ele compareceu a todas as aulas, mas teve notas baixas, idem.\n"
   ]
  },
  {
   "cell_type": "code",
   "execution_count": 4,
   "id": "9fc40e40",
   "metadata": {},
   "outputs": [
    {
     "name": "stdout",
     "output_type": "stream",
     "text": [
      "O aluno foi aprovado? True\n"
     ]
    }
   ],
   "source": [
    "media = float(input('Digite a média do aluno (0 a 10):'))\n",
    "\n",
    "presenca = float(input('Digite a presença do aluno (0 a 1):'))\n",
    "\n",
    "aprovado = (media > 7) and (presenca > 0.75)\n",
    "\n",
    "print('O aluno foi aprovado?', aprovado)"
   ]
  },
  {
   "cell_type": "markdown",
   "id": "3b8a9808",
   "metadata": {},
   "source": [
    "**Operadores lógicos**\n",
    "\n",
    "|     Operador    |                            Definição                           |     Operação    |\n",
    "|:---------------:|:--------------------------------------------------------------:|:---------------:|\n",
    "|        and      |     Retorna   True se ambas as afirmações forem verdadeiras    |         e       |\n",
    "|        or       |       Retorna   True se uma das afirmações for verdadeira      |        ou       |\n",
    "|        not      |          retorna   Falso se o resultado for verdadeiro         |        não      |\n",
    "\n",
    "\n",
    "**AND** é uma conjunção lógica e o **OR** é uma disjunção lógica. O **not** é a negação lógica.\n",
    "\n",
    "| *A*   | *B*   | *A and B* | *A or B* | *not A* |\n",
    "|-------|-------|-----------|----------|---------|\n",
    "| False | False | False     | False    | True    |\n",
    "| False | True  | False     | True     | True    |\n",
    "| True  | False | False     | True     | False   |\n",
    "| True  | True  | True      | True     | False   |\n",
    "\n",
    "\n",
    "Será que conseguimos escrever o problema acima de uma forma mais fácil?\n",
    "\n",
    "## Estrutura condicional\n",
    "\n",
    "- if\n",
    "\n",
    "Obs.: Python é uma linguagem indentada"
   ]
  },
  {
   "cell_type": "code",
   "execution_count": 7,
   "id": "9070e790",
   "metadata": {},
   "outputs": [
    {
     "name": "stdout",
     "output_type": "stream",
     "text": [
      "A média é 6.0\n"
     ]
    }
   ],
   "source": [
    "nota_01 = float(input('Digite a nota da P1:'))\n",
    "nota_02 = float(input('Digite a nota da P2:'))\n",
    "\n",
    "media = (nota_01 + nota_02)/2\n",
    "\n",
    "if media > 7:\n",
    "    print('Aprovado')\n",
    "\n",
    "print('A média é', media)"
   ]
  },
  {
   "cell_type": "markdown",
   "id": "21328f19",
   "metadata": {},
   "source": [
    "Está faltando alguma coisa"
   ]
  },
  {
   "cell_type": "code",
   "execution_count": 8,
   "id": "7375b6a2",
   "metadata": {},
   "outputs": [
    {
     "name": "stdout",
     "output_type": "stream",
     "text": [
      "Reprovado\n",
      "A média é 6.0\n"
     ]
    }
   ],
   "source": [
    "nota_01 = float(input('Digite a nota da P1:'))\n",
    "nota_02 = float(input('Digite a nota da P2:'))\n",
    "\n",
    "media = (nota_01 + nota_02)/2\n",
    "\n",
    "if media > 7:\n",
    "    print('Aprovado')\n",
    "\n",
    "if media <= 7:\n",
    "    print('Reprovado')\n",
    "    \n",
    "print('A média é', media)"
   ]
  },
  {
   "cell_type": "markdown",
   "id": "223d6399",
   "metadata": {},
   "source": [
    "- else"
   ]
  },
  {
   "cell_type": "code",
   "execution_count": 9,
   "id": "92cef6ca",
   "metadata": {},
   "outputs": [
    {
     "name": "stdout",
     "output_type": "stream",
     "text": [
      "Reprovado\n",
      "A média é 6.0\n"
     ]
    }
   ],
   "source": [
    "nota_01 = float(input('Digite a nota da P1:'))\n",
    "nota_02 = float(input('Digite a nota da P2:'))\n",
    "\n",
    "media = (nota_01 + nota_02)/2\n",
    "\n",
    "if media > 7:\n",
    "    print('Aprovado')\n",
    "\n",
    "else:\n",
    "    print('Reprovado')\n",
    "    \n",
    "print('A média é', media)"
   ]
  },
  {
   "cell_type": "markdown",
   "id": "36c4da02",
   "metadata": {},
   "source": [
    "Vamos acrescentar a presença para a aprovação do aluno"
   ]
  },
  {
   "cell_type": "code",
   "execution_count": 11,
   "id": "8fc754ec",
   "metadata": {},
   "outputs": [
    {
     "name": "stdout",
     "output_type": "stream",
     "text": [
      "Aprovado\n",
      "A média é do aluno é 8.5 e a presença é 80.0%\n"
     ]
    }
   ],
   "source": [
    "nota_01 = float(input('Digite a nota da P1:'))\n",
    "nota_02 = float(input('Digite a nota da P2:'))\n",
    "presenca = float(input('Digite a presença (0 a 1):'))\n",
    "\n",
    "media = (nota_01 + nota_02)/2\n",
    "\n",
    "if media > 7 and presenca > 0.75:\n",
    "    print('Aprovado')\n",
    "\n",
    "else:\n",
    "    print('Reprovado')\n",
    "    \n",
    "print(f'A média é do aluno é {media} e a presença é {presenca*100}%')"
   ]
  },
  {
   "cell_type": "markdown",
   "id": "9df03ba0",
   "metadata": {},
   "source": [
    "A estrutura é essa (por enquanto):\n",
    "\n",
    "```python\n",
    "if (condicao): # condição\n",
    "    to do  # só executa se a condição for verdadeira\n",
    "else: \n",
    "    to do\n",
    "```  \n",
    "\n",
    "\n",
    "\n",
    "\n",
    "\n",
    "Vamos incluir a recuperação nesse exemplo (para facilitar, vamos deixar de lado a presença). O aluno tem direito a recuperação se a média é maior que 5.\n",
    "\n",
    "- se media for maior ou igual a 7: aprovado\n",
    "- se a media for maior ou igual a 5 e menor que 7: recuperacao\n",
    "- se a media for menor que 5: reprovado"
   ]
  },
  {
   "cell_type": "code",
   "execution_count": 16,
   "id": "334fd649",
   "metadata": {},
   "outputs": [
    {
     "name": "stdout",
     "output_type": "stream",
     "text": [
      "Reprovado\n",
      "A média é do aluno é 4.0\n"
     ]
    }
   ],
   "source": [
    "nota_01 = float(input('Digite a nota da P1:'))\n",
    "nota_02 = float(input('Digite a nota da P2:'))\n",
    "\n",
    "media = (nota_01 + nota_02)/2\n",
    "\n",
    "if media >= 7:\n",
    "    print('Aprovado')\n",
    "if media >= 5 and media < 7:\n",
    "    print('Recuperação')\n",
    "if media < 5:\n",
    "    print('Reprovado')\n",
    "    \n",
    "print(f'A média é do aluno é {media}')"
   ]
  },
  {
   "cell_type": "markdown",
   "id": "b9e9e46f",
   "metadata": {},
   "source": [
    "- elif"
   ]
  },
  {
   "cell_type": "code",
   "execution_count": 17,
   "id": "2d84dbe3",
   "metadata": {},
   "outputs": [
    {
     "name": "stdout",
     "output_type": "stream",
     "text": [
      "Aprovado\n",
      "A média é do aluno é 8.0\n"
     ]
    }
   ],
   "source": [
    "nota_01 = float(input('Digite a nota da P1:'))\n",
    "nota_02 = float(input('Digite a nota da P2:'))\n",
    "\n",
    "media = (nota_01 + nota_02)/2\n",
    "\n",
    "if media >= 7:\n",
    "    print('Aprovado')\n",
    "elif media >= 5:\n",
    "    print('Recuperação')\n",
    "else:\n",
    "    print('Reprovado')\n",
    "    \n",
    "print(f'A média é do aluno é {media}')"
   ]
  },
  {
   "cell_type": "code",
   "execution_count": 18,
   "id": "d22c248e",
   "metadata": {},
   "outputs": [
    {
     "name": "stdout",
     "output_type": "stream",
     "text": [
      "Foi por pouco hein\n"
     ]
    }
   ],
   "source": [
    "media = float(input('Digite a média: '))\n",
    "\n",
    "if media >= 7:\n",
    "    print('Aprovado')\n",
    "elif media >= 5:\n",
    "    print('Recuperação')\n",
    "elif media >= 4:\n",
    "    print('Foi por pouco hein')\n",
    "else:\n",
    "    print('Reprovado')"
   ]
  },
  {
   "cell_type": "code",
   "execution_count": 20,
   "id": "5225a4e0",
   "metadata": {},
   "outputs": [
    {
     "name": "stdout",
     "output_type": "stream",
     "text": [
      "Aprovado\n"
     ]
    }
   ],
   "source": [
    "media = float(input('Digite a média: '))\n",
    "\n",
    "if media >= 7:\n",
    "    print('Aprovado')\n",
    "elif media >= 5:\n",
    "    print('Recuperação')\n",
    "elif media >= 4:\n",
    "    print('Foi por pouco hein')\n",
    "elif media == 10:\n",
    "    print('Parabéns, vc é um gênio!')\n",
    "else:\n",
    "    print('Reprovado')"
   ]
  },
  {
   "cell_type": "code",
   "execution_count": 21,
   "id": "ae7e2b34",
   "metadata": {},
   "outputs": [
    {
     "name": "stdout",
     "output_type": "stream",
     "text": [
      "Parabéns, vc é um gênio!\n"
     ]
    }
   ],
   "source": [
    "media = float(input('Digite a média: '))\n",
    "\n",
    "if media == 10:\n",
    "    print('Parabéns, vc é um gênio!')\n",
    "elif media >= 7:\n",
    "    print('Aprovado')\n",
    "elif media >= 5:\n",
    "    print('Recuperação')\n",
    "elif media >= 4:\n",
    "    print('Foi por pouco hein')\n",
    "else:\n",
    "    print('Reprovado')"
   ]
  },
  {
   "cell_type": "markdown",
   "id": "0471ee21",
   "metadata": {},
   "source": [
    "## Saiba mais \n",
    "**Funções de strings (só uma introdução para facilitar em alguns exercícios)**\n",
    "\n",
    "Temos algumas funções prontas para alterar a capitalização das letras. Uma delas é a função upper, que transforma todas as letras da string original em maiúsculas:"
   ]
  },
  {
   "cell_type": "code",
   "execution_count": 23,
   "id": "e24c3d9f",
   "metadata": {},
   "outputs": [
    {
     "name": "stdout",
     "output_type": "stream",
     "text": [
      "VaMoS ProgRamAr\n",
      "VAMOS PROGRAMAR\n"
     ]
    }
   ],
   "source": [
    "frase = 'VaMoS ProgRamAr'\n",
    "\n",
    "maiuscula = frase.upper()\n",
    "print(frase)\n",
    "print(maiuscula) # resultado seja VAMOS PROGRAMAR"
   ]
  },
  {
   "cell_type": "markdown",
   "id": "234041d6",
   "metadata": {},
   "source": [
    "Analogamente, temos a função lower para transformar todas as letras em minúsculas:"
   ]
  },
  {
   "cell_type": "code",
   "execution_count": 24,
   "id": "c1ab913c",
   "metadata": {},
   "outputs": [
    {
     "name": "stdout",
     "output_type": "stream",
     "text": [
      "VaMoS ProgRamAr\n",
      "vamos programar\n"
     ]
    }
   ],
   "source": [
    "frase = 'VaMoS ProgRamAr'\n",
    "\n",
    "minusculo = frase.lower()\n",
    "print(frase)\n",
    "print(minusculo)"
   ]
  },
  {
   "cell_type": "markdown",
   "id": "7b3e877e",
   "metadata": {},
   "source": [
    "Também é possível formatar a string inteira como um nome próprio: primeira letra de cada palavra maiúscula, todo o restante em minúscula. Para isso temos a função title:"
   ]
  },
  {
   "cell_type": "code",
   "execution_count": 25,
   "id": "91d7ba1c",
   "metadata": {},
   "outputs": [
    {
     "name": "stdout",
     "output_type": "stream",
     "text": [
      "VaMoS ProgRamAr\n",
      "Vamos Programar\n"
     ]
    }
   ],
   "source": [
    "frase = 'VaMoS ProgRamAr'\n",
    "\n",
    "titulo = frase.title()\n",
    "print(frase)\n",
    "print(titulo)"
   ]
  },
  {
   "cell_type": "markdown",
   "id": "8422ef8c",
   "metadata": {},
   "source": [
    "E, por fim, é possível tratar nossa string como uma frase gramaticalmente correta: primeira letra maiúscula, todo o resto minúsculo. Essa função é a capitalize:"
   ]
  },
  {
   "cell_type": "code",
   "execution_count": 26,
   "id": "52c0383c",
   "metadata": {},
   "outputs": [
    {
     "name": "stdout",
     "output_type": "stream",
     "text": [
      "VaMoS ProgRamAr\n",
      "Vamos programar\n"
     ]
    }
   ],
   "source": [
    "frase = 'VaMoS ProgRamAr'\n",
    "\n",
    "capitalize = frase.capitalize()\n",
    "print(frase)\n",
    "print(capitalize)"
   ]
  },
  {
   "cell_type": "markdown",
   "id": "93b4c1f2",
   "metadata": {},
   "source": [
    "Uma utilidade para essas funções é padronizar entrada de usuário. Quando pedimos para o usuário digitar 'sim' caso ele deseje fazer algo, ele pode digitar 'SIM', 'sim', 'Sim', 'sIm', 'siM', 'SIm', 'sIM' ou 'SiM'. Prever todas essas condições em uma condicional pode ser bastante trabalhoso, ou mesmo impossível. Imagine se fosse uma string de várias letras... Porém, podemos forçar um padrão para a entrada do usuário e comparar com esse padrão:"
   ]
  },
  {
   "cell_type": "code",
   "execution_count": 28,
   "id": "0b519b7a",
   "metadata": {},
   "outputs": [
    {
     "name": "stdout",
     "output_type": "stream",
     "text": [
      "Seja bem-vindo!\n"
     ]
    }
   ],
   "source": [
    "resposta = input('Digite sim se aceita os termos de uso:')\n",
    "\n",
    "if resposta.lower() == 'sim':\n",
    "    print('Seja bem-vindo!')\n",
    "else:\n",
    "    print('Quem sabe na próxima')"
   ]
  },
  {
   "cell_type": "markdown",
   "id": "b723013f",
   "metadata": {},
   "source": [
    "Qualquer forma que o usuário digite a palavra 'sim' será aceita.\n",
    "\n",
    "Se quiser confirmar se dentro de uma string qo valor é um número, usamos o .isdigit(). Assim como tem o .isalpha()."
   ]
  },
  {
   "cell_type": "code",
   "execution_count": 51,
   "id": "b6e84769",
   "metadata": {},
   "outputs": [
    {
     "data": {
      "text/plain": [
       "False"
      ]
     },
     "execution_count": 51,
     "metadata": {},
     "output_type": "execute_result"
    }
   ],
   "source": [
    "valor = '5'\n",
    "\n",
    "valor.isdigit()"
   ]
  },
  {
   "cell_type": "code",
   "execution_count": 30,
   "id": "69c684ae",
   "metadata": {},
   "outputs": [
    {
     "data": {
      "text/plain": [
       "False"
      ]
     },
     "execution_count": 30,
     "metadata": {},
     "output_type": "execute_result"
    }
   ],
   "source": [
    "caractere = 'a'\n",
    "\n",
    "caractere.isdigit()"
   ]
  },
  {
   "cell_type": "code",
   "execution_count": 31,
   "id": "baab7bd9",
   "metadata": {},
   "outputs": [
    {
     "data": {
      "text/plain": [
       "True"
      ]
     },
     "execution_count": 31,
     "metadata": {},
     "output_type": "execute_result"
    }
   ],
   "source": [
    "caractere.isalpha()"
   ]
  },
  {
   "cell_type": "code",
   "execution_count": 45,
   "id": "849347d6",
   "metadata": {},
   "outputs": [
    {
     "data": {
      "text/plain": [
       "True"
      ]
     },
     "execution_count": 45,
     "metadata": {},
     "output_type": "execute_result"
    }
   ],
   "source": [
    "texto = 'exemplo'\n",
    "\n",
    "texto.isalpha()"
   ]
  },
  {
   "cell_type": "code",
   "execution_count": 50,
   "id": "9439e9f4",
   "metadata": {},
   "outputs": [
    {
     "data": {
      "text/plain": [
       "False"
      ]
     },
     "execution_count": 50,
     "metadata": {},
     "output_type": "execute_result"
    }
   ],
   "source": [
    "# Com float\n",
    "texto = '5'\n",
    "texto.isdecimal()"
   ]
  },
  {
   "cell_type": "markdown",
   "id": "8fc83d82",
   "metadata": {},
   "source": [
    "Extra: O que será que acontece quando usamos o operador + com duas strings?"
   ]
  },
  {
   "cell_type": "code",
   "execution_count": 52,
   "id": "8bd9f1c8",
   "metadata": {},
   "outputs": [
    {
     "data": {
      "text/plain": [
       "2"
      ]
     },
     "execution_count": 52,
     "metadata": {},
     "output_type": "execute_result"
    }
   ],
   "source": [
    "1 + 1"
   ]
  },
  {
   "cell_type": "code",
   "execution_count": 53,
   "id": "ead12e59",
   "metadata": {},
   "outputs": [
    {
     "data": {
      "text/plain": [
       "'ab'"
      ]
     },
     "execution_count": 53,
     "metadata": {},
     "output_type": "execute_result"
    }
   ],
   "source": [
    "'a' + 'b' #concatena as duas strings"
   ]
  },
  {
   "cell_type": "markdown",
   "id": "94c64b66",
   "metadata": {},
   "source": [
    "**Bora praticar**\n",
    "\n",
    "1) Faça um programa que peça a idade do usuário e imprima se ele é maior de idade (ter pelo menos 18 anos).\n",
    "\n",
    "2) Faça um programa que peça um número e mostre se ele é positivo ou negativo. Alternativa: acrescentar nulo\n",
    "\n",
    "3) Faça um programa que peça dois números e mostre o maior deles. Caso os números sejam iguais, mostre o próprio número.\n",
    "\n",
    "4) Faça um programa que leia a validade das informações:\n",
    "\n",
    "    a. Idade: entre 0 e 150 (limites não inclusos);\n",
    "\n",
    "    b. Salário: maior que 0;\n",
    "\n",
    "    c. Sexo: M, F ou Outro;\n",
    "\n",
    "O programa deve imprimir uma mensagem de erro para cada informação inválida.\n",
    "\n",
    "5) Escreva um programa que peça a nota de 3 provas de um aluno e verifique se ele passou ou não de ano.\n",
    "Obs.: O aluno irá passar de ano se sua média for maior que 6.\n",
    "\n",
    "6) Faça um programa que mostre uma questão de múltipla escolha com 5 opções (letras a, b, c, d, e). \n",
    "Sabendo a resposta certa, o programa deve receber a opção do usuário e informar a letra que o usuário marcou e se a resposta está certa ou errada.\n",
    "\n",
    "7) Vamos fazer um programa para verificar quem é o assassino de um crime. Para descobrir o assassino, \n",
    "a polícia faz um pequeno questionário com 5 perguntas \n",
    "onde a resposta só pode ser sim ou não:\n",
    "\n",
    "    a. Mora perto da vítima?\n",
    "\n",
    "    b. Já trabalhou com a vítima?\n",
    "\n",
    "    c. Telefonou para a vítima?\n",
    "\n",
    "    d. Esteve no local do crime?\n",
    "\n",
    "    e. Devia para a vítima?\n",
    "\n",
    "Cada resposta sim dá um ponto para o suspeito. A polícia considera que os suspeitos com 5 pontos são os assassinos, com 4 a 3 pontos \n",
    "são cúmplices e 2 pontos são apenas suspeitos, necessitando outras investigações. Valores iguais ou abaixo de 1 são liberados.'''\n",
    "\n",
    "8) Um produto vai sofrer aumento de acordo com a Tabela 1 abaixo. Faça um programa que peça para o usuário digitar o valor do produto de acordo \n",
    "com o preço antigo e escreva uma das mensagens da Tabela 2, de acordo com o preço reajustado:\n",
    "\n",
    "Tabela 1\n",
    "\n",
    "| Preço Antigo         | % de aumento |\n",
    "|----------------------|--------------|\n",
    "| Até 50 reais         | 5%           |\n",
    "| Entre 50 e 100 reais | 10%          |\n",
    "| De 100 a 150 reais   | 13%          |\n",
    "| Acima de 150 reais   | 15%          |\n",
    "\n",
    "Tabela 2\n",
    "\n",
    "| Preço Novo            | Mensagem   |\n",
    "|-----------------------|------------|\n",
    "| Até 80 reais          | Barato     |\n",
    "| Entre 80 e 115 reais  | Razoável   |\n",
    "| Entre 115 e 150 reais | Normal     |\n",
    "| Entre 150 e 170 reais | Caro       |\n",
    "| Acima de 170 reais    | Muito Caro |\n",
    "\n",
    "9) Desafio 1 - Faça um programa que leia 3 números e informe o maior deles.\n",
    "\n",
    "# Resolução dos exercícios\n",
    "Lembrando que não há uma única forma de resolver\n",
    "\n",
    "Coloquem as respostas em dontpad.com/turma999 e vou escolher algumas resoluções"
   ]
  },
  {
   "cell_type": "markdown",
   "id": "ecb9c538",
   "metadata": {},
   "source": [
    "1) Faça um programa que peça a idade do usuário e imprima se ele é maior de idade (ter pelo menos 18 anos)."
   ]
  },
  {
   "cell_type": "code",
   "execution_count": 1,
   "id": "a0948962",
   "metadata": {},
   "outputs": [
    {
     "name": "stdout",
     "output_type": "stream",
     "text": [
      "Maior de Idade\n",
      "Sua idade é:18\n"
     ]
    }
   ],
   "source": [
    "Idade = int(input(\"Digite sua Idade\"))\n",
    "\n",
    "if Idade <=17: \n",
    "    print(\"Menor de Idade\")\n",
    "\n",
    "if Idade >=18: \n",
    "    print(\"Maior de Idade\")\n",
    "\n",
    "print(f'Sua idade é:{Idade}')"
   ]
  },
  {
   "cell_type": "code",
   "execution_count": 57,
   "id": "b4244264",
   "metadata": {},
   "outputs": [
    {
     "name": "stdout",
     "output_type": "stream",
     "text": [
      "Maior de idade\n",
      "Sua idade é: 20\n"
     ]
    }
   ],
   "source": [
    "idade = int(input('Digite sua idade: '))\n",
    "\n",
    "if idade >= 18:\n",
    "    print('Maior de idade')\n",
    "else:\n",
    "    print('Menor de idade')\n",
    "\n",
    "print('Sua idade é:', idade)"
   ]
  },
  {
   "cell_type": "markdown",
   "id": "8854719d",
   "metadata": {},
   "source": [
    "2) Faça um programa que peça um número e mostre se ele é positivo ou negativo. Alternativa: acrescentar zero."
   ]
  },
  {
   "cell_type": "code",
   "execution_count": null,
   "id": "c4c552d9",
   "metadata": {},
   "outputs": [],
   "source": [
    "numero = float(input(\"Escolha um número: \"))\n",
    "\n",
    "if numero > 0:\n",
    "  print('Positivo')\n",
    "elif numero == 0:\n",
    "  print('Nulo')\n",
    "else:\n",
    "  print('Negativo')"
   ]
  },
  {
   "cell_type": "code",
   "execution_count": null,
   "id": "f5f5aa68",
   "metadata": {},
   "outputs": [],
   "source": [
    "numero = float(input ('insira um número'))\n",
    "\n",
    "if numero < 0:\n",
    "  print(\"negativo\")\n",
    "elif numero > 0 :\n",
    "  print(\"positivo\")\n",
    "else:\n",
    "  print('nulo')"
   ]
  },
  {
   "cell_type": "code",
   "execution_count": null,
   "id": "c39ac9b6",
   "metadata": {},
   "outputs": [],
   "source": [
    "numero = float(input(\"Digite um número: \"))\n",
    "\n",
    "if numero > 0:\n",
    "    print(\"O número é positivo.\")\n",
    "elif numero < 0:\n",
    "    print(\"O número é negativo.\")\n",
    "else:\n",
    "    print(\"O número é nulo.\")"
   ]
  },
  {
   "cell_type": "markdown",
   "id": "2d29d00a",
   "metadata": {},
   "source": [
    "3) Faça um programa que peça dois números e mostre o maior deles."
   ]
  },
  {
   "cell_type": "code",
   "execution_count": 58,
   "id": "04d34213",
   "metadata": {},
   "outputs": [
    {
     "name": "stdout",
     "output_type": "stream",
     "text": [
      "6.0 é maior\n"
     ]
    }
   ],
   "source": [
    "n1 = float(input('Informe o primeiro número'))\n",
    "n2 = float(input('Informe o segundo número'))\n",
    "\n",
    "if n1 == n2:\n",
    "  print(f'ambos iguais a {n1}')\n",
    "elif n1 > n2:\n",
    "  print(f'{n1} é maior')\n",
    "else:\n",
    "  print(f'{n2} é maior')"
   ]
  },
  {
   "cell_type": "markdown",
   "id": "d1180335",
   "metadata": {},
   "source": [
    "4) Faça um programa que leia a validade das informações:\n",
    "\n",
    "    a. Idade: entre 0 e 150 (limites não inclusos);\n",
    "\n",
    "    b. Salário: maior que 0;\n",
    "\n",
    "    c. Sexo: M, F ou Outro;\n",
    "\n",
    "O programa deve imprimir uma mensagem de erro para cada informação inválida."
   ]
  },
  {
   "cell_type": "code",
   "execution_count": 61,
   "id": "43340ccf",
   "metadata": {},
   "outputs": [],
   "source": [
    "idade = int(input('Informe a sua idade:'))\n",
    "salario = float(input('Informe seu salário:'))\n",
    "sexo = input('Informe seu sexo:')\n",
    "\n",
    "# Validação da idade\n",
    "if idade <= 0 or idade >= 150:\n",
    "    print('Idade inválida')\n",
    "else:\n",
    "    print('Idade válida')\n",
    "\n",
    "# Outra alternativa\n",
    "# if idade > 0 and idade < 150:\n",
    "#     print('Idade válida')\n",
    "# else:\n",
    "#     print('Idade inválida')\n",
    "\n",
    "# Outra forma de fazer\n",
    "if 0 > idade > 150:\n",
    "    print('Idade válida')\n",
    "else:\n",
    "    print('Idade inválida!')\n",
    "\n",
    "# Validação do salário\n",
    "if salario <= 0:\n",
    "    print('Salário inválido')\n",
    "\n",
    "# Validação do sexo\n",
    "sexo = sexo.capitalize()\n",
    "if sexo == 'M' or sexo == 'F' or sexo =='Outro':\n",
    "    print('Sexo válido!')\n",
    "else:\n",
    "    print('Sexo inválido')\n",
    "\n",
    "# Outra alternativa\n",
    "# sexo = input('Digite o sexo (M, F ou Outro): ')\n",
    "# sexo2 = sexo.upper()\n",
    "\n",
    "# if sexo2 != \"M\" and sexo2 != \"F\" and sexo2 != \"OUTRO\":\n",
    "#     print('Inválido')\n",
    "  \n",
    "# Outra alternativa\n",
    "# sexo = input('Digite o sexo:')\n",
    "# sexo = sexo.lower()\n",
    "# if not(sexo == \"m\" or sexo == \"f\" or sexo == \"outro\"):\n",
    "#   print(\"sexo invalido\")"
   ]
  },
  {
   "cell_type": "markdown",
   "id": "a8a65e5a",
   "metadata": {},
   "source": [
    "5) Escreva um programa que peça a nota de 3 provas de um aluno e verifique se ele passou ou não de ano.\n",
    "Obs.: O aluno irá passar de ano se sua média for maior que 6."
   ]
  },
  {
   "cell_type": "code",
   "execution_count": null,
   "id": "e7a19e2f",
   "metadata": {},
   "outputs": [],
   "source": [
    "nota1 = float(input(\"Digite a primeira nota: \"))\n",
    "nota2 = float(input(\"Digite a segunda nota: \"))\n",
    "nota3 = float(input(\"Digite a terceira nota: \"))\n",
    "media = (nota1 + nota2 + nota3)/3\n",
    "\n",
    "if media >= 6:\n",
    "    print(f\"Aluno aprovado! Média: {media}\")\n",
    "else:\n",
    "    print(f\"Aluno reprovado! Média: {media}\")"
   ]
  },
  {
   "cell_type": "markdown",
   "id": "e669f8cc",
   "metadata": {},
   "source": [
    "6) Faça um programa que mostre uma questão de múltipla escolha com 5 opções (letras a, b, c, d, e). \n",
    "Sabendo a resposta certa, o programa deve receber a opção do usuário e informar a letra que o usuário marcou e se a resposta está certa ou errada."
   ]
  },
  {
   "cell_type": "code",
   "execution_count": null,
   "id": "afbbc0ac",
   "metadata": {},
   "outputs": [],
   "source": [
    "print('Questão 1\\nTeste\\nA\\nB\\nC\\nD\\nE')\n",
    "questao = input('Digite ao lado qual é a alternativa correta: ')\n",
    "questao = questao.upper()\n",
    "resposta = 'B'\n",
    "print(f'A alternativa escolhida pelo usuário é {questao}')\n",
    "\n",
    "if questao == resposta:\n",
    "    print('Você acertou!')\n",
    "else:\n",
    "    print('Você errou!')\n",
    "\n",
    "'tExTo'.upper()\n",
    "\n",
    "'tExTo'.lower()"
   ]
  },
  {
   "cell_type": "markdown",
   "id": "43e66438",
   "metadata": {},
   "source": [
    "7) Vamos fazer um programa para verificar quem é o assassino de um crime. Para descobrir o assassino, a polícia faz um pequeno questionário com 5 perguntas onde a resposta só pode ser sim ou não:  \n",
    "\n",
    "\n",
    "    a. Mora perto da vítima? \n",
    "\n",
    "    b. Já trabalhou com a vítima? \n",
    "\n",
    "    c. Telefonou para a vítima?\n",
    "\n",
    "    d. Esteve no local do crime?\n",
    "\n",
    "    e. Devia para a vítima?\n",
    "\n",
    "Cada resposta sim dá um ponto para o suspeito. A polícia considera que os suspeitos com 5 pontos são os assassinos, com 4 a 3 pontos \n",
    "são cúmplices e 2 pontos são apenas suspeitos, necessitando outras investigações. Valores iguais ou abaixo de 1 são liberados."
   ]
  },
  {
   "cell_type": "code",
   "execution_count": null,
   "id": "678e153a",
   "metadata": {},
   "outputs": [],
   "source": [
    "print('Responda as 5 questões apenas com sim ou não.')\n",
    "questao_a = input('Mora perto da vítima?').lower()\n",
    "questao_b = input('Já trabalhou com a vítima?').lower()\n",
    "questao_c = input('Telefonou para a vítima?').lower()\n",
    "questao_d = input('Esteve no local do crime?').lower()\n",
    "questao_e = input('Devia para a vítima?').lower()\n",
    "\n",
    "if questao_a == 'sim':\n",
    "    resposta_a = 1\n",
    "else:\n",
    "    resposta_a = 0\n",
    "\n",
    "if questao_b == 'sim':\n",
    "    resposta_b = 1\n",
    "else:\n",
    "    resposta_b = 0\n",
    "\n",
    "if questao_c == 'sim':\n",
    "    resposta_c = 1\n",
    "else:\n",
    "    resposta_c = 0\n",
    "\n",
    "if questao_d == 'sim':\n",
    "    resposta_d = 1\n",
    "else:\n",
    "    resposta_d = 0\n",
    "\n",
    "if questao_e == 'sim':\n",
    "    resposta_e = 1\n",
    "else:\n",
    "    resposta_e = 0\n",
    "\n",
    "resposta_final = resposta_a + resposta_b + resposta_c + resposta_d + resposta_e\n",
    "\n",
    "if resposta_final == 5:\n",
    "    print('Assassino')\n",
    "elif resposta_final == 3 or resposta_final == 4:\n",
    "    print('Cúmplice')\n",
    "elif resposta_final == 2:\n",
    "    print('Suspeito')\n",
    "else:\n",
    "    print('Liberado')"
   ]
  },
  {
   "cell_type": "code",
   "execution_count": null,
   "id": "02498e7a",
   "metadata": {},
   "outputs": [],
   "source": [
    "# Fazendo as perguntas para os suspeitos\n",
    "a = input('Mora perto da vítima?').lower()\n",
    "b = input('Já trabalhou com a vítima?').lower()\n",
    "c = input('Telefonou para a vítima?').lower()\n",
    "d = input('Esteve no local do crime?').lower()\n",
    "e = input('Devia para a vítima?').lower()\n",
    "\n",
    "cont = 0\n",
    "if a == 'sim':\n",
    "   cont += 1 # cont = cont + 1\n",
    "if b == 'sim': \n",
    "   cont += 1\n",
    "if c == 'sim': \n",
    "   cont += 1\n",
    "if d == 'sim': \n",
    "   cont += 1\n",
    "if e == 'sim': \n",
    "   cont += 1\n",
    "\n",
    "if cont == 5:\n",
    "  print('Assassino')\n",
    "elif cont == 4 or cont == 3:\n",
    "  print('Cúmplice')\n",
    "elif cont == 2:\n",
    "  print('Suspeito')\n",
    "else:\n",
    "  print('Liberado')"
   ]
  },
  {
   "cell_type": "markdown",
   "id": "b73da6e2",
   "metadata": {},
   "source": [
    "8) Um produto vai sofrer aumento de acordo com a Tabela 1 abaixo. Faça um programa que peça para o usuário digitar o valor do produto de acordo \n",
    "com o preço antigo e escreva uma das mensagens da Tabela 2, de acordo com o preço reajustado:\n",
    "\n",
    "Tabela 1\n",
    "\n",
    "| Preço Antigo         | % de aumento |\n",
    "|----------------------|--------------|\n",
    "| Até 50 reais         | 5%           |\n",
    "| Entre 50 e 100 reais | 10%          |\n",
    "| De 100 a 150 reais   | 13%          |\n",
    "| Acima de 150 reais   | 15%          |\n",
    "\n",
    "Tabela 2\n",
    "\n",
    "| Preço Novo            | Mensagem   |\n",
    "|-----------------------|------------|\n",
    "| Até 80 reais          | Barato     |\n",
    "| Entre 80 e 115 reais  | Razoável   |\n",
    "| Entre 115 e 150 reais | Normal     |\n",
    "| Entre 150 e 170 reais | Caro       |\n",
    "| Acima de 170 reais    | Muito Caro |"
   ]
  },
  {
   "cell_type": "code",
   "execution_count": null,
   "id": "e8830bae",
   "metadata": {},
   "outputs": [],
   "source": [
    "preco = float(input(\"Digite o preço antigo do produto: \"))\n",
    "\n",
    "if preco < 50:\n",
    "    preco_atual = preco * 1.05\n",
    "elif 50 <= preco < 100:\n",
    "    preco_atual = preco * 1.1\n",
    "elif 100 <= preco < 150:\n",
    "    preco_atual = preco * 1.13\n",
    "else:\n",
    "    preco_atual = preco * 1.15\n",
    "\n",
    "if preco_atual <= 80:\n",
    "    print(\"Barato\")\n",
    "elif preco_atual <= 115:\n",
    "    print(\"Razoável\")\n",
    "elif preco_atual <= 150:\n",
    "    print(\"Normal\")\n",
    "elif preco_atual <= 170:\n",
    "    print(\"Caro\")\n",
    "else:\n",
    "    print(\"Muito caro\")"
   ]
  },
  {
   "cell_type": "markdown",
   "id": "f8b8d13e",
   "metadata": {},
   "source": [
    "9) Desafio 1 - Faça um programa que leia 3 números e informe o maior deles."
   ]
  },
  {
   "cell_type": "code",
   "execution_count": null,
   "id": "7cf83082",
   "metadata": {},
   "outputs": [],
   "source": []
  }
 ],
 "metadata": {
  "kernelspec": {
   "display_name": "Python 3 (ipykernel)",
   "language": "python",
   "name": "python3"
  },
  "language_info": {
   "codemirror_mode": {
    "name": "ipython",
    "version": 3
   },
   "file_extension": ".py",
   "mimetype": "text/x-python",
   "name": "python",
   "nbconvert_exporter": "python",
   "pygments_lexer": "ipython3",
   "version": "3.9.13"
  }
 },
 "nbformat": 4,
 "nbformat_minor": 5
}
