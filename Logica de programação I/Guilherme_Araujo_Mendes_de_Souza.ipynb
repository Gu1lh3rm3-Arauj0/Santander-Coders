{
 "cells": [
  {
   "cell_type": "markdown",
   "metadata": {},
   "source": []
  },
  {
   "cell_type": "markdown",
   "metadata": {},
   "source": [
    "Prova\n",
    "Guilherme Araújo Mendes de Souza"
   ]
  },
  {
   "cell_type": "markdown",
   "metadata": {},
   "source": [
    "1. Considere o seguinte trecho de código, parte do preenchimento do perfil de investidor do banco:\n",
    "\n",
    "i = input('Você sabe o que é uma RENDA FIXA?: ')\n",
    "\n",
    "Caso o usuário digite na caixa de texto de entrada \"True\", qual será o tipo de dado da variável i?\n",
    "\n",
    "a) int\n",
    "\n",
    "b) str\n",
    "\n",
    "c) float\n",
    "\n",
    "d) bool\n",
    "\n",
    "e) list"
   ]
  },
  {
   "cell_type": "markdown",
   "metadata": {},
   "source": [
    "1 - Questão\n",
    "Resposta: Alternativa B, por padrão a função de input no python armazena a os dados em str, para alterar o tipo de dados, por exemplo para bool, é necessário converter a váriavel da seguinte forma: i = bool(input('Você sabe o que é uma RENDA FIXA?: ')).\n"
   ]
  },
  {
   "cell_type": "markdown",
   "metadata": {},
   "source": [
    "2. Você precisa implementar um código em Python que solicite ao usuário o valor principal (capital) inicial, a taxa de juros por período e o tempo em que o dinheiro é emprestado ou investido. Com base nesses valores, o programa deve calcular os juros simples e o montante total ao final do período. Assuma que temos apenas um único mês de investimento/empréstimo. Assinale a alternativa que corretamente implementa este procedimento:\n",
    "\n",
    "a) juros = principal *= taxa\n",
    "montante = principal + juros\n",
    "\n",
    "b) juros = principal * taxa\n",
    "montante = principal += juros\n",
    "\n",
    "c) juros = principal *= taxa\n",
    "montante = principal += juros\n",
    "\n",
    "d) juros = principal + taxa\n",
    "montante == principal ** juros\n",
    "\n",
    "e) juros = principal * taxa\n",
    "montante = principal + juros\n",
    "\n",
    "Dica: O montante é calculado somando o principal ao juros e os juros são o produto do principal pela taxa."
   ]
  },
  {
   "cell_type": "markdown",
   "metadata": {},
   "source": [
    "2 - Questão\n",
    "Resposta: Alternativa E, posto que é a única alternativa que calcula o juros realizando o produto entre o principal e o juros e calcula montante somando o principal ao juros tendo a sintaxe correta."
   ]
  },
  {
   "cell_type": "markdown",
   "metadata": {},
   "source": [
    "3. Na variável clientes_ano temos uma lista de listas, em que cada elemento é uma lista de dois elementos, o primeiro é o nome do cliente cadastrado na plataforma, e o segundo é o ano em que o cadastro foi realizado. Você deseja criar uma nova lista de listas (chamade de clientes_relacionamento), em que cada elemento é uma lista de dois elementos, sendo o primeiro o nome do cliente (como é na lista original), e o segundo é o número de anos em que o cliente está cadastrado na plataforma (considere que o ano atual é 2023). Qual das alternativas a seguir completa corretamente o trecho de código iniciado abaixo, para construir corretamente a lista desejada?\n",
    "\n",
    "clientes_ano = [['Cliente A', 2018], ['Cliente B', 2021]] # Este é apenas um exemplo da lista dos anos\n",
    "clientes_relacionamento = []\n",
    "\n",
    "for lista in clientes_ano:\n",
    "\n",
    "    # o código da alternativa correta deve vir aqui\n",
    "\n",
    "Ao revisar este código, qual das alternativas a seguir produz o mesmo resultado?\n",
    "\n",
    "a) clientes_relacionamento.append([lista[0], lista[1] - 2023])\n",
    "\n",
    "b) clientes_relacionamento.append([lista[1], 2023 - lista[0]])\n",
    "\n",
    "c) clientes_relacionamento.append([lista[1], lista[0] - 2023])\n",
    "\n",
    "d) clientes_relacionamento.append([lista, 2023 - lista])\n",
    "\n",
    "e) clientes_relacionamento.append([lista[0], 2023 - lista[1]])"
   ]
  },
  {
   "cell_type": "markdown",
   "metadata": {},
   "source": [
    "3 - Questão\n",
    "Resposta: Alternativa E, é a unica alternativa que apresenta lógica e sintaxe do codigo correta, visto que as listas començam seus indices a partir do indice 0, e o nome é o primeiro elemento das listas (indice 0), e o ano de cadastro é o segundo elemento das listas (indice 1). Além disso para calcular o número de anos em que o cliente está cadastrado na plataforma, é necessário subtrair o ano de cadastro de 2023, exemplo: 2023 - (Ano de cadastro)."
   ]
  },
  {
   "cell_type": "markdown",
   "metadata": {},
   "source": [
    "4.Queremos criar uma lista para armazenar os preços dos produtos de determinado banco. Em qual das opções abaixo a variável precos_produtos não é uma lista?\n",
    "\n",
    "a) precos_produtos = []\n",
    "\n",
    "b) precos_produtos = list(\"1 2 3 4\")\n",
    "\n",
    "c) precos_produtos = (1, 1.5, 3.8)\n",
    "\n",
    "d) precos_produtos = [1, 2, 3, 4]\n",
    "\n",
    "e) precos_produtos = list()"
   ]
  },
  {
   "cell_type": "markdown",
   "metadata": {},
   "source": [
    "4 - Questão\n",
    "Resposta: Alternativa C, dado que exitem duas formas de definir uma lista, são elas usando conchetes [] ou passando a função list(), podendo criar uma lista vazia ([], list()) ou não ([1, 2, 3, 4], list('1 '2' '3' '4'))"
   ]
  },
  {
   "cell_type": "markdown",
   "metadata": {},
   "source": [
    "5. Em um banco, existe um sistema de alerta na central de suporte que é ativado quando o número de chamados supera 500. Enquanto o volume de chamados permanecer acima desse limite, o sistema exibe uma mensagem indicando quantos chamados ainda precisam ser resolvidos para que o número volte a ficar adequado. Para implementar esta lógica, você começou criando o seguinte código:\n",
    "\n",
    "num_chamados = 780\n",
    "\n",
    "while (num_chamados > 500):\n",
    "\n",
    "    print(f'ALERTA! HÁ UM TOTAL DE {num_chamados}')\n",
    "\n",
    "    print('Você atendeu um chamado!')\n",
    "\n",
    "    print(f\"Faltam {num_chamados - 500} para o nível estar dentro do aceitável!\")\n",
    "\n",
    "    # código da alternativa correta aqui\n",
    "\n",
    "print(\"\\nNão estamos mais em estado de alerta!\")\n",
    "\n",
    "Assinale a alternativa que implementa corretamente a lógica desejada, substituindo o comentário no código acima:\n",
    "\n",
    "a) num_chamados += 1\n",
    "\n",
    "b) num_chamados = 100 - num_chamados\n",
    "\n",
    "c) num_chamados -= 1\n",
    "\n",
    "d) num_chamados = 100 + num_chamados\n",
    "\n",
    "e) num_chamados += 100"
   ]
  },
  {
   "cell_type": "markdown",
   "metadata": {},
   "source": [
    "5 - Questão\n",
    "Resposta: Alternativa C, posto que para a lógica do código ser concluída, após atender um chamado é nnecessário decrementar um do num_chamados conforme realizado na alternativa C."
   ]
  },
  {
   "cell_type": "markdown",
   "metadata": {},
   "source": [
    "6.Imagine que você está desenvolvendo um aplicativo para planejamento de viagens rodoviárias. Uma das funcionalidades desse aplicativo é ajudar os usuários a estimar o tempo que levarão para chegar a seus destinos. Para tornar o aplicativo mais interativo e educativo, você decide incluir uma seção onde os usuários podem calcular a distância de uma viagem baseando-se na velocidade média esperada do veículo e no tempo de viagem. Faça um código em Python que calcule a distância em km entre duas cidades, completando o template de código a seguir, no qual o tempo em minutos deve ser informado pelo usuário:\n",
    "\n",
    "velocidade = 25 # esta em m/s\n",
    "\n",
    "velocidade_convertida = # código para colocar a velocidade na unidade adequada\n",
    "\n",
    "tempo = # código para receber como input do usuário o tempo em minutos\n",
    "\n",
    "distancia = # código que implementa a lógica da distância em km\n",
    "\n",
    "print(f\"\\nA distância entre os dois locais é {distancia} km!\")\n",
    "\n",
    "Dica 1: o tempo necessário para percorrer uma dada distância à velocidade constante é dado pelo quociente entre a distância e a velocidade.\n",
    "\n",
    "Dica 2: 1 m/s = 3,6 km/h. Atenção às unidades!"
   ]
  },
  {
   "cell_type": "code",
   "execution_count": 25,
   "metadata": {},
   "outputs": [
    {
     "name": "stdout",
     "output_type": "stream",
     "text": [
      "\n",
      "A distância entre os dois locais é 90.0 km!\n"
     ]
    }
   ],
   "source": [
    "#6 - Questão\n",
    "velocidade = 25 # esta em m/s\n",
    "\n",
    "velocidade_convertida = 25*3.6 # código para colocar a velocidade na unidade adequada\n",
    "\n",
    "tempo = int(input('Informe o tempo em minutos da duração da viagem: '))# código para receber como input do usuário o tempo em minutos\n",
    "\n",
    "distancia = velocidade_convertida * (tempo/60) # código que implementa a lógica da distância em km\n",
    "                                    #Dividi por 60, para que a o tempo fica-se em horas\n",
    "\n",
    "print(f\"\\nA distância entre os dois locais é {distancia} km!\")"
   ]
  },
  {
   "cell_type": "markdown",
   "metadata": {},
   "source": [
    "7.Em um banco, é importante que tenhamos um registro de todos os clientes, sejam correntistas ou não, para que seja possível, por exemplo, realizar a comunicação com eles enviando ofertas de produtos.\n",
    "\n",
    "Para começar a prototipar esta funcionalidade, você deve criar um programa em Python que leia diversos números inteiros e insira todos em uma lista (esses números são os identificadores dos clientes). A cada solicitação de número, pergunte ao usuário se deseja inserir outro número: tendo como resposta 'S' para inserir mais um; ou 'N' caso queira terminar. É possível que o mesmo número seja digitado mais de uma vez (isso pode representar o mesmo cliente fazendo mais de um pedido). Após construir a lista, mostre:\n",
    "\n",
    "a) todos os números digitados na ordem em que foram inseridos\n",
    "\n",
    "b) todos os números digitados em ordem crescente\n",
    "\n",
    "c) a média destes valores\n",
    "\n",
    "d) apenas os números pares\n",
    "\n",
    "e) apenas os números ímpares\n",
    "\n",
    "f) apenas os números repetidos\n",
    "\n",
    "Obs.: O usuário obrigatoriamente digitará as letras S e N, contudo não necessariamente de forma padronizada."
   ]
  },
  {
   "cell_type": "code",
   "execution_count": 94,
   "metadata": {},
   "outputs": [],
   "source": [
    "#7 - Questão\n",
    "insere = input('Você deseja inserir um cliente? (S - Sim | N - Não): ') #Verifica se o usuário deseja inserir mais cliente a lista\n",
    "\n",
    "lista = [] #Declaração de uma lista vazia \n",
    "\n",
    "while insere.lower() == 's':\n",
    "    codigo_identificador = int(input('Informe o codigo identificador do Cliente: '))\n",
    "    lista.append(codigo_identificador)\n",
    "\n",
    "    insere = input('Você deseja inserir mais um cliente? (S - Sim | N - Não): ')"
   ]
  },
  {
   "cell_type": "code",
   "execution_count": 104,
   "metadata": {},
   "outputs": [
    {
     "name": "stdout",
     "output_type": "stream",
     "text": [
      "[10, 10, 11, 11, 12, 13, 14, 15]\n"
     ]
    }
   ],
   "source": [
    "#7a) todos os números digitados na ordem em que foram inseridos\n",
    "print(lista)"
   ]
  },
  {
   "cell_type": "code",
   "execution_count": 96,
   "metadata": {},
   "outputs": [
    {
     "name": "stdout",
     "output_type": "stream",
     "text": [
      "[10, 10, 11, 11, 12, 13, 14, 15]\n"
     ]
    }
   ],
   "source": [
    "#7b) todos os números digitados em ordem crescente\n",
    "print(sorted(lista))"
   ]
  },
  {
   "cell_type": "code",
   "execution_count": 97,
   "metadata": {},
   "outputs": [
    {
     "name": "stdout",
     "output_type": "stream",
     "text": [
      "12.0\n"
     ]
    }
   ],
   "source": [
    "#7c) a média destes valores\n",
    "soma = 0\n",
    "for valor in lista:\n",
    "    soma += valor\n",
    "\n",
    "media = soma / len(lista)\n",
    "\n",
    "print(media)"
   ]
  },
  {
   "cell_type": "code",
   "execution_count": 98,
   "metadata": {},
   "outputs": [
    {
     "name": "stdout",
     "output_type": "stream",
     "text": [
      "[10, 10, 12, 14]\n"
     ]
    }
   ],
   "source": [
    "#7d) apenas os números pares\n",
    "lista_par = []\n",
    "for valor in lista:\n",
    "    if valor % 2 == 0:\n",
    "        lista_par.append(valor)\n",
    "\n",
    "print(lista_par)"
   ]
  },
  {
   "cell_type": "code",
   "execution_count": 99,
   "metadata": {},
   "outputs": [
    {
     "name": "stdout",
     "output_type": "stream",
     "text": [
      "[11, 11, 13, 15]\n"
     ]
    }
   ],
   "source": [
    "#7e) apenas os números ímpares\n",
    "lista_impar = []\n",
    "for valor in lista:\n",
    "    if valor % 2 == 1:\n",
    "        lista_impar.append(valor)\n",
    "\n",
    "print(lista_impar)"
   ]
  },
  {
   "cell_type": "code",
   "execution_count": 105,
   "metadata": {},
   "outputs": [
    {
     "name": "stdout",
     "output_type": "stream",
     "text": [
      "[10, 10, 11, 11]\n"
     ]
    }
   ],
   "source": [
    "#7f) apenas os números repetidos\n",
    "lista_dos_repetidos = []\n",
    "\n",
    "for valorA in lista:\n",
    "    contador = 0\n",
    "    for valorB in lista:\n",
    "        if valorA == valorB:\n",
    "            contador += 1\n",
    "\n",
    "    if contador >= 2:\n",
    "        lista_dos_repetidos.append(valorA)\n",
    "\n",
    "print(lista_dos_repetidos)"
   ]
  },
  {
   "cell_type": "markdown",
   "metadata": {},
   "source": [
    "8.Escreva um código em Python que recebe um número (que possa ter casas decimais) e a escala de temperatura em que este valor se encontra e para qual ele deseja converter (Celsius, Kelvin ou Fahrenheit). Tanto na escala em que se encontra quanto para a que deseja converter, utilize as letras iniciais como entrada: Celsius - 'C', Kelvin - 'K' ou Fahrenheit - 'F'.\n",
    "\n",
    "Seu código deve solicitar ao usuário as informações necessárias para realizar a conversão de temperatura (temperatura, escala_original, escala_convertida), de acordo com o template abaixo.\n",
    "\n",
    "temperatura = # código para receber o valor numérico da temperatura desejada\n",
    "\n",
    "escala_original = # código para receber a escala original da temperatura informada\n",
    "\n",
    "escala_convertida = # código para receber a escala para a qual deseja-se converter a temperatura\n",
    "\n",
    "Implemente abaixo toda a lógica de conversão de temperaturas, bem como as validações necessárias.\n",
    "\n",
    "Importante: o programa deve trabalhar apenas com as 3 escalas supracitadas! Então, não deixe de fazer as validações necessárias. Além disso, por definição, não existem temperaturas em Kelvin abaixo de zero (o valor zero pode existir), portanto verifique também esta condição para que sejam feitas conversões válidas!\n",
    "\n",
    "Dica: as equações de conversão entre as escalas são as seguintes:\n",
    "\n",
    "Celsius <> Fahrenheit: \\color{white}{\\frac{C}{5} = \\frac{F - 32}{9}}\n",
    "\n",
    "Celsius <> Kelvin:  \\color{white}{C = K - 273}\n",
    "\n",
    "Kelvin <> Fahrenheit:  \\color{white}{\\frac{K - 273}{5} = \\frac{F - 32}{9}}"
   ]
  },
  {
   "cell_type": "code",
   "execution_count": null,
   "metadata": {},
   "outputs": [],
   "source": [
    "#8 - Questão\n",
    "\n",
    "temperatura = float(input('Informe a temperatura: '))\n",
    "\n",
    "#Solicita a escala original e verifica que se o valor inserido é valido\n",
    "while True:\n",
    "    escala_original = input('Informe a escala original (Celsius, Fahrenheit ou Kelvin): ')\n",
    "\n",
    "    if escala_original.lower() != 'celsius' and escala_original.lower() != 'fahrenheit' and escala_original.lower() != 'kelvin':\n",
    "        print('Escala inválida!')\n",
    "    else:\n",
    "        break\n",
    "\n",
    "#Solicita a escala convertida e verifica que se o valor inserido é valido\n",
    "while True:\n",
    "    escala_convertida = input('Informe a escala para conversão (Celsius, Fahrenheit ou Kelvin): ')\n",
    "    if escala_convertida.lower() != 'celsius' and escala_convertida.lower() != 'fahrenheit' and escala_convertida.lower() != 'kelvin':\n",
    "        print('Escala inválida!')\n",
    "    else:\n",
    "        break\n",
    "\n",
    "#Verifica se as temperaturas são acima do zero absoluto em cada escala\n",
    "while True:\n",
    "    if escala_original.lower() == 'Kelvin' and temperatura >= 0:\n",
    "        break\n",
    "\n",
    "    elif escala_original.lower() == 'celsius' and temperatura >= -273.15:\n",
    "        break\n",
    "\n",
    "    elif escala_original.lower() == 'fahrenheit' and temperatura >= -459.67:\n",
    "        break\n",
    "\n",
    "    else:\n",
    "        print('A temperatura informada é abaixo do zero absoluto')\n",
    "        temperatura = float(input('Informe a temperatura: '))\n",
    "\n",
    "#Coverte as temperaturas\n",
    "if escala_original.lower() == 'Kelvin' and escala_convertida.lower() == 'Kelvin':\n",
    "    print(f'A temperatura convertida da escala {escala_original} para a {escala_convertida} é: {temperatura}')\n",
    "\n",
    "elif escala_original.lower() == 'celsius' and escala_convertida.lower() == 'celsius':\n",
    "    print(f'A temperatura convertida da escala {escala_original} para a {escala_convertida} é: {temperatura}')\n",
    "\n",
    "elif escala_original.lower() == 'fahrenheit' and escala_convertida.lower() == 'fahrenheit':\n",
    "    print(f'A temperatura convertida da escala {escala_original} para a {escala_convertida} é: {temperatura}')\n",
    "\n",
    "elif escala_original.lower() == 'Kelvin' and escala_convertida.lower() == 'celsius':\n",
    "    nova_temperatura = temperatura - 273\n",
    "    print(f'A temperatura convertida da escala {escala_original} para a {escala_convertida} é: {nova_temperatura}')\n",
    "\n",
    "elif escala_original.lower() == 'Kelvin' and escala_convertida.lower() == 'fahrenheit':\n",
    "    nova_temperatura = (temperatura - 273) * 1.8 + 32\n",
    "    print(f'A temperatura convertida da escala {escala_original} para a {escala_convertida} é: {nova_temperatura}')\n",
    "\n",
    "elif escala_original.lower() == 'celsius' and escala_convertida.lower() == 'Kelvin':\n",
    "    nova_temperatura = temperatura + 273\n",
    "    print(f'A temperatura convertida da escala {escala_original} para a {escala_convertida} é: {nova_temperatura}')\n",
    "\n",
    "elif escala_original.lower() == 'celsius' and escala_convertida.lower() == 'fahrenheit':\n",
    "    nova_temperatura = (temperatura * 1.8) + 32\n",
    "    print(f'A temperatura convertida da escala {escala_original} para a {escala_convertida} é: {nova_temperatura}')\n",
    "\n",
    "elif escala_original.lower() == 'fahrenheit' and escala_convertida.lower() == 'Kelvin':\n",
    "    nova_temperatura = (temperatura - 32) * (5/9) + 273\n",
    "    print(f'A temperatura convertida da escala {escala_original} para a {escala_convertida} é: {nova_temperatura}')\n",
    "\n",
    "elif escala_original.lower() == 'fahrenheit' and escala_convertida.lower() == 'fahrenheit':\n",
    "    nova_temperatura = (temperatura-32)/1.8\n",
    "    print(f'A temperatura convertida da escala {escala_original} para a {escala_convertida} é: {nova_temperatura}')"
   ]
  },
  {
   "cell_type": "markdown",
   "metadata": {},
   "source": [
    "9.Um grande banco deseja saber quais são seus produtos mais vendidos. Em uma lista, são registrados os nomes dos produtos, na ordem em que eles são vendidos (portanto, há elementos repetidos nesta lista). Faça um programa que exibe na tela cada um dos produtos na lista de input, e a quantidade em que eles foram vendidos (separados por um traço), de modo que teremos uma mensagem em cada linha. Os produtos devem ser exibidos em ordem alfabética.\n",
    "\n",
    "Ex.: para a lista produtos = [\"Crediário\", \"Consórcio\", \"Consórcio\", \"Financiamento\", \"Consórcio\", \"Crediário\"]\n",
    "\n",
    "Obs: Existem outros produtos além dos da lista acima, seu código deve contemplar outras possibilidades.\n",
    "\n",
    "Devemos ter as seguintes mensagens exibidas na tela:\n",
    "\n",
    "Consórcio - 3  \n",
    "Crediário - 2  \n",
    "Financiamento - 1\n"
   ]
  },
  {
   "cell_type": "code",
   "execution_count": null,
   "metadata": {},
   "outputs": [],
   "source": [
    "lista_produtos = []\n",
    "lista_de_produtos = []\n",
    "resultado = []\n",
    "\n",
    "insere = input('Você deseja inserir um produto? (S - Sim | N - Não): ') #Verifica se o usuário deseja inserir mais cliente a lista\n",
    "\n",
    "while insere.lower() == 's':\n",
    "    contador = 0\n",
    "    produto = (input('Informe o nome do produto: '))\n",
    "    for item in lista_produtos:\n",
    "        if produto == item:\n",
    "            contador += 1\n",
    "    lista_produtos.append(produto)\n",
    "    if contador == 0:\n",
    "        lista_de_produtos.append(codigo_identificador)\n",
    "    \n",
    "    for item in lista_produtos:\n",
    "        cont = 0\n",
    "        for produtos in lista_de_produtos:\n",
    "            if item == produtos:\n",
    "                cont += 1\n",
    "        resultado.append(f'{produtos}: {cont}')\n",
    "\n",
    "    insere = input('Você deseja inserir um produto? (S - Sim | N - Não) ')\n",
    "\n",
    "print(resultado)"
   ]
  },
  {
   "cell_type": "markdown",
   "metadata": {},
   "source": [
    "10.Um banco está analisando o desempenho de um investimento ao longo de um mês. Eles têm uma lista de valores de fechamento diários deste investimento e querem calcular uma média móvel de 7 dias para entender melhor as tendências no curto prazo. A média móvel de 7 dias é uma forma comum de suavizar flutuações diárias, dando ao banco uma visão mais clara das tendências de desempenho do investimento.\n",
    "\n",
    "Seu objetivo é desenvolver um código em Python que processe a lista de valores fornecida. O código deve calcular e retornar uma nova lista contendo a média móvel de 7 dias para cada período possível dentro dos dados fornecidos.\n",
    "\n",
    "Dica: A média móvel em um determinado dia é calculada como a média dos valores de fechamento dos 7 dias anteriores, incluindo o dia atual.\n",
    "\n",
    "valores_dos_fechamentos = [\n",
    "    156.89, 155.16, 148.41, 145.18, 150.23, 148.10, 155.68,\n",
    "    146.07, 149.53, 151.67, 158.16, 150.09, 145.64, 155.12,\n",
    "    152.37, 145.01, 158.19, 159.66, 156.20, 158.04, 146.20,\n",
    "    154.60, 157.98, 153.68, 149.44, 142.01, 148.68, 152.22,\n",
    "    158.26, 159.33\n",
    "]\n"
   ]
  },
  {
   "cell_type": "code",
   "execution_count": 114,
   "metadata": {},
   "outputs": [
    {
     "name": "stdout",
     "output_type": "stream",
     "text": [
      "0\n",
      "1\n",
      "2\n",
      "3\n",
      "4\n",
      "5\n",
      "6\n",
      "151.9457142857143\n"
     ]
    }
   ],
   "source": [
    "valores_dos_fechamentos = [\n",
    "    156.89, 155.16, 148.41, 145.18, 150.23, 148.10, 155.68,\n",
    "    146.07, 149.53, 151.67, 158.16, 150.09, 145.64, 155.12,\n",
    "    152.37, 145.01, 158.19, 159.66, 156.20, 158.04, 146.20,\n",
    "    154.60, 157.98, 153.68, 149.44, 142.01, 148.68, 152.22,\n",
    "    158.26, 159.33\n",
    "]\n",
    "\n",
    "valores_dos_fechamentos.reverse()\n",
    "\n",
    "soma = 0\n",
    "for i in range(7):\n",
    "    soma += valores_dos_fechamentos[i]\n",
    "\n",
    "media_movel = soma / 7\n",
    "\n",
    "print(media_movel)"
   ]
  }
 ],
 "metadata": {
  "kernelspec": {
   "display_name": "Python 3",
   "language": "python",
   "name": "python3"
  },
  "language_info": {
   "codemirror_mode": {
    "name": "ipython",
    "version": 3
   },
   "file_extension": ".py",
   "mimetype": "text/x-python",
   "name": "python",
   "nbconvert_exporter": "python",
   "pygments_lexer": "ipython3",
   "version": "3.11.2"
  }
 },
 "nbformat": 4,
 "nbformat_minor": 2
}
