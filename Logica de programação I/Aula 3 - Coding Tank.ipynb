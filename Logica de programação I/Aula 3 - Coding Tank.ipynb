{
 "cells": [
  {
   "cell_type": "markdown",
   "id": "72cae5bf",
   "metadata": {},
   "source": [
    "# Coding Tank"
   ]
  },
  {
   "cell_type": "markdown",
   "id": "36ea7563",
   "metadata": {},
   "source": [
    "Tópicos da aula - AULA 3\n",
    "    \n",
    "- Estruturas de repetição\n",
    "- Loop while"
   ]
  },
  {
   "cell_type": "markdown",
   "id": "e339739b",
   "metadata": {},
   "source": [
    "Na aula passada fizemos o programa que a pessoa digitava 2 números e a gente dizia o maior. E se quisermos saber qual o maior entre 3 valores? E se quisermos 10? E se quisermos 100? Conseguimos fazer?"
   ]
  },
  {
   "cell_type": "code",
   "execution_count": 1,
   "id": "6ad940b2",
   "metadata": {},
   "outputs": [
    {
     "name": "stdout",
     "output_type": "stream",
     "text": [
      "8.0 é maior\n"
     ]
    }
   ],
   "source": [
    "# entradas com dois números\n",
    "n1 = float(input('Informe o primeiro número'))\n",
    "n2 = float(input('Informe o segundo número'))\n",
    "\n",
    "if n1 == n2:\n",
    "  print(f'ambos iguais a {n1}')\n",
    "elif n1 > n2:\n",
    "  print(f'{n1} é maior')\n",
    "else:\n",
    "  print(f'{n2} é maior')"
   ]
  },
  {
   "cell_type": "code",
   "execution_count": null,
   "id": "370b6564",
   "metadata": {},
   "outputs": [],
   "source": [
    "# entrada com três números\n",
    "n1 = float(input('Informe o primeiro número'))\n",
    "n2 = float(input('Informe o segundo número'))\n",
    "n3 = float(input('Informe o terceiro número'))\n",
    "\n",
    "if n1 == n2 and n1 == n3:\n",
    "    print('Os três números são iguais')\n",
    "elif n1 >= n2 and n1 >= n3:\n",
    "    print(f'{n1} é o maior número')\n",
    "elif n2 >= n1 and n2 >= n3:\n",
    "    print(f'{n2} é o maior número')\n",
    "elif n3 >= n1 and n3 >= n2:\n",
    "    print(f'{n3} é o maior número')\n",
    "else:\n",
    "    print('Eu não deveria entrar aqui')"
   ]
  },
  {
   "cell_type": "code",
   "execution_count": null,
   "id": "2e05fe33",
   "metadata": {},
   "outputs": [],
   "source": [
    "x = float(input(\"Digite o primeiro valor: \"))\n",
    "y = float(input(\"Digite o segundo valor: \"))\n",
    "z = float(input(\"Digite o terceiro valor: \"))\n",
    "\n",
    "maior = x\n",
    "\n",
    "if y > maior:\n",
    "    maior = y\n",
    "\n",
    "if z > maior:\n",
    "    maior = z\n",
    "\n",
    "print(f\"O maior número é {maior}\")"
   ]
  },
  {
   "cell_type": "markdown",
   "id": "37949052",
   "metadata": {},
   "source": [
    "Veja que se a quantidade de números for muito grande, o código ficará inviável."
   ]
  },
  {
   "cell_type": "markdown",
   "id": "f619aa30",
   "metadata": {},
   "source": [
    "Outra questão que vimos na aula passada foi a de validação dos dados de entrada. Vamos relembrar."
   ]
  },
  {
   "cell_type": "code",
   "execution_count": null,
   "id": "4792dc89",
   "metadata": {},
   "outputs": [],
   "source": [
    "idade = int(input('Informe a sua idade:'))\n",
    "salario = float(input('Informe seu salário:'))\n",
    "sexo = input('Informe seu sexo:')\n",
    "\n",
    "# Validação da idade\n",
    "if idade <= 0 or idade >= 150:\n",
    "    print('Idade inválida')\n",
    "    idade = int(input('Informe a sua idade:'))\n",
    "    if idade <= 0 or idade >= 150:\n",
    "        print('Idade inválida')\n",
    "    else:\n",
    "        print('Idade válida')\n",
    "else:\n",
    "    print('Idade válida')\n",
    "\n",
    "# Validação do salário\n",
    "if salario <= 0:\n",
    "    print('Salário inválido')\n",
    "else:\n",
    "    print('Salário válido')\n",
    "\n",
    "# Validação do sexo\n",
    "sexo = sexo.capitalize()\n",
    "if sexo == 'M' or sexo == 'F' or sexo =='Outro':\n",
    "    print('Sexo válido!')\n",
    "else:\n",
    "    print('Sexo inválido')"
   ]
  },
  {
   "cell_type": "markdown",
   "id": "ccde27d0",
   "metadata": {},
   "source": [
    "mas repare que não é possível que o usuário tente inserir novamente caso dê erro."
   ]
  },
  {
   "cell_type": "markdown",
   "id": "3fe6e9ae",
   "metadata": {},
   "source": [
    "# Estruturas de Repetição\n",
    "\n",
    "Um **if** não garante que eu consigo validar o valor de um campo pois se o usuário não acertar na 2a vez, ele seguirá inválido"
   ]
  },
  {
   "cell_type": "code",
   "execution_count": null,
   "id": "3045daff",
   "metadata": {},
   "outputs": [],
   "source": [
    "salario = float(input('Informe seu salário:'))\n",
    "\n",
    "if salario <= 0:\n",
    "    print('Salário inválido')\n",
    "else:\n",
    "    print('Salário válido')"
   ]
  },
  {
   "cell_type": "code",
   "execution_count": null,
   "id": "df254367",
   "metadata": {},
   "outputs": [],
   "source": [
    "salario = float(input('Informe seu salário:'))\n",
    "\n",
    "if salario <= 0:\n",
    "    print('Salário inválido')\n",
    "    salario = float(input('Informe seu salário:'))\n",
    "    if salario <= 0:\n",
    "        print('Salário inválido')\n",
    "    else:\n",
    "        print('Salário válido')\n",
    "else:\n",
    "    print('Salário válido')"
   ]
  },
  {
   "cell_type": "markdown",
   "id": "1b570aeb",
   "metadata": {},
   "source": [
    "Para sanar este problema podemos usar a estrutura de repetição **while**."
   ]
  },
  {
   "cell_type": "code",
   "execution_count": null,
   "id": "f51d6cc9",
   "metadata": {},
   "outputs": [],
   "source": [
    "salario = float(input('Informe seu salário:'))\n",
    "\n",
    "while salario <= 0:\n",
    "    print('Salário inválido')\n",
    "    salario = float(input('Informe seu salário:'))\n",
    "\n",
    "print(salario)"
   ]
  },
  {
   "cell_type": "markdown",
   "id": "04103985",
   "metadata": {},
   "source": [
    "__Obs.__: SEMPRE que eu trabalho com estrutura de repetição (**WHILE**) é NECESSÁRIO que a condição seja alterada dentro do while, SENÃO entro em looping infinito"
   ]
  },
  {
   "cell_type": "markdown",
   "id": "541e4a88",
   "metadata": {},
   "source": [
    "<div style=\"background-color: red; padding: 10px;\">\n",
    "    <h2> CUIDADO AO RODAR - é um loop infinito\n",
    "</div>"
   ]
  },
  {
   "cell_type": "code",
   "execution_count": null,
   "id": "44c98aa4",
   "metadata": {},
   "outputs": [],
   "source": [
    "salario = float(input('Informe seu salário:'))\n",
    "\n",
    "while salario <= 0:\n",
    "    print('Salário inválido')\n",
    "\n",
    "print(salario)"
   ]
  },
  {
   "cell_type": "code",
   "execution_count": null,
   "id": "dda1fea4",
   "metadata": {},
   "outputs": [],
   "source": [
    "# Solicitar pro usuário digitar números (quantos ele quiser) e vou comparar pra encontrar o maior. \n",
    "# A condição de parada é que usuário digite 0\n",
    "numero = int(input('Digite um número'))\n",
    "\n",
    "maior = numero\n",
    "\n",
    "while numero != 0:\n",
    "    numero = int(input('Digite um novo número ou digite 0 para encerrar:'))\n",
    "    if numero > maior:\n",
    "        maior = numero\n",
    "\n",
    "print(f'O maior valor digitado foi {maior}')"
   ]
  },
  {
   "cell_type": "markdown",
   "id": "b5f4c9f2",
   "metadata": {},
   "source": [
    "__Exemplo:__ Some todos os números de 0 a um número digitado pelo usuário"
   ]
  },
  {
   "cell_type": "code",
   "execution_count": null,
   "id": "85036462",
   "metadata": {},
   "outputs": [],
   "source": [
    "# 5\n",
    "# 0 1 2 3 4 5 = 15"
   ]
  },
  {
   "cell_type": "code",
   "execution_count": null,
   "id": "559afceb",
   "metadata": {},
   "outputs": [],
   "source": [
    "numero = int(input('Digite um número positivo:'))\n",
    "\n",
    "soma = 0\n",
    "\n",
    "while numero > 0:\n",
    "    soma = soma + numero\n",
    "    numero = numero - 1\n",
    "\n",
    "print('A soma de todos os números é ', soma)"
   ]
  },
  {
   "cell_type": "code",
   "execution_count": null,
   "id": "d0e45503",
   "metadata": {},
   "outputs": [],
   "source": [
    "numero = int(input('Digite um número positivo:'))\n",
    "\n",
    "soma = 0\n",
    "contador = 0\n",
    "\n",
    "while contador <= numero:\n",
    "    soma = soma + contador\n",
    "    contador = contador + 1\n",
    "\n",
    "print('A soma de todos os números é', soma)"
   ]
  },
  {
   "cell_type": "markdown",
   "id": "a54f1580",
   "metadata": {},
   "source": [
    "Uma outra forma de incrementar um variável"
   ]
  },
  {
   "cell_type": "code",
   "execution_count": null,
   "id": "410cca56",
   "metadata": {},
   "outputs": [],
   "source": [
    "numero = int(input('Digite um número positivo:'))\n",
    "\n",
    "soma = 0\n",
    "contador = 0\n",
    "\n",
    "while contador <= numero:\n",
    "    soma += contador\n",
    "    contador +=  1\n",
    "\n",
    "print('A soma de todos os números é', soma)"
   ]
  },
  {
   "cell_type": "markdown",
   "id": "fff96799",
   "metadata": {},
   "source": [
    "# Alguns comandos de manipulação de fluxo\n",
    "\n",
    "Comando **break**: Utilizado para interromper a execução de um laço while antes que ele termine normalmente.\n",
    "\n",
    "```python\n",
    "while condicao:\n",
    "    if condicao:\n",
    "        break\n",
    "```\n",
    "\n",
    "Comando **continue**: Utilizado para pular a iteração atual de um laço e continuar com a próxima iteração.\n",
    "\n",
    "\n",
    "```python\n",
    "while condicao:\n",
    "    if condicao:\n",
    "        continue\n",
    "    # O código aqui será executado apenas se a condição for falsa\n",
    "```\n",
    "   \n",
    "Comando **pass**: É usado como espaço reservado para código futuro. Não faz nada e é frequentemente usado para evitar erros de sintaxe em blocos vazios.\n",
    "\n",
    "```python\n",
    "if condicao:\n",
    "    pass  # código será adicionado posteriormente\n",
    "\n",
    "```"
   ]
  },
  {
   "cell_type": "markdown",
   "id": "07ed062c",
   "metadata": {},
   "source": [
    "Vamos pensar no seguinte exemplo: você deve criar um jogo simples em que o jogador tenta adivinhar um número secreto. O jogo continua até o jogador adivinhar corretamente ou desistir."
   ]
  },
  {
   "cell_type": "code",
   "execution_count": null,
   "id": "ac1011cc",
   "metadata": {},
   "outputs": [],
   "source": [
    "numero_secreto = 37\n",
    "\n",
    "tentativa = int(input('Qual seu palpite de número entre 0 e 100'))\n",
    "\n",
    "while tentativa != numero_secreto:\n",
    "    if tentativa < numero_secreto:\n",
    "        print('Tente um número maior')       \n",
    "    elif tentativa > numero_secreto:\n",
    "        print('Tente um número menor')\n",
    "    tentativa = int(input('Qual seu palpite de número entre 0 e 100'))\n",
    "\n",
    "print('Parabéns, você acertou!')"
   ]
  },
  {
   "cell_type": "code",
   "execution_count": null,
   "id": "ab91f221",
   "metadata": {},
   "outputs": [],
   "source": [
    "numero_secreto = 37\n",
    "\n",
    "while True:\n",
    "    tentativa = int(input('Qual seu palpite de número entre 0 e 100'))\n",
    "\n",
    "    if tentativa == numero_secreto:\n",
    "        print('Parabéns, você acertou!')\n",
    "        break\n",
    "    elif tentativa < numero_secreto:\n",
    "        print('Tente um número maior')\n",
    "    else:\n",
    "        print('Tente um número menor')"
   ]
  },
  {
   "cell_type": "markdown",
   "id": "bc0eb076",
   "metadata": {},
   "source": [
    "**Bora praticar!**\n",
    "\n",
    "1) Escreva um programa que solicite um número inteiro e imprima na tela todos os números de 1 até o número digitado, separado por espaços.  \n",
    "_Exemplo_  \n",
    "número digitado: 5  \n",
    "resultado esperado: 1 2 3 4 5\n",
    "\n",
    "2) Faça um programa que mostre o fatorial de um número digitado.  \n",
    "_Exemplo_  \n",
    "número digitado: 5  \n",
    "resultado esperado: 120\n",
    "\n",
    "3) Faça um programa que imprima a tabuada do 9 na tela (entre 1 e 10). Insira a conta, por exemplo, 9 * 1 = 9, sendo cada um dos valores em uma linha diferente.\n",
    "\n",
    "4) Faça um programa em que o usuário digite números quaisquer e encerrará no momento em que o valor 0 seja digitado. Ao final diga qual foi o maior número digitado.\n",
    "\n",
    "5) Faça um script que peça para o usuário digitar a idade, o salário e o sexo de uma pessoa até que as entradas digitadas sejam válidas.  \n",
    "  \n",
    "    a. Idade: entre 0 e 150 (limites não inclusos)  \n",
    "    b. Salário: maior que 0  \n",
    "    c. Gênero: M, F ou Outro  \n",
    "  \n",
    "Por último imprima os dados recebidos do usuário.\n",
    "\n",
    "6) Faça uma calculadora. O usuário deve inserir qual a operação matemática (soma, subtração, multiplicação, divisão) ele deseja realizar e logo em seguida os dois números. O programa deve finalizar apenas quando o usuário digitar a opção \"sair\" no momento de escolha da operação matemática.\n",
    "\n"
   ]
  },
  {
   "cell_type": "markdown",
   "id": "647738a0",
   "metadata": {},
   "source": [
    "## Resolução\n",
    "\n",
    "1) Escreva um programa que solicite um número inteiro e imprima na tela todos os números de 1 até o número digitado, separado por espaços.  \n",
    "_Exemplo_  \n",
    "número digitado: 5  \n",
    "resultado esperado: 1 2 3 4 5"
   ]
  },
  {
   "cell_type": "code",
   "execution_count": 10,
   "id": "9cbf8278",
   "metadata": {},
   "outputs": [
    {
     "name": "stdout",
     "output_type": "stream",
     "text": [
      "1 2 3 4 5 \n"
     ]
    }
   ],
   "source": [
    "numero = int(input('Digite um número: '))\n",
    "\n",
    "contador = 1\n",
    "resposta = ''\n",
    "\n",
    "while contador <= numero:\n",
    "    resposta = resposta + str(contador) + ' '\n",
    "    contador += 1\n",
    "\n",
    "print(resposta)"
   ]
  },
  {
   "cell_type": "code",
   "execution_count": 13,
   "id": "5aa4bc81",
   "metadata": {},
   "outputs": [
    {
     "name": "stdout",
     "output_type": "stream",
     "text": [
      "1 2 3 4 5 \n"
     ]
    }
   ],
   "source": [
    "numero = int(input('Digite um número: '))\n",
    "\n",
    "contador = 1\n",
    "resposta = ''\n",
    "\n",
    "while contador <= numero:\n",
    "    print(contador, end=' ')\n",
    "    contador += 1\n",
    "\n",
    "print(resposta)"
   ]
  },
  {
   "cell_type": "markdown",
   "id": "c3814815",
   "metadata": {},
   "source": [
    "2) Faça um programa que mostre o fatorial de um número digitado.  \n",
    "_Exemplo_  \n",
    "número digitado: 5  \n",
    "resultado esperado: 120"
   ]
  },
  {
   "cell_type": "code",
   "execution_count": null,
   "id": "dd7e7095",
   "metadata": {},
   "outputs": [],
   "source": [
    "# 5! = 5 * 4 * 3 * 2 * 1\n",
    "\n",
    "numero = int(input('Digite um número inteiro positivo: '))\n",
    "fatorial = 1\n",
    "\n",
    "while numero > 0:\n",
    "    fatorial = fatorial * numero\n",
    "    numero = numero - 1    # numero -= 1\n",
    "    \n",
    "print(fatorial)    "
   ]
  },
  {
   "cell_type": "code",
   "execution_count": null,
   "id": "25de583b",
   "metadata": {},
   "outputs": [],
   "source": [
    "# 5! = 5*4*3*2*1\n",
    "\n",
    "num = int(input('Digite um numero inteiro'))\n",
    "fat = 1\n",
    "cont = 1\n",
    "\n",
    "while cont <= num:\n",
    "    fat *= cont  # fat = fat * cont = 1 * 2 * 3 * 4 * 5\n",
    "    cont += 1  # cont = cont + 1\n",
    "\n",
    "print(fat)"
   ]
  },
  {
   "cell_type": "markdown",
   "id": "8edfd4c8",
   "metadata": {},
   "source": [
    "3) Faça um programa que imprima a tabuada do 9 na tela (entre 1 e 10). Insira a conta, por exemplo, 9 * 1 = 9, sendo cada um dos valores em uma linha diferente."
   ]
  },
  {
   "cell_type": "code",
   "execution_count": 15,
   "id": "e8ef1a39",
   "metadata": {},
   "outputs": [
    {
     "name": "stdout",
     "output_type": "stream",
     "text": [
      "9 * 1 = 9\n",
      "9 * 2 = 18\n",
      "9 * 3 = 27\n",
      "9 * 4 = 36\n",
      "9 * 5 = 45\n",
      "9 * 6 = 54\n",
      "9 * 7 = 63\n",
      "9 * 8 = 72\n",
      "9 * 9 = 81\n",
      "9 * 10 = 90\n"
     ]
    }
   ],
   "source": [
    "contador = 1\n",
    "\n",
    "while contador <= 10:\n",
    "    mult = contador * 9\n",
    "    print(f'9 * {contador} = {mult}')\n",
    "    contador += 1"
   ]
  },
  {
   "cell_type": "code",
   "execution_count": 16,
   "id": "62598d86",
   "metadata": {},
   "outputs": [
    {
     "name": "stdout",
     "output_type": "stream",
     "text": [
      "1 x 9 = 9\n",
      "2 x 9 = 18\n",
      "3 x 9 = 27\n",
      "4 x 9 = 36\n",
      "5 x 9 = 45\n",
      "6 x 9 = 54\n",
      "7 x 9 = 63\n",
      "8 x 9 = 72\n",
      "9 x 9 = 81\n",
      "10 x 9 = 90\n",
      "11 x 9 = 99\n"
     ]
    }
   ],
   "source": [
    "num = int(input('Digite um número: '))\n",
    "i = 0\n",
    "while i <= 9:\n",
    "    i += 1\n",
    "    print(f'{i} x {num} = {i * num}')"
   ]
  },
  {
   "cell_type": "markdown",
   "id": "c07b56c5",
   "metadata": {},
   "source": [
    "4) Faça um programa em que o usuário digite números quaisquer e encerrará no momento em que o valor 0 seja digitado. Ao final diga qual foi o maior número digitado."
   ]
  },
  {
   "cell_type": "code",
   "execution_count": 1,
   "id": "55403094",
   "metadata": {},
   "outputs": [
    {
     "name": "stdout",
     "output_type": "stream",
     "text": [
      "O maior valor digitado foi 10\n"
     ]
    }
   ],
   "source": [
    "numero = int(input('Digite um número:'))\n",
    "\n",
    "maior = numero\n",
    "\n",
    "while numero != 0:\n",
    "    numero = int(input('Digite um número ou 0 para encerrar'))\n",
    "    if numero > maior:\n",
    "        maior = numero\n",
    "\n",
    "print(f'O maior valor digitado foi {maior}')"
   ]
  },
  {
   "cell_type": "code",
   "execution_count": null,
   "id": "e6315390",
   "metadata": {},
   "outputs": [],
   "source": [
    "numero = -9999999999999\n",
    "\n",
    "while numero != 0:\n",
    "    numero = int(input('Digite um número ou 0 para encerrar'))\n",
    "    if numero > maior:\n",
    "        maior = numero\n",
    "\n",
    "print(f'O maior valor digitado foi {maior}')"
   ]
  },
  {
   "cell_type": "markdown",
   "id": "7fd3a936",
   "metadata": {},
   "source": [
    "5) Faça um script que peça para o usuário digitar a idade, o salário e o sexo de uma pessoa até que as entradas digitadas sejam válidas.  \n",
    "  \n",
    "    a. Idade: entre 0 e 150 (limites não inclusos)  \n",
    "    b. Salário: maior que 0  \n",
    "    c. Gênero: M, F ou Outro  \n",
    "  \n",
    "Por último imprima os dados recebidos do usuário."
   ]
  },
  {
   "cell_type": "code",
   "execution_count": 3,
   "id": "406e274f",
   "metadata": {},
   "outputs": [
    {
     "name": "stdout",
     "output_type": "stream",
     "text": [
      "Idade inválida\n",
      "Idade válida, a idade digitada foi 10 anos\n",
      "Salário inválido\n",
      "Salário inválido\n",
      "Salário inválido\n",
      "Salário inválido\n",
      "Salário válido, seu salário é 5000.0 reais\n",
      "Gênero inválido\n",
      "Gênero inválido\n",
      "Gênero válido, seu gênero é F\n"
     ]
    }
   ],
   "source": [
    "# Verificação da idade\n",
    "idade = int(input('Digite sua idade'))\n",
    "\n",
    "while idade <= 0 or idade >= 150:\n",
    "    print('Idade inválida')\n",
    "    idade = int(input('Digite uma idade entre 0 e 150'))\n",
    "\n",
    "print(f'Idade válida, a idade digitada foi {idade} anos')\n",
    "\n",
    "# Verificação da Salário\n",
    "salario = float(input('Digite seu salário'))\n",
    "\n",
    "while salario <= 0:\n",
    "    print('Salário inválido')\n",
    "    salario = float(input('Digite um salário maior que 0'))\n",
    "\n",
    "print(f'Salário válido, seu salário é {salario} reais')\n",
    "\n",
    "# Verificação da Gênero\n",
    "genero = input('Digite seu gênero')\n",
    "genero = genero.capitalize()\n",
    "\n",
    "while genero != 'F' and genero != 'M' and genero != 'Outro':\n",
    "    print('Gênero inválido')\n",
    "    genero = input('Digite seu gênero (M, F ou Outro)').capitalize()\n",
    "\n",
    "print(f'Gênero válido, seu gênero é {genero}')"
   ]
  },
  {
   "cell_type": "code",
   "execution_count": 6,
   "id": "1f0b318d",
   "metadata": {},
   "outputs": [
    {
     "name": "stdout",
     "output_type": "stream",
     "text": [
      "Idade inválida\n",
      "Idade inválida\n",
      "Idade inválida\n",
      "Idade inválida\n",
      "\n",
      "Idade: 8 \n",
      "Salário: R$2000.0 \n",
      "Sexo: M\n",
      "\n"
     ]
    }
   ],
   "source": [
    "idade = int(input(\"Insira sua idade:  \"))\n",
    "salario = float(input(\"Insira o seu salário:  \"))\n",
    "sexo = input(\"Insira o sexo:  \").capitalize()\n",
    "\n",
    "idadeInvalida = True\n",
    "salarioInvalido = True\n",
    "sexoInvalido = True\n",
    "\n",
    "while (idadeInvalida != False or sexoInvalido != False or salarioInvalido != False):\n",
    "    if(idade < 0 or idade > 150):\n",
    "        print('Idade inválida')\n",
    "        idade = int(input(\"Insira sua idade:  \"))\n",
    "    else:\n",
    "        idadeInvalida = False\n",
    "        \n",
    "    if(salario <= 0):\n",
    "        print('Salário inválido')\n",
    "        salario = float(input(\"Insira o seu salário:  \"))\n",
    "    else:\n",
    "        salarioInvalido = False\n",
    "\n",
    "    if(sexo != 'M' and sexo != 'F' and sexo != 'Outro'):\n",
    "        print('Sexo inválido')\n",
    "        sexo = input(\"Insira o sexo:  \").capitalize()\n",
    "    else:\n",
    "        sexoInvalido = False\n",
    "\n",
    "print(f'''\n",
    "Idade: {idade} \\nSalário: R${salario} \\nSexo: {sexo}\n",
    "''')"
   ]
  },
  {
   "cell_type": "markdown",
   "id": "51a71f3b",
   "metadata": {},
   "source": [
    "6) Faça uma calculadora. O usuário deve inserir qual a operação matemática (soma, subtração, multiplicação, divisão) ele deseja realizar e logo em seguida os dois números. O programa deve finalizar apenas quando o usuário digitar a opção \"sair\" no momento de escolha da operação matemática."
   ]
  },
  {
   "cell_type": "code",
   "execution_count": null,
   "id": "649be3f1",
   "metadata": {},
   "outputs": [],
   "source": [
    "operacao = ''\n",
    "\n",
    "while operacao != 'sair':\n",
    "    operacao = input(\n",
    "        'A = Adição\\nS = Subtração\\nM = Multiplicação\\nD = Divisão\\nDigite a operação desejada: '\n",
    "    )\n",
    "    operacao = operacao.lower()\n",
    "    if operacao in [\"a\", \"s\", \"m\", \"d\"]:\n",
    "        num1 = float(input(\"Digite o primeiro número: \"))\n",
    "        num2 = float(input(\"Digite o segundo número: \"))\n",
    "        if operacao == \"a\":\n",
    "            print(f\"{num1} + {num2} = {num1+num2}\")\n",
    "        elif operacao == \"s\":\n",
    "            print(f\"{num1} - {num2} = {num1-num2}\")\n",
    "        elif operacao == \"m\":\n",
    "            print(f\"{num1} * {num2} = {num1*num2}\")\n",
    "        elif num2 == 0:\n",
    "            print('Não é possível dividir por zero!')\n",
    "        else:\n",
    "            print(f\"{num1} / {num2} = {num1/num2}\")\n",
    "    elif operacao != 'sair':\n",
    "        print(\"operação inválida!\")\n",
    "print('\\nPrograma finalizado :)')"
   ]
  }
 ],
 "metadata": {
  "kernelspec": {
   "display_name": "Python 3 (ipykernel)",
   "language": "python",
   "name": "python3"
  },
  "language_info": {
   "codemirror_mode": {
    "name": "ipython",
    "version": 3
   },
   "file_extension": ".py",
   "mimetype": "text/x-python",
   "name": "python",
   "nbconvert_exporter": "python",
   "pygments_lexer": "ipython3",
   "version": "3.9.13"
  }
 },
 "nbformat": 4,
 "nbformat_minor": 5
}
