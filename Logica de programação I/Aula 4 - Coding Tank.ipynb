{
 "cells": [
  {
   "cell_type": "markdown",
   "id": "341a085c",
   "metadata": {},
   "source": [
    "# Coding Tank"
   ]
  },
  {
   "cell_type": "markdown",
   "id": "f0230d44",
   "metadata": {},
   "source": [
    "Tópicos da aula - AULA 4\n",
    "\n",
    "- Listas\n",
    "- Índices\n",
    "- Iterações de listas\n",
    "- Métodos de listas\n",
    "- Loop for"
   ]
  },
  {
   "cell_type": "markdown",
   "id": "ddaaaec8",
   "metadata": {},
   "source": [
    "E se quisermos fazer o programa que a pessoa digita 10 números e dizemos o maior, conseguimos?\n",
    "\n",
    "E se quisermos o 2° maior? E se quisermos o 5º? \n",
    "\n",
    "Podemos resolver com **listas**\n",
    "\n",
    "- Listas\n",
    "\n",
    "Listas são coleções de objetos em Python e é expressada em `[]`"
   ]
  },
  {
   "cell_type": "code",
   "execution_count": 46,
   "id": "e626193f",
   "metadata": {
    "ExecuteTime": {
     "end_time": "2023-06-29T00:53:10.121923Z",
     "start_time": "2023-06-29T00:53:10.111155Z"
    }
   },
   "outputs": [],
   "source": [
    "lista_1 = [] # lista vazia\n",
    "lista_2 = list() # criando uma lista vazia a partir de um comando\n",
    "lista_3 = [1, 2, 3, 4]\n",
    "lista_4 = [1, 2.5, 3, 4]\n",
    "lista_5 = [1, 2.5, 'três'] # eu posso misturar tipos de dados numa lista\n",
    "lista_6 = [1, [2, 3]] # posso ter listas dentro de listas\n",
    "lista_7 = [lista_1, lista_2]"
   ]
  },
  {
   "cell_type": "code",
   "execution_count": 3,
   "id": "8a7398da",
   "metadata": {
    "ExecuteTime": {
     "end_time": "2023-06-29T00:56:41.565104Z",
     "start_time": "2023-06-29T00:56:41.555151Z"
    }
   },
   "outputs": [
    {
     "data": {
      "text/plain": [
       "[[], []]"
      ]
     },
     "execution_count": 3,
     "metadata": {},
     "output_type": "execute_result"
    }
   ],
   "source": [
    "lista_7"
   ]
  },
  {
   "cell_type": "code",
   "execution_count": 65,
   "id": "4c130e26",
   "metadata": {},
   "outputs": [],
   "source": [
    "lista = [1, 3, 5, 7, 9, 11, 13, 15] #8 itens/elementos\n",
    "#índices 0  1  2  3  4  5   6   7\n",
    "#índice é a posição em que se encontra cada elemento"
   ]
  },
  {
   "cell_type": "code",
   "execution_count": 10,
   "id": "4adf233c",
   "metadata": {},
   "outputs": [
    {
     "data": {
      "text/plain": [
       "[1, 3, 5, 7, 9, 11, 13, 15]"
      ]
     },
     "execution_count": 10,
     "metadata": {},
     "output_type": "execute_result"
    }
   ],
   "source": [
    "lista"
   ]
  },
  {
   "cell_type": "markdown",
   "id": "95ea5b37",
   "metadata": {},
   "source": [
    "Posições dentro de listas"
   ]
  },
  {
   "cell_type": "code",
   "execution_count": 11,
   "id": "03ac344a",
   "metadata": {
    "ExecuteTime": {
     "end_time": "2023-06-29T22:26:30.681040Z",
     "start_time": "2023-06-29T22:26:30.671086Z"
    }
   },
   "outputs": [
    {
     "data": {
      "text/plain": [
       "1"
      ]
     },
     "execution_count": 11,
     "metadata": {},
     "output_type": "execute_result"
    }
   ],
   "source": [
    "lista[0]"
   ]
  },
  {
   "cell_type": "code",
   "execution_count": 12,
   "id": "f9777dd0",
   "metadata": {
    "ExecuteTime": {
     "end_time": "2023-06-29T22:26:58.328878Z",
     "start_time": "2023-06-29T22:26:58.315522Z"
    }
   },
   "outputs": [
    {
     "data": {
      "text/plain": [
       "9"
      ]
     },
     "execution_count": 12,
     "metadata": {},
     "output_type": "execute_result"
    }
   ],
   "source": [
    "lista[4]"
   ]
  },
  {
   "cell_type": "code",
   "execution_count": 13,
   "id": "fb4cc5b7",
   "metadata": {
    "ExecuteTime": {
     "end_time": "2023-06-29T22:27:19.356689Z",
     "start_time": "2023-06-29T22:27:19.312779Z"
    }
   },
   "outputs": [
    {
     "ename": "IndexError",
     "evalue": "list index out of range",
     "output_type": "error",
     "traceback": [
      "\u001b[1;31m---------------------------------------------------------------------------\u001b[0m",
      "\u001b[1;31mIndexError\u001b[0m                                Traceback (most recent call last)",
      "\u001b[1;32m~\\AppData\\Local\\Temp\\ipykernel_23736\\3794617182.py\u001b[0m in \u001b[0;36m<module>\u001b[1;34m\u001b[0m\n\u001b[1;32m----> 1\u001b[1;33m \u001b[0mlista\u001b[0m\u001b[1;33m[\u001b[0m\u001b[1;36m8\u001b[0m\u001b[1;33m]\u001b[0m\u001b[1;33m\u001b[0m\u001b[1;33m\u001b[0m\u001b[0m\n\u001b[0m",
      "\u001b[1;31mIndexError\u001b[0m: list index out of range"
     ]
    }
   ],
   "source": [
    "lista[8]"
   ]
  },
  {
   "cell_type": "code",
   "execution_count": 15,
   "id": "0339c0fc",
   "metadata": {
    "ExecuteTime": {
     "end_time": "2023-06-29T22:28:00.578066Z",
     "start_time": "2023-06-29T22:28:00.567809Z"
    }
   },
   "outputs": [
    {
     "data": {
      "text/plain": [
       "2"
      ]
     },
     "execution_count": 15,
     "metadata": {},
     "output_type": "execute_result"
    }
   ],
   "source": [
    "lista_a = [1, [1, 2, 3]]\n",
    "\n",
    "lista_a[1][1] # para encontrar itens de listas dentro de listas"
   ]
  },
  {
   "cell_type": "code",
   "execution_count": 16,
   "id": "6f038b2b",
   "metadata": {
    "ExecuteTime": {
     "end_time": "2023-06-29T22:28:06.511060Z",
     "start_time": "2023-06-29T22:28:06.501774Z"
    }
   },
   "outputs": [
    {
     "data": {
      "text/plain": [
       "list"
      ]
     },
     "execution_count": 16,
     "metadata": {},
     "output_type": "execute_result"
    }
   ],
   "source": [
    "type(lista)"
   ]
  },
  {
   "cell_type": "code",
   "execution_count": 17,
   "id": "1c1228df",
   "metadata": {
    "ExecuteTime": {
     "end_time": "2023-06-29T22:28:53.370752Z",
     "start_time": "2023-06-29T22:28:53.345190Z"
    }
   },
   "outputs": [
    {
     "data": {
      "text/plain": [
       "int"
      ]
     },
     "execution_count": 17,
     "metadata": {},
     "output_type": "execute_result"
    }
   ],
   "source": [
    "type(lista[2])"
   ]
  },
  {
   "cell_type": "code",
   "execution_count": null,
   "id": "20e426c5",
   "metadata": {
    "ExecuteTime": {
     "end_time": "2023-06-29T22:29:03.492265Z",
     "start_time": "2023-06-29T22:29:03.475031Z"
    }
   },
   "outputs": [],
   "source": [
    "lista = [1, 3, 5, 7, 9, 11, 13, 15] #8 itens/elementos\n",
    "#índices 0  1  2  3  4  5   6   7\n",
    "#índices -8 -7 -6 -5 -4 -3 -2  -1\n",
    "#índice é a posição em que se encontra cada elemento"
   ]
  },
  {
   "cell_type": "code",
   "execution_count": 18,
   "id": "459eedd9",
   "metadata": {
    "ExecuteTime": {
     "end_time": "2023-06-29T22:29:09.389792Z",
     "start_time": "2023-06-29T22:29:09.372341Z"
    }
   },
   "outputs": [
    {
     "data": {
      "text/plain": [
       "15"
      ]
     },
     "execution_count": 18,
     "metadata": {},
     "output_type": "execute_result"
    }
   ],
   "source": [
    "lista[-1]"
   ]
  },
  {
   "cell_type": "code",
   "execution_count": 35,
   "id": "f2fc4556",
   "metadata": {
    "ExecuteTime": {
     "end_time": "2023-06-29T22:29:58.239341Z",
     "start_time": "2023-06-29T22:29:58.227247Z"
    }
   },
   "outputs": [
    {
     "name": "stdout",
     "output_type": "stream",
     "text": [
      "[1, 3, 5, 7, 9, 11, 13, 15]\n",
      "[1, 3, 5]\n",
      "[1, 3, 5]\n",
      "[9, 11, 13, 15]\n",
      "[9, 11, 13, 15]\n",
      "[9, 11, 13]\n",
      "1\n",
      "[1]\n",
      "[3, 5, 7, 9]\n",
      "[3, 7]\n"
     ]
    }
   ],
   "source": [
    "print(lista[:])\n",
    "\n",
    "print(lista[0:3])\n",
    "print(lista[:3])\n",
    "\n",
    "print(lista[4:8])\n",
    "print(lista[4:])\n",
    "\n",
    "print(lista[4:-1])\n",
    "\n",
    "print(lista[0])\n",
    "print(lista[0:1])\n",
    "\n",
    "print(lista[1:5])\n",
    "print(lista[1:5:2])"
   ]
  },
  {
   "cell_type": "code",
   "execution_count": 38,
   "id": "afc26e8e",
   "metadata": {
    "ExecuteTime": {
     "end_time": "2023-06-29T22:53:07.476480Z",
     "start_time": "2023-06-29T22:53:07.455763Z"
    }
   },
   "outputs": [
    {
     "data": {
      "text/plain": [
       "[1, 3, 21, 7, 9, 11, 13, 15]"
      ]
     },
     "execution_count": 38,
     "metadata": {},
     "output_type": "execute_result"
    }
   ],
   "source": [
    "lista[2] = 21 # alterar valor da lista a partir do índice\n",
    "\n",
    "lista"
   ]
  },
  {
   "cell_type": "markdown",
   "id": "f1a72e7e",
   "metadata": {},
   "source": [
    "Funções e métodos de listas"
   ]
  },
  {
   "cell_type": "code",
   "execution_count": 39,
   "id": "8a57fec8",
   "metadata": {
    "ExecuteTime": {
     "end_time": "2023-06-29T00:57:40.345041Z",
     "start_time": "2023-06-29T00:57:40.339545Z"
    }
   },
   "outputs": [
    {
     "data": {
      "text/plain": [
       "8"
      ]
     },
     "execution_count": 39,
     "metadata": {},
     "output_type": "execute_result"
    }
   ],
   "source": [
    "len(lista) # quantidade de elementos da lista"
   ]
  },
  {
   "cell_type": "code",
   "execution_count": 40,
   "id": "7c369dcf",
   "metadata": {
    "ExecuteTime": {
     "end_time": "2023-06-29T22:54:39.387621Z",
     "start_time": "2023-06-29T22:54:39.366577Z"
    }
   },
   "outputs": [
    {
     "name": "stdout",
     "output_type": "stream",
     "text": [
      "[1, 3, 21, 7, 9, 11, 13, 15, 99]\n"
     ]
    }
   ],
   "source": [
    "lista.append(99) # insere na última posição o valor\n",
    "print(lista)"
   ]
  },
  {
   "cell_type": "code",
   "execution_count": 41,
   "id": "56be891f",
   "metadata": {
    "ExecuteTime": {
     "end_time": "2023-06-29T23:38:11.739834Z",
     "start_time": "2023-06-29T23:38:11.715051Z"
    }
   },
   "outputs": [
    {
     "data": {
      "text/plain": [
       "9"
      ]
     },
     "execution_count": 41,
     "metadata": {},
     "output_type": "execute_result"
    }
   ],
   "source": [
    "len(lista)"
   ]
  },
  {
   "cell_type": "code",
   "execution_count": 44,
   "id": "5e3ebe1d",
   "metadata": {},
   "outputs": [
    {
     "name": "stdout",
     "output_type": "stream",
     "text": [
      "[1, 2.5, 3, 4]\n",
      "[1, 2.5, 'três']\n",
      "[1, 2.5, 3, 4, 1, 2.5, 'três']\n"
     ]
    }
   ],
   "source": [
    "print(lista_4)\n",
    "print(lista_5)\n",
    "print(lista_4 + lista_5)"
   ]
  },
  {
   "cell_type": "markdown",
   "id": "f4bac6d5",
   "metadata": {
    "ExecuteTime": {
     "end_time": "2023-06-29T22:52:13.757377Z",
     "start_time": "2023-06-29T22:52:13.737024Z"
    }
   },
   "source": [
    "Existem várias outras funções/métodos de listas que vocês irão aprender no próximo módulo, como:\n",
    "\n",
    "- append\n",
    "- insert\n",
    "- remove\n",
    "- pop\n",
    "- sort\n",
    "- sorted\n",
    "- reverse\n",
    "- index\n",
    "- max, min, sum, len\n",
    "    "
   ]
  },
  {
   "cell_type": "code",
   "execution_count": 47,
   "id": "a5d26523",
   "metadata": {},
   "outputs": [
    {
     "name": "stdout",
     "output_type": "stream",
     "text": [
      "[1, 3, 21, 7, 9, 11, 13, 15, 99]\n",
      "[1, 3, 102, 21, 7, 9, 11, 13, 15, 99]\n"
     ]
    }
   ],
   "source": [
    "print(lista)\n",
    "lista.insert(2, 102) # insere um valor na posição dada\n",
    "print(lista)"
   ]
  },
  {
   "cell_type": "code",
   "execution_count": 48,
   "id": "ea5537fd",
   "metadata": {},
   "outputs": [
    {
     "data": {
      "text/plain": [
       "[1, 3, 21, 7, 9, 11, 13, 15, 99]"
      ]
     },
     "execution_count": 48,
     "metadata": {},
     "output_type": "execute_result"
    }
   ],
   "source": [
    "lista.remove(102) # remove a primeira ocorrência do valor buscado\n",
    "lista"
   ]
  },
  {
   "cell_type": "code",
   "execution_count": 49,
   "id": "a250300e",
   "metadata": {},
   "outputs": [
    {
     "data": {
      "text/plain": [
       "99"
      ]
     },
     "execution_count": 49,
     "metadata": {},
     "output_type": "execute_result"
    }
   ],
   "source": [
    "lista.pop(-1) # remove e captura o valor a partir do índice \n",
    "lista"
   ]
  },
  {
   "cell_type": "code",
   "execution_count": 67,
   "id": "5fc5b94d",
   "metadata": {},
   "outputs": [
    {
     "data": {
      "text/plain": [
       "[15, 13, 11, 9, 7, 5, 3, 1]"
      ]
     },
     "execution_count": 67,
     "metadata": {},
     "output_type": "execute_result"
    }
   ],
   "source": [
    "lista.sort(reverse=True) # ordena a lista (com o reverse=True de forma decrescente)\n",
    "lista"
   ]
  },
  {
   "cell_type": "code",
   "execution_count": 51,
   "id": "cd79e129",
   "metadata": {
    "ExecuteTime": {
     "end_time": "2023-06-29T22:56:52.653894Z",
     "start_time": "2023-06-29T22:56:52.636248Z"
    }
   },
   "outputs": [
    {
     "data": {
      "text/plain": [
       "3"
      ]
     },
     "execution_count": 51,
     "metadata": {},
     "output_type": "execute_result"
    }
   ],
   "source": [
    "lista.index(7) # retorna o índice do valor procurado"
   ]
  },
  {
   "cell_type": "code",
   "execution_count": 52,
   "id": "7d06c247",
   "metadata": {
    "ExecuteTime": {
     "end_time": "2023-06-29T22:56:59.905041Z",
     "start_time": "2023-06-29T22:56:59.879562Z"
    }
   },
   "outputs": [
    {
     "data": {
      "text/plain": [
       "21"
      ]
     },
     "execution_count": 52,
     "metadata": {},
     "output_type": "execute_result"
    }
   ],
   "source": [
    "max(lista) # identifica o valor máximo dentro de uma lista"
   ]
  },
  {
   "cell_type": "code",
   "execution_count": 53,
   "id": "1a3b441d",
   "metadata": {},
   "outputs": [
    {
     "data": {
      "text/plain": [
       "1"
      ]
     },
     "execution_count": 53,
     "metadata": {},
     "output_type": "execute_result"
    }
   ],
   "source": [
    "min(lista) # identifica o valor mínimo dentro de uma lista"
   ]
  },
  {
   "cell_type": "code",
   "execution_count": 54,
   "id": "7062ae1c",
   "metadata": {},
   "outputs": [
    {
     "data": {
      "text/plain": [
       "80"
      ]
     },
     "execution_count": 54,
     "metadata": {},
     "output_type": "execute_result"
    }
   ],
   "source": [
    "sum(lista)"
   ]
  },
  {
   "cell_type": "code",
   "execution_count": 58,
   "id": "aae92475",
   "metadata": {},
   "outputs": [
    {
     "data": {
      "text/plain": [
       "'t'"
      ]
     },
     "execution_count": 58,
     "metadata": {},
     "output_type": "execute_result"
    }
   ],
   "source": [
    "lista_teste = ['t', 'aberto']\n",
    "max(lista_teste)"
   ]
  },
  {
   "cell_type": "code",
   "execution_count": 68,
   "id": "e22983eb",
   "metadata": {},
   "outputs": [
    {
     "ename": "TypeError",
     "evalue": "'<' not supported between instances of 'int' and 'str'",
     "output_type": "error",
     "traceback": [
      "\u001b[1;31m---------------------------------------------------------------------------\u001b[0m",
      "\u001b[1;31mTypeError\u001b[0m                                 Traceback (most recent call last)",
      "\u001b[1;32m~\\AppData\\Local\\Temp\\ipykernel_23736\\1058454888.py\u001b[0m in \u001b[0;36m<module>\u001b[1;34m\u001b[0m\n\u001b[0;32m      1\u001b[0m \u001b[0mlista_teste_2\u001b[0m \u001b[1;33m=\u001b[0m \u001b[1;33m[\u001b[0m\u001b[1;34m't'\u001b[0m\u001b[1;33m,\u001b[0m \u001b[1;36m1\u001b[0m\u001b[1;33m]\u001b[0m\u001b[1;33m\u001b[0m\u001b[1;33m\u001b[0m\u001b[0m\n\u001b[1;32m----> 2\u001b[1;33m \u001b[0mlista_teste_2\u001b[0m\u001b[1;33m.\u001b[0m\u001b[0msort\u001b[0m\u001b[1;33m(\u001b[0m\u001b[1;33m)\u001b[0m\u001b[1;33m\u001b[0m\u001b[1;33m\u001b[0m\u001b[0m\n\u001b[0m",
      "\u001b[1;31mTypeError\u001b[0m: '<' not supported between instances of 'int' and 'str'"
     ]
    }
   ],
   "source": [
    "lista_teste_2 = ['t', 1]\n",
    "lista_teste_2.sort()"
   ]
  },
  {
   "cell_type": "code",
   "execution_count": 69,
   "id": "98be212b",
   "metadata": {},
   "outputs": [
    {
     "data": {
      "text/plain": [
       "[1, 3, 5, 7, 9, 11, 13, 15]"
      ]
     },
     "execution_count": 69,
     "metadata": {},
     "output_type": "execute_result"
    }
   ],
   "source": [
    "sorted(lista) # ordena a lista"
   ]
  },
  {
   "cell_type": "markdown",
   "id": "0895a027",
   "metadata": {},
   "source": [
    "Imagine um programa que adiciona diversos números inteiros a uma lista enquanto o usuário fornece valores até que ele digite 0, o que finaliza o programa. Imprima na tela a lista com os valores digitados."
   ]
  },
  {
   "cell_type": "code",
   "execution_count": 63,
   "id": "dc56a4e5",
   "metadata": {},
   "outputs": [
    {
     "name": "stdout",
     "output_type": "stream",
     "text": [
      "[2, 8, 9]\n"
     ]
    }
   ],
   "source": [
    "lista_exemplo = []\n",
    "numero = int(input('Digite um número:'))\n",
    "\n",
    "while numero!= 0:\n",
    "    lista_exemplo.append(numero)\n",
    "    numero = int(input('Digite um número ou 0 para encerrar'))\n",
    "\n",
    "print(lista_exemplo)"
   ]
  },
  {
   "cell_type": "markdown",
   "id": "d9df7da1",
   "metadata": {},
   "source": [
    "**Percorrer a lista**"
   ]
  },
  {
   "cell_type": "code",
   "execution_count": 70,
   "id": "d53d4480",
   "metadata": {
    "ExecuteTime": {
     "end_time": "2023-06-29T23:22:53.411814Z",
     "start_time": "2023-06-29T23:22:53.402698Z"
    }
   },
   "outputs": [
    {
     "name": "stdout",
     "output_type": "stream",
     "text": [
      "indice 0\n",
      "indice 1\n",
      "indice 2\n",
      "indice 3\n",
      "indice 4\n",
      "indice 5\n",
      "36\n"
     ]
    }
   ],
   "source": [
    "lista_numeros = [1, 3, 5, 7, 9, 11]\n",
    "\n",
    "soma = 0\n",
    "indice = 0\n",
    "\n",
    "while indice < len(lista_numeros):\n",
    "    print('indice', indice)\n",
    "    soma = soma + lista_numeros[indice]\n",
    "    indice += 1 # indice = indice + 1\n",
    "\n",
    "print(soma)"
   ]
  },
  {
   "cell_type": "markdown",
   "id": "2249d45a",
   "metadata": {},
   "source": [
    "Exemplo: Receba do usuário um número, crie uma lista crescente (começando do 0) com todos os inteiros até o valor anterior ao digitado. Após isso, imprima a lista."
   ]
  },
  {
   "cell_type": "code",
   "execution_count": 71,
   "id": "c65aa2e3",
   "metadata": {
    "ExecuteTime": {
     "end_time": "2023-06-29T23:33:04.852539Z",
     "start_time": "2023-06-29T23:33:02.725599Z"
    }
   },
   "outputs": [
    {
     "name": "stdout",
     "output_type": "stream",
     "text": [
      "[0, 1, 2, 3, 4]\n"
     ]
    }
   ],
   "source": [
    "# 5\n",
    "# [0 1 2 3 4]\n",
    "\n",
    "numero = int(input('Digite um número'))\n",
    "\n",
    "lista_exemplo_2 = list() # lista = []\n",
    "indice = 0\n",
    "\n",
    "while indice < numero:\n",
    "    lista_exemplo_2.append(indice)\n",
    "    indice += 1\n",
    "\n",
    "print(lista_exemplo_2)"
   ]
  },
  {
   "cell_type": "markdown",
   "id": "bb5b0c30",
   "metadata": {},
   "source": [
    "uma alternativa ao exemplo anterior é o ```range```"
   ]
  },
  {
   "cell_type": "code",
   "execution_count": 72,
   "id": "1b5dfd34",
   "metadata": {
    "ExecuteTime": {
     "end_time": "2023-06-29T23:43:22.469671Z",
     "start_time": "2023-06-29T23:43:22.454646Z"
    }
   },
   "outputs": [
    {
     "data": {
      "text/plain": [
       "range(0, 5)"
      ]
     },
     "execution_count": 72,
     "metadata": {},
     "output_type": "execute_result"
    }
   ],
   "source": [
    "range(5)"
   ]
  },
  {
   "cell_type": "code",
   "execution_count": 73,
   "id": "f7d29b9c",
   "metadata": {
    "ExecuteTime": {
     "end_time": "2023-06-29T23:42:43.573109Z",
     "start_time": "2023-06-29T23:42:43.562622Z"
    }
   },
   "outputs": [
    {
     "name": "stdout",
     "output_type": "stream",
     "text": [
      "O range(0, 5), cria uma lista [0, 1, 2, 3, 4]\n"
     ]
    }
   ],
   "source": [
    "range(0, 5)\n",
    "\n",
    "print(f'O {range(5)}, cria uma lista [0, 1, 2, 3, 4]')"
   ]
  },
  {
   "cell_type": "markdown",
   "id": "84fdf98c",
   "metadata": {},
   "source": [
    "retomando o exercício anterior"
   ]
  },
  {
   "cell_type": "code",
   "execution_count": 74,
   "id": "bb5da1d9",
   "metadata": {
    "ExecuteTime": {
     "end_time": "2023-06-29T23:46:18.391787Z",
     "start_time": "2023-06-29T23:46:16.515786Z"
    }
   },
   "outputs": [
    {
     "name": "stdout",
     "output_type": "stream",
     "text": [
      "[0, 1, 2, 3, 4]\n"
     ]
    }
   ],
   "source": [
    "numero = int(input('Digite um número'))\n",
    "print(list(range(numero)))"
   ]
  },
  {
   "cell_type": "markdown",
   "id": "9d63c551",
   "metadata": {},
   "source": [
    "### Percorrendo listas usando ```while```\n",
    "\n",
    "Pros: Eu sei não só o elemento mas sei o indice também   \n",
    "Contra: Eu preciso controlar o índice\n",
    "\n",
    "```python\n",
    "contador = 0\n",
    "while (contador < len(numeros)):\n",
    "    print(numeros[contador])\n",
    "    contador = contador + 1  Se eu esquecer essa linha vira um loop infinito\n",
    "```"
   ]
  },
  {
   "cell_type": "markdown",
   "id": "c4f68b00",
   "metadata": {},
   "source": [
    "* for Loop \n",
    "\n",
    "A estrutura de uma malha de repetição ```for``` é:  \n",
    "\n",
    "```python\n",
    "for item in iteravel:\n",
    "    comando\n",
    "```"
   ]
  },
  {
   "cell_type": "markdown",
   "id": "8ee43879",
   "metadata": {},
   "source": [
    "\n",
    "### Percorrendo listas usando ```for```\n",
    "- Jeito intermediario: for in range\n",
    "\n",
    "Pros: Sei o indice, não preciso controlar o loop  \n",
    "Contra: Precisa saber usar a função range  \n",
    "```python \n",
    "range(5) ->  [0, 1, 2, 3, 4]\n",
    "```\n",
    "\n",
    "\n",
    "```python\n",
    "numeros = [1, 3, 5, 7, 9]\n",
    "for indice in range(len(numeros)):\n",
    "    print(numeros[indice])\n",
    "```\n",
    "\n",
    "\n",
    "- Usando só for (sem índice)\n",
    "\n",
    "Pros: não preciso me preocupar com o índice e nem com loop  \n",
    "Contra: não sei índice\n",
    "\n",
    "```python\n",
    "numeros = [1, 3, 5, 7, 9]\n",
    "for numero in numeros:        # numero é uma especie de variavel temporaria, usamos item, elemento, etc\n",
    "    print(numero)\n",
    "```"
   ]
  },
  {
   "cell_type": "markdown",
   "id": "d9b25c6c",
   "metadata": {},
   "source": [
    "Vamos ver um exemplo:\n",
    "Com a lista ```numeros = [1, 3, 5, 7, 9]``` como podemos imprimir todos os elementos?"
   ]
  },
  {
   "cell_type": "code",
   "execution_count": 75,
   "id": "575436e8",
   "metadata": {
    "ExecuteTime": {
     "end_time": "2023-06-29T23:57:04.136886Z",
     "start_time": "2023-06-29T23:57:04.125680Z"
    }
   },
   "outputs": [
    {
     "name": "stdout",
     "output_type": "stream",
     "text": [
      "1\n",
      "3\n",
      "5\n",
      "7\n",
      "9\n"
     ]
    }
   ],
   "source": [
    "numeros = [1, 3, 5, 7, 9]\n",
    "\n",
    "print(numeros[0])\n",
    "print(numeros[1])\n",
    "print(numeros[2])\n",
    "print(numeros[3])\n",
    "print(numeros[4])"
   ]
  },
  {
   "cell_type": "code",
   "execution_count": 76,
   "id": "8026d21c",
   "metadata": {
    "ExecuteTime": {
     "end_time": "2023-06-29T23:58:36.091895Z",
     "start_time": "2023-06-29T23:58:36.078306Z"
    }
   },
   "outputs": [
    {
     "name": "stdout",
     "output_type": "stream",
     "text": [
      "1\n",
      "3\n",
      "5\n",
      "7\n",
      "9\n"
     ]
    }
   ],
   "source": [
    "for item in numeros:\n",
    "    print(item)"
   ]
  },
  {
   "cell_type": "code",
   "execution_count": 77,
   "id": "18abe23c",
   "metadata": {},
   "outputs": [
    {
     "name": "stdout",
     "output_type": "stream",
     "text": [
      "1\n",
      "3\n",
      "5\n",
      "7\n",
      "9\n"
     ]
    }
   ],
   "source": [
    "for indice in range(len(numeros)):\n",
    "    print(numeros[indice])"
   ]
  },
  {
   "cell_type": "markdown",
   "id": "efb6b72d",
   "metadata": {},
   "source": [
    "**Bora praticar!**"
   ]
  },
  {
   "cell_type": "markdown",
   "id": "80de8ffc",
   "metadata": {},
   "source": [
    "1. Crie uma lista qualquer e faça um programa que imprima cada elemento da lista usando o ```for```."
   ]
  },
  {
   "cell_type": "code",
   "execution_count": 78,
   "id": "4afe9330",
   "metadata": {
    "ExecuteTime": {
     "end_time": "2023-06-30T00:28:06.089625Z",
     "start_time": "2023-06-30T00:28:06.070133Z"
    }
   },
   "outputs": [
    {
     "name": "stdout",
     "output_type": "stream",
     "text": [
      "0\n",
      "1\n",
      "2\n",
      "3\n",
      "4\n",
      "5\n",
      "6\n",
      "7\n",
      "8\n",
      "9\n",
      "10\n"
     ]
    }
   ],
   "source": [
    "lista_exercicios = [0, 1, 2, 3, 4, 5, 6, 7, 8, 9, 10]\n",
    "\n",
    "for item in lista_exercicios:\n",
    "    print(item)"
   ]
  },
  {
   "cell_type": "markdown",
   "id": "5ba15420",
   "metadata": {},
   "source": [
    "2. Faça um programa que imprima todos os itens de uma lista usando ```while``` e compare com o exercício 1.\n",
    "\n"
   ]
  },
  {
   "cell_type": "code",
   "execution_count": null,
   "id": "7e410b03",
   "metadata": {
    "ExecuteTime": {
     "end_time": "2023-06-30T00:32:38.591587Z",
     "start_time": "2023-06-30T00:32:38.581504Z"
    }
   },
   "outputs": [],
   "source": [
    "lista_exercicios = [0, 1, 2, 3, 4, 5, 6, 7, 8, 9, 10]\n",
    "indice = 0\n",
    "\n",
    "while indice < len(lista01):\n",
    "    print(f\"Item: {lista01[indice]}\")\n",
    "    indice +=1"
   ]
  },
  {
   "cell_type": "markdown",
   "id": "2a24e132",
   "metadata": {},
   "source": [
    "3. Faça um programa que olhe todos os itens de uma lista e diga quantos deles são pares. Imprima também uma lista contendo estes números pares."
   ]
  },
  {
   "cell_type": "code",
   "execution_count": 79,
   "id": "b7c5e7eb",
   "metadata": {
    "ExecuteTime": {
     "end_time": "2023-06-30T00:42:50.875811Z",
     "start_time": "2023-06-30T00:42:50.847667Z"
    }
   },
   "outputs": [
    {
     "name": "stdout",
     "output_type": "stream",
     "text": [
      "Existem 6 números pares e são presentes nesta lista [0, 2, 4, 6, 8, 10]\n"
     ]
    }
   ],
   "source": [
    "lista_exercicios = [0, 1, 2, 3, 4, 5, 6, 7, 8, 9, 10]\n",
    "lista_pares = []\n",
    "\n",
    "for valor in lista_exercicios:\n",
    "    if valor % 2 == 0:\n",
    "        lista_pares.append(valor)\n",
    "\n",
    "print(f'Existem {len(lista_pares)} números pares e são presentes nesta lista {lista_pares}')"
   ]
  },
  {
   "cell_type": "markdown",
   "id": "d18b5e09",
   "metadata": {},
   "source": [
    "4. Faça um programa que imprima o maior número de uma lista, sem usar o método max()"
   ]
  },
  {
   "cell_type": "code",
   "execution_count": 80,
   "id": "9fca7730",
   "metadata": {
    "ExecuteTime": {
     "end_time": "2023-06-30T00:43:38.103964Z",
     "start_time": "2023-06-30T00:43:38.087649Z"
    }
   },
   "outputs": [
    {
     "name": "stdout",
     "output_type": "stream",
     "text": [
      "O maior item da lista é 10\n"
     ]
    }
   ],
   "source": [
    "lista_exercicios = [0, 1, 2, 3, 4, 5, 6, 7, 8, 9, 10]\n",
    "maior = lista_exercicios[0]\n",
    "\n",
    "for item in lista_exercicios:\n",
    "    if item > maior:\n",
    "        maior = item\n",
    "print('O maior item da lista é', maior)"
   ]
  },
  {
   "cell_type": "code",
   "execution_count": 82,
   "id": "92547a71",
   "metadata": {},
   "outputs": [
    {
     "name": "stdout",
     "output_type": "stream",
     "text": [
      "O maior número desta lista é 10.\n"
     ]
    }
   ],
   "source": [
    "lista_exercicios = [0, 1, 2, 3, 4, 5, 6, 7, 8, 9, 10]\n",
    "lista_exercicios.sort(reverse=True)\n",
    "print(f'O maior número desta lista é {lista_exercicios[0]}.')"
   ]
  },
  {
   "cell_type": "markdown",
   "id": "de77429c",
   "metadata": {},
   "source": [
    "5. Agora usando o método max() faça um programa que imprima os três maiores números de uma lista. "
   ]
  },
  {
   "cell_type": "code",
   "execution_count": 83,
   "id": "b7811538",
   "metadata": {
    "ExecuteTime": {
     "end_time": "2023-06-30T00:49:02.203695Z",
     "start_time": "2023-06-30T00:49:02.189583Z"
    }
   },
   "outputs": [
    {
     "name": "stdout",
     "output_type": "stream",
     "text": [
      "34\n",
      "21\n",
      "13\n"
     ]
    }
   ],
   "source": [
    "lista = [1, 1, 2, 3, 5, 8, 13, 21, 34]\n",
    "i = 0\n",
    "while i < 3:\n",
    "    valor = max(lista)\n",
    "    lista.remove(valor)\n",
    "    print(valor)\n",
    "    i += 1"
   ]
  },
  {
   "cell_type": "code",
   "execution_count": 84,
   "id": "c3cd8851",
   "metadata": {},
   "outputs": [
    {
     "name": "stdout",
     "output_type": "stream",
     "text": [
      "Os maiores números são [90, 67, 12]\n"
     ]
    }
   ],
   "source": [
    "lista = [0,4,8,12,2,4,1,7,6,3,9,67,90,1,3]\n",
    "maiores = []\n",
    "for i in range(3):\n",
    "    maiores.append(max(lista))\n",
    "    lista.remove(max(lista))\n",
    "print('Os maiores números são', maiores)"
   ]
  },
  {
   "cell_type": "markdown",
   "id": "805a40b8",
   "metadata": {},
   "source": [
    "6. Faça um programa que, dadas duas listas de mesmo tamanho, crie uma nova lista com cada elemento igual a soma dos elementos da lista 1 com os da lista 2, na mesma posição. "
   ]
  },
  {
   "cell_type": "code",
   "execution_count": null,
   "id": "6819a3bd",
   "metadata": {
    "ExecuteTime": {
     "end_time": "2023-06-30T01:01:48.670088Z",
     "start_time": "2023-06-30T01:01:48.649865Z"
    }
   },
   "outputs": [],
   "source": [
    "lista1 = [1,4,5]\n",
    "lista2 = [2,2,3]\n",
    "lista3 = []\n",
    "\n",
    "if len(lista1) != len(lista2):\n",
    "    print(\"As listas tem tamanhos diferentes!\")\n",
    "else:\n",
    "    for i in range(len(lista1)):\n",
    "        valor = lista1[i] + lista2[i]\n",
    "        lista3.append(valor)\n",
    "    print(lista3)"
   ]
  },
  {
   "cell_type": "markdown",
   "id": "d2ee0a79",
   "metadata": {},
   "source": [
    "7. Faça um programa que dadas duas listas de mesmo tamanho, imprima o produto escalar entre elas. O produto escalar é calculado multiplicando os valores no mesmo índice das duas listas e somando esses produtos.\n",
    "Por exemplo:\n",
    "```\n",
    "lista1 = [1, 4, 5]\n",
    "lista2 = [2, 2, 3]\n",
    "```\n",
    "Primeiramente é feito o produto entre os elementos do mesmo índice:  \n",
    "1 * 2 = 2  \n",
    "4 * 2 = 8  \n",
    "5 * 3 = 15  \n",
    "  \n",
    "Após isso, são somados os produtos    \n",
    "2 + 8 + 15 = 25 (produto escalar)"
   ]
  },
  {
   "cell_type": "code",
   "execution_count": 86,
   "id": "ccfcd767",
   "metadata": {
    "ExecuteTime": {
     "end_time": "2023-06-30T00:55:17.103825Z",
     "start_time": "2023-06-30T00:55:17.078094Z"
    }
   },
   "outputs": [
    {
     "name": "stdout",
     "output_type": "stream",
     "text": [
      "25\n"
     ]
    }
   ],
   "source": [
    "lista1 = [1, 4, 5]\n",
    "lista2 = [2, 2, 3]\n",
    "lista_produto = []\n",
    "\n",
    "for i in range(len(lista1)):\n",
    "    lista_produto.append(lista1[i]*lista2[i])\n",
    "print(sum(lista_produto))"
   ]
  },
  {
   "cell_type": "markdown",
   "id": "1f274ced",
   "metadata": {},
   "source": [
    "8. Faça um Programa que peça as 4 notas bimestrais e mostre a média, usando listas."
   ]
  },
  {
   "cell_type": "code",
   "execution_count": null,
   "id": "7211dfca",
   "metadata": {
    "ExecuteTime": {
     "end_time": "2023-06-30T01:00:21.646709Z",
     "start_time": "2023-06-30T01:00:14.613647Z"
    }
   },
   "outputs": [],
   "source": [
    "lista = []\n",
    "\n",
    "for i in range(4):\n",
    "    nota = float(input(\"Digite a nota: \"))\n",
    "    lista.append(nota)\n",
    "print(sum(lista) / len(lista))"
   ]
  }
 ],
 "metadata": {
  "kernelspec": {
   "display_name": "Python 3 (ipykernel)",
   "language": "python",
   "name": "python3"
  },
  "language_info": {
   "codemirror_mode": {
    "name": "ipython",
    "version": 3
   },
   "file_extension": ".py",
   "mimetype": "text/x-python",
   "name": "python",
   "nbconvert_exporter": "python",
   "pygments_lexer": "ipython3",
   "version": "3.9.13"
  },
  "varInspector": {
   "cols": {
    "lenName": 16,
    "lenType": 16,
    "lenVar": 40
   },
   "kernels_config": {
    "python": {
     "delete_cmd_postfix": "",
     "delete_cmd_prefix": "del ",
     "library": "var_list.py",
     "varRefreshCmd": "print(var_dic_list())"
    },
    "r": {
     "delete_cmd_postfix": ") ",
     "delete_cmd_prefix": "rm(",
     "library": "var_list.r",
     "varRefreshCmd": "cat(var_dic_list()) "
    }
   },
   "types_to_exclude": [
    "module",
    "function",
    "builtin_function_or_method",
    "instance",
    "_Feature"
   ],
   "window_display": false
  }
 },
 "nbformat": 4,
 "nbformat_minor": 5
}
